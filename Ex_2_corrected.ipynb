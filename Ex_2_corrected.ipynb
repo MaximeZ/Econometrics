{
 "cells": [
  {
   "cell_type": "markdown",
   "metadata": {
    "collapsed": true
   },
   "source": [
    "# Задание 2. Первичный анализ данных, описательная статистика и проверка гипотез"
   ]
  },
  {
   "cell_type": "markdown",
   "metadata": {},
   "source": [
    "## Цель задания:\n",
    "### 1. Провести анализ основных статистических показателей распределения\n",
    "### 2. Проверить гипотезу о соответствии распределения исследуемого признака нормальному закону\n",
    "### 3. Получить интервальные оценки основных параметров распределения\n",
    "### 4. Провести проверку гипотез относительно значениий основных параметров распределения, а также сравнить две выборки"
   ]
  },
  {
   "cell_type": "markdown",
   "metadata": {},
   "source": [
    "## 1. Загрузка библиотек"
   ]
  },
  {
   "cell_type": "code",
   "execution_count": 2,
   "metadata": {
    "collapsed": true
   },
   "outputs": [],
   "source": [
    "import pandas as pd \n",
    "import numpy as np\n",
    "from scipy import stats # библиотека статистических методов\n",
    "from statsmodels.stats import diagnostic # библиотека статистических методов "
   ]
  },
  {
   "cell_type": "code",
   "execution_count": 2,
   "metadata": {
    "collapsed": true
   },
   "outputs": [],
   "source": [
    "import matplotlib.pyplot as plt # графическая библиотека\n",
    "%matplotlib inline"
   ]
  },
  {
   "cell_type": "code",
   "execution_count": 3,
   "metadata": {
    "collapsed": true
   },
   "outputs": [],
   "source": [
    "import seaborn as sns"
   ]
  },
  {
   "cell_type": "code",
   "execution_count": 4,
   "metadata": {
    "collapsed": true
   },
   "outputs": [],
   "source": [
    "pd.set_option('display.max_colwidth',0)# опция позволяет читать текстовые поля в \"необрезанном виде\""
   ]
  },
  {
   "cell_type": "markdown",
   "metadata": {},
   "source": [
    "## 2. Загрузка необходимых файлов"
   ]
  },
  {
   "cell_type": "code",
   "execution_count": 5,
   "metadata": {
    "collapsed": true
   },
   "outputs": [],
   "source": [
    "imf=pd.read_csv('/home/maxime/Documentos/Econometrics/imf.csv')# загрузка данных IMF в dataframe"
   ]
  },
  {
   "cell_type": "code",
   "execution_count": 6,
   "metadata": {},
   "outputs": [
    {
     "data": {
      "text/plain": [
       "Index([u'WEO Country Code', u'ISO', u'WEO Subject Code', u'Country',\n",
       "       u'Subject Descriptor', u'Subject Notes', u'Units', u'Scale',\n",
       "       u'Country/Series-specific Notes', u'1980', u'1981', u'1982', u'1983',\n",
       "       u'1984', u'1985', u'1986', u'1987', u'1988', u'1989', u'1990', u'1991',\n",
       "       u'1992', u'1993', u'1994', u'1995', u'1996', u'1997', u'1998', u'1999',\n",
       "       u'2000', u'2001', u'2002', u'2003', u'2004', u'2005', u'2006', u'2007',\n",
       "       u'2008', u'2009', u'2010', u'2011', u'2012', u'2013', u'2014', u'2015',\n",
       "       u'2016', u'2017', u'2018', u'2019', u'2020', u'2021', u'2022', u'2023',\n",
       "       u'Estimates Start After', u'continent', u'sub_region'],\n",
       "      dtype='object')"
      ]
     },
     "execution_count": 6,
     "metadata": {},
     "output_type": "execute_result"
    }
   ],
   "source": [
    "imf.columns"
   ]
  },
  {
   "cell_type": "code",
   "execution_count": 7,
   "metadata": {},
   "outputs": [
    {
     "data": {
      "text/plain": [
       "(8730, 56)"
      ]
     },
     "execution_count": 7,
     "metadata": {},
     "output_type": "execute_result"
    }
   ],
   "source": [
    "imf.shape # размерность dataframe"
   ]
  },
  {
   "cell_type": "code",
   "execution_count": 8,
   "metadata": {
    "collapsed": true
   },
   "outputs": [],
   "source": [
    "ind=pd.read_csv('/home/maxime/Documentos/Econometrics/indicators.csv')#загрузка базы индикаторов в dataframe"
   ]
  },
  {
   "cell_type": "code",
   "execution_count": 9,
   "metadata": {},
   "outputs": [
    {
     "data": {
      "text/html": [
       "<div>\n",
       "<style scoped>\n",
       "    .dataframe tbody tr th:only-of-type {\n",
       "        vertical-align: middle;\n",
       "    }\n",
       "\n",
       "    .dataframe tbody tr th {\n",
       "        vertical-align: top;\n",
       "    }\n",
       "\n",
       "    .dataframe thead th {\n",
       "        text-align: right;\n",
       "    }\n",
       "</style>\n",
       "<table border=\"1\" class=\"dataframe\">\n",
       "  <thead>\n",
       "    <tr style=\"text-align: right;\">\n",
       "      <th></th>\n",
       "      <th>Code</th>\n",
       "      <th>Indicator</th>\n",
       "      <th>Source</th>\n",
       "    </tr>\n",
       "  </thead>\n",
       "  <tbody>\n",
       "    <tr>\n",
       "      <th>34</th>\n",
       "      <td>NGDP_R</td>\n",
       "      <td>Gross domestic product, constant prices/National currency</td>\n",
       "      <td>imf</td>\n",
       "    </tr>\n",
       "    <tr>\n",
       "      <th>35</th>\n",
       "      <td>NGDP_RPCH</td>\n",
       "      <td>Gross domestic product, constant prices/Percent change</td>\n",
       "      <td>imf</td>\n",
       "    </tr>\n",
       "    <tr>\n",
       "      <th>36</th>\n",
       "      <td>NGDP</td>\n",
       "      <td>Gross domestic product, current prices/National currency</td>\n",
       "      <td>imf</td>\n",
       "    </tr>\n",
       "    <tr>\n",
       "      <th>37</th>\n",
       "      <td>NGDPD</td>\n",
       "      <td>Gross domestic product, current prices/U.S. dollars</td>\n",
       "      <td>imf</td>\n",
       "    </tr>\n",
       "    <tr>\n",
       "      <th>38</th>\n",
       "      <td>PPPGDP</td>\n",
       "      <td>Gross domestic product, current prices/Purchasing power parity; international dollars</td>\n",
       "      <td>imf</td>\n",
       "    </tr>\n",
       "    <tr>\n",
       "      <th>39</th>\n",
       "      <td>NGDP_D</td>\n",
       "      <td>Gross domestic product, deflator/Index</td>\n",
       "      <td>imf</td>\n",
       "    </tr>\n",
       "    <tr>\n",
       "      <th>40</th>\n",
       "      <td>NGDPRPC</td>\n",
       "      <td>Gross domestic product per capita, constant prices/National currency</td>\n",
       "      <td>imf</td>\n",
       "    </tr>\n",
       "    <tr>\n",
       "      <th>41</th>\n",
       "      <td>NGDPRPPPPC</td>\n",
       "      <td>Gross domestic product per capita, constant prices/Purchasing power parity; 2011 international dollar</td>\n",
       "      <td>imf</td>\n",
       "    </tr>\n",
       "    <tr>\n",
       "      <th>42</th>\n",
       "      <td>NGDPPC</td>\n",
       "      <td>Gross domestic product per capita, current prices/National currency</td>\n",
       "      <td>imf</td>\n",
       "    </tr>\n",
       "    <tr>\n",
       "      <th>43</th>\n",
       "      <td>NGDPDPC</td>\n",
       "      <td>Gross domestic product per capita, current prices/U.S. dollars</td>\n",
       "      <td>imf</td>\n",
       "    </tr>\n",
       "    <tr>\n",
       "      <th>44</th>\n",
       "      <td>PPPPC</td>\n",
       "      <td>Gross domestic product per capita, current prices/Purchasing power parity; international dollars</td>\n",
       "      <td>imf</td>\n",
       "    </tr>\n",
       "    <tr>\n",
       "      <th>45</th>\n",
       "      <td>NGAP_NPGDP</td>\n",
       "      <td>Output gap in percent of potential GDP/Percent of potential GDP</td>\n",
       "      <td>imf</td>\n",
       "    </tr>\n",
       "    <tr>\n",
       "      <th>46</th>\n",
       "      <td>PPPSH</td>\n",
       "      <td>Gross domestic product based on purchasing-power-parity (PPP) share of world total/Percent</td>\n",
       "      <td>imf</td>\n",
       "    </tr>\n",
       "    <tr>\n",
       "      <th>47</th>\n",
       "      <td>PPPEX</td>\n",
       "      <td>Implied PPP conversion rate/National currency per current international dollar</td>\n",
       "      <td>imf</td>\n",
       "    </tr>\n",
       "    <tr>\n",
       "      <th>48</th>\n",
       "      <td>NID_NGDP</td>\n",
       "      <td>Total investment/Percent of GDP</td>\n",
       "      <td>imf</td>\n",
       "    </tr>\n",
       "    <tr>\n",
       "      <th>49</th>\n",
       "      <td>NGSD_NGDP</td>\n",
       "      <td>Gross national savings/Percent of GDP</td>\n",
       "      <td>imf</td>\n",
       "    </tr>\n",
       "    <tr>\n",
       "      <th>50</th>\n",
       "      <td>PCPI</td>\n",
       "      <td>Inflation, average consumer prices/Index</td>\n",
       "      <td>imf</td>\n",
       "    </tr>\n",
       "    <tr>\n",
       "      <th>51</th>\n",
       "      <td>PCPIPCH</td>\n",
       "      <td>Inflation, average consumer prices/Percent change</td>\n",
       "      <td>imf</td>\n",
       "    </tr>\n",
       "    <tr>\n",
       "      <th>52</th>\n",
       "      <td>PCPIE</td>\n",
       "      <td>Inflation, end of period consumer prices/Index</td>\n",
       "      <td>imf</td>\n",
       "    </tr>\n",
       "    <tr>\n",
       "      <th>53</th>\n",
       "      <td>PCPIEPCH</td>\n",
       "      <td>Inflation, end of period consumer prices/Percent change</td>\n",
       "      <td>imf</td>\n",
       "    </tr>\n",
       "    <tr>\n",
       "      <th>54</th>\n",
       "      <td>FLIBOR6</td>\n",
       "      <td>Six-month London interbank offered rate (LIBOR)/Percent</td>\n",
       "      <td>imf</td>\n",
       "    </tr>\n",
       "    <tr>\n",
       "      <th>55</th>\n",
       "      <td>TM_RPCH</td>\n",
       "      <td>Volume of imports of goods and services/Percent change</td>\n",
       "      <td>imf</td>\n",
       "    </tr>\n",
       "    <tr>\n",
       "      <th>56</th>\n",
       "      <td>TMG_RPCH</td>\n",
       "      <td>Volume of Imports of goods/Percent change</td>\n",
       "      <td>imf</td>\n",
       "    </tr>\n",
       "    <tr>\n",
       "      <th>57</th>\n",
       "      <td>TX_RPCH</td>\n",
       "      <td>Volume of exports of goods and services/Percent change</td>\n",
       "      <td>imf</td>\n",
       "    </tr>\n",
       "    <tr>\n",
       "      <th>58</th>\n",
       "      <td>TXG_RPCH</td>\n",
       "      <td>Volume of exports of goods/Percent change</td>\n",
       "      <td>imf</td>\n",
       "    </tr>\n",
       "    <tr>\n",
       "      <th>59</th>\n",
       "      <td>LUR</td>\n",
       "      <td>Unemployment rate/Percent of total labor force</td>\n",
       "      <td>imf</td>\n",
       "    </tr>\n",
       "    <tr>\n",
       "      <th>60</th>\n",
       "      <td>LE</td>\n",
       "      <td>Employment/Persons</td>\n",
       "      <td>imf</td>\n",
       "    </tr>\n",
       "    <tr>\n",
       "      <th>61</th>\n",
       "      <td>LP</td>\n",
       "      <td>Population/Persons</td>\n",
       "      <td>imf</td>\n",
       "    </tr>\n",
       "    <tr>\n",
       "      <th>62</th>\n",
       "      <td>GGR</td>\n",
       "      <td>General government revenue/National currency</td>\n",
       "      <td>imf</td>\n",
       "    </tr>\n",
       "    <tr>\n",
       "      <th>63</th>\n",
       "      <td>GGR_NGDP</td>\n",
       "      <td>General government revenue/Percent of GDP</td>\n",
       "      <td>imf</td>\n",
       "    </tr>\n",
       "    <tr>\n",
       "      <th>64</th>\n",
       "      <td>GGX</td>\n",
       "      <td>General government total expenditure/National currency</td>\n",
       "      <td>imf</td>\n",
       "    </tr>\n",
       "    <tr>\n",
       "      <th>65</th>\n",
       "      <td>GGX_NGDP</td>\n",
       "      <td>General government total expenditure/Percent of GDP</td>\n",
       "      <td>imf</td>\n",
       "    </tr>\n",
       "    <tr>\n",
       "      <th>66</th>\n",
       "      <td>GGXCNL</td>\n",
       "      <td>General government net lending/borrowing/National currency</td>\n",
       "      <td>imf</td>\n",
       "    </tr>\n",
       "    <tr>\n",
       "      <th>67</th>\n",
       "      <td>GGXCNL_NGDP</td>\n",
       "      <td>General government net lending/borrowing/Percent of GDP</td>\n",
       "      <td>imf</td>\n",
       "    </tr>\n",
       "    <tr>\n",
       "      <th>68</th>\n",
       "      <td>GGSB</td>\n",
       "      <td>General government structural balance/National currency</td>\n",
       "      <td>imf</td>\n",
       "    </tr>\n",
       "    <tr>\n",
       "      <th>69</th>\n",
       "      <td>GGSB_NPGDP</td>\n",
       "      <td>General government structural balance/Percent of potential GDP</td>\n",
       "      <td>imf</td>\n",
       "    </tr>\n",
       "    <tr>\n",
       "      <th>70</th>\n",
       "      <td>GGXONLB</td>\n",
       "      <td>General government primary net lending/borrowing/National currency</td>\n",
       "      <td>imf</td>\n",
       "    </tr>\n",
       "    <tr>\n",
       "      <th>71</th>\n",
       "      <td>GGXONLB_NGDP</td>\n",
       "      <td>General government primary net lending/borrowing/Percent of GDP</td>\n",
       "      <td>imf</td>\n",
       "    </tr>\n",
       "    <tr>\n",
       "      <th>72</th>\n",
       "      <td>GGXWDN</td>\n",
       "      <td>General government net debt/National currency</td>\n",
       "      <td>imf</td>\n",
       "    </tr>\n",
       "    <tr>\n",
       "      <th>73</th>\n",
       "      <td>GGXWDN_NGDP</td>\n",
       "      <td>General government net debt/Percent of GDP</td>\n",
       "      <td>imf</td>\n",
       "    </tr>\n",
       "    <tr>\n",
       "      <th>74</th>\n",
       "      <td>GGXWDG</td>\n",
       "      <td>General government gross debt/National currency</td>\n",
       "      <td>imf</td>\n",
       "    </tr>\n",
       "    <tr>\n",
       "      <th>75</th>\n",
       "      <td>GGXWDG_NGDP</td>\n",
       "      <td>General government gross debt/Percent of GDP</td>\n",
       "      <td>imf</td>\n",
       "    </tr>\n",
       "    <tr>\n",
       "      <th>76</th>\n",
       "      <td>NGDP_FY</td>\n",
       "      <td>Gross domestic product corresponding to fiscal year, current prices/National currency</td>\n",
       "      <td>imf</td>\n",
       "    </tr>\n",
       "    <tr>\n",
       "      <th>77</th>\n",
       "      <td>BCA</td>\n",
       "      <td>Current account balance/U.S. dollars</td>\n",
       "      <td>imf</td>\n",
       "    </tr>\n",
       "    <tr>\n",
       "      <th>78</th>\n",
       "      <td>BCA_NGDPD</td>\n",
       "      <td>Current account balance/Percent of GDP</td>\n",
       "      <td>imf</td>\n",
       "    </tr>\n",
       "  </tbody>\n",
       "</table>\n",
       "</div>"
      ],
      "text/plain": [
       "            Code  \\\n",
       "34  NGDP_R         \n",
       "35  NGDP_RPCH      \n",
       "36  NGDP           \n",
       "37  NGDPD          \n",
       "38  PPPGDP         \n",
       "39  NGDP_D         \n",
       "40  NGDPRPC        \n",
       "41  NGDPRPPPPC     \n",
       "42  NGDPPC         \n",
       "43  NGDPDPC        \n",
       "44  PPPPC          \n",
       "45  NGAP_NPGDP     \n",
       "46  PPPSH          \n",
       "47  PPPEX          \n",
       "48  NID_NGDP       \n",
       "49  NGSD_NGDP      \n",
       "50  PCPI           \n",
       "51  PCPIPCH        \n",
       "52  PCPIE          \n",
       "53  PCPIEPCH       \n",
       "54  FLIBOR6        \n",
       "55  TM_RPCH        \n",
       "56  TMG_RPCH       \n",
       "57  TX_RPCH        \n",
       "58  TXG_RPCH       \n",
       "59  LUR            \n",
       "60  LE             \n",
       "61  LP             \n",
       "62  GGR            \n",
       "63  GGR_NGDP       \n",
       "64  GGX            \n",
       "65  GGX_NGDP       \n",
       "66  GGXCNL         \n",
       "67  GGXCNL_NGDP    \n",
       "68  GGSB           \n",
       "69  GGSB_NPGDP     \n",
       "70  GGXONLB        \n",
       "71  GGXONLB_NGDP   \n",
       "72  GGXWDN         \n",
       "73  GGXWDN_NGDP    \n",
       "74  GGXWDG         \n",
       "75  GGXWDG_NGDP    \n",
       "76  NGDP_FY        \n",
       "77  BCA            \n",
       "78  BCA_NGDPD      \n",
       "\n",
       "                                                                                                Indicator  \\\n",
       "34  Gross domestic product, constant prices/National currency                                               \n",
       "35  Gross domestic product, constant prices/Percent change                                                  \n",
       "36  Gross domestic product, current prices/National currency                                                \n",
       "37  Gross domestic product, current prices/U.S. dollars                                                     \n",
       "38  Gross domestic product, current prices/Purchasing power parity; international dollars                   \n",
       "39  Gross domestic product, deflator/Index                                                                  \n",
       "40  Gross domestic product per capita, constant prices/National currency                                    \n",
       "41  Gross domestic product per capita, constant prices/Purchasing power parity; 2011 international dollar   \n",
       "42  Gross domestic product per capita, current prices/National currency                                     \n",
       "43  Gross domestic product per capita, current prices/U.S. dollars                                          \n",
       "44  Gross domestic product per capita, current prices/Purchasing power parity; international dollars        \n",
       "45  Output gap in percent of potential GDP/Percent of potential GDP                                         \n",
       "46  Gross domestic product based on purchasing-power-parity (PPP) share of world total/Percent              \n",
       "47  Implied PPP conversion rate/National currency per current international dollar                          \n",
       "48  Total investment/Percent of GDP                                                                         \n",
       "49  Gross national savings/Percent of GDP                                                                   \n",
       "50  Inflation, average consumer prices/Index                                                                \n",
       "51  Inflation, average consumer prices/Percent change                                                       \n",
       "52  Inflation, end of period consumer prices/Index                                                          \n",
       "53  Inflation, end of period consumer prices/Percent change                                                 \n",
       "54  Six-month London interbank offered rate (LIBOR)/Percent                                                 \n",
       "55  Volume of imports of goods and services/Percent change                                                  \n",
       "56  Volume of Imports of goods/Percent change                                                               \n",
       "57  Volume of exports of goods and services/Percent change                                                  \n",
       "58  Volume of exports of goods/Percent change                                                               \n",
       "59  Unemployment rate/Percent of total labor force                                                          \n",
       "60  Employment/Persons                                                                                      \n",
       "61  Population/Persons                                                                                      \n",
       "62  General government revenue/National currency                                                            \n",
       "63  General government revenue/Percent of GDP                                                               \n",
       "64  General government total expenditure/National currency                                                  \n",
       "65  General government total expenditure/Percent of GDP                                                     \n",
       "66  General government net lending/borrowing/National currency                                              \n",
       "67  General government net lending/borrowing/Percent of GDP                                                 \n",
       "68  General government structural balance/National currency                                                 \n",
       "69  General government structural balance/Percent of potential GDP                                          \n",
       "70  General government primary net lending/borrowing/National currency                                      \n",
       "71  General government primary net lending/borrowing/Percent of GDP                                         \n",
       "72  General government net debt/National currency                                                           \n",
       "73  General government net debt/Percent of GDP                                                              \n",
       "74  General government gross debt/National currency                                                         \n",
       "75  General government gross debt/Percent of GDP                                                            \n",
       "76  Gross domestic product corresponding to fiscal year, current prices/National currency                   \n",
       "77  Current account balance/U.S. dollars                                                                    \n",
       "78  Current account balance/Percent of GDP                                                                  \n",
       "\n",
       "   Source  \n",
       "34  imf    \n",
       "35  imf    \n",
       "36  imf    \n",
       "37  imf    \n",
       "38  imf    \n",
       "39  imf    \n",
       "40  imf    \n",
       "41  imf    \n",
       "42  imf    \n",
       "43  imf    \n",
       "44  imf    \n",
       "45  imf    \n",
       "46  imf    \n",
       "47  imf    \n",
       "48  imf    \n",
       "49  imf    \n",
       "50  imf    \n",
       "51  imf    \n",
       "52  imf    \n",
       "53  imf    \n",
       "54  imf    \n",
       "55  imf    \n",
       "56  imf    \n",
       "57  imf    \n",
       "58  imf    \n",
       "59  imf    \n",
       "60  imf    \n",
       "61  imf    \n",
       "62  imf    \n",
       "63  imf    \n",
       "64  imf    \n",
       "65  imf    \n",
       "66  imf    \n",
       "67  imf    \n",
       "68  imf    \n",
       "69  imf    \n",
       "70  imf    \n",
       "71  imf    \n",
       "72  imf    \n",
       "73  imf    \n",
       "74  imf    \n",
       "75  imf    \n",
       "76  imf    \n",
       "77  imf    \n",
       "78  imf    "
      ]
     },
     "execution_count": 9,
     "metadata": {},
     "output_type": "execute_result"
    }
   ],
   "source": [
    "ind[ind.Source=='imf']# фильтр индикаторов по источнику - IMF"
   ]
  },
  {
   "cell_type": "markdown",
   "metadata": {},
   "source": [
    "## 3. Выбор показателей для дальнейшего анализа и преобразование dataframe в необходимый формат"
   ]
  },
  {
   "cell_type": "code",
   "execution_count": 10,
   "metadata": {
    "collapsed": true
   },
   "outputs": [],
   "source": [
    "list_ind=list(ind.iloc[[35],0]) # в качестве исследуемого показателя выбираем темпы прироста ВВП"
   ]
  },
  {
   "cell_type": "code",
   "execution_count": 11,
   "metadata": {},
   "outputs": [
    {
     "data": {
      "text/plain": [
       "['NGDP_RPCH']"
      ]
     },
     "execution_count": 11,
     "metadata": {},
     "output_type": "execute_result"
    }
   ],
   "source": [
    "list_ind"
   ]
  },
  {
   "cell_type": "code",
   "execution_count": 12,
   "metadata": {
    "collapsed": true
   },
   "outputs": [],
   "source": [
    "imf_reduced=imf[imf['WEO Subject Code'].isin(list_ind)].drop(imf.columns[[0,3,4,5,6,7,8,53,55]],axis=1)\n",
    "# далее осуществляем преобразование из широкого формата в длинный"
   ]
  },
  {
   "cell_type": "code",
   "execution_count": 13,
   "metadata": {},
   "outputs": [
    {
     "data": {
      "text/html": [
       "<div>\n",
       "<style scoped>\n",
       "    .dataframe tbody tr th:only-of-type {\n",
       "        vertical-align: middle;\n",
       "    }\n",
       "\n",
       "    .dataframe tbody tr th {\n",
       "        vertical-align: top;\n",
       "    }\n",
       "\n",
       "    .dataframe thead th {\n",
       "        text-align: right;\n",
       "    }\n",
       "</style>\n",
       "<table border=\"1\" class=\"dataframe\">\n",
       "  <thead>\n",
       "    <tr style=\"text-align: right;\">\n",
       "      <th></th>\n",
       "      <th>ISO</th>\n",
       "      <th>WEO Subject Code</th>\n",
       "      <th>1980</th>\n",
       "      <th>1981</th>\n",
       "      <th>1982</th>\n",
       "      <th>1983</th>\n",
       "      <th>1984</th>\n",
       "      <th>1985</th>\n",
       "      <th>1986</th>\n",
       "      <th>1987</th>\n",
       "      <th>...</th>\n",
       "      <th>2015</th>\n",
       "      <th>2016</th>\n",
       "      <th>2017</th>\n",
       "      <th>2018</th>\n",
       "      <th>2019</th>\n",
       "      <th>2020</th>\n",
       "      <th>2021</th>\n",
       "      <th>2022</th>\n",
       "      <th>2023</th>\n",
       "      <th>continent</th>\n",
       "    </tr>\n",
       "  </thead>\n",
       "  <tbody>\n",
       "    <tr>\n",
       "      <th>1</th>\n",
       "      <td>AFG</td>\n",
       "      <td>NGDP_RPCH</td>\n",
       "      <td>NaN</td>\n",
       "      <td>NaN</td>\n",
       "      <td>NaN</td>\n",
       "      <td>NaN</td>\n",
       "      <td>NaN</td>\n",
       "      <td>NaN</td>\n",
       "      <td>NaN</td>\n",
       "      <td>NaN</td>\n",
       "      <td>...</td>\n",
       "      <td>0.988</td>\n",
       "      <td>2.164</td>\n",
       "      <td>2.665</td>\n",
       "      <td>2.300</td>\n",
       "      <td>3.024</td>\n",
       "      <td>3.521</td>\n",
       "      <td>4.018</td>\n",
       "      <td>4.515</td>\n",
       "      <td>5.012</td>\n",
       "      <td>Asia</td>\n",
       "    </tr>\n",
       "    <tr>\n",
       "      <th>46</th>\n",
       "      <td>ALB</td>\n",
       "      <td>NGDP_RPCH</td>\n",
       "      <td>2.684</td>\n",
       "      <td>5.700</td>\n",
       "      <td>2.900</td>\n",
       "      <td>1.100</td>\n",
       "      <td>2.000</td>\n",
       "      <td>-1.500</td>\n",
       "      <td>5.600</td>\n",
       "      <td>-0.800</td>\n",
       "      <td>...</td>\n",
       "      <td>2.219</td>\n",
       "      <td>3.352</td>\n",
       "      <td>3.841</td>\n",
       "      <td>3.998</td>\n",
       "      <td>3.719</td>\n",
       "      <td>3.880</td>\n",
       "      <td>3.932</td>\n",
       "      <td>3.959</td>\n",
       "      <td>3.959</td>\n",
       "      <td>Europe</td>\n",
       "    </tr>\n",
       "    <tr>\n",
       "      <th>91</th>\n",
       "      <td>DZA</td>\n",
       "      <td>NGDP_RPCH</td>\n",
       "      <td>-5.400</td>\n",
       "      <td>3.000</td>\n",
       "      <td>6.400</td>\n",
       "      <td>5.400</td>\n",
       "      <td>5.600</td>\n",
       "      <td>5.600</td>\n",
       "      <td>-0.200</td>\n",
       "      <td>-0.700</td>\n",
       "      <td>...</td>\n",
       "      <td>3.700</td>\n",
       "      <td>3.200</td>\n",
       "      <td>1.400</td>\n",
       "      <td>2.503</td>\n",
       "      <td>2.708</td>\n",
       "      <td>1.845</td>\n",
       "      <td>1.138</td>\n",
       "      <td>0.711</td>\n",
       "      <td>0.516</td>\n",
       "      <td>Africa</td>\n",
       "    </tr>\n",
       "    <tr>\n",
       "      <th>136</th>\n",
       "      <td>AGO</td>\n",
       "      <td>NGDP_RPCH</td>\n",
       "      <td>2.406</td>\n",
       "      <td>-4.400</td>\n",
       "      <td>0.000</td>\n",
       "      <td>4.200</td>\n",
       "      <td>6.000</td>\n",
       "      <td>3.500</td>\n",
       "      <td>2.900</td>\n",
       "      <td>4.083</td>\n",
       "      <td>...</td>\n",
       "      <td>0.944</td>\n",
       "      <td>-2.580</td>\n",
       "      <td>-2.500</td>\n",
       "      <td>-0.118</td>\n",
       "      <td>3.055</td>\n",
       "      <td>3.213</td>\n",
       "      <td>3.226</td>\n",
       "      <td>3.700</td>\n",
       "      <td>3.797</td>\n",
       "      <td>Africa</td>\n",
       "    </tr>\n",
       "    <tr>\n",
       "      <th>181</th>\n",
       "      <td>ATG</td>\n",
       "      <td>NGDP_RPCH</td>\n",
       "      <td>8.161</td>\n",
       "      <td>3.815</td>\n",
       "      <td>-0.084</td>\n",
       "      <td>5.364</td>\n",
       "      <td>10.165</td>\n",
       "      <td>7.644</td>\n",
       "      <td>11.494</td>\n",
       "      <td>6.626</td>\n",
       "      <td>...</td>\n",
       "      <td>4.060</td>\n",
       "      <td>5.348</td>\n",
       "      <td>2.752</td>\n",
       "      <td>3.500</td>\n",
       "      <td>3.000</td>\n",
       "      <td>2.500</td>\n",
       "      <td>2.000</td>\n",
       "      <td>2.000</td>\n",
       "      <td>2.000</td>\n",
       "      <td>Americas</td>\n",
       "    </tr>\n",
       "  </tbody>\n",
       "</table>\n",
       "<p>5 rows × 47 columns</p>\n",
       "</div>"
      ],
      "text/plain": [
       "     ISO WEO Subject Code    1980    1981    1982   1983    1984    1985  \\\n",
       "1    AFG  NGDP_RPCH        NaN     NaN     NaN     NaN    NaN     NaN      \n",
       "46   ALB  NGDP_RPCH        2.684   5.700   2.900   1.100  2.000   -1.500   \n",
       "91   DZA  NGDP_RPCH        -5.400  3.000   6.400   5.400  5.600   5.600    \n",
       "136  AGO  NGDP_RPCH        2.406   -4.400  0.000   4.200  6.000   3.500    \n",
       "181  ATG  NGDP_RPCH        8.161   3.815   -0.084  5.364  10.165  7.644    \n",
       "\n",
       "       1986    1987    ...      2015    2016    2017    2018   2019   2020  \\\n",
       "1    NaN     NaN       ...     0.988  2.164   2.665   2.300   3.024  3.521   \n",
       "46   5.600   -0.800    ...     2.219  3.352   3.841   3.998   3.719  3.880   \n",
       "91   -0.200  -0.700    ...     3.700  3.200   1.400   2.503   2.708  1.845   \n",
       "136  2.900   4.083     ...     0.944  -2.580  -2.500  -0.118  3.055  3.213   \n",
       "181  11.494  6.626     ...     4.060  5.348   2.752   3.500   3.000  2.500   \n",
       "\n",
       "      2021   2022   2023 continent  \n",
       "1    4.018  4.515  5.012  Asia      \n",
       "46   3.932  3.959  3.959  Europe    \n",
       "91   1.138  0.711  0.516  Africa    \n",
       "136  3.226  3.700  3.797  Africa    \n",
       "181  2.000  2.000  2.000  Americas  \n",
       "\n",
       "[5 rows x 47 columns]"
      ]
     },
     "execution_count": 13,
     "metadata": {},
     "output_type": "execute_result"
    }
   ],
   "source": [
    "imf_reduced.head()"
   ]
  },
  {
   "cell_type": "code",
   "execution_count": 14,
   "metadata": {
    "collapsed": true
   },
   "outputs": [],
   "source": [
    "col_=[str(i) for i in range(1980,2018)]\n",
    "imf_long=pd.melt(imf_reduced,id_vars=['ISO','continent'],value_vars=col_)"
   ]
  },
  {
   "cell_type": "code",
   "execution_count": 15,
   "metadata": {},
   "outputs": [
    {
     "data": {
      "text/html": [
       "<div>\n",
       "<style scoped>\n",
       "    .dataframe tbody tr th:only-of-type {\n",
       "        vertical-align: middle;\n",
       "    }\n",
       "\n",
       "    .dataframe tbody tr th {\n",
       "        vertical-align: top;\n",
       "    }\n",
       "\n",
       "    .dataframe thead th {\n",
       "        text-align: right;\n",
       "    }\n",
       "</style>\n",
       "<table border=\"1\" class=\"dataframe\">\n",
       "  <thead>\n",
       "    <tr style=\"text-align: right;\">\n",
       "      <th></th>\n",
       "      <th>ISO</th>\n",
       "      <th>continent</th>\n",
       "      <th>variable</th>\n",
       "      <th>value</th>\n",
       "    </tr>\n",
       "  </thead>\n",
       "  <tbody>\n",
       "    <tr>\n",
       "      <th>0</th>\n",
       "      <td>AFG</td>\n",
       "      <td>Asia</td>\n",
       "      <td>1980</td>\n",
       "      <td>NaN</td>\n",
       "    </tr>\n",
       "    <tr>\n",
       "      <th>1</th>\n",
       "      <td>ALB</td>\n",
       "      <td>Europe</td>\n",
       "      <td>1980</td>\n",
       "      <td>2.684</td>\n",
       "    </tr>\n",
       "    <tr>\n",
       "      <th>2</th>\n",
       "      <td>DZA</td>\n",
       "      <td>Africa</td>\n",
       "      <td>1980</td>\n",
       "      <td>-5.400</td>\n",
       "    </tr>\n",
       "    <tr>\n",
       "      <th>3</th>\n",
       "      <td>AGO</td>\n",
       "      <td>Africa</td>\n",
       "      <td>1980</td>\n",
       "      <td>2.406</td>\n",
       "    </tr>\n",
       "    <tr>\n",
       "      <th>4</th>\n",
       "      <td>ATG</td>\n",
       "      <td>Americas</td>\n",
       "      <td>1980</td>\n",
       "      <td>8.161</td>\n",
       "    </tr>\n",
       "  </tbody>\n",
       "</table>\n",
       "</div>"
      ],
      "text/plain": [
       "   ISO continent variable   value\n",
       "0  AFG  Asia      1980     NaN   \n",
       "1  ALB  Europe    1980     2.684 \n",
       "2  DZA  Africa    1980     -5.400\n",
       "3  AGO  Africa    1980     2.406 \n",
       "4  ATG  Americas  1980     8.161 "
      ]
     },
     "execution_count": 15,
     "metadata": {},
     "output_type": "execute_result"
    }
   ],
   "source": [
    "imf_long.head()"
   ]
  },
  {
   "cell_type": "code",
   "execution_count": 16,
   "metadata": {
    "collapsed": true
   },
   "outputs": [],
   "source": [
    "imf_long.columns=['Country','Continent','Year','Growth']"
   ]
  },
  {
   "cell_type": "code",
   "execution_count": 17,
   "metadata": {},
   "outputs": [
    {
     "data": {
      "text/html": [
       "<div>\n",
       "<style scoped>\n",
       "    .dataframe tbody tr th:only-of-type {\n",
       "        vertical-align: middle;\n",
       "    }\n",
       "\n",
       "    .dataframe tbody tr th {\n",
       "        vertical-align: top;\n",
       "    }\n",
       "\n",
       "    .dataframe thead th {\n",
       "        text-align: right;\n",
       "    }\n",
       "</style>\n",
       "<table border=\"1\" class=\"dataframe\">\n",
       "  <thead>\n",
       "    <tr style=\"text-align: right;\">\n",
       "      <th></th>\n",
       "      <th>Country</th>\n",
       "      <th>Continent</th>\n",
       "      <th>Year</th>\n",
       "      <th>Growth</th>\n",
       "    </tr>\n",
       "  </thead>\n",
       "  <tbody>\n",
       "    <tr>\n",
       "      <th>0</th>\n",
       "      <td>AFG</td>\n",
       "      <td>Asia</td>\n",
       "      <td>1980</td>\n",
       "      <td>NaN</td>\n",
       "    </tr>\n",
       "    <tr>\n",
       "      <th>1</th>\n",
       "      <td>ALB</td>\n",
       "      <td>Europe</td>\n",
       "      <td>1980</td>\n",
       "      <td>2.684</td>\n",
       "    </tr>\n",
       "    <tr>\n",
       "      <th>2</th>\n",
       "      <td>DZA</td>\n",
       "      <td>Africa</td>\n",
       "      <td>1980</td>\n",
       "      <td>-5.400</td>\n",
       "    </tr>\n",
       "    <tr>\n",
       "      <th>3</th>\n",
       "      <td>AGO</td>\n",
       "      <td>Africa</td>\n",
       "      <td>1980</td>\n",
       "      <td>2.406</td>\n",
       "    </tr>\n",
       "    <tr>\n",
       "      <th>4</th>\n",
       "      <td>ATG</td>\n",
       "      <td>Americas</td>\n",
       "      <td>1980</td>\n",
       "      <td>8.161</td>\n",
       "    </tr>\n",
       "  </tbody>\n",
       "</table>\n",
       "</div>"
      ],
      "text/plain": [
       "  Country Continent  Year  Growth\n",
       "0  AFG     Asia      1980  NaN   \n",
       "1  ALB     Europe    1980  2.684 \n",
       "2  DZA     Africa    1980  -5.400\n",
       "3  AGO     Africa    1980  2.406 \n",
       "4  ATG     Americas  1980  8.161 "
      ]
     },
     "execution_count": 17,
     "metadata": {},
     "output_type": "execute_result"
    }
   ],
   "source": [
    "imf_long.head()"
   ]
  },
  {
   "cell_type": "code",
   "execution_count": 18,
   "metadata": {},
   "outputs": [
    {
     "data": {
      "text/plain": [
       "Country      object\n",
       "Continent    object\n",
       "Year         object\n",
       "Growth       object\n",
       "dtype: object"
      ]
     },
     "execution_count": 18,
     "metadata": {},
     "output_type": "execute_result"
    }
   ],
   "source": [
    "imf_long.dtypes"
   ]
  },
  {
   "cell_type": "code",
   "execution_count": 19,
   "metadata": {
    "collapsed": true
   },
   "outputs": [],
   "source": [
    "imf_long['Growth']=imf_long['Growth'].apply(lambda x:str(x).replace(',',''))\n",
    "imf_long['Growth']=pd.to_numeric(imf_long['Growth'],errors='coerce')\n",
    "imf_long['Year']=pd.to_numeric(imf_long['Year'],errors='coerce')\n",
    "# преобразование полей с номером года и значением показателя в числовой тип"
   ]
  },
  {
   "cell_type": "code",
   "execution_count": 20,
   "metadata": {
    "collapsed": true
   },
   "outputs": [],
   "source": [
    "GDP_growth=imf_long[imf_long.Year==2016].drop(columns=['Year'])"
   ]
  },
  {
   "cell_type": "code",
   "execution_count": 21,
   "metadata": {},
   "outputs": [
    {
     "data": {
      "text/html": [
       "<div>\n",
       "<style scoped>\n",
       "    .dataframe tbody tr th:only-of-type {\n",
       "        vertical-align: middle;\n",
       "    }\n",
       "\n",
       "    .dataframe tbody tr th {\n",
       "        vertical-align: top;\n",
       "    }\n",
       "\n",
       "    .dataframe thead th {\n",
       "        text-align: right;\n",
       "    }\n",
       "</style>\n",
       "<table border=\"1\" class=\"dataframe\">\n",
       "  <thead>\n",
       "    <tr style=\"text-align: right;\">\n",
       "      <th></th>\n",
       "      <th>Country</th>\n",
       "      <th>Continent</th>\n",
       "      <th>Growth</th>\n",
       "    </tr>\n",
       "  </thead>\n",
       "  <tbody>\n",
       "    <tr>\n",
       "      <th>6984</th>\n",
       "      <td>AFG</td>\n",
       "      <td>Asia</td>\n",
       "      <td>2.164</td>\n",
       "    </tr>\n",
       "    <tr>\n",
       "      <th>6985</th>\n",
       "      <td>ALB</td>\n",
       "      <td>Europe</td>\n",
       "      <td>3.352</td>\n",
       "    </tr>\n",
       "    <tr>\n",
       "      <th>6986</th>\n",
       "      <td>DZA</td>\n",
       "      <td>Africa</td>\n",
       "      <td>3.200</td>\n",
       "    </tr>\n",
       "    <tr>\n",
       "      <th>6987</th>\n",
       "      <td>AGO</td>\n",
       "      <td>Africa</td>\n",
       "      <td>-2.580</td>\n",
       "    </tr>\n",
       "    <tr>\n",
       "      <th>6988</th>\n",
       "      <td>ATG</td>\n",
       "      <td>Americas</td>\n",
       "      <td>5.348</td>\n",
       "    </tr>\n",
       "  </tbody>\n",
       "</table>\n",
       "</div>"
      ],
      "text/plain": [
       "     Country Continent  Growth\n",
       "6984  AFG     Asia      2.164 \n",
       "6985  ALB     Europe    3.352 \n",
       "6986  DZA     Africa    3.200 \n",
       "6987  AGO     Africa   -2.580 \n",
       "6988  ATG     Americas  5.348 "
      ]
     },
     "execution_count": 21,
     "metadata": {},
     "output_type": "execute_result"
    }
   ],
   "source": [
    "GDP_growth.head()"
   ]
  },
  {
   "cell_type": "markdown",
   "metadata": {},
   "source": [
    "## 4. Описательная статистика"
   ]
  },
  {
   "cell_type": "code",
   "execution_count": 22,
   "metadata": {},
   "outputs": [
    {
     "data": {
      "text/plain": [
       "Country      0\n",
       "Continent    1\n",
       "Growth       1\n",
       "dtype: int64"
      ]
     },
     "execution_count": 22,
     "metadata": {},
     "output_type": "execute_result"
    }
   ],
   "source": [
    "GDP_growth.isnull().sum() # определение количества значений nan для каждого поля"
   ]
  },
  {
   "cell_type": "code",
   "execution_count": 23,
   "metadata": {},
   "outputs": [
    {
     "data": {
      "text/html": [
       "<div>\n",
       "<style scoped>\n",
       "    .dataframe tbody tr th:only-of-type {\n",
       "        vertical-align: middle;\n",
       "    }\n",
       "\n",
       "    .dataframe tbody tr th {\n",
       "        vertical-align: top;\n",
       "    }\n",
       "\n",
       "    .dataframe thead th {\n",
       "        text-align: right;\n",
       "    }\n",
       "</style>\n",
       "<table border=\"1\" class=\"dataframe\">\n",
       "  <thead>\n",
       "    <tr style=\"text-align: right;\">\n",
       "      <th></th>\n",
       "      <th>Country</th>\n",
       "      <th>Continent</th>\n",
       "      <th>Growth</th>\n",
       "    </tr>\n",
       "  </thead>\n",
       "  <tbody>\n",
       "    <tr>\n",
       "      <th>7074</th>\n",
       "      <td>UVK</td>\n",
       "      <td>NaN</td>\n",
       "      <td>4.062</td>\n",
       "    </tr>\n",
       "  </tbody>\n",
       "</table>\n",
       "</div>"
      ],
      "text/plain": [
       "     Country Continent  Growth\n",
       "7074  UVK     NaN       4.062 "
      ]
     },
     "execution_count": 23,
     "metadata": {},
     "output_type": "execute_result"
    }
   ],
   "source": [
    "GDP_growth[GDP_growth.Continent.isnull()] # идентификация nan значений в конкретном поле"
   ]
  },
  {
   "cell_type": "code",
   "execution_count": 24,
   "metadata": {
    "collapsed": true
   },
   "outputs": [],
   "source": [
    "GDP_growth.dropna(inplace=True) # удаляем строки с хотя бы одним значением nan\n",
    "# существуют и другие стратегии работы с nan значениями, например, замена nan средним значением ряда"
   ]
  },
  {
   "cell_type": "code",
   "execution_count": 25,
   "metadata": {},
   "outputs": [
    {
     "data": {
      "text/plain": [
       "Country      0\n",
       "Continent    0\n",
       "Growth       0\n",
       "dtype: int64"
      ]
     },
     "execution_count": 25,
     "metadata": {},
     "output_type": "execute_result"
    }
   ],
   "source": [
    "GDP_growth.isnull().sum()"
   ]
  },
  {
   "cell_type": "code",
   "execution_count": 26,
   "metadata": {},
   "outputs": [
    {
     "data": {
      "text/plain": [
       "count    192.000000\n",
       "mean     2.605068  \n",
       "std      3.765743  \n",
       "min     -16.456000 \n",
       "25%      1.413500  \n",
       "50%      2.932000  \n",
       "75%      4.402250  \n",
       "max      13.062000 \n",
       "Name: Growth, dtype: float64"
      ]
     },
     "execution_count": 26,
     "metadata": {},
     "output_type": "execute_result"
    }
   ],
   "source": [
    "GDP_growth.Growth.describe() # описательная статистика"
   ]
  },
  {
   "cell_type": "code",
   "execution_count": 27,
   "metadata": {},
   "outputs": [
    {
     "data": {
      "text/plain": [
       "2.6050677083333333"
      ]
     },
     "execution_count": 27,
     "metadata": {},
     "output_type": "execute_result"
    }
   ],
   "source": [
    "np.mean(GDP_growth.Growth) # среднее значение, подсчитанное с помощью функции библиотеки numpy"
   ]
  },
  {
   "cell_type": "code",
   "execution_count": 28,
   "metadata": {},
   "outputs": [
    {
     "data": {
      "text/plain": [
       "2.9319999999999999"
      ]
     },
     "execution_count": 28,
     "metadata": {},
     "output_type": "execute_result"
    }
   ],
   "source": [
    "np.median(GDP_growth.Growth) # медианное значение"
   ]
  },
  {
   "cell_type": "code",
   "execution_count": 29,
   "metadata": {},
   "outputs": [
    {
     "data": {
      "text/plain": [
       "2.157"
      ]
     },
     "execution_count": 29,
     "metadata": {},
     "output_type": "execute_result"
    }
   ],
   "source": [
    "stats.mode(GDP_growth.Growth).mode[0] # модальное значение, используем библиотеку scipy"
   ]
  },
  {
   "cell_type": "code",
   "execution_count": 30,
   "metadata": {},
   "outputs": [
    {
     "data": {
      "text/plain": [
       "6.537022340846876"
      ]
     },
     "execution_count": 30,
     "metadata": {},
     "output_type": "execute_result"
    }
   ],
   "source": [
    "stats.kurtosis(GDP_growth.Growth) # значение коэффициента эксцесса"
   ]
  },
  {
   "cell_type": "code",
   "execution_count": 31,
   "metadata": {},
   "outputs": [
    {
     "data": {
      "text/plain": [
       "-1.605958458028912"
      ]
     },
     "execution_count": 31,
     "metadata": {},
     "output_type": "execute_result"
    }
   ],
   "source": [
    "stats.skew(GDP_growth.Growth) # значение коэффициента ассиметрии"
   ]
  },
  {
   "cell_type": "markdown",
   "metadata": {
    "collapsed": true
   },
   "source": [
    "### Основные выводы:  распределение носит островершинный харктер и имеет левостороннюю ассиметрию (вероятность найти страну со  значением темпов прироста ВВП выше среднего больше чем вероятность найти страну со  значением темпов прироста ВВП ниже среднего ) "
   ]
  },
  {
   "cell_type": "markdown",
   "metadata": {},
   "source": [
    "## 5. Визуализация распределения"
   ]
  },
  {
   "cell_type": "markdown",
   "metadata": {
    "collapsed": true
   },
   "source": [
    "### Гистограмма распределения и эмпирическая кривая (полигон)"
   ]
  },
  {
   "cell_type": "code",
   "execution_count": 32,
   "metadata": {},
   "outputs": [
    {
     "data": {
      "text/plain": [
       "<matplotlib.axes._subplots.AxesSubplot at 0x7f1c5382a510>"
      ]
     },
     "execution_count": 32,
     "metadata": {},
     "output_type": "execute_result"
    },
    {
     "data": {
      "image/png": "[encoded data removed]",
      "text/plain": [
       "<matplotlib.figure.Figure at 0x7f1c5474dad0>"
      ]
     },
     "metadata": {},
     "output_type": "display_data"
    }
   ],
   "source": [
    "GDP_growth.Growth.plot(kind='hist',grid=True, bins=15, rwidth=0.9,\n",
    "                   color='blue',figsize=(10,5))"
   ]
  },
  {
   "cell_type": "code",
   "execution_count": 33,
   "metadata": {},
   "outputs": [
    {
     "data": {
      "image/png": "[encoded data removed]",
      "text/plain": [
       "<matplotlib.figure.Figure at 0x7f1c5314fed0>"
      ]
     },
     "metadata": {},
     "output_type": "display_data"
    }
   ],
   "source": [
    "sns.set(rc={'figure.figsize':(10,5)})\n",
    "sns.distplot(GDP_growth.Growth,bins=15,rug=True,color='red');"
   ]
  },
  {
   "cell_type": "markdown",
   "metadata": {
    "collapsed": true
   },
   "source": [
    "### Q-Q plot - показывает расхождение эмпирических и теоретических процентных точек распределения"
   ]
  },
  {
   "cell_type": "code",
   "execution_count": 34,
   "metadata": {},
   "outputs": [
    {
     "data": {
      "image/png": "[encoded data removed]",
      "text/plain": [
       "<matplotlib.figure.Figure at 0x7f1c525634d0>"
      ]
     },
     "metadata": {},
     "output_type": "display_data"
    }
   ],
   "source": [
    "fig = plt.figure(figsize=(10,5))\n",
    "stats.probplot(GDP_growth.Growth, dist=\"norm\",plot=plt)\n",
    "plt.show()"
   ]
  },
  {
   "cell_type": "code",
   "execution_count": null,
   "metadata": {
    "collapsed": true
   },
   "outputs": [],
   "source": [
    "## 6.Проверка нормальности распределения (уровень значимости $\\alpha=0.05$)"
   ]
  },
  {
   "cell_type": "code",
   "execution_count": 35,
   "metadata": {},
   "outputs": [
    {
     "data": {
      "text/plain": [
       "NormaltestResult(statistic=83.902403512697674, pvalue=6.0370471535233715e-19)"
      ]
     },
     "execution_count": 35,
     "metadata": {},
     "output_type": "execute_result"
    }
   ],
   "source": [
    "stats.normaltest(GDP_growth.Growth) #  тест Д'Агостино (основан на значениях эксцесса и ассиметрии )"
   ]
  },
  {
   "cell_type": "code",
   "execution_count": 36,
   "metadata": {},
   "outputs": [
    {
     "data": {
      "text/plain": [
       "(0.8679784536361694, 6.8156981794520455e-12)"
      ]
     },
     "execution_count": 36,
     "metadata": {},
     "output_type": "execute_result"
    }
   ],
   "source": [
    "stats.shapiro(GDP_growth.Growth) #тест Шапиро-Вилкоксона"
   ]
  },
  {
   "cell_type": "code",
   "execution_count": 37,
   "metadata": {},
   "outputs": [
    {
     "data": {
      "text/plain": [
       "(5.8303098625600569, 2.1167622361856759e-14)"
      ]
     },
     "execution_count": 37,
     "metadata": {},
     "output_type": "execute_result"
    }
   ],
   "source": [
    "diagnostic.normal_ad(GDP_growth.Growth) #тест Андерссона-Дарлинга"
   ]
  },
  {
   "cell_type": "code",
   "execution_count": 38,
   "metadata": {},
   "outputs": [
    {
     "data": {
      "text/plain": [
       "(0.15032893812864204, 2.0921608494149673e-11)"
      ]
     },
     "execution_count": 38,
     "metadata": {},
     "output_type": "execute_result"
    }
   ],
   "source": [
    "diagnostic.kstest_normal(GDP_growth.Growth)#тест Колмогорова-Смирнова"
   ]
  },
  {
   "cell_type": "code",
   "execution_count": null,
   "metadata": {
    "collapsed": true
   },
   "outputs": [],
   "source": [
    "### Основные выводы: представленное распределение существенно отличается от нормального закона, что подтверждается значениями критериев."
   ]
  },
  {
   "cell_type": "markdown",
   "metadata": {},
   "source": [
    "## 7. Интервальное оценивание"
   ]
  },
  {
   "cell_type": "code",
   "execution_count": 3,
   "metadata": {
    "collapsed": true
   },
   "outputs": [],
   "source": [
    "alpha=0.05 #устанавливаем значение ошибки первого рода (обратная величина к доверительной вероятности)\n",
    "# для целец проверки гипотез и построения доверительных интервалов"
   ]
  },
  {
   "cell_type": "code",
   "execution_count": 40,
   "metadata": {
    "collapsed": true
   },
   "outputs": [],
   "source": [
    "n=len(GDP_growth.Growth)# размер выборки "
   ]
  },
  {
   "cell_type": "code",
   "execution_count": 41,
   "metadata": {},
   "outputs": [
    {
     "data": {
      "text/plain": [
       "1.959963984540054"
      ]
     },
     "execution_count": 41,
     "metadata": {},
     "output_type": "execute_result"
    }
   ],
   "source": [
    "stats.norm.ppf(1-alpha/2)# значение tкр для двусторонней области - нормальное распределение"
   ]
  },
  {
   "cell_type": "code",
   "execution_count": 42,
   "metadata": {},
   "outputs": [
    {
     "data": {
      "text/plain": [
       "1.9724619897643145"
      ]
     },
     "execution_count": 42,
     "metadata": {},
     "output_type": "execute_result"
    }
   ],
   "source": [
    "stats.t.ppf(1-alpha/2,n-1)# значение tкр для двусторонней области - распределение Стьюдента (справочно для сравнения)"
   ]
  },
  {
   "cell_type": "code",
   "execution_count": 43,
   "metadata": {},
   "outputs": [
    {
     "name": "stdout",
     "output_type": "stream",
     "text": [
      "0.5313\n"
     ]
    }
   ],
   "source": [
    "delta=(np.std(GDP_growth.Growth)/n**0.5)*stats.norm.ppf(1-alpha/2)\n",
    "print ('%.4f'%delta)\n",
    "# значение дельты для определения границ интервальной оценки"
   ]
  },
  {
   "cell_type": "code",
   "execution_count": 44,
   "metadata": {},
   "outputs": [
    {
     "name": "stdout",
     "output_type": "stream",
     "text": [
      "mean_lower_bound:2.0738,mean_upper_bound:3.1363\n"
     ]
    }
   ],
   "source": [
    "mean_lower_bound=np.mean(GDP_growth.Growth)-delta\n",
    "mean_upper_bound=np.mean(GDP_growth.Growth)+delta\n",
    "print(\"mean_lower_bound:%.4f,mean_upper_bound:%.4f\"%(mean_lower_bound,mean_upper_bound))\n",
    "# значение нижней и верхней  границ интервала математического ожидания"
   ]
  },
  {
   "cell_type": "code",
   "execution_count": 4,
   "metadata": {},
   "outputs": [
    {
     "ename": "NameError",
     "evalue": "name 'n' is not defined",
     "output_type": "error",
     "traceback": [
      "\u001b[0;31m---------------------------------------------------------------------------\u001b[0m",
      "\u001b[0;31mNameError\u001b[0m                                 Traceback (most recent call last)",
      "\u001b[0;32m<ipython-input-4-b7bea5b8aa06>\u001b[0m in \u001b[0;36m<module>\u001b[0;34m()\u001b[0m\n\u001b[0;32m----> 1\u001b[0;31m \u001b[0mstats\u001b[0m\u001b[0;34m.\u001b[0m\u001b[0mchi2\u001b[0m\u001b[0;34m.\u001b[0m\u001b[0mppf\u001b[0m\u001b[0;34m(\u001b[0m\u001b[0malpha\u001b[0m\u001b[0;34m/\u001b[0m\u001b[0;36m2\u001b[0m\u001b[0;34m,\u001b[0m\u001b[0mn\u001b[0m\u001b[0;34m-\u001b[0m\u001b[0;36m1\u001b[0m\u001b[0;34m)\u001b[0m\u001b[0;31m# значение chi2 для расчета верхней границы интервала\u001b[0m\u001b[0;34m\u001b[0m\u001b[0m\n\u001b[0m",
      "\u001b[0;31mNameError\u001b[0m: name 'n' is not defined"
     ]
    }
   ],
   "source": [
    "stats.chi2.ppf(alpha/2,n-1)# значение chi2 для расчета верхней границы интервала"
   ]
  },
  {
   "cell_type": "code",
   "execution_count": 46,
   "metadata": {},
   "outputs": [
    {
     "data": {
      "text/plain": [
       "231.16489900815921"
      ]
     },
     "execution_count": 46,
     "metadata": {},
     "output_type": "execute_result"
    }
   ],
   "source": [
    "stats.chi2.ppf(1-alpha/2,n-1)# значение chi2 для расчета нижней границы интервала"
   ]
  },
  {
   "cell_type": "code",
   "execution_count": 47,
   "metadata": {},
   "outputs": [
    {
     "data": {
      "text/plain": [
       "14.106960281873912"
      ]
     },
     "execution_count": 47,
     "metadata": {},
     "output_type": "execute_result"
    }
   ],
   "source": [
    "np.var(GDP_growth.Growth)# значение дисперсии исследуемого показателя"
   ]
  },
  {
   "cell_type": "code",
   "execution_count": 48,
   "metadata": {},
   "outputs": [
    {
     "name": "stdout",
     "output_type": "stream",
     "text": [
      "var_lower_bound:11.6559,var_upper_bound:17.4260\n"
     ]
    }
   ],
   "source": [
    "var_lower_bound=((n-1)*np.var(GDP_growth.Growth))/stats.chi2.ppf(1-alpha/2,n-1)\n",
    "var_upper_bound=((n-1)*np.var(GDP_growth.Growth))/stats.chi2.ppf(alpha/2,n-1)\n",
    "print(\"var_lower_bound:%.4f,var_upper_bound:%.4f\"%(var_lower_bound,var_upper_bound))\n",
    "# значение нижней и верхней  границ интервала дисперсии"
   ]
  },
  {
   "cell_type": "markdown",
   "metadata": {},
   "source": [
    "## 8. Анализ выбросов (экстремальных значений)"
   ]
  },
  {
   "cell_type": "markdown",
   "metadata": {},
   "source": [
    "### Для оценки выбросов сущетвуют специальные критерии (например, критерий Смирнова-Граббса). В нашем случае ограничимся рассмотрением первых k и последних k наблюдений"
   ]
  },
  {
   "cell_type": "code",
   "execution_count": 49,
   "metadata": {
    "collapsed": true
   },
   "outputs": [],
   "source": [
    "index_l=list(GDP_growth.Growth.nlargest(10).index)# индексы первых k стран по значению темпов роста ВВП"
   ]
  },
  {
   "cell_type": "code",
   "execution_count": 50,
   "metadata": {},
   "outputs": [
    {
     "data": {
      "text/plain": [
       "[7063, 7062, 7052, 7105, 7025, 7040, 7171, 7059, 7003, 6997]"
      ]
     },
     "execution_count": 50,
     "metadata": {},
     "output_type": "execute_result"
    }
   ],
   "source": [
    "index_l"
   ]
  },
  {
   "cell_type": "code",
   "execution_count": 51,
   "metadata": {},
   "outputs": [
    {
     "data": {
      "text/html": [
       "<div>\n",
       "<style scoped>\n",
       "    .dataframe tbody tr th:only-of-type {\n",
       "        vertical-align: middle;\n",
       "    }\n",
       "\n",
       "    .dataframe tbody tr th {\n",
       "        vertical-align: top;\n",
       "    }\n",
       "\n",
       "    .dataframe thead th {\n",
       "        text-align: right;\n",
       "    }\n",
       "</style>\n",
       "<table border=\"1\" class=\"dataframe\">\n",
       "  <thead>\n",
       "    <tr style=\"text-align: right;\">\n",
       "      <th></th>\n",
       "      <th>Country</th>\n",
       "      <th>Continent</th>\n",
       "      <th>Growth</th>\n",
       "    </tr>\n",
       "  </thead>\n",
       "  <tbody>\n",
       "    <tr>\n",
       "      <th>7063</th>\n",
       "      <td>IRQ</td>\n",
       "      <td>Asia</td>\n",
       "      <td>13.062</td>\n",
       "    </tr>\n",
       "    <tr>\n",
       "      <th>7062</th>\n",
       "      <td>IRN</td>\n",
       "      <td>Asia</td>\n",
       "      <td>12.518</td>\n",
       "    </tr>\n",
       "    <tr>\n",
       "      <th>7052</th>\n",
       "      <td>GIN</td>\n",
       "      <td>Africa</td>\n",
       "      <td>10.458</td>\n",
       "    </tr>\n",
       "    <tr>\n",
       "      <th>7105</th>\n",
       "      <td>NRU</td>\n",
       "      <td>Oceania</td>\n",
       "      <td>10.404</td>\n",
       "    </tr>\n",
       "    <tr>\n",
       "      <th>7025</th>\n",
       "      <td>CIV</td>\n",
       "      <td>Africa</td>\n",
       "      <td>8.342</td>\n",
       "    </tr>\n",
       "    <tr>\n",
       "      <th>7040</th>\n",
       "      <td>ETH</td>\n",
       "      <td>Africa</td>\n",
       "      <td>8.000</td>\n",
       "    </tr>\n",
       "    <tr>\n",
       "      <th>7171</th>\n",
       "      <td>UZB</td>\n",
       "      <td>Asia</td>\n",
       "      <td>7.800</td>\n",
       "    </tr>\n",
       "    <tr>\n",
       "      <th>7059</th>\n",
       "      <td>ISL</td>\n",
       "      <td>Europe</td>\n",
       "      <td>7.352</td>\n",
       "    </tr>\n",
       "    <tr>\n",
       "      <th>7003</th>\n",
       "      <td>BTN</td>\n",
       "      <td>Asia</td>\n",
       "      <td>7.316</td>\n",
       "    </tr>\n",
       "    <tr>\n",
       "      <th>6997</th>\n",
       "      <td>BGD</td>\n",
       "      <td>Asia</td>\n",
       "      <td>7.202</td>\n",
       "    </tr>\n",
       "  </tbody>\n",
       "</table>\n",
       "</div>"
      ],
      "text/plain": [
       "     Country Continent  Growth\n",
       "7063  IRQ     Asia      13.062\n",
       "7062  IRN     Asia      12.518\n",
       "7052  GIN     Africa    10.458\n",
       "7105  NRU     Oceania   10.404\n",
       "7025  CIV     Africa    8.342 \n",
       "7040  ETH     Africa    8.000 \n",
       "7171  UZB     Asia      7.800 \n",
       "7059  ISL     Europe    7.352 \n",
       "7003  BTN     Asia      7.316 \n",
       "6997  BGD     Asia      7.202 "
      ]
     },
     "execution_count": 51,
     "metadata": {},
     "output_type": "execute_result"
    }
   ],
   "source": [
    "GDP_growth.loc[index_l,:] # первые k стран по значению темпов роста ВВП"
   ]
  },
  {
   "cell_type": "code",
   "execution_count": 52,
   "metadata": {
    "collapsed": true
   },
   "outputs": [],
   "source": [
    "index_s=list(GDP_growth.Growth.nsmallest(10).index)# индексы последних k стран по значению темпов роста ВВП"
   ]
  },
  {
   "cell_type": "code",
   "execution_count": 53,
   "metadata": {},
   "outputs": [
    {
     "data": {
      "text/html": [
       "<div>\n",
       "<style scoped>\n",
       "    .dataframe tbody tr th:only-of-type {\n",
       "        vertical-align: middle;\n",
       "    }\n",
       "\n",
       "    .dataframe tbody tr th {\n",
       "        vertical-align: top;\n",
       "    }\n",
       "\n",
       "    .dataframe thead th {\n",
       "        text-align: right;\n",
       "    }\n",
       "</style>\n",
       "<table border=\"1\" class=\"dataframe\">\n",
       "  <thead>\n",
       "    <tr style=\"text-align: right;\">\n",
       "      <th></th>\n",
       "      <th>Country</th>\n",
       "      <th>Continent</th>\n",
       "      <th>Growth</th>\n",
       "    </tr>\n",
       "  </thead>\n",
       "  <tbody>\n",
       "    <tr>\n",
       "      <th>7173</th>\n",
       "      <td>VEN</td>\n",
       "      <td>Americas</td>\n",
       "      <td>-16.456</td>\n",
       "    </tr>\n",
       "    <tr>\n",
       "      <th>7142</th>\n",
       "      <td>SSD</td>\n",
       "      <td>Africa</td>\n",
       "      <td>-13.933</td>\n",
       "    </tr>\n",
       "    <tr>\n",
       "      <th>7175</th>\n",
       "      <td>YEM</td>\n",
       "      <td>Asia</td>\n",
       "      <td>-13.621</td>\n",
       "    </tr>\n",
       "    <tr>\n",
       "      <th>7036</th>\n",
       "      <td>GNQ</td>\n",
       "      <td>Africa</td>\n",
       "      <td>-8.576</td>\n",
       "    </tr>\n",
       "    <tr>\n",
       "      <th>7082</th>\n",
       "      <td>LBY</td>\n",
       "      <td>Africa</td>\n",
       "      <td>-7.389</td>\n",
       "    </tr>\n",
       "    <tr>\n",
       "      <th>7017</th>\n",
       "      <td>TCD</td>\n",
       "      <td>Africa</td>\n",
       "      <td>-6.431</td>\n",
       "    </tr>\n",
       "    <tr>\n",
       "      <th>7160</th>\n",
       "      <td>TTO</td>\n",
       "      <td>Americas</td>\n",
       "      <td>-6.076</td>\n",
       "    </tr>\n",
       "    <tr>\n",
       "      <th>7149</th>\n",
       "      <td>SUR</td>\n",
       "      <td>Americas</td>\n",
       "      <td>-5.139</td>\n",
       "    </tr>\n",
       "    <tr>\n",
       "      <th>7007</th>\n",
       "      <td>BRA</td>\n",
       "      <td>Americas</td>\n",
       "      <td>-3.469</td>\n",
       "    </tr>\n",
       "    <tr>\n",
       "      <th>6994</th>\n",
       "      <td>AZE</td>\n",
       "      <td>Asia</td>\n",
       "      <td>-3.100</td>\n",
       "    </tr>\n",
       "  </tbody>\n",
       "</table>\n",
       "</div>"
      ],
      "text/plain": [
       "     Country Continent  Growth\n",
       "7173  VEN     Americas -16.456\n",
       "7142  SSD     Africa   -13.933\n",
       "7175  YEM     Asia     -13.621\n",
       "7036  GNQ     Africa   -8.576 \n",
       "7082  LBY     Africa   -7.389 \n",
       "7017  TCD     Africa   -6.431 \n",
       "7160  TTO     Americas -6.076 \n",
       "7149  SUR     Americas -5.139 \n",
       "7007  BRA     Americas -3.469 \n",
       "6994  AZE     Asia     -3.100 "
      ]
     },
     "execution_count": 53,
     "metadata": {},
     "output_type": "execute_result"
    }
   ],
   "source": [
    "GDP_growth.loc[index_s,:]#  последние k стран по значению темпов роста ВВП"
   ]
  },
  {
   "cell_type": "code",
   "execution_count": 54,
   "metadata": {
    "collapsed": true
   },
   "outputs": [],
   "source": [
    "index_outliers=index_l+index_s# общий список для стран с наименьшими и наибольшими значениями тепмпов роста ВВП"
   ]
  },
  {
   "cell_type": "code",
   "execution_count": 55,
   "metadata": {
    "collapsed": true
   },
   "outputs": [],
   "source": [
    "GDP_growth_reduced=GDP_growth.drop(index=index_outliers)# dataframe без стран с наименьшими и наибольшими значениями тепмпов роста ВВП"
   ]
  },
  {
   "cell_type": "code",
   "execution_count": 56,
   "metadata": {},
   "outputs": [
    {
     "data": {
      "text/plain": [
       "(0.9833655953407288, 0.03781586140394211)"
      ]
     },
     "execution_count": 56,
     "metadata": {},
     "output_type": "execute_result"
    }
   ],
   "source": [
    "stats.shapiro(GDP_growth_reduced.Growth)# тест Шапиро для усеченной dataframe"
   ]
  },
  {
   "cell_type": "markdown",
   "metadata": {},
   "source": [
    "## 9.1. Проверка гипотезы относительно различия средних темпов роста между двумя континентами"
   ]
  },
  {
   "cell_type": "code",
   "execution_count": 57,
   "metadata": {},
   "outputs": [
    {
     "data": {
      "text/html": [
       "<div>\n",
       "<style scoped>\n",
       "    .dataframe tbody tr th:only-of-type {\n",
       "        vertical-align: middle;\n",
       "    }\n",
       "\n",
       "    .dataframe tbody tr th {\n",
       "        vertical-align: top;\n",
       "    }\n",
       "\n",
       "    .dataframe thead th {\n",
       "        text-align: right;\n",
       "    }\n",
       "</style>\n",
       "<table border=\"1\" class=\"dataframe\">\n",
       "  <thead>\n",
       "    <tr style=\"text-align: right;\">\n",
       "      <th></th>\n",
       "      <th>Africa</th>\n",
       "      <th>Asia</th>\n",
       "    </tr>\n",
       "  </thead>\n",
       "  <tbody>\n",
       "    <tr>\n",
       "      <th>count</th>\n",
       "      <td>54.000000</td>\n",
       "      <td>48.000000</td>\n",
       "    </tr>\n",
       "    <tr>\n",
       "      <th>mean</th>\n",
       "      <td>2.508037</td>\n",
       "      <td>3.607208</td>\n",
       "    </tr>\n",
       "    <tr>\n",
       "      <th>std</th>\n",
       "      <td>4.342461</td>\n",
       "      <td>4.055219</td>\n",
       "    </tr>\n",
       "    <tr>\n",
       "      <th>min</th>\n",
       "      <td>-13.933000</td>\n",
       "      <td>-13.621000</td>\n",
       "    </tr>\n",
       "    <tr>\n",
       "      <th>25%</th>\n",
       "      <td>1.112500</td>\n",
       "      <td>1.945000</td>\n",
       "    </tr>\n",
       "    <tr>\n",
       "      <th>50%</th>\n",
       "      <td>3.739500</td>\n",
       "      <td>3.431000</td>\n",
       "    </tr>\n",
       "    <tr>\n",
       "      <th>75%</th>\n",
       "      <td>4.819250</td>\n",
       "      <td>6.202750</td>\n",
       "    </tr>\n",
       "    <tr>\n",
       "      <th>max</th>\n",
       "      <td>10.458000</td>\n",
       "      <td>13.062000</td>\n",
       "    </tr>\n",
       "  </tbody>\n",
       "</table>\n",
       "</div>"
      ],
      "text/plain": [
       "          Africa       Asia\n",
       "count  54.000000  48.000000\n",
       "mean   2.508037   3.607208 \n",
       "std    4.342461   4.055219 \n",
       "min   -13.933000 -13.621000\n",
       "25%    1.112500   1.945000 \n",
       "50%    3.739500   3.431000 \n",
       "75%    4.819250   6.202750 \n",
       "max    10.458000  13.062000"
      ]
     },
     "execution_count": 57,
     "metadata": {},
     "output_type": "execute_result"
    }
   ],
   "source": [
    "pd.concat([GDP_growth[GDP_growth.Continent=='Africa']['Growth'].describe().rename('Africa'),\n",
    "           GDP_growth[GDP_growth.Continent=='Asia']['Growth'].describe().rename('Asia')],axis=1)\n",
    "# Сравнение распределения показателей средних темпов роста ВВП Азии и Африки"
   ]
  },
  {
   "cell_type": "markdown",
   "metadata": {
    "collapsed": true
   },
   "source": [
    "### Проверим гипотезу равенства средних значений (равенство понимается в статистическом смысле),  уровень значимости $\\alpha$=0.05\n",
    "$$H_0:\\mu_0=\\mu_1$$\n",
    "$$H_1:\\mu_0\\neq\\mu_1$$  "
   ]
  },
  {
   "cell_type": "markdown",
   "metadata": {},
   "source": [
    "<font size='5'>Welch's test </font>\n",
    "<font size='5'> $t=\\frac{(\\bar{x_1}-\\bar{x_2})-(\\mu_1-\\mu_2)}{(\\frac{s_1^2}{n_1}+\\frac{s_2^2}{n_2})^\\frac{1}{2}}$</font>"
   ]
  },
  {
   "cell_type": "markdown",
   "metadata": {},
   "source": [
    "<font size='5'>Число степеней свободы </font>"
   ]
  },
  {
   "cell_type": "code",
   "execution_count": null,
   "metadata": {
    "collapsed": true
   },
   "outputs": [],
   "source": [
    "<font size='5'>$\\nu=\\frac{(\\frac{s_1^2}{n_1}+\\frac{s_2^2}{n_2})^2}{\\frac{s_1^4}{n_1^2(n_1-1)}+\\frac{s_2^4}{n_2^2(n_2-1)}}$</font>"
   ]
  },
  {
   "cell_type": "code",
   "execution_count": 58,
   "metadata": {},
   "outputs": [
    {
     "data": {
      "text/plain": [
       "Ttest_indResult(statistic=-1.3215212209803235, pvalue=0.18935082368961664)"
      ]
     },
     "execution_count": 58,
     "metadata": {},
     "output_type": "execute_result"
    }
   ],
   "source": [
    "stats.ttest_ind(GDP_growth[GDP_growth.Continent=='Africa']['Growth'],GDP_growth[GDP_growth.Continent=='Asia']['Growth'],\n",
    "                equal_var=False)\n",
    "# Welch's test - сравнение средних значений двух выборок "
   ]
  },
  {
   "cell_type": "code",
   "execution_count": 59,
   "metadata": {
    "collapsed": true
   },
   "outputs": [],
   "source": [
    "mean1=np.mean(GDP_growth[GDP_growth.Continent=='Africa']['Growth'])\n",
    "mean2=np.mean(GDP_growth[GDP_growth.Continent=='Asia']['Growth'])   \n",
    "var1=np.var(GDP_growth[GDP_growth.Continent=='Africa']['Growth'])\n",
    "var2=np.var(GDP_growth[GDP_growth.Continent=='Asia']['Growth'])\n",
    "n1=len(GDP_growth[GDP_growth.Continent=='Africa']['Growth'])\n",
    "n2=len(GDP_growth[GDP_growth.Continent=='Asia']['Growth'])"
   ]
  },
  {
   "cell_type": "code",
   "execution_count": 60,
   "metadata": {},
   "outputs": [
    {
     "data": {
      "text/plain": [
       "(2.508037037037037,\n",
       " 3.6072083333333325,\n",
       " 18.507763294924548,\n",
       " 16.10219870659722,\n",
       " 54,\n",
       " 48)"
      ]
     },
     "execution_count": 60,
     "metadata": {},
     "output_type": "execute_result"
    }
   ],
   "source": [
    "mean1,mean2,var1,var2,n1,n2"
   ]
  },
  {
   "cell_type": "code",
   "execution_count": 61,
   "metadata": {},
   "outputs": [
    {
     "name": "stdout",
     "output_type": "stream",
     "text": [
      "t_=-1.33\n"
     ]
    }
   ],
   "source": [
    "t_=(mean1-mean2)/((var1/n1+var2/n2)**0.5)\n",
    "print('t_=%.2f'%t_)\n",
    "# Welch's test - считаем вручную"
   ]
  },
  {
   "cell_type": "code",
   "execution_count": 62,
   "metadata": {},
   "outputs": [
    {
     "name": "stdout",
     "output_type": "stream",
     "text": [
      "nu=99.76\n"
     ]
    }
   ],
   "source": [
    "nu=((var1/n1+var2/n2)**2)/(((var1**2)/((n1**2)*(n1-1)))+((var2**2)/((n2**2)*(n2-1))))\n",
    "print('nu=%.2f'%nu)\n",
    "# число степеней свободы df"
   ]
  },
  {
   "cell_type": "code",
   "execution_count": 63,
   "metadata": {},
   "outputs": [
    {
     "data": {
      "text/plain": [
       "-1.321520150567727"
      ]
     },
     "execution_count": 63,
     "metadata": {},
     "output_type": "execute_result"
    }
   ],
   "source": [
    "stats.t.ppf(0.18935082368961664/2,nu)\n",
    "# самопроверка соответствия результатов"
   ]
  },
  {
   "cell_type": "code",
   "execution_count": 64,
   "metadata": {},
   "outputs": [
    {
     "data": {
      "text/plain": [
       "0.18500966470386626"
      ]
     },
     "execution_count": 64,
     "metadata": {},
     "output_type": "execute_result"
    }
   ],
   "source": [
    "2*stats.t.cdf(t_,nu)\n",
    "# самопроверка  соответствия результатов"
   ]
  },
  {
   "cell_type": "markdown",
   "metadata": {},
   "source": [
    "### Вывод: Так как pvalue>$\\alpha$ или, что, то же самое, критическое значение критерия меньше табличного значения, гипотеза $H_0$ не отвергается"
   ]
  },
  {
   "cell_type": "markdown",
   "metadata": {
    "collapsed": true
   },
   "source": [
    "### Проверим гипотезу равентсва дисперсий,                                                                                                   уровень значимости $\\alpha$=0.05\n",
    "$$H_0:\\sigma_0=\\sigma_1$$\n",
    "$$H_1:\\sigma_0\\neq\\sigma_1$$  "
   ]
  },
  {
   "cell_type": "code",
   "execution_count": 65,
   "metadata": {},
   "outputs": [
    {
     "data": {
      "text/plain": [
       "LeveneResult(statistic=0.27446783328079305, pvalue=0.60150954597884188)"
      ]
     },
     "execution_count": 65,
     "metadata": {},
     "output_type": "execute_result"
    }
   ],
   "source": [
    "stats.levene(GDP_growth[GDP_growth.Continent=='Africa']['Growth'],GDP_growth[GDP_growth.Continent=='Asia']['Growth'],\n",
    "                center='mean')\n",
    "# Levene's test - сравнение дисперсий двух выборок "
   ]
  },
  {
   "cell_type": "markdown",
   "metadata": {},
   "source": [
    "<font size='5'>Levene's test</font>     \n",
    "<font size='5'>$W=\\frac{(N-k)}{(k-1)}\\frac{\\sum_{i=1}^{k}N_i(\\bar{Z_i}-\\bar{Z_{..}})^2}\n",
    "{\\sum_{i=1}^{k}\\sum_{j=1}^{N_i}(Z_{ij}-\\bar{Z_i})^2}$ </font>                                            "
   ]
  },
  {
   "cell_type": "markdown",
   "metadata": {},
   "source": [
    "<font size='5'>$Z_{ij}=|Y_{ij}-\\bar{Y_i}|$<font size='5'>\n",
    "<font size='5'>$\\bar{Z_{..}}$ - общая средняя по двум группам <font size='5'>"
   ]
  },
  {
   "cell_type": "code",
   "execution_count": 66,
   "metadata": {},
   "outputs": [
    {
     "data": {
      "text/plain": [
       "0.27446783328079305"
      ]
     },
     "execution_count": 66,
     "metadata": {},
     "output_type": "execute_result"
    }
   ],
   "source": [
    "Z1=np.abs(GDP_growth[GDP_growth.Continent=='Africa']['Growth']-mean1)\n",
    "Z2=np.abs(GDP_growth[GDP_growth.Continent=='Asia']['Growth']-mean2)\n",
    "meanZ=np.mean(np.hstack((Z1,Z2)))\n",
    "(np.sum(np.hstack((n1*(np.mean(Z1)-meanZ)**2,n2*(np.mean(Z2)-meanZ)**2)))\n",
    " /np.sum(np.hstack(((Z1-np.mean(Z1))**2,(Z2-np.mean(Z2))**2))))*((n1+n2-2)/(2-1))\n",
    "# расчет теста вручную "
   ]
  },
  {
   "cell_type": "code",
   "execution_count": 67,
   "metadata": {},
   "outputs": [
    {
     "data": {
      "text/plain": [
       "0.27446783328079305"
      ]
     },
     "execution_count": 67,
     "metadata": {},
     "output_type": "execute_result"
    }
   ],
   "source": [
    "(np.sum(np.hstack((n1*(np.mean(Z1)-meanZ)**2,n2*(np.mean(Z2)-meanZ)**2)))\n",
    " /np.sum(np.hstack(((Z1-np.mean(Z1))**2,(Z2-np.mean(Z2))**2))))*((n1+n2-2)/(2-1))\n",
    "# расчет теста вручную "
   ]
  },
  {
   "cell_type": "code",
   "execution_count": 68,
   "metadata": {},
   "outputs": [
    {
     "data": {
      "text/plain": [
       "0.60150954597884176"
      ]
     },
     "execution_count": 68,
     "metadata": {},
     "output_type": "execute_result"
    }
   ],
   "source": [
    "1-stats.f.cdf(0.27446783328079305,2-1,n1+n2-2)\n",
    "# самопроверка  соответствия результатов"
   ]
  },
  {
   "cell_type": "code",
   "execution_count": 69,
   "metadata": {},
   "outputs": [
    {
     "data": {
      "text/plain": [
       "3.9361429863126487"
      ]
     },
     "execution_count": 69,
     "metadata": {},
     "output_type": "execute_result"
    }
   ],
   "source": [
    "stats.f.ppf(1-alpha,2-1,n1+n2-2)\n",
    "# критическое значение F-критерия"
   ]
  },
  {
   "cell_type": "markdown",
   "metadata": {},
   "source": [
    "### Вывод: Так как pvalue>$\\alpha$  гипотеза $H_0$ не отвергается"
   ]
  },
  {
   "cell_type": "markdown",
   "metadata": {},
   "source": [
    "### Проверка гипотезы о равенстве среднего значения темпа прироста ВВП нулю,уровень значимости $\\alpha$=0.05. Конкурирующая гипотеза - среднее значение темпа прироста ВВП больше нуля.\n",
    "$$H_0:\\mu=0$$\n",
    "$$H_1:\\mu>0$$  "
   ]
  },
  {
   "cell_type": "code",
   "execution_count": 70,
   "metadata": {},
   "outputs": [
    {
     "data": {
      "text/plain": [
       "Ttest_1sampResult(statistic=6.1627927605592259, pvalue=1.5256096731851771e-07)"
      ]
     },
     "execution_count": 70,
     "metadata": {},
     "output_type": "execute_result"
    }
   ],
   "source": [
    "stats.ttest_1samp(GDP_growth[GDP_growth.Continent=='Asia']['Growth'],0)\n",
    "#Z-test "
   ]
  },
  {
   "cell_type": "code",
   "execution_count": 71,
   "metadata": {},
   "outputs": [
    {
     "name": "stdout",
     "output_type": "stream",
     "text": [
      "t_=6.16,pvalue=0.00000\n"
     ]
    }
   ],
   "source": [
    "t_=mean2/((var2/(n2-1))**.5)\n",
    "pvalue=(1-stats.t.cdf(t_,n2-1))\n",
    "print('t_=%.2f,pvalue=%.5f'%(t_,pvalue))\n",
    "#Z-test  - расчет вручную"
   ]
  },
  {
   "cell_type": "code",
   "execution_count": 80,
   "metadata": {},
   "outputs": [
    {
     "data": {
      "text/plain": [
       "1.6779267207755799"
      ]
     },
     "execution_count": 80,
     "metadata": {},
     "output_type": "execute_result"
    }
   ],
   "source": [
    "stats.t.ppf(0.95, n2-1)\n",
    "# критическое значение Стьюдента для  правосторонней критической области  "
   ]
  },
  {
   "cell_type": "markdown",
   "metadata": {},
   "source": [
    "### Вывод: Так как pvalue<$\\alpha$,гипотеза $H_0$ не принимается"
   ]
  },
  {
   "cell_type": "markdown",
   "metadata": {
    "collapsed": true
   },
   "source": [
    "## 9.2. Проверка гипотезы относительно разницы средних темпов роста между двумя периодами"
   ]
  },
  {
   "cell_type": "code",
   "execution_count": 73,
   "metadata": {
    "collapsed": true
   },
   "outputs": [],
   "source": [
    "GDP_growth_Asia=imf_long[((imf_long.Year==2000)|(imf_long.Year==2016))\n",
    "                         &(imf_long.Continent=='Asia')].drop(columns=['Continent'])\n",
    "# Сравнение распределения показателей средних темпов роста ВВП Азии в 2000г. и 2016 г."
   ]
  },
  {
   "cell_type": "code",
   "execution_count": 74,
   "metadata": {},
   "outputs": [
    {
     "data": {
      "text/html": [
       "<div>\n",
       "<style scoped>\n",
       "    .dataframe tbody tr th:only-of-type {\n",
       "        vertical-align: middle;\n",
       "    }\n",
       "\n",
       "    .dataframe tbody tr th {\n",
       "        vertical-align: top;\n",
       "    }\n",
       "\n",
       "    .dataframe thead th {\n",
       "        text-align: right;\n",
       "    }\n",
       "</style>\n",
       "<table border=\"1\" class=\"dataframe\">\n",
       "  <thead>\n",
       "    <tr style=\"text-align: right;\">\n",
       "      <th></th>\n",
       "      <th>Country</th>\n",
       "      <th>Year</th>\n",
       "      <th>Growth</th>\n",
       "    </tr>\n",
       "  </thead>\n",
       "  <tbody>\n",
       "    <tr>\n",
       "      <th>3880</th>\n",
       "      <td>AFG</td>\n",
       "      <td>2000</td>\n",
       "      <td>NaN</td>\n",
       "    </tr>\n",
       "    <tr>\n",
       "      <th>3886</th>\n",
       "      <td>ARM</td>\n",
       "      <td>2000</td>\n",
       "      <td>5.853</td>\n",
       "    </tr>\n",
       "    <tr>\n",
       "      <th>3890</th>\n",
       "      <td>AZE</td>\n",
       "      <td>2000</td>\n",
       "      <td>6.227</td>\n",
       "    </tr>\n",
       "    <tr>\n",
       "      <th>3892</th>\n",
       "      <td>BHR</td>\n",
       "      <td>2000</td>\n",
       "      <td>7.018</td>\n",
       "    </tr>\n",
       "    <tr>\n",
       "      <th>3893</th>\n",
       "      <td>BGD</td>\n",
       "      <td>2000</td>\n",
       "      <td>5.600</td>\n",
       "    </tr>\n",
       "  </tbody>\n",
       "</table>\n",
       "</div>"
      ],
      "text/plain": [
       "     Country  Year  Growth\n",
       "3880  AFG     2000 NaN    \n",
       "3886  ARM     2000  5.853 \n",
       "3890  AZE     2000  6.227 \n",
       "3892  BHR     2000  7.018 \n",
       "3893  BGD     2000  5.600 "
      ]
     },
     "execution_count": 74,
     "metadata": {},
     "output_type": "execute_result"
    }
   ],
   "source": [
    "GDP_growth_Asia.head()"
   ]
  },
  {
   "cell_type": "code",
   "execution_count": 75,
   "metadata": {},
   "outputs": [
    {
     "data": {
      "text/plain": [
       "Country    0\n",
       "Year       0\n",
       "Growth     4\n",
       "dtype: int64"
      ]
     },
     "execution_count": 75,
     "metadata": {},
     "output_type": "execute_result"
    }
   ],
   "source": [
    "GDP_growth_Asia.isnull().sum()"
   ]
  },
  {
   "cell_type": "code",
   "execution_count": 76,
   "metadata": {
    "collapsed": true
   },
   "outputs": [],
   "source": [
    "GDP_growth_Asia.dropna(inplace=True)"
   ]
  },
  {
   "cell_type": "markdown",
   "metadata": {
    "collapsed": true
   },
   "source": [
    "### Проверим гипотезу равентсва средних значений,                                                                                     уровень значимости $\\alpha$=0.05\n",
    "$$H_0:\\mu_0=\\mu_1$$\n",
    "$$H_1:\\mu_0\\neq\\mu_1$$  "
   ]
  },
  {
   "cell_type": "code",
   "execution_count": 77,
   "metadata": {},
   "outputs": [
    {
     "data": {
      "text/html": [
       "<div>\n",
       "<style scoped>\n",
       "    .dataframe tbody tr th:only-of-type {\n",
       "        vertical-align: middle;\n",
       "    }\n",
       "\n",
       "    .dataframe tbody tr th {\n",
       "        vertical-align: top;\n",
       "    }\n",
       "\n",
       "    .dataframe thead th {\n",
       "        text-align: right;\n",
       "    }\n",
       "</style>\n",
       "<table border=\"1\" class=\"dataframe\">\n",
       "  <thead>\n",
       "    <tr style=\"text-align: right;\">\n",
       "      <th></th>\n",
       "      <th>2000</th>\n",
       "      <th>2016</th>\n",
       "    </tr>\n",
       "  </thead>\n",
       "  <tbody>\n",
       "    <tr>\n",
       "      <th>count</th>\n",
       "      <td>46.000000</td>\n",
       "      <td>48.000000</td>\n",
       "    </tr>\n",
       "    <tr>\n",
       "      <th>mean</th>\n",
       "      <td>6.262870</td>\n",
       "      <td>3.607208</td>\n",
       "    </tr>\n",
       "    <tr>\n",
       "      <th>std</th>\n",
       "      <td>3.559341</td>\n",
       "      <td>4.055219</td>\n",
       "    </tr>\n",
       "    <tr>\n",
       "      <th>min</th>\n",
       "      <td>-4.341000</td>\n",
       "      <td>-13.621000</td>\n",
       "    </tr>\n",
       "    <tr>\n",
       "      <th>25%</th>\n",
       "      <td>4.422250</td>\n",
       "      <td>1.945000</td>\n",
       "    </tr>\n",
       "    <tr>\n",
       "      <th>50%</th>\n",
       "      <td>6.204500</td>\n",
       "      <td>3.431000</td>\n",
       "    </tr>\n",
       "    <tr>\n",
       "      <th>75%</th>\n",
       "      <td>8.232000</td>\n",
       "      <td>6.202750</td>\n",
       "    </tr>\n",
       "    <tr>\n",
       "      <th>max</th>\n",
       "      <td>18.587000</td>\n",
       "      <td>13.062000</td>\n",
       "    </tr>\n",
       "  </tbody>\n",
       "</table>\n",
       "</div>"
      ],
      "text/plain": [
       "            2000       2016\n",
       "count  46.000000  48.000000\n",
       "mean   6.262870   3.607208 \n",
       "std    3.559341   4.055219 \n",
       "min   -4.341000  -13.621000\n",
       "25%    4.422250   1.945000 \n",
       "50%    6.204500   3.431000 \n",
       "75%    8.232000   6.202750 \n",
       "max    18.587000  13.062000"
      ]
     },
     "execution_count": 77,
     "metadata": {},
     "output_type": "execute_result"
    }
   ],
   "source": [
    "pd.concat([GDP_growth_Asia[GDP_growth_Asia.Year==2000]['Growth'].describe().rename('2000'),\n",
    "          GDP_growth_Asia[GDP_growth_Asia.Year==2016]['Growth'].describe().rename('2016')],axis=1)\n",
    "# Сравнение распределения показателей средних темпов роста ВВП Азии в 2000г. и 2016 г."
   ]
  },
  {
   "cell_type": "code",
   "execution_count": 78,
   "metadata": {},
   "outputs": [
    {
     "data": {
      "text/plain": [
       "Ttest_indResult(statistic=3.3781162341534885, pvalue=0.0010743884243988272)"
      ]
     },
     "execution_count": 78,
     "metadata": {},
     "output_type": "execute_result"
    }
   ],
   "source": [
    "stats.ttest_ind(GDP_growth_Asia[GDP_growth_Asia.Year==2000]['Growth'],GDP_growth_Asia[GDP_growth_Asia.Year==2016]['Growth'],\n",
    "                equal_var=False)\n",
    "# Welch's test - проверка равенства средних значений двух выборок "
   ]
  },
  {
   "cell_type": "markdown",
   "metadata": {},
   "source": [
    "### Вывод: Так как pvalue<$\\alpha$, гипотеза $H_0$ не принимается"
   ]
  },
  {
   "cell_type": "markdown",
   "metadata": {},
   "source": [
    "### Проверим гипотезу равентсва дисперсий,                                                                                                    уровень значимости $\\alpha$=0.05\n",
    "$$H_0:\\sigma_0=\\sigma_1$$\n",
    "$$H_1:\\sigma_0\\neq\\sigma_1$$  "
   ]
  },
  {
   "cell_type": "code",
   "execution_count": 79,
   "metadata": {},
   "outputs": [
    {
     "data": {
      "text/plain": [
       "LeveneResult(statistic=0.30819759842805672, pvalue=0.58013567018059464)"
      ]
     },
     "execution_count": 79,
     "metadata": {},
     "output_type": "execute_result"
    }
   ],
   "source": [
    "stats.levene(GDP_growth_Asia[GDP_growth_Asia.Year==2000]['Growth'],GDP_growth_Asia[GDP_growth_Asia.Year==2016]['Growth'],\n",
    "                center='median')\n",
    "# Levene's test - проверка равенства средних значений двух выборок "
   ]
  },
  {
   "cell_type": "markdown",
   "metadata": {},
   "source": [
    "### Вывод: Так как pvalue>$\\alpha$, гипотеза $H_0$ не отвергается"
   ]
  },
  {
   "cell_type": "markdown",
   "metadata": {
    "collapsed": true
   },
   "source": [
    "## Задание"
   ]
  },
  {
   "cell_type": "markdown",
   "metadata": {
    "collapsed": true
   },
   "source": [
    "### Для выполнения задания необходимо взять два экономических индикатора (анализ проводится отдельно по каждому индикатору)\n",
    "\n",
    "### 1. Осуществить загрузку данных и их преобразование в необходимый формат\n",
    "### 2. Получить описательную статистику\n",
    "### 3. Визуализировать эмпирическое распределение и проверить гипотезу соответствия распределения нормальному закону\n",
    "### 4. Построить интервальные оценки для математического ожидания и дисперсии\n",
    "### 5. Сравнить средние и дисперсии двух выборок (проверить соответствующие гипотезы), а также проверить гипотезу равенства нулю средних темпов роста ВВП\n",
    "### 6. Сделать выводы"
   ]
  }
 ],
 "metadata": {
  "kernelspec": {
   "display_name": "Python 2",
   "language": "python",
   "name": "python2"
  },
  "language_info": {
   "codemirror_mode": {
    "name": "ipython",
    "version": 2
   },
   "file_extension": ".py",
   "mimetype": "text/x-python",
   "name": "python",
   "nbconvert_exporter": "python",
   "pygments_lexer": "ipython2",
   "version": "2.7.15"
  }
 },
 "nbformat": 4,
 "nbformat_minor": 2
}
