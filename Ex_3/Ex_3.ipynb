{
 "cells": [
  {
   "cell_type": "markdown",
   "metadata": {},
   "source": [
    "# Задание 3. Анализ взимосвязей. Коэффициент корреляции и корреляционная матрица"
   ]
  },
  {
   "cell_type": "markdown",
   "metadata": {},
   "source": [
    "## Цель задания:\n",
    "### 1. Построить простую модель двумерного распределения\n",
    "### 2. Получить корреляционную и ковариационную матрицы\n",
    "### 3. Провести графический анализ корреляционной связи\n",
    "### 4. Проверить значимость парных коэффициентов корреляции\n",
    "### 5. Рассчитать и проверить значимость частных коэффициентов корреляции"
   ]
  },
  {
   "cell_type": "markdown",
   "metadata": {},
   "source": [
    "## 1.Загрузка библиотек"
   ]
  },
  {
   "cell_type": "code",
   "execution_count": 1,
   "metadata": {
    "collapsed": true
   },
   "outputs": [],
   "source": [
    "import pandas as pd\n",
    "import numpy as np\n",
    "from scipy import stats"
   ]
  },
  {
   "cell_type": "code",
   "execution_count": 2,
   "metadata": {
    "collapsed": true
   },
   "outputs": [],
   "source": [
    "%matplotlib inline"
   ]
  },
  {
   "cell_type": "code",
   "execution_count": 3,
   "metadata": {
    "collapsed": true
   },
   "outputs": [],
   "source": [
    "import matplotlib.pyplot as plt # графическая библиотека"
   ]
  },
  {
   "cell_type": "code",
   "execution_count": 4,
   "metadata": {
    "collapsed": true
   },
   "outputs": [],
   "source": [
    "from __future__ import division #  деление с дробной частью (модуль из Python 3)"
   ]
  },
  {
   "cell_type": "markdown",
   "metadata": {},
   "source": [
    "## 2.Загрузка необходимых файлов"
   ]
  },
  {
   "cell_type": "code",
   "execution_count": 5,
   "metadata": {
    "collapsed": true
   },
   "outputs": [],
   "source": [
    "pd.set_option('display.max_colwidth',-1)# опция позволяет читать текстовые поля в \"необрезанном виде\""
   ]
  },
  {
   "cell_type": "code",
   "execution_count": 6,
   "metadata": {
    "collapsed": true
   },
   "outputs": [],
   "source": [
    "imf=pd.read_csv('/home/maxime/Documentos/Econometrics/imf.csv')# загрузка данных IMF в dataframe"
   ]
  },
  {
   "cell_type": "code",
   "execution_count": 7,
   "metadata": {
    "collapsed": true
   },
   "outputs": [],
   "source": [
    "ind=pd.read_csv('/home/maxime/Documentos/Econometrics/indicators.csv')#загрузка базы индикаторов в dataframe"
   ]
  },
  {
   "cell_type": "code",
   "execution_count": 8,
   "metadata": {},
   "outputs": [
    {
     "data": {
      "text/html": [
       "<div>\n",
       "<style scoped>\n",
       "    .dataframe tbody tr th:only-of-type {\n",
       "        vertical-align: middle;\n",
       "    }\n",
       "\n",
       "    .dataframe tbody tr th {\n",
       "        vertical-align: top;\n",
       "    }\n",
       "\n",
       "    .dataframe thead th {\n",
       "        text-align: right;\n",
       "    }\n",
       "</style>\n",
       "<table border=\"1\" class=\"dataframe\">\n",
       "  <thead>\n",
       "    <tr style=\"text-align: right;\">\n",
       "      <th></th>\n",
       "      <th>Code</th>\n",
       "      <th>Indicator</th>\n",
       "      <th>Source</th>\n",
       "    </tr>\n",
       "  </thead>\n",
       "  <tbody>\n",
       "    <tr>\n",
       "      <th>34</th>\n",
       "      <td>NGDP_R</td>\n",
       "      <td>Gross domestic product, constant prices/National currency</td>\n",
       "      <td>imf</td>\n",
       "    </tr>\n",
       "    <tr>\n",
       "      <th>35</th>\n",
       "      <td>NGDP_RPCH</td>\n",
       "      <td>Gross domestic product, constant prices/Percent change</td>\n",
       "      <td>imf</td>\n",
       "    </tr>\n",
       "    <tr>\n",
       "      <th>36</th>\n",
       "      <td>NGDP</td>\n",
       "      <td>Gross domestic product, current prices/National currency</td>\n",
       "      <td>imf</td>\n",
       "    </tr>\n",
       "    <tr>\n",
       "      <th>37</th>\n",
       "      <td>NGDPD</td>\n",
       "      <td>Gross domestic product, current prices/U.S. dollars</td>\n",
       "      <td>imf</td>\n",
       "    </tr>\n",
       "    <tr>\n",
       "      <th>38</th>\n",
       "      <td>PPPGDP</td>\n",
       "      <td>Gross domestic product, current prices/Purchasing power parity; international dollars</td>\n",
       "      <td>imf</td>\n",
       "    </tr>\n",
       "    <tr>\n",
       "      <th>39</th>\n",
       "      <td>NGDP_D</td>\n",
       "      <td>Gross domestic product, deflator/Index</td>\n",
       "      <td>imf</td>\n",
       "    </tr>\n",
       "    <tr>\n",
       "      <th>40</th>\n",
       "      <td>NGDPRPC</td>\n",
       "      <td>Gross domestic product per capita, constant prices/National currency</td>\n",
       "      <td>imf</td>\n",
       "    </tr>\n",
       "    <tr>\n",
       "      <th>41</th>\n",
       "      <td>NGDPRPPPPC</td>\n",
       "      <td>Gross domestic product per capita, constant prices/Purchasing power parity; 2011 international dollar</td>\n",
       "      <td>imf</td>\n",
       "    </tr>\n",
       "    <tr>\n",
       "      <th>42</th>\n",
       "      <td>NGDPPC</td>\n",
       "      <td>Gross domestic product per capita, current prices/National currency</td>\n",
       "      <td>imf</td>\n",
       "    </tr>\n",
       "    <tr>\n",
       "      <th>43</th>\n",
       "      <td>NGDPDPC</td>\n",
       "      <td>Gross domestic product per capita, current prices/U.S. dollars</td>\n",
       "      <td>imf</td>\n",
       "    </tr>\n",
       "    <tr>\n",
       "      <th>44</th>\n",
       "      <td>PPPPC</td>\n",
       "      <td>Gross domestic product per capita, current prices/Purchasing power parity; international dollars</td>\n",
       "      <td>imf</td>\n",
       "    </tr>\n",
       "    <tr>\n",
       "      <th>45</th>\n",
       "      <td>NGAP_NPGDP</td>\n",
       "      <td>Output gap in percent of potential GDP/Percent of potential GDP</td>\n",
       "      <td>imf</td>\n",
       "    </tr>\n",
       "    <tr>\n",
       "      <th>46</th>\n",
       "      <td>PPPSH</td>\n",
       "      <td>Gross domestic product based on purchasing-power-parity (PPP) share of world total/Percent</td>\n",
       "      <td>imf</td>\n",
       "    </tr>\n",
       "    <tr>\n",
       "      <th>47</th>\n",
       "      <td>PPPEX</td>\n",
       "      <td>Implied PPP conversion rate/National currency per current international dollar</td>\n",
       "      <td>imf</td>\n",
       "    </tr>\n",
       "    <tr>\n",
       "      <th>48</th>\n",
       "      <td>NID_NGDP</td>\n",
       "      <td>Total investment/Percent of GDP</td>\n",
       "      <td>imf</td>\n",
       "    </tr>\n",
       "    <tr>\n",
       "      <th>49</th>\n",
       "      <td>NGSD_NGDP</td>\n",
       "      <td>Gross national savings/Percent of GDP</td>\n",
       "      <td>imf</td>\n",
       "    </tr>\n",
       "    <tr>\n",
       "      <th>50</th>\n",
       "      <td>PCPI</td>\n",
       "      <td>Inflation, average consumer prices/Index</td>\n",
       "      <td>imf</td>\n",
       "    </tr>\n",
       "    <tr>\n",
       "      <th>51</th>\n",
       "      <td>PCPIPCH</td>\n",
       "      <td>Inflation, average consumer prices/Percent change</td>\n",
       "      <td>imf</td>\n",
       "    </tr>\n",
       "    <tr>\n",
       "      <th>52</th>\n",
       "      <td>PCPIE</td>\n",
       "      <td>Inflation, end of period consumer prices/Index</td>\n",
       "      <td>imf</td>\n",
       "    </tr>\n",
       "    <tr>\n",
       "      <th>53</th>\n",
       "      <td>PCPIEPCH</td>\n",
       "      <td>Inflation, end of period consumer prices/Percent change</td>\n",
       "      <td>imf</td>\n",
       "    </tr>\n",
       "    <tr>\n",
       "      <th>54</th>\n",
       "      <td>FLIBOR6</td>\n",
       "      <td>Six-month London interbank offered rate (LIBOR)/Percent</td>\n",
       "      <td>imf</td>\n",
       "    </tr>\n",
       "    <tr>\n",
       "      <th>55</th>\n",
       "      <td>TM_RPCH</td>\n",
       "      <td>Volume of imports of goods and services/Percent change</td>\n",
       "      <td>imf</td>\n",
       "    </tr>\n",
       "    <tr>\n",
       "      <th>56</th>\n",
       "      <td>TMG_RPCH</td>\n",
       "      <td>Volume of Imports of goods/Percent change</td>\n",
       "      <td>imf</td>\n",
       "    </tr>\n",
       "    <tr>\n",
       "      <th>57</th>\n",
       "      <td>TX_RPCH</td>\n",
       "      <td>Volume of exports of goods and services/Percent change</td>\n",
       "      <td>imf</td>\n",
       "    </tr>\n",
       "    <tr>\n",
       "      <th>58</th>\n",
       "      <td>TXG_RPCH</td>\n",
       "      <td>Volume of exports of goods/Percent change</td>\n",
       "      <td>imf</td>\n",
       "    </tr>\n",
       "    <tr>\n",
       "      <th>59</th>\n",
       "      <td>LUR</td>\n",
       "      <td>Unemployment rate/Percent of total labor force</td>\n",
       "      <td>imf</td>\n",
       "    </tr>\n",
       "    <tr>\n",
       "      <th>60</th>\n",
       "      <td>LE</td>\n",
       "      <td>Employment/Persons</td>\n",
       "      <td>imf</td>\n",
       "    </tr>\n",
       "    <tr>\n",
       "      <th>61</th>\n",
       "      <td>LP</td>\n",
       "      <td>Population/Persons</td>\n",
       "      <td>imf</td>\n",
       "    </tr>\n",
       "    <tr>\n",
       "      <th>62</th>\n",
       "      <td>GGR</td>\n",
       "      <td>General government revenue/National currency</td>\n",
       "      <td>imf</td>\n",
       "    </tr>\n",
       "    <tr>\n",
       "      <th>63</th>\n",
       "      <td>GGR_NGDP</td>\n",
       "      <td>General government revenue/Percent of GDP</td>\n",
       "      <td>imf</td>\n",
       "    </tr>\n",
       "    <tr>\n",
       "      <th>64</th>\n",
       "      <td>GGX</td>\n",
       "      <td>General government total expenditure/National currency</td>\n",
       "      <td>imf</td>\n",
       "    </tr>\n",
       "    <tr>\n",
       "      <th>65</th>\n",
       "      <td>GGX_NGDP</td>\n",
       "      <td>General government total expenditure/Percent of GDP</td>\n",
       "      <td>imf</td>\n",
       "    </tr>\n",
       "    <tr>\n",
       "      <th>66</th>\n",
       "      <td>GGXCNL</td>\n",
       "      <td>General government net lending/borrowing/National currency</td>\n",
       "      <td>imf</td>\n",
       "    </tr>\n",
       "    <tr>\n",
       "      <th>67</th>\n",
       "      <td>GGXCNL_NGDP</td>\n",
       "      <td>General government net lending/borrowing/Percent of GDP</td>\n",
       "      <td>imf</td>\n",
       "    </tr>\n",
       "    <tr>\n",
       "      <th>68</th>\n",
       "      <td>GGSB</td>\n",
       "      <td>General government structural balance/National currency</td>\n",
       "      <td>imf</td>\n",
       "    </tr>\n",
       "    <tr>\n",
       "      <th>69</th>\n",
       "      <td>GGSB_NPGDP</td>\n",
       "      <td>General government structural balance/Percent of potential GDP</td>\n",
       "      <td>imf</td>\n",
       "    </tr>\n",
       "    <tr>\n",
       "      <th>70</th>\n",
       "      <td>GGXONLB</td>\n",
       "      <td>General government primary net lending/borrowing/National currency</td>\n",
       "      <td>imf</td>\n",
       "    </tr>\n",
       "    <tr>\n",
       "      <th>71</th>\n",
       "      <td>GGXONLB_NGDP</td>\n",
       "      <td>General government primary net lending/borrowing/Percent of GDP</td>\n",
       "      <td>imf</td>\n",
       "    </tr>\n",
       "    <tr>\n",
       "      <th>72</th>\n",
       "      <td>GGXWDN</td>\n",
       "      <td>General government net debt/National currency</td>\n",
       "      <td>imf</td>\n",
       "    </tr>\n",
       "    <tr>\n",
       "      <th>73</th>\n",
       "      <td>GGXWDN_NGDP</td>\n",
       "      <td>General government net debt/Percent of GDP</td>\n",
       "      <td>imf</td>\n",
       "    </tr>\n",
       "    <tr>\n",
       "      <th>74</th>\n",
       "      <td>GGXWDG</td>\n",
       "      <td>General government gross debt/National currency</td>\n",
       "      <td>imf</td>\n",
       "    </tr>\n",
       "    <tr>\n",
       "      <th>75</th>\n",
       "      <td>GGXWDG_NGDP</td>\n",
       "      <td>General government gross debt/Percent of GDP</td>\n",
       "      <td>imf</td>\n",
       "    </tr>\n",
       "    <tr>\n",
       "      <th>76</th>\n",
       "      <td>NGDP_FY</td>\n",
       "      <td>Gross domestic product corresponding to fiscal year, current prices/National currency</td>\n",
       "      <td>imf</td>\n",
       "    </tr>\n",
       "    <tr>\n",
       "      <th>77</th>\n",
       "      <td>BCA</td>\n",
       "      <td>Current account balance/U.S. dollars</td>\n",
       "      <td>imf</td>\n",
       "    </tr>\n",
       "    <tr>\n",
       "      <th>78</th>\n",
       "      <td>BCA_NGDPD</td>\n",
       "      <td>Current account balance/Percent of GDP</td>\n",
       "      <td>imf</td>\n",
       "    </tr>\n",
       "  </tbody>\n",
       "</table>\n",
       "</div>"
      ],
      "text/plain": [
       "            Code  \\\n",
       "34  NGDP_R         \n",
       "35  NGDP_RPCH      \n",
       "36  NGDP           \n",
       "37  NGDPD          \n",
       "38  PPPGDP         \n",
       "39  NGDP_D         \n",
       "40  NGDPRPC        \n",
       "41  NGDPRPPPPC     \n",
       "42  NGDPPC         \n",
       "43  NGDPDPC        \n",
       "44  PPPPC          \n",
       "45  NGAP_NPGDP     \n",
       "46  PPPSH          \n",
       "47  PPPEX          \n",
       "48  NID_NGDP       \n",
       "49  NGSD_NGDP      \n",
       "50  PCPI           \n",
       "51  PCPIPCH        \n",
       "52  PCPIE          \n",
       "53  PCPIEPCH       \n",
       "54  FLIBOR6        \n",
       "55  TM_RPCH        \n",
       "56  TMG_RPCH       \n",
       "57  TX_RPCH        \n",
       "58  TXG_RPCH       \n",
       "59  LUR            \n",
       "60  LE             \n",
       "61  LP             \n",
       "62  GGR            \n",
       "63  GGR_NGDP       \n",
       "64  GGX            \n",
       "65  GGX_NGDP       \n",
       "66  GGXCNL         \n",
       "67  GGXCNL_NGDP    \n",
       "68  GGSB           \n",
       "69  GGSB_NPGDP     \n",
       "70  GGXONLB        \n",
       "71  GGXONLB_NGDP   \n",
       "72  GGXWDN         \n",
       "73  GGXWDN_NGDP    \n",
       "74  GGXWDG         \n",
       "75  GGXWDG_NGDP    \n",
       "76  NGDP_FY        \n",
       "77  BCA            \n",
       "78  BCA_NGDPD      \n",
       "\n",
       "                                                                                                Indicator  \\\n",
       "34  Gross domestic product, constant prices/National currency                                               \n",
       "35  Gross domestic product, constant prices/Percent change                                                  \n",
       "36  Gross domestic product, current prices/National currency                                                \n",
       "37  Gross domestic product, current prices/U.S. dollars                                                     \n",
       "38  Gross domestic product, current prices/Purchasing power parity; international dollars                   \n",
       "39  Gross domestic product, deflator/Index                                                                  \n",
       "40  Gross domestic product per capita, constant prices/National currency                                    \n",
       "41  Gross domestic product per capita, constant prices/Purchasing power parity; 2011 international dollar   \n",
       "42  Gross domestic product per capita, current prices/National currency                                     \n",
       "43  Gross domestic product per capita, current prices/U.S. dollars                                          \n",
       "44  Gross domestic product per capita, current prices/Purchasing power parity; international dollars        \n",
       "45  Output gap in percent of potential GDP/Percent of potential GDP                                         \n",
       "46  Gross domestic product based on purchasing-power-parity (PPP) share of world total/Percent              \n",
       "47  Implied PPP conversion rate/National currency per current international dollar                          \n",
       "48  Total investment/Percent of GDP                                                                         \n",
       "49  Gross national savings/Percent of GDP                                                                   \n",
       "50  Inflation, average consumer prices/Index                                                                \n",
       "51  Inflation, average consumer prices/Percent change                                                       \n",
       "52  Inflation, end of period consumer prices/Index                                                          \n",
       "53  Inflation, end of period consumer prices/Percent change                                                 \n",
       "54  Six-month London interbank offered rate (LIBOR)/Percent                                                 \n",
       "55  Volume of imports of goods and services/Percent change                                                  \n",
       "56  Volume of Imports of goods/Percent change                                                               \n",
       "57  Volume of exports of goods and services/Percent change                                                  \n",
       "58  Volume of exports of goods/Percent change                                                               \n",
       "59  Unemployment rate/Percent of total labor force                                                          \n",
       "60  Employment/Persons                                                                                      \n",
       "61  Population/Persons                                                                                      \n",
       "62  General government revenue/National currency                                                            \n",
       "63  General government revenue/Percent of GDP                                                               \n",
       "64  General government total expenditure/National currency                                                  \n",
       "65  General government total expenditure/Percent of GDP                                                     \n",
       "66  General government net lending/borrowing/National currency                                              \n",
       "67  General government net lending/borrowing/Percent of GDP                                                 \n",
       "68  General government structural balance/National currency                                                 \n",
       "69  General government structural balance/Percent of potential GDP                                          \n",
       "70  General government primary net lending/borrowing/National currency                                      \n",
       "71  General government primary net lending/borrowing/Percent of GDP                                         \n",
       "72  General government net debt/National currency                                                           \n",
       "73  General government net debt/Percent of GDP                                                              \n",
       "74  General government gross debt/National currency                                                         \n",
       "75  General government gross debt/Percent of GDP                                                            \n",
       "76  Gross domestic product corresponding to fiscal year, current prices/National currency                   \n",
       "77  Current account balance/U.S. dollars                                                                    \n",
       "78  Current account balance/Percent of GDP                                                                  \n",
       "\n",
       "   Source  \n",
       "34  imf    \n",
       "35  imf    \n",
       "36  imf    \n",
       "37  imf    \n",
       "38  imf    \n",
       "39  imf    \n",
       "40  imf    \n",
       "41  imf    \n",
       "42  imf    \n",
       "43  imf    \n",
       "44  imf    \n",
       "45  imf    \n",
       "46  imf    \n",
       "47  imf    \n",
       "48  imf    \n",
       "49  imf    \n",
       "50  imf    \n",
       "51  imf    \n",
       "52  imf    \n",
       "53  imf    \n",
       "54  imf    \n",
       "55  imf    \n",
       "56  imf    \n",
       "57  imf    \n",
       "58  imf    \n",
       "59  imf    \n",
       "60  imf    \n",
       "61  imf    \n",
       "62  imf    \n",
       "63  imf    \n",
       "64  imf    \n",
       "65  imf    \n",
       "66  imf    \n",
       "67  imf    \n",
       "68  imf    \n",
       "69  imf    \n",
       "70  imf    \n",
       "71  imf    \n",
       "72  imf    \n",
       "73  imf    \n",
       "74  imf    \n",
       "75  imf    \n",
       "76  imf    \n",
       "77  imf    \n",
       "78  imf    "
      ]
     },
     "execution_count": 8,
     "metadata": {},
     "output_type": "execute_result"
    }
   ],
   "source": [
    "ind[ind.Source=='imf']# фильтр индикаторов по источнику - IMF"
   ]
  },
  {
   "cell_type": "markdown",
   "metadata": {},
   "source": [
    "## 3. Выбор показателей для дальнейшего анализа и преобразование dataframe в необходимый формат"
   ]
  },
  {
   "cell_type": "code",
   "execution_count": 9,
   "metadata": {
    "collapsed": true
   },
   "outputs": [],
   "source": [
    "list_ind=list(ind.iloc[[35,44,51],0])\n",
    "# выберем следующие показатели: темп прироста ВВП, индекс инфляции и паритет покупательной способности (ППС)"
   ]
  },
  {
   "cell_type": "code",
   "execution_count": 10,
   "metadata": {
    "collapsed": true
   },
   "outputs": [],
   "source": [
    "imf_reduced=imf[imf['WEO Subject Code'].isin(list_ind)].drop(imf.columns[[0,3,4,5,6,7,8,53,55]],axis=1)\n",
    "# далее осуществляем преобразование из широкого формата в длинный"
   ]
  },
  {
   "cell_type": "code",
   "execution_count": 11,
   "metadata": {},
   "outputs": [
    {
     "data": {
      "text/html": [
       "<div>\n",
       "<style scoped>\n",
       "    .dataframe tbody tr th:only-of-type {\n",
       "        vertical-align: middle;\n",
       "    }\n",
       "\n",
       "    .dataframe tbody tr th {\n",
       "        vertical-align: top;\n",
       "    }\n",
       "\n",
       "    .dataframe thead th {\n",
       "        text-align: right;\n",
       "    }\n",
       "</style>\n",
       "<table border=\"1\" class=\"dataframe\">\n",
       "  <thead>\n",
       "    <tr style=\"text-align: right;\">\n",
       "      <th></th>\n",
       "      <th>ISO</th>\n",
       "      <th>WEO Subject Code</th>\n",
       "      <th>1980</th>\n",
       "      <th>1981</th>\n",
       "      <th>1982</th>\n",
       "      <th>1983</th>\n",
       "      <th>1984</th>\n",
       "      <th>1985</th>\n",
       "      <th>1986</th>\n",
       "      <th>1987</th>\n",
       "      <th>...</th>\n",
       "      <th>2015</th>\n",
       "      <th>2016</th>\n",
       "      <th>2017</th>\n",
       "      <th>2018</th>\n",
       "      <th>2019</th>\n",
       "      <th>2020</th>\n",
       "      <th>2021</th>\n",
       "      <th>2022</th>\n",
       "      <th>2023</th>\n",
       "      <th>continent</th>\n",
       "    </tr>\n",
       "  </thead>\n",
       "  <tbody>\n",
       "    <tr>\n",
       "      <th>1</th>\n",
       "      <td>AFG</td>\n",
       "      <td>NGDP_RPCH</td>\n",
       "      <td>NaN</td>\n",
       "      <td>NaN</td>\n",
       "      <td>NaN</td>\n",
       "      <td>NaN</td>\n",
       "      <td>NaN</td>\n",
       "      <td>NaN</td>\n",
       "      <td>NaN</td>\n",
       "      <td>NaN</td>\n",
       "      <td>...</td>\n",
       "      <td>0.988</td>\n",
       "      <td>2.164</td>\n",
       "      <td>2.665</td>\n",
       "      <td>2.300</td>\n",
       "      <td>3.024</td>\n",
       "      <td>3.521</td>\n",
       "      <td>4.018</td>\n",
       "      <td>4.515</td>\n",
       "      <td>5.012</td>\n",
       "      <td>Asia</td>\n",
       "    </tr>\n",
       "    <tr>\n",
       "      <th>10</th>\n",
       "      <td>AFG</td>\n",
       "      <td>PPPPC</td>\n",
       "      <td>NaN</td>\n",
       "      <td>NaN</td>\n",
       "      <td>NaN</td>\n",
       "      <td>NaN</td>\n",
       "      <td>NaN</td>\n",
       "      <td>NaN</td>\n",
       "      <td>NaN</td>\n",
       "      <td>NaN</td>\n",
       "      <td>...</td>\n",
       "      <td>1,905.222</td>\n",
       "      <td>1,915.519</td>\n",
       "      <td>1,954.661</td>\n",
       "      <td>2,018.228</td>\n",
       "      <td>2,095.057</td>\n",
       "      <td>2,180.915</td>\n",
       "      <td>2,279.104</td>\n",
       "      <td>2,393.526</td>\n",
       "      <td>2,527.847</td>\n",
       "      <td>Asia</td>\n",
       "    </tr>\n",
       "    <tr>\n",
       "      <th>17</th>\n",
       "      <td>AFG</td>\n",
       "      <td>PCPIPCH</td>\n",
       "      <td>NaN</td>\n",
       "      <td>NaN</td>\n",
       "      <td>NaN</td>\n",
       "      <td>NaN</td>\n",
       "      <td>NaN</td>\n",
       "      <td>NaN</td>\n",
       "      <td>NaN</td>\n",
       "      <td>NaN</td>\n",
       "      <td>...</td>\n",
       "      <td>-0.662</td>\n",
       "      <td>4.384</td>\n",
       "      <td>4.976</td>\n",
       "      <td>3.000</td>\n",
       "      <td>4.000</td>\n",
       "      <td>5.038</td>\n",
       "      <td>5.000</td>\n",
       "      <td>5.000</td>\n",
       "      <td>5.000</td>\n",
       "      <td>Asia</td>\n",
       "    </tr>\n",
       "    <tr>\n",
       "      <th>46</th>\n",
       "      <td>ALB</td>\n",
       "      <td>NGDP_RPCH</td>\n",
       "      <td>2.684</td>\n",
       "      <td>5.700</td>\n",
       "      <td>2.900</td>\n",
       "      <td>1.100</td>\n",
       "      <td>2.000</td>\n",
       "      <td>-1.500</td>\n",
       "      <td>5.600</td>\n",
       "      <td>-0.800</td>\n",
       "      <td>...</td>\n",
       "      <td>2.219</td>\n",
       "      <td>3.352</td>\n",
       "      <td>3.841</td>\n",
       "      <td>3.998</td>\n",
       "      <td>3.719</td>\n",
       "      <td>3.880</td>\n",
       "      <td>3.932</td>\n",
       "      <td>3.959</td>\n",
       "      <td>3.959</td>\n",
       "      <td>Europe</td>\n",
       "    </tr>\n",
       "    <tr>\n",
       "      <th>55</th>\n",
       "      <td>ALB</td>\n",
       "      <td>PPPPC</td>\n",
       "      <td>2,014.126</td>\n",
       "      <td>2,284.832</td>\n",
       "      <td>2,444.573</td>\n",
       "      <td>2,516.946</td>\n",
       "      <td>2,606.114</td>\n",
       "      <td>2,593.859</td>\n",
       "      <td>2,739.785</td>\n",
       "      <td>2,730.855</td>\n",
       "      <td>...</td>\n",
       "      <td>11,305.287</td>\n",
       "      <td>11,830.877</td>\n",
       "      <td>12,518.937</td>\n",
       "      <td>13,330.165</td>\n",
       "      <td>14,142.990</td>\n",
       "      <td>14,995.743</td>\n",
       "      <td>15,900.826</td>\n",
       "      <td>16,864.698</td>\n",
       "      <td>17,899.465</td>\n",
       "      <td>Europe</td>\n",
       "    </tr>\n",
       "  </tbody>\n",
       "</table>\n",
       "<p>5 rows × 47 columns</p>\n",
       "</div>"
      ],
      "text/plain": [
       "    ISO WEO Subject Code       1980       1981       1982       1983  \\\n",
       "1   AFG  NGDP_RPCH        NaN        NaN        NaN        NaN         \n",
       "10  AFG  PPPPC            NaN        NaN        NaN        NaN         \n",
       "17  AFG  PCPIPCH          NaN        NaN        NaN        NaN         \n",
       "46  ALB  NGDP_RPCH        2.684      5.700      2.900      1.100       \n",
       "55  ALB  PPPPC            2,014.126  2,284.832  2,444.573  2,516.946   \n",
       "\n",
       "         1984       1985       1986       1987    ...           2015  \\\n",
       "1   NaN        NaN        NaN        NaN          ...     0.988        \n",
       "10  NaN        NaN        NaN        NaN          ...     1,905.222    \n",
       "17  NaN        NaN        NaN        NaN          ...     -0.662       \n",
       "46  2.000      -1.500     5.600      -0.800       ...     2.219        \n",
       "55  2,606.114  2,593.859  2,739.785  2,730.855    ...     11,305.287   \n",
       "\n",
       "          2016        2017        2018        2019        2020        2021  \\\n",
       "1   2.164       2.665       2.300       3.024       3.521       4.018        \n",
       "10  1,915.519   1,954.661   2,018.228   2,095.057   2,180.915   2,279.104    \n",
       "17  4.384       4.976       3.000       4.000       5.038       5.000        \n",
       "46  3.352       3.841       3.998       3.719       3.880       3.932        \n",
       "55  11,830.877  12,518.937  13,330.165  14,142.990  14,995.743  15,900.826   \n",
       "\n",
       "          2022        2023 continent  \n",
       "1   4.515       5.012       Asia      \n",
       "10  2,393.526   2,527.847   Asia      \n",
       "17  5.000       5.000       Asia      \n",
       "46  3.959       3.959       Europe    \n",
       "55  16,864.698  17,899.465  Europe    \n",
       "\n",
       "[5 rows x 47 columns]"
      ]
     },
     "execution_count": 11,
     "metadata": {},
     "output_type": "execute_result"
    }
   ],
   "source": [
    "imf_reduced.head()"
   ]
  },
  {
   "cell_type": "code",
   "execution_count": 12,
   "metadata": {
    "collapsed": true
   },
   "outputs": [],
   "source": [
    "col_=[str(i) for i in range(1980,2018)]\n",
    "imf_long=pd.melt(imf_reduced,id_vars=['ISO','WEO Subject Code'],value_vars=col_)"
   ]
  },
  {
   "cell_type": "code",
   "execution_count": 13,
   "metadata": {
    "collapsed": true
   },
   "outputs": [],
   "source": [
    "imf_long.columns=['Country','Indicator','Year','Value']"
   ]
  },
  {
   "cell_type": "code",
   "execution_count": 14,
   "metadata": {},
   "outputs": [
    {
     "data": {
      "text/html": [
       "<div>\n",
       "<style scoped>\n",
       "    .dataframe tbody tr th:only-of-type {\n",
       "        vertical-align: middle;\n",
       "    }\n",
       "\n",
       "    .dataframe tbody tr th {\n",
       "        vertical-align: top;\n",
       "    }\n",
       "\n",
       "    .dataframe thead th {\n",
       "        text-align: right;\n",
       "    }\n",
       "</style>\n",
       "<table border=\"1\" class=\"dataframe\">\n",
       "  <thead>\n",
       "    <tr style=\"text-align: right;\">\n",
       "      <th></th>\n",
       "      <th>Country</th>\n",
       "      <th>Indicator</th>\n",
       "      <th>Year</th>\n",
       "      <th>Value</th>\n",
       "    </tr>\n",
       "  </thead>\n",
       "  <tbody>\n",
       "    <tr>\n",
       "      <th>0</th>\n",
       "      <td>AFG</td>\n",
       "      <td>NGDP_RPCH</td>\n",
       "      <td>1980</td>\n",
       "      <td>NaN</td>\n",
       "    </tr>\n",
       "    <tr>\n",
       "      <th>1</th>\n",
       "      <td>AFG</td>\n",
       "      <td>PPPPC</td>\n",
       "      <td>1980</td>\n",
       "      <td>NaN</td>\n",
       "    </tr>\n",
       "    <tr>\n",
       "      <th>2</th>\n",
       "      <td>AFG</td>\n",
       "      <td>PCPIPCH</td>\n",
       "      <td>1980</td>\n",
       "      <td>NaN</td>\n",
       "    </tr>\n",
       "    <tr>\n",
       "      <th>3</th>\n",
       "      <td>ALB</td>\n",
       "      <td>NGDP_RPCH</td>\n",
       "      <td>1980</td>\n",
       "      <td>2.684</td>\n",
       "    </tr>\n",
       "    <tr>\n",
       "      <th>4</th>\n",
       "      <td>ALB</td>\n",
       "      <td>PPPPC</td>\n",
       "      <td>1980</td>\n",
       "      <td>2,014.126</td>\n",
       "    </tr>\n",
       "  </tbody>\n",
       "</table>\n",
       "</div>"
      ],
      "text/plain": [
       "  Country  Indicator  Year      Value\n",
       "0  AFG     NGDP_RPCH  1980  NaN      \n",
       "1  AFG     PPPPC      1980  NaN      \n",
       "2  AFG     PCPIPCH    1980  NaN      \n",
       "3  ALB     NGDP_RPCH  1980  2.684    \n",
       "4  ALB     PPPPC      1980  2,014.126"
      ]
     },
     "execution_count": 14,
     "metadata": {},
     "output_type": "execute_result"
    }
   ],
   "source": [
    "imf_long.head()"
   ]
  },
  {
   "cell_type": "code",
   "execution_count": 15,
   "metadata": {
    "collapsed": true
   },
   "outputs": [],
   "source": [
    "imf_long['Value']=imf_long['Value'].apply(lambda x:str(x).replace(',',''))\n",
    "imf_long['Value']=pd.to_numeric(imf_long['Value'],errors='coerce')\n",
    "imf_long['Year']=pd.to_numeric(imf_long['Year'],errors='coerce')\n",
    "# преобразование полей с номером года и значением показателя в числовой тип"
   ]
  },
  {
   "cell_type": "code",
   "execution_count": 16,
   "metadata": {
    "collapsed": true
   },
   "outputs": [],
   "source": [
    "df=imf_long[imf_long.Year==2016].drop(columns='Year')\n",
    "# создадим вспомогательный dataframe для дальнейшего преобразования в широкий формат"
   ]
  },
  {
   "cell_type": "code",
   "execution_count": 17,
   "metadata": {},
   "outputs": [
    {
     "data": {
      "text/html": [
       "<div>\n",
       "<style scoped>\n",
       "    .dataframe tbody tr th:only-of-type {\n",
       "        vertical-align: middle;\n",
       "    }\n",
       "\n",
       "    .dataframe tbody tr th {\n",
       "        vertical-align: top;\n",
       "    }\n",
       "\n",
       "    .dataframe thead th {\n",
       "        text-align: right;\n",
       "    }\n",
       "</style>\n",
       "<table border=\"1\" class=\"dataframe\">\n",
       "  <thead>\n",
       "    <tr style=\"text-align: right;\">\n",
       "      <th></th>\n",
       "      <th>Country</th>\n",
       "      <th>Indicator</th>\n",
       "      <th>Value</th>\n",
       "    </tr>\n",
       "  </thead>\n",
       "  <tbody>\n",
       "    <tr>\n",
       "      <th>21529</th>\n",
       "      <td>ZMB</td>\n",
       "      <td>PPPPC</td>\n",
       "      <td>3913.352</td>\n",
       "    </tr>\n",
       "    <tr>\n",
       "      <th>21530</th>\n",
       "      <td>ZMB</td>\n",
       "      <td>PCPIPCH</td>\n",
       "      <td>17.869</td>\n",
       "    </tr>\n",
       "    <tr>\n",
       "      <th>21531</th>\n",
       "      <td>ZWE</td>\n",
       "      <td>NGDP_RPCH</td>\n",
       "      <td>0.665</td>\n",
       "    </tr>\n",
       "    <tr>\n",
       "      <th>21532</th>\n",
       "      <td>ZWE</td>\n",
       "      <td>PPPPC</td>\n",
       "      <td>2235.783</td>\n",
       "    </tr>\n",
       "    <tr>\n",
       "      <th>21533</th>\n",
       "      <td>ZWE</td>\n",
       "      <td>PCPIPCH</td>\n",
       "      <td>-1.566</td>\n",
       "    </tr>\n",
       "  </tbody>\n",
       "</table>\n",
       "</div>"
      ],
      "text/plain": [
       "      Country  Indicator     Value\n",
       "21529  ZMB     PPPPC      3913.352\n",
       "21530  ZMB     PCPIPCH    17.869  \n",
       "21531  ZWE     NGDP_RPCH  0.665   \n",
       "21532  ZWE     PPPPC      2235.783\n",
       "21533  ZWE     PCPIPCH   -1.566   "
      ]
     },
     "execution_count": 17,
     "metadata": {},
     "output_type": "execute_result"
    }
   ],
   "source": [
    "df.tail()"
   ]
  },
  {
   "cell_type": "code",
   "execution_count": 18,
   "metadata": {
    "collapsed": true
   },
   "outputs": [],
   "source": [
    "imf_wide=df.pivot_table(index=['Country'],columns=['Indicator'],values=['Value'])\n",
    "# преобразование в широкий формат по аналогии с первым заданием"
   ]
  },
  {
   "cell_type": "code",
   "execution_count": 19,
   "metadata": {
    "collapsed": true
   },
   "outputs": [],
   "source": [
    "col_names=['Country']+list(imf_wide.columns.get_level_values(1))"
   ]
  },
  {
   "cell_type": "code",
   "execution_count": 20,
   "metadata": {
    "collapsed": true
   },
   "outputs": [],
   "source": [
    "imf_wide.columns=imf_wide.columns.get_level_values(0) "
   ]
  },
  {
   "cell_type": "code",
   "execution_count": 21,
   "metadata": {
    "collapsed": true
   },
   "outputs": [],
   "source": [
    "imf_wide=imf_wide.reset_index()"
   ]
  },
  {
   "cell_type": "code",
   "execution_count": 22,
   "metadata": {},
   "outputs": [
    {
     "data": {
      "text/plain": [
       "['Country', 'NGDP_RPCH', 'PCPIPCH', 'PPPPC']"
      ]
     },
     "execution_count": 22,
     "metadata": {},
     "output_type": "execute_result"
    }
   ],
   "source": [
    "col_names"
   ]
  },
  {
   "cell_type": "code",
   "execution_count": 23,
   "metadata": {
    "collapsed": true
   },
   "outputs": [],
   "source": [
    "imf_wide.columns=col_names"
   ]
  },
  {
   "cell_type": "code",
   "execution_count": 24,
   "metadata": {},
   "outputs": [
    {
     "data": {
      "text/html": [
       "<div>\n",
       "<style scoped>\n",
       "    .dataframe tbody tr th:only-of-type {\n",
       "        vertical-align: middle;\n",
       "    }\n",
       "\n",
       "    .dataframe tbody tr th {\n",
       "        vertical-align: top;\n",
       "    }\n",
       "\n",
       "    .dataframe thead th {\n",
       "        text-align: right;\n",
       "    }\n",
       "</style>\n",
       "<table border=\"1\" class=\"dataframe\">\n",
       "  <thead>\n",
       "    <tr style=\"text-align: right;\">\n",
       "      <th></th>\n",
       "      <th>Country</th>\n",
       "      <th>NGDP_RPCH</th>\n",
       "      <th>PCPIPCH</th>\n",
       "      <th>PPPPC</th>\n",
       "    </tr>\n",
       "  </thead>\n",
       "  <tbody>\n",
       "    <tr>\n",
       "      <th>0</th>\n",
       "      <td>ABW</td>\n",
       "      <td>-0.124</td>\n",
       "      <td>-0.888</td>\n",
       "      <td>36507.036</td>\n",
       "    </tr>\n",
       "    <tr>\n",
       "      <th>1</th>\n",
       "      <td>AFG</td>\n",
       "      <td>2.164</td>\n",
       "      <td>4.384</td>\n",
       "      <td>1915.519</td>\n",
       "    </tr>\n",
       "    <tr>\n",
       "      <th>2</th>\n",
       "      <td>AGO</td>\n",
       "      <td>-2.580</td>\n",
       "      <td>30.694</td>\n",
       "      <td>7085.996</td>\n",
       "    </tr>\n",
       "    <tr>\n",
       "      <th>3</th>\n",
       "      <td>ALB</td>\n",
       "      <td>3.352</td>\n",
       "      <td>1.275</td>\n",
       "      <td>11830.877</td>\n",
       "    </tr>\n",
       "    <tr>\n",
       "      <th>4</th>\n",
       "      <td>ARE</td>\n",
       "      <td>2.988</td>\n",
       "      <td>1.617</td>\n",
       "      <td>68750.352</td>\n",
       "    </tr>\n",
       "  </tbody>\n",
       "</table>\n",
       "</div>"
      ],
      "text/plain": [
       "  Country  NGDP_RPCH  PCPIPCH      PPPPC\n",
       "0  ABW    -0.124     -0.888    36507.036\n",
       "1  AFG     2.164      4.384    1915.519 \n",
       "2  AGO    -2.580      30.694   7085.996 \n",
       "3  ALB     3.352      1.275    11830.877\n",
       "4  ARE     2.988      1.617    68750.352"
      ]
     },
     "execution_count": 24,
     "metadata": {},
     "output_type": "execute_result"
    }
   ],
   "source": [
    "imf_wide.head()"
   ]
  },
  {
   "cell_type": "markdown",
   "metadata": {},
   "source": [
    "## 4.Построение модели дискретного совместного и условного распределений"
   ]
  },
  {
   "cell_type": "code",
   "execution_count": 25,
   "metadata": {},
   "outputs": [
    {
     "data": {
      "text/plain": [
       "(125307.644, 652.48099999999999)"
      ]
     },
     "execution_count": 25,
     "metadata": {},
     "output_type": "execute_result"
    }
   ],
   "source": [
    "np.max(imf_wide.PPPPC),np.min(imf_wide.PPPPC)\n",
    "# справочно найдем максимальное и минимально значения показателя ППС"
   ]
  },
  {
   "cell_type": "code",
   "execution_count": 26,
   "metadata": {},
   "outputs": [
    {
     "data": {
      "text/plain": [
       "143"
      ]
     },
     "execution_count": 26,
     "metadata": {},
     "output_type": "execute_result"
    }
   ],
   "source": [
    "imf_wide['PPPPC'].idxmax()\n",
    "# найдем индекс (номер) элемента с максимальным  значением показателя ППС"
   ]
  },
  {
   "cell_type": "code",
   "execution_count": 27,
   "metadata": {},
   "outputs": [
    {
     "data": {
      "text/plain": [
       "Country      QAT   \n",
       "NGDP_RPCH    2.131 \n",
       "PCPIPCH      2.677 \n",
       "PPPPC        125308\n",
       "Name: 143, dtype: object"
      ]
     },
     "execution_count": 27,
     "metadata": {},
     "output_type": "execute_result"
    }
   ],
   "source": [
    "imf_wide.loc[143]"
   ]
  },
  {
   "cell_type": "code",
   "execution_count": 28,
   "metadata": {
    "collapsed": true
   },
   "outputs": [],
   "source": [
    "imf_wide.dropna(inplace=True)# удалим значения nan"
   ]
  },
  {
   "cell_type": "code",
   "execution_count": 29,
   "metadata": {},
   "outputs": [
    {
     "data": {
      "text/plain": [
       "Country      0\n",
       "NGDP_RPCH    0\n",
       "PCPIPCH      0\n",
       "PPPPC        0\n",
       "dtype: int64"
      ]
     },
     "execution_count": 29,
     "metadata": {},
     "output_type": "execute_result"
    }
   ],
   "source": [
    "imf_wide.isna().sum()"
   ]
  },
  {
   "cell_type": "markdown",
   "metadata": {},
   "source": [
    "### Преобразуем количественные непрерывные переменные в порядковые переменные (данные перменные можно также отнести к типу интервальных)"
   ]
  },
  {
   "cell_type": "markdown",
   "metadata": {},
   "source": [
    "### Процентный прирост ВВП"
   ]
  },
  {
   "cell_type": "code",
   "execution_count": 30,
   "metadata": {
    "collapsed": true
   },
   "outputs": [],
   "source": [
    "bins_1=np.append(np.append(min(imf_wide['NGDP_RPCH'])-1,\n",
    "                    np.percentile(imf_wide['NGDP_RPCH'],np.linspace(25,75,3))),max(imf_wide['NGDP_RPCH'])+1)\n",
    "# создадим массив, содержащий границы интервалов\n",
    "# в качестве границ интервалов возьмем минимальное, максимальное наблюдение и процентные точки (функция percentile)"
   ]
  },
  {
   "cell_type": "code",
   "execution_count": 31,
   "metadata": {},
   "outputs": [
    {
     "data": {
      "text/plain": [
       "array([-17.456 ,   1.4325,   2.935 ,   4.408 ,  14.062 ])"
      ]
     },
     "execution_count": 31,
     "metadata": {},
     "output_type": "execute_result"
    }
   ],
   "source": [
    "bins_1"
   ]
  },
  {
   "cell_type": "code",
   "execution_count": 32,
   "metadata": {
    "collapsed": true
   },
   "outputs": [],
   "source": [
    "growth_cut=pd.cut(imf_wide['NGDP_RPCH'],bins=bins_1,labels=['low','middle','upper','high'],retbins=True)\n",
    "# создадим новую порядковую переменную для прироста ВВП, таким образом, что каждая страна \n",
    "# попадет в одну из групп по уровню прироста ВВП \"низкий\",\"средний\",\"выше среднего\", \"высокий\"                "
   ]
  },
  {
   "cell_type": "code",
   "execution_count": 33,
   "metadata": {},
   "outputs": [
    {
     "data": {
      "text/plain": [
       "0"
      ]
     },
     "execution_count": 33,
     "metadata": {},
     "output_type": "execute_result"
    }
   ],
   "source": [
    "growth_cut[0].isna().sum()"
   ]
  },
  {
   "cell_type": "code",
   "execution_count": 34,
   "metadata": {},
   "outputs": [
    {
     "data": {
      "text/plain": [
       "array([-17.456 ,   1.4325,   2.935 ,   4.408 ,  14.062 ])"
      ]
     },
     "execution_count": 34,
     "metadata": {},
     "output_type": "execute_result"
    }
   ],
   "source": [
    "growth_cut[1]# интервалы"
   ]
  },
  {
   "cell_type": "code",
   "execution_count": 35,
   "metadata": {},
   "outputs": [
    {
     "data": {
      "text/plain": [
       "0    low   \n",
       "1    middle\n",
       "2    low   \n",
       "3    upper \n",
       "4    upper \n",
       "Name: NGDP_RPCH, dtype: category\n",
       "Categories (4, object): [low < middle < upper < high]"
      ]
     },
     "execution_count": 35,
     "metadata": {},
     "output_type": "execute_result"
    }
   ],
   "source": [
    "growth_cut[0].head()#  новая порядковая переменная для прироста ВВП"
   ]
  },
  {
   "cell_type": "markdown",
   "metadata": {},
   "source": [
    "### Паритет покупательной способности"
   ]
  },
  {
   "cell_type": "code",
   "execution_count": 36,
   "metadata": {
    "collapsed": true
   },
   "outputs": [],
   "source": [
    "bins_2=np.append(np.append(min(imf_wide['PPPPC'])-1,\n",
    "                    np.percentile(imf_wide['PPPPC'],np.linspace(25,75,3))),max(imf_wide['PPPPC'])+1)\n",
    "# создадим массив, содержащий границы интервалов\n",
    "# в качестве границ интервалов возьмем минимальное, максимальное наблюдение и процентные точки (функция percentile)"
   ]
  },
  {
   "cell_type": "code",
   "execution_count": 37,
   "metadata": {},
   "outputs": [
    {
     "data": {
      "text/plain": [
       "array([    651.481 ,    4116.8775,   12357.197 ,   28438.121 ,  125308.644 ])"
      ]
     },
     "execution_count": 37,
     "metadata": {},
     "output_type": "execute_result"
    }
   ],
   "source": [
    "bins_2"
   ]
  },
  {
   "cell_type": "code",
   "execution_count": 38,
   "metadata": {
    "collapsed": true
   },
   "outputs": [],
   "source": [
    "PPP_cut=pd.cut(imf_wide['PPPPC'],bins=bins_2,labels=['low','middle','upper','high'],retbins=True)\n",
    "# создадим новую порядковую переменную для ППС, таким образом, что каждая страна \n",
    "# попадет в одну из групп по уровню ППС \"низкий\",\"средний\",\"выше среднего\", \"высокий\"                "
   ]
  },
  {
   "cell_type": "code",
   "execution_count": 39,
   "metadata": {},
   "outputs": [
    {
     "data": {
      "text/plain": [
       "0"
      ]
     },
     "execution_count": 39,
     "metadata": {},
     "output_type": "execute_result"
    }
   ],
   "source": [
    "PPP_cut[0].isna().sum()"
   ]
  },
  {
   "cell_type": "code",
   "execution_count": 40,
   "metadata": {},
   "outputs": [
    {
     "data": {
      "text/plain": [
       "array([    651.481 ,    4116.8775,   12357.197 ,   28438.121 ,  125308.644 ])"
      ]
     },
     "execution_count": 40,
     "metadata": {},
     "output_type": "execute_result"
    }
   ],
   "source": [
    "PPP_cut[1]# интервалы"
   ]
  },
  {
   "cell_type": "code",
   "execution_count": 41,
   "metadata": {},
   "outputs": [
    {
     "data": {
      "text/plain": [
       "0    high  \n",
       "1    low   \n",
       "2    middle\n",
       "3    middle\n",
       "4    high  \n",
       "Name: PPPPC, dtype: category\n",
       "Categories (4, object): [low < middle < upper < high]"
      ]
     },
     "execution_count": 41,
     "metadata": {},
     "output_type": "execute_result"
    }
   ],
   "source": [
    "PPP_cut[0].head()#  новая порядковая переменная для прироста ВВП"
   ]
  },
  {
   "cell_type": "code",
   "execution_count": 42,
   "metadata": {
    "collapsed": true
   },
   "outputs": [],
   "source": [
    "total=imf_wide.shape[0] # вспомогательная переменная - общее количество наблюдений"
   ]
  },
  {
   "cell_type": "markdown",
   "metadata": {},
   "source": [
    "### Совместное распределение показателей темпа прироста ВВП и ППС"
   ]
  },
  {
   "cell_type": "code",
   "execution_count": 43,
   "metadata": {
    "collapsed": true
   },
   "outputs": [],
   "source": [
    "joint_distr=pd.crosstab(growth_cut[0],PPP_cut[0],margins=True).apply(lambda x:x/total)\n",
    "# специальная процедура cross-tab для постоения сводной таблицы"
   ]
  },
  {
   "cell_type": "code",
   "execution_count": 44,
   "metadata": {},
   "outputs": [
    {
     "data": {
      "text/html": [
       "<div>\n",
       "<style scoped>\n",
       "    .dataframe tbody tr th:only-of-type {\n",
       "        vertical-align: middle;\n",
       "    }\n",
       "\n",
       "    .dataframe tbody tr th {\n",
       "        vertical-align: top;\n",
       "    }\n",
       "\n",
       "    .dataframe thead th {\n",
       "        text-align: right;\n",
       "    }\n",
       "</style>\n",
       "<table border=\"1\" class=\"dataframe\">\n",
       "  <thead>\n",
       "    <tr style=\"text-align: right;\">\n",
       "      <th>PPPPC</th>\n",
       "      <th>low</th>\n",
       "      <th>middle</th>\n",
       "      <th>upper</th>\n",
       "      <th>high</th>\n",
       "      <th>All</th>\n",
       "    </tr>\n",
       "    <tr>\n",
       "      <th>NGDP_RPCH</th>\n",
       "      <th></th>\n",
       "      <th></th>\n",
       "      <th></th>\n",
       "      <th></th>\n",
       "      <th></th>\n",
       "    </tr>\n",
       "  </thead>\n",
       "  <tbody>\n",
       "    <tr>\n",
       "      <th>low</th>\n",
       "      <td>0.047120</td>\n",
       "      <td>0.073298</td>\n",
       "      <td>0.057592</td>\n",
       "      <td>0.073298</td>\n",
       "      <td>0.251309</td>\n",
       "    </tr>\n",
       "    <tr>\n",
       "      <th>middle</th>\n",
       "      <td>0.047120</td>\n",
       "      <td>0.036649</td>\n",
       "      <td>0.057592</td>\n",
       "      <td>0.109948</td>\n",
       "      <td>0.251309</td>\n",
       "    </tr>\n",
       "    <tr>\n",
       "      <th>upper</th>\n",
       "      <td>0.057592</td>\n",
       "      <td>0.062827</td>\n",
       "      <td>0.078534</td>\n",
       "      <td>0.047120</td>\n",
       "      <td>0.246073</td>\n",
       "    </tr>\n",
       "    <tr>\n",
       "      <th>high</th>\n",
       "      <td>0.099476</td>\n",
       "      <td>0.078534</td>\n",
       "      <td>0.052356</td>\n",
       "      <td>0.020942</td>\n",
       "      <td>0.251309</td>\n",
       "    </tr>\n",
       "    <tr>\n",
       "      <th>All</th>\n",
       "      <td>0.251309</td>\n",
       "      <td>0.246073</td>\n",
       "      <td>0.251309</td>\n",
       "      <td>0.251309</td>\n",
       "      <td>1.000000</td>\n",
       "    </tr>\n",
       "  </tbody>\n",
       "</table>\n",
       "</div>"
      ],
      "text/plain": [
       "PPPPC           low    middle     upper      high       All\n",
       "NGDP_RPCH                                                  \n",
       "low        0.047120  0.073298  0.057592  0.073298  0.251309\n",
       "middle     0.047120  0.036649  0.057592  0.109948  0.251309\n",
       "upper      0.057592  0.062827  0.078534  0.047120  0.246073\n",
       "high       0.099476  0.078534  0.052356  0.020942  0.251309\n",
       "All        0.251309  0.246073  0.251309  0.251309  1.000000"
      ]
     },
     "execution_count": 44,
     "metadata": {},
     "output_type": "execute_result"
    }
   ],
   "source": [
    "joint_distr"
   ]
  },
  {
   "cell_type": "markdown",
   "metadata": {},
   "source": [
    "### Столбец All показывает распределение показателя темп прироста ВВП (без относительно  показателя ППС), соответственно  строка All показывает распределение показателя ППС (без относительно  показателя темп прироста)"
   ]
  },
  {
   "cell_type": "markdown",
   "metadata": {},
   "source": [
    "### Условное распределение переменной темп роста ВВП"
   ]
  },
  {
   "cell_type": "markdown",
   "metadata": {},
   "source": [
    "### Для перехода от совместного распределения к условному воспользуемся известной формулой из теории вероятностией $P(A|B)=\\frac{(P(A\\cap B)}{P(B)}$. У данной формулы есть аналог для плотности распределения."
   ]
  },
  {
   "cell_type": "code",
   "execution_count": 45,
   "metadata": {
    "collapsed": true
   },
   "outputs": [],
   "source": [
    "PPP_distr=list(PPP_cut[0].value_counts()/total)"
   ]
  },
  {
   "cell_type": "code",
   "execution_count": 46,
   "metadata": {},
   "outputs": [
    {
     "data": {
      "text/plain": [
       "[0.2513089005235602,\n",
       " 0.2513089005235602,\n",
       " 0.2513089005235602,\n",
       " 0.24607329842931938]"
      ]
     },
     "execution_count": 46,
     "metadata": {},
     "output_type": "execute_result"
    }
   ],
   "source": [
    "PPP_distr"
   ]
  },
  {
   "cell_type": "code",
   "execution_count": 47,
   "metadata": {
    "collapsed": true
   },
   "outputs": [],
   "source": [
    "cond_distr=joint_distr.iloc[0:4,0:4].div(PPP_distr,0) # переход к условному распределению"
   ]
  },
  {
   "cell_type": "code",
   "execution_count": 48,
   "metadata": {},
   "outputs": [
    {
     "data": {
      "text/html": [
       "<div>\n",
       "<style scoped>\n",
       "    .dataframe tbody tr th:only-of-type {\n",
       "        vertical-align: middle;\n",
       "    }\n",
       "\n",
       "    .dataframe tbody tr th {\n",
       "        vertical-align: top;\n",
       "    }\n",
       "\n",
       "    .dataframe thead th {\n",
       "        text-align: right;\n",
       "    }\n",
       "</style>\n",
       "<table border=\"1\" class=\"dataframe\">\n",
       "  <thead>\n",
       "    <tr style=\"text-align: right;\">\n",
       "      <th>PPPPC</th>\n",
       "      <th>low</th>\n",
       "      <th>middle</th>\n",
       "      <th>upper</th>\n",
       "      <th>high</th>\n",
       "    </tr>\n",
       "    <tr>\n",
       "      <th>NGDP_RPCH</th>\n",
       "      <th></th>\n",
       "      <th></th>\n",
       "      <th></th>\n",
       "      <th></th>\n",
       "    </tr>\n",
       "  </thead>\n",
       "  <tbody>\n",
       "    <tr>\n",
       "      <th>low</th>\n",
       "      <td>0.187500</td>\n",
       "      <td>0.291667</td>\n",
       "      <td>0.229167</td>\n",
       "      <td>0.291667</td>\n",
       "    </tr>\n",
       "    <tr>\n",
       "      <th>middle</th>\n",
       "      <td>0.187500</td>\n",
       "      <td>0.145833</td>\n",
       "      <td>0.229167</td>\n",
       "      <td>0.437500</td>\n",
       "    </tr>\n",
       "    <tr>\n",
       "      <th>upper</th>\n",
       "      <td>0.229167</td>\n",
       "      <td>0.250000</td>\n",
       "      <td>0.312500</td>\n",
       "      <td>0.187500</td>\n",
       "    </tr>\n",
       "    <tr>\n",
       "      <th>high</th>\n",
       "      <td>0.404255</td>\n",
       "      <td>0.319149</td>\n",
       "      <td>0.212766</td>\n",
       "      <td>0.085106</td>\n",
       "    </tr>\n",
       "  </tbody>\n",
       "</table>\n",
       "</div>"
      ],
      "text/plain": [
       "PPPPC           low    middle     upper      high\n",
       "NGDP_RPCH                                        \n",
       "low        0.187500  0.291667  0.229167  0.291667\n",
       "middle     0.187500  0.145833  0.229167  0.437500\n",
       "upper      0.229167  0.250000  0.312500  0.187500\n",
       "high       0.404255  0.319149  0.212766  0.085106"
      ]
     },
     "execution_count": 48,
     "metadata": {},
     "output_type": "execute_result"
    }
   ],
   "source": [
    "cond_distr"
   ]
  },
  {
   "cell_type": "code",
   "execution_count": 49,
   "metadata": {
    "collapsed": true
   },
   "outputs": [],
   "source": [
    "row_sum=pd.Series(np.round(cond_distr.iloc[0:4,0:4].sum(0)))\n",
    "# суммы по строкам для контроля (должны быть равны 1)"
   ]
  },
  {
   "cell_type": "code",
   "execution_count": 50,
   "metadata": {
    "collapsed": true
   },
   "outputs": [],
   "source": [
    "row_sum=row_sum.rename('row_sum')"
   ]
  },
  {
   "cell_type": "code",
   "execution_count": 51,
   "metadata": {},
   "outputs": [
    {
     "data": {
      "text/html": [
       "<div>\n",
       "<style scoped>\n",
       "    .dataframe tbody tr th:only-of-type {\n",
       "        vertical-align: middle;\n",
       "    }\n",
       "\n",
       "    .dataframe tbody tr th {\n",
       "        vertical-align: top;\n",
       "    }\n",
       "\n",
       "    .dataframe thead th {\n",
       "        text-align: right;\n",
       "    }\n",
       "</style>\n",
       "<table border=\"1\" class=\"dataframe\">\n",
       "  <thead>\n",
       "    <tr style=\"text-align: right;\">\n",
       "      <th>PPPPC</th>\n",
       "      <th>low</th>\n",
       "      <th>middle</th>\n",
       "      <th>upper</th>\n",
       "      <th>high</th>\n",
       "    </tr>\n",
       "    <tr>\n",
       "      <th>NGDP_RPCH</th>\n",
       "      <th></th>\n",
       "      <th></th>\n",
       "      <th></th>\n",
       "      <th></th>\n",
       "    </tr>\n",
       "  </thead>\n",
       "  <tbody>\n",
       "    <tr>\n",
       "      <th>low</th>\n",
       "      <td>0.187500</td>\n",
       "      <td>0.291667</td>\n",
       "      <td>0.229167</td>\n",
       "      <td>0.291667</td>\n",
       "    </tr>\n",
       "    <tr>\n",
       "      <th>middle</th>\n",
       "      <td>0.187500</td>\n",
       "      <td>0.145833</td>\n",
       "      <td>0.229167</td>\n",
       "      <td>0.437500</td>\n",
       "    </tr>\n",
       "    <tr>\n",
       "      <th>upper</th>\n",
       "      <td>0.229167</td>\n",
       "      <td>0.250000</td>\n",
       "      <td>0.312500</td>\n",
       "      <td>0.187500</td>\n",
       "    </tr>\n",
       "    <tr>\n",
       "      <th>high</th>\n",
       "      <td>0.404255</td>\n",
       "      <td>0.319149</td>\n",
       "      <td>0.212766</td>\n",
       "      <td>0.085106</td>\n",
       "    </tr>\n",
       "    <tr>\n",
       "      <th>row_sum</th>\n",
       "      <td>1.000000</td>\n",
       "      <td>1.000000</td>\n",
       "      <td>1.000000</td>\n",
       "      <td>1.000000</td>\n",
       "    </tr>\n",
       "  </tbody>\n",
       "</table>\n",
       "</div>"
      ],
      "text/plain": [
       "PPPPC           low    middle     upper      high\n",
       "NGDP_RPCH                                        \n",
       "low        0.187500  0.291667  0.229167  0.291667\n",
       "middle     0.187500  0.145833  0.229167  0.437500\n",
       "upper      0.229167  0.250000  0.312500  0.187500\n",
       "high       0.404255  0.319149  0.212766  0.085106\n",
       "row_sum    1.000000  1.000000  1.000000  1.000000"
      ]
     },
     "execution_count": 51,
     "metadata": {},
     "output_type": "execute_result"
    }
   ],
   "source": [
    "cond_distr.append(row_sum)#  условное распределение перменной темп роста ВВП\n",
    "# для каждого значения переменной ППС строится отдельное распределение переменной темп роста ВВП"
   ]
  },
  {
   "cell_type": "markdown",
   "metadata": {},
   "source": [
    "### Рассмотрим различия между совместным и условным распределениями"
   ]
  },
  {
   "cell_type": "markdown",
   "metadata": {},
   "source": [
    "$P(NGDPRPCH=low,PPPPC=low)=0.047120$,\n",
    "$P(NGDPRPCH=low|PPPPC=low)=0.187500$"
   ]
  },
  {
   "cell_type": "markdown",
   "metadata": {},
   "source": [
    "### В первом случае речь идет о том, что вероятность найти страну с одновременно низким показателем прироста ВВП и низким значением  ППС равна примерно 5%. В то же время вероятность найти страну с низким  показателем прироста ВВП при условии, что страна находится в категории стран с низким значением ППС, равна приблизительно 19%."
   ]
  },
  {
   "cell_type": "markdown",
   "metadata": {},
   "source": [
    "## 5.Построение корреляционной модели"
   ]
  },
  {
   "cell_type": "code",
   "execution_count": 52,
   "metadata": {
    "collapsed": true
   },
   "outputs": [],
   "source": [
    "imf_wide['log_PPP']=np.log(imf_wide['PPPPC'])# логарифмическое преобразование показателя ППС"
   ]
  },
  {
   "cell_type": "markdown",
   "metadata": {},
   "source": [
    "### Корреляционное поле"
   ]
  },
  {
   "cell_type": "code",
   "execution_count": 53,
   "metadata": {},
   "outputs": [
    {
     "data": {
      "text/plain": [
       "[<matplotlib.text.Text at 0x7fb714fb8a90>,\n",
       " <matplotlib.text.Text at 0x7fb714fa14d0>]"
      ]
     },
     "execution_count": 53,
     "metadata": {},
     "output_type": "execute_result"
    },
    {
     "data": {
      "image/png": "[encoded data removed]",
      "text/plain": [
       "<matplotlib.figure.Figure at 0x7fb715b19d10>"
      ]
     },
     "metadata": {},
     "output_type": "display_data"
    }
   ],
   "source": [
    "p=imf_wide.plot.scatter(x='log_PPP',y='NGDP_RPCH',title=u'Завиимость между темпом прироста ВВП и ППП  ',figsize=(10,5),)\n",
    "p.set(xlabel=u'Log Паритета покупательной способности (USD)',ylabel=u'Темп прироста ВВП (%)')"
   ]
  },
  {
   "cell_type": "markdown",
   "metadata": {},
   "source": [
    "### Вывод: График зависимости (корреляционное поле) между приростом ВВП и ППС не позволил выявить какой-либо связи "
   ]
  },
  {
   "cell_type": "markdown",
   "metadata": {},
   "source": [
    "### Корреляционная матрица"
   ]
  },
  {
   "cell_type": "code",
   "execution_count": 54,
   "metadata": {
    "collapsed": true
   },
   "outputs": [],
   "source": [
    "corr_matrix=np.corrcoef(imf_wide.iloc[:,[1,2,4]],rowvar=False) # используем numpy"
   ]
  },
  {
   "cell_type": "code",
   "execution_count": 55,
   "metadata": {},
   "outputs": [
    {
     "data": {
      "text/plain": [
       "array([[ 1.        , -0.48591395, -0.0966812 ],\n",
       "       [-0.48591395,  1.        , -0.13628617],\n",
       "       [-0.0966812 , -0.13628617,  1.        ]])"
      ]
     },
     "execution_count": 55,
     "metadata": {},
     "output_type": "execute_result"
    }
   ],
   "source": [
    "corr_matrix\n",
    "# на главной диагнонали ковариационной матрицы находятся дисперсии показателей, \n",
    "# остальные элементы - парные коэффициенты корреляции (матрица сиимметрична относительно главной диагонали)"
   ]
  },
  {
   "cell_type": "code",
   "execution_count": 56,
   "metadata": {},
   "outputs": [
    {
     "data": {
      "text/html": [
       "<div>\n",
       "<style scoped>\n",
       "    .dataframe tbody tr th:only-of-type {\n",
       "        vertical-align: middle;\n",
       "    }\n",
       "\n",
       "    .dataframe tbody tr th {\n",
       "        vertical-align: top;\n",
       "    }\n",
       "\n",
       "    .dataframe thead th {\n",
       "        text-align: right;\n",
       "    }\n",
       "</style>\n",
       "<table border=\"1\" class=\"dataframe\">\n",
       "  <thead>\n",
       "    <tr style=\"text-align: right;\">\n",
       "      <th></th>\n",
       "      <th>NGDP_RPCH</th>\n",
       "      <th>PCPIPCH</th>\n",
       "      <th>log_PPP</th>\n",
       "    </tr>\n",
       "  </thead>\n",
       "  <tbody>\n",
       "    <tr>\n",
       "      <th>NGDP_RPCH</th>\n",
       "      <td>1.000000</td>\n",
       "      <td>-0.485914</td>\n",
       "      <td>-0.096681</td>\n",
       "    </tr>\n",
       "    <tr>\n",
       "      <th>PCPIPCH</th>\n",
       "      <td>-0.485914</td>\n",
       "      <td>1.000000</td>\n",
       "      <td>-0.136286</td>\n",
       "    </tr>\n",
       "    <tr>\n",
       "      <th>log_PPP</th>\n",
       "      <td>-0.096681</td>\n",
       "      <td>-0.136286</td>\n",
       "      <td>1.000000</td>\n",
       "    </tr>\n",
       "  </tbody>\n",
       "</table>\n",
       "</div>"
      ],
      "text/plain": [
       "           NGDP_RPCH   PCPIPCH   log_PPP\n",
       "NGDP_RPCH  1.000000  -0.485914 -0.096681\n",
       "PCPIPCH   -0.485914   1.000000 -0.136286\n",
       "log_PPP   -0.096681  -0.136286  1.000000"
      ]
     },
     "execution_count": 56,
     "metadata": {},
     "output_type": "execute_result"
    }
   ],
   "source": [
    "imf_wide.iloc[:,[1,2,4]].corr()# используем pandas"
   ]
  },
  {
   "cell_type": "markdown",
   "metadata": {},
   "source": [
    "### Ковариационная матрица"
   ]
  },
  {
   "cell_type": "code",
   "execution_count": 57,
   "metadata": {},
   "outputs": [
    {
     "data": {
      "text/plain": [
       "array([[  1.41463811e+01,  -6.08158145e+01,  -4.34667612e-01],\n",
       "       [ -6.08158145e+01,   1.10730936e+03,  -5.42099261e+00],\n",
       "       [ -4.34667612e-01,  -5.42099261e+00,   1.42884494e+00]])"
      ]
     },
     "execution_count": 57,
     "metadata": {},
     "output_type": "execute_result"
    }
   ],
   "source": [
    "np.cov(imf_wide.iloc[:,[1,2,4]],rowvar=False)"
   ]
  },
  {
   "cell_type": "code",
   "execution_count": 58,
   "metadata": {},
   "outputs": [
    {
     "data": {
      "text/plain": [
       "14.072316305364438"
      ]
     },
     "execution_count": 58,
     "metadata": {},
     "output_type": "execute_result"
    }
   ],
   "source": [
    "np.var(imf_wide['NGDP_RPCH'])# на главной диагнонали ковариационной матрицы находятся дисперсии показателей"
   ]
  },
  {
   "cell_type": "markdown",
   "metadata": {},
   "source": [
    "### Вспомогательная функция для определения значимости парного коэффициента корреляции"
   ]
  },
  {
   "cell_type": "code",
   "execution_count": 59,
   "metadata": {
    "collapsed": true
   },
   "outputs": [],
   "source": [
    "def r_signif(r,n,two_sided=True):\n",
    "    t=(r/((1-r**2)**0.5))*((n-2)**0.5)\n",
    "    pvalue=stats.t.cdf(t,n-2)\n",
    "    if t>0:\n",
    "        pvalue=1-pvalue\n",
    "    if two_sided:\n",
    "        pvalue=2*pvalue\n",
    "    return(t,pvalue)"
   ]
  },
  {
   "cell_type": "markdown",
   "metadata": {},
   "source": [
    "### Определение значимости парного коэффициента корреляции ($\\alpha=0.05$)"
   ]
  },
  {
   "cell_type": "markdown",
   "metadata": {},
   "source": [
    "$H_0:\\rho=0$\n",
    "$H_1:\\rho\\neq0$"
   ]
  },
  {
   "cell_type": "code",
   "execution_count": 60,
   "metadata": {},
   "outputs": [
    {
     "name": "stdout",
     "output_type": "stream",
     "text": [
      "r=-0.4859, t=-7.6432, pvalue=0.0000\n",
      "r=-0.0967, t=-1.3354, pvalue=0.1834\n",
      "r=-0.1363, t=-1.8913, pvalue=0.0601\n"
     ]
    }
   ],
   "source": [
    "k=corr_matrix.shape[0]\n",
    "for i in range(0,k):\n",
    "    for j in range(i+1,k):\n",
    "        t,pvalue=r_signif(corr_matrix[i,j],imf_wide.shape[0])\n",
    "        print('r=%.4f, t=%.4f, pvalue=%.4f'%(corr_matrix[i,j],t,pvalue))"
   ]
  },
  {
   "cell_type": "markdown",
   "metadata": {},
   "source": [
    "### Вывод: Связь между темпом прироста ВВП и индексом инфляции статистически значима. Связь носит отрицательный характер, т.е. в среднем имеет место тенденция снижения темпов роста при увеличении инфляции. Остальные коэффициенты оказались статистически незначимы."
   ]
  },
  {
   "cell_type": "markdown",
   "metadata": {},
   "source": [
    "### Частные коэффициенты корреляции"
   ]
  },
  {
   "cell_type": "markdown",
   "metadata": {},
   "source": [
    "### Вспомогательная функция для  расчета и определения значимости частных коэффициентов корреляции"
   ]
  },
  {
   "cell_type": "code",
   "execution_count": 61,
   "metadata": {
    "collapsed": true
   },
   "outputs": [],
   "source": [
    "def minor(matrix,i,j): # используем корреляционую матрицу\n",
    "    sub_matrix=np.delete(matrix,(i),axis=0)\n",
    "    sub_matrix=np.delete(sub_matrix,(j),axis=1)\n",
    "    return ((-1)**(i+j))*np.linalg.det(sub_matrix)"
   ]
  },
  {
   "cell_type": "markdown",
   "metadata": {},
   "source": [
    "### Расчет и определение значимости частных коэффициентов корреляции($\\alpha=0.05$)"
   ]
  },
  {
   "cell_type": "code",
   "execution_count": 62,
   "metadata": {},
   "outputs": [
    {
     "name": "stdout",
     "output_type": "stream",
     "text": [
      "r(0,1)=-0.5062 t=8.0471 pvalue=0.0000\n",
      "r(0,2)=-0.1881 t=2.6266 pvalue=0.0093\n",
      "r(1,2)=-0.2107 t=2.9549 pvalue=0.0035\n"
     ]
    }
   ],
   "source": [
    "# Расчет частного коэффициента корреляции осуществляется с помощью, так называемых, миноров.\n",
    "# Справочно: Минор Сij- определитель  под-матрицы корреляционной матрицы,у которой вычеркнуты i-тый столбец и \n",
    "# j-тая строка\n",
    "\n",
    "k=corr_matrix.shape[0]\n",
    "n=total\n",
    "for i in range(0,k):\n",
    "    for j in range(i+1,k):\n",
    "        r=(-minor(corr_matrix,i,j)/((minor(corr_matrix,i,i)*minor(corr_matrix,j,j))**.5))\n",
    "        t=np.abs(r)*((n-k)/(1-r**2))**0.5\n",
    "        pvalue=2*(1-stats.t.cdf(t,n-k))\n",
    "        print('r('+str(i)+','+str(j)+')=%.4f t=%.4f pvalue=%.4f'%(r,t,pvalue))"
   ]
  },
  {
   "cell_type": "code",
   "execution_count": 63,
   "metadata": {},
   "outputs": [
    {
     "data": {
      "text/plain": [
       "-0.1881437032121423"
      ]
     },
     "execution_count": 63,
     "metadata": {},
     "output_type": "execute_result"
    }
   ],
   "source": [
    "(corr_matrix[0,2]-corr_matrix[0,1]*corr_matrix[1,2])/(((1-corr_matrix[0,1]**2)*(1-corr_matrix[1,2]**2))**.5)\n",
    "# расчет частного коэффициента корреляции с помощью формулы"
   ]
  },
  {
   "cell_type": "markdown",
   "metadata": {},
   "source": [
    "### Вывод: В отличие от парных коэффициентов корреляции все частные коэффциенты корреляции значимы. Для примера рассмотрим частный коэффициент корреляции между темпом прироста ВВП и ППС, т.е. корреляцию без учета влияния индекса инфляции. Частный коэффициент корреляции больше по абсолютной величине чем соответствующий парный, это говорит о том, что индекс инфляции ослабляет связь между указанными переменными."
   ]
  },
  {
   "cell_type": "code",
   "execution_count": null,
   "metadata": {
    "collapsed": true
   },
   "outputs": [],
   "source": [
    "## Задание"
   ]
  },
  {
   "cell_type": "markdown",
   "metadata": {},
   "source": [
    "## Для выполнения задания необходимо взять два экономических индикатора \n",
    "### 1. Построить модель совмнестного распределения двух экономических индикаторов\n",
    "## Для выполнения задания необходимо взять три экономических индикатора \n",
    "### 2. Построить корреляционное поле для всех парных комбинаций показателей\n",
    "### 3. Получить ковариационную и корреляционную матрицы\n",
    "### 4. Проверить значимость парных коэффициентов корреляции\n",
    "### 5. Рассчитать и проверить значимость всех частных коэффициентов корреляци\n",
    "### 6. Попробовать самостоятельно посчитать коэффициенты ранговой корреляции (Спирмэна и Кэнделла)\n",
    "### 7. Повторить или посмотреть материал по основам линейной алгебры\n",
    "### 8. Сделать выводы"
   ]
  }
 ],
 "metadata": {
  "kernelspec": {
   "display_name": "Python 2",
   "language": "python",
   "name": "python2"
  },
  "language_info": {
   "codemirror_mode": {
    "name": "ipython",
    "version": 2
   },
   "file_extension": ".py",
   "mimetype": "text/x-python",
   "name": "python",
   "nbconvert_exporter": "python",
   "pygments_lexer": "ipython2",
   "version": "2.7.15"
  }
 },
 "nbformat": 4,
 "nbformat_minor": 2
}
