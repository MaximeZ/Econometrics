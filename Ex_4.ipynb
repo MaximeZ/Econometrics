{
 "cells": [
  {
   "cell_type": "markdown",
   "metadata": {},
   "source": [
    "# Задание 4. Модели линейной регрессии (часть I)"
   ]
  },
  {
   "cell_type": "markdown",
   "metadata": {},
   "source": [
    "## Цель задания:\n",
    "### 1. Построить модель парной линейной  регрессии \n",
    "### 2. Построить модель множественной линейной регрессии \n",
    "### 3. Реализовать пошаговый отбор переменных множественной модели\n",
    "### 4. Провести первичную диагностику регресионных моделей\n",
    "### 5. Дать экономическую интерпретацию полученным результатам"
   ]
  },
  {
   "cell_type": "markdown",
   "metadata": {},
   "source": [
    "## Цель исследования - выявить показатели, влияющие на темп роста ВВП"
   ]
  },
  {
   "cell_type": "markdown",
   "metadata": {},
   "source": [
    "## 1.Загрузка библиотек"
   ]
  },
  {
   "cell_type": "code",
   "execution_count": 2,
   "metadata": {},
   "outputs": [
    {
     "name": "stderr",
     "output_type": "stream",
     "text": [
      "/home/maxime/anaconda2/lib/python2.7/site-packages/statsmodels/compat/pandas.py:56: FutureWarning: The pandas.core.datetools module is deprecated and will be removed in a future version. Please use the pandas.tseries module instead.\n",
      "  from pandas.core import datetools\n"
     ]
    }
   ],
   "source": [
    "import pandas as pd\n",
    "import numpy as np\n",
    "from scipy import stats\n",
    "import statsmodels.api as sm"
   ]
  },
  {
   "cell_type": "code",
   "execution_count": 3,
   "metadata": {
    "collapsed": true
   },
   "outputs": [],
   "source": [
    "%matplotlib inline"
   ]
  },
  {
   "cell_type": "code",
   "execution_count": 4,
   "metadata": {
    "collapsed": true
   },
   "outputs": [],
   "source": [
    "import matplotlib.pyplot as plt # графическая библиотека"
   ]
  },
  {
   "cell_type": "code",
   "execution_count": 5,
   "metadata": {
    "collapsed": true
   },
   "outputs": [],
   "source": [
    "from __future__ import division #  деление с дробной частью (модуль из Python 3)"
   ]
  },
  {
   "cell_type": "markdown",
   "metadata": {},
   "source": [
    "## 2.Загрузка необходимых файлов"
   ]
  },
  {
   "cell_type": "code",
   "execution_count": 6,
   "metadata": {
    "collapsed": true
   },
   "outputs": [],
   "source": [
    "pd.set_option('display.max_colwidth',-1)# опция позволяет читать текстовые поля в \"необрезанном виде\""
   ]
  },
  {
   "cell_type": "code",
   "execution_count": 7,
   "metadata": {
    "collapsed": true
   },
   "outputs": [],
   "source": [
    "imf=pd.read_csv('/home/maxime/Documentos/Econometrics/imf.csv')# загрузка данных IMF в dataframe"
   ]
  },
  {
   "cell_type": "code",
   "execution_count": 8,
   "metadata": {
    "collapsed": true
   },
   "outputs": [],
   "source": [
    "wb=pd.read_csv('/home/maxime/Documentos/Econometrics/wb.csv')# загрузка данных IMF в dataframe"
   ]
  },
  {
   "cell_type": "code",
   "execution_count": 9,
   "metadata": {
    "collapsed": true
   },
   "outputs": [],
   "source": [
    "ind=pd.read_csv('/home/maxime/Documentos/Econometrics/indicators.csv')#загрузка базы индикаторов в dataframe"
   ]
  },
  {
   "cell_type": "markdown",
   "metadata": {},
   "source": [
    "## 3. Выбор показателей для дальнейшего анализа и преобразование dataframe в необходимый формат"
   ]
  },
  {
   "cell_type": "markdown",
   "metadata": {},
   "source": [
    "### Для более компактного представления результатов приведен готовый список используемых показателей.  Каждый слушатель самостоятельно формирует  перечень экономических показателей"
   ]
  },
  {
   "cell_type": "code",
   "execution_count": 10,
   "metadata": {},
   "outputs": [
    {
     "data": {
      "text/html": [
       "<div>\n",
       "<style scoped>\n",
       "    .dataframe tbody tr th:only-of-type {\n",
       "        vertical-align: middle;\n",
       "    }\n",
       "\n",
       "    .dataframe tbody tr th {\n",
       "        vertical-align: top;\n",
       "    }\n",
       "\n",
       "    .dataframe thead th {\n",
       "        text-align: right;\n",
       "    }\n",
       "</style>\n",
       "<table border=\"1\" class=\"dataframe\">\n",
       "  <thead>\n",
       "    <tr style=\"text-align: right;\">\n",
       "      <th></th>\n",
       "      <th>Code</th>\n",
       "      <th>Indicator</th>\n",
       "      <th>Source</th>\n",
       "    </tr>\n",
       "  </thead>\n",
       "  <tbody>\n",
       "    <tr>\n",
       "      <th>23</th>\n",
       "      <td>NY.GNS.ICTR.ZS</td>\n",
       "      <td>Gross savings (% of GDP)</td>\n",
       "      <td>wb</td>\n",
       "    </tr>\n",
       "    <tr>\n",
       "      <th>32</th>\n",
       "      <td>FM.LBL.BMNY.GD.ZS</td>\n",
       "      <td>Broad money (% of GDP)</td>\n",
       "      <td>wb</td>\n",
       "    </tr>\n",
       "    <tr>\n",
       "      <th>33</th>\n",
       "      <td>FM.LBL.BMNY.ZG</td>\n",
       "      <td>Broad money growth (annual %)</td>\n",
       "      <td>wb</td>\n",
       "    </tr>\n",
       "    <tr>\n",
       "      <th>35</th>\n",
       "      <td>NGDP_RPCH</td>\n",
       "      <td>Gross domestic product, constant prices/Percent change</td>\n",
       "      <td>imf</td>\n",
       "    </tr>\n",
       "    <tr>\n",
       "      <th>44</th>\n",
       "      <td>PPPPC</td>\n",
       "      <td>Gross domestic product per capita, current prices/Purchasing power parity; international dollars</td>\n",
       "      <td>imf</td>\n",
       "    </tr>\n",
       "    <tr>\n",
       "      <th>45</th>\n",
       "      <td>NGAP_NPGDP</td>\n",
       "      <td>Output gap in percent of potential GDP/Percent of potential GDP</td>\n",
       "      <td>imf</td>\n",
       "    </tr>\n",
       "    <tr>\n",
       "      <th>48</th>\n",
       "      <td>NID_NGDP</td>\n",
       "      <td>Total investment/Percent of GDP</td>\n",
       "      <td>imf</td>\n",
       "    </tr>\n",
       "    <tr>\n",
       "      <th>51</th>\n",
       "      <td>PCPIPCH</td>\n",
       "      <td>Inflation, average consumer prices/Percent change</td>\n",
       "      <td>imf</td>\n",
       "    </tr>\n",
       "    <tr>\n",
       "      <th>59</th>\n",
       "      <td>LUR</td>\n",
       "      <td>Unemployment rate/Percent of total labor force</td>\n",
       "      <td>imf</td>\n",
       "    </tr>\n",
       "    <tr>\n",
       "      <th>75</th>\n",
       "      <td>GGXWDG_NGDP</td>\n",
       "      <td>General government gross debt/Percent of GDP</td>\n",
       "      <td>imf</td>\n",
       "    </tr>\n",
       "    <tr>\n",
       "      <th>78</th>\n",
       "      <td>BCA_NGDPD</td>\n",
       "      <td>Current account balance/Percent of GDP</td>\n",
       "      <td>imf</td>\n",
       "    </tr>\n",
       "  </tbody>\n",
       "</table>\n",
       "</div>"
      ],
      "text/plain": [
       "                 Code  \\\n",
       "23  NY.GNS.ICTR.ZS      \n",
       "32  FM.LBL.BMNY.GD.ZS   \n",
       "33  FM.LBL.BMNY.ZG      \n",
       "35  NGDP_RPCH           \n",
       "44  PPPPC               \n",
       "45  NGAP_NPGDP          \n",
       "48  NID_NGDP            \n",
       "51  PCPIPCH             \n",
       "59  LUR                 \n",
       "75  GGXWDG_NGDP         \n",
       "78  BCA_NGDPD           \n",
       "\n",
       "                                                                                           Indicator  \\\n",
       "23  Gross savings (% of GDP)                                                                           \n",
       "32  Broad money (% of GDP)                                                                             \n",
       "33  Broad money growth (annual %)                                                                      \n",
       "35  Gross domestic product, constant prices/Percent change                                             \n",
       "44  Gross domestic product per capita, current prices/Purchasing power parity; international dollars   \n",
       "45  Output gap in percent of potential GDP/Percent of potential GDP                                    \n",
       "48  Total investment/Percent of GDP                                                                    \n",
       "51  Inflation, average consumer prices/Percent change                                                  \n",
       "59  Unemployment rate/Percent of total labor force                                                     \n",
       "75  General government gross debt/Percent of GDP                                                       \n",
       "78  Current account balance/Percent of GDP                                                             \n",
       "\n",
       "   Source  \n",
       "23  wb     \n",
       "32  wb     \n",
       "33  wb     \n",
       "35  imf    \n",
       "44  imf    \n",
       "45  imf    \n",
       "48  imf    \n",
       "51  imf    \n",
       "59  imf    \n",
       "75  imf    \n",
       "78  imf    "
      ]
     },
     "execution_count": 10,
     "metadata": {},
     "output_type": "execute_result"
    }
   ],
   "source": [
    "ind.iloc[[23,32,33,35,44,45,48,51,59,75,78],:]"
   ]
  },
  {
   "cell_type": "code",
   "execution_count": 11,
   "metadata": {
    "collapsed": true
   },
   "outputs": [],
   "source": [
    "list_ind_imf=list(ind.iloc[[35,44,45,48,51,59,75,78],0])\n",
    "# выберем показатели из базы IMF"
   ]
  },
  {
   "cell_type": "code",
   "execution_count": 12,
   "metadata": {
    "collapsed": true
   },
   "outputs": [],
   "source": [
    "list_ind_wb=list(ind.iloc[[23,32,33],0])\n",
    "# выберем показатели из базы IMF "
   ]
  },
  {
   "cell_type": "code",
   "execution_count": 13,
   "metadata": {
    "collapsed": true
   },
   "outputs": [],
   "source": [
    "imf_reduced=imf[imf['WEO Subject Code'].isin(list_ind_imf)].drop(imf.columns[[0,3,4,5,6,7,8,53,55]],axis=1)\n",
    "# далее все делаем по аналогии с предыдущим заданием"
   ]
  },
  {
   "cell_type": "code",
   "execution_count": 14,
   "metadata": {
    "collapsed": true
   },
   "outputs": [],
   "source": [
    "col_=[str(i) for i in range(1980,2018)]\n",
    "imf_long=pd.melt(imf_reduced,id_vars=['ISO','WEO Subject Code','continent'],value_vars=col_)"
   ]
  },
  {
   "cell_type": "code",
   "execution_count": 15,
   "metadata": {
    "collapsed": true
   },
   "outputs": [],
   "source": [
    "imf_long.columns=['Country','Indicator','Continent','Year','Value']"
   ]
  },
  {
   "cell_type": "code",
   "execution_count": 16,
   "metadata": {
    "collapsed": true
   },
   "outputs": [],
   "source": [
    "imf_long['Value']=imf_long['Value'].apply(lambda x:str(x).replace(',',''))\n",
    "imf_long['Value']=pd.to_numeric(imf_long['Value'],errors='coerce')\n",
    "imf_long['Year']=pd.to_numeric(imf_long['Year'],errors='coerce')"
   ]
  },
  {
   "cell_type": "markdown",
   "metadata": {},
   "source": [
    "### Для проведения ргрессионного анализа сформируем пространственную выборку по данным 2016 г."
   ]
  },
  {
   "cell_type": "code",
   "execution_count": 17,
   "metadata": {
    "collapsed": true
   },
   "outputs": [],
   "source": [
    "imf_long=imf_long[imf_long.Year==2016].drop(columns='Year')"
   ]
  },
  {
   "cell_type": "code",
   "execution_count": 18,
   "metadata": {
    "collapsed": true
   },
   "outputs": [],
   "source": [
    "imf_wide=imf_long.pivot_table(index=['Country','Continent'],columns=['Indicator'],values=['Value'])\n",
    "# преобразование в широкий формат по аналогии с первым заданием"
   ]
  },
  {
   "cell_type": "code",
   "execution_count": 19,
   "metadata": {
    "collapsed": true
   },
   "outputs": [],
   "source": [
    "col_names=['Country','Continent']+list(imf_wide.columns.get_level_values(1))"
   ]
  },
  {
   "cell_type": "code",
   "execution_count": 20,
   "metadata": {
    "collapsed": true
   },
   "outputs": [],
   "source": [
    "imf_wide.columns=imf_wide.columns.get_level_values(0) \n",
    "imf_wide=imf_wide.reset_index()"
   ]
  },
  {
   "cell_type": "code",
   "execution_count": 21,
   "metadata": {
    "collapsed": true
   },
   "outputs": [],
   "source": [
    "imf_wide.columns=col_names"
   ]
  },
  {
   "cell_type": "code",
   "execution_count": 22,
   "metadata": {
    "collapsed": true
   },
   "outputs": [],
   "source": [
    "wb_reduced=wb[wb['Series Code'].isin(list_ind_wb)].drop(wb.columns[[0,2,63,64]],axis=1)"
   ]
  },
  {
   "cell_type": "code",
   "execution_count": 23,
   "metadata": {
    "collapsed": true
   },
   "outputs": [],
   "source": [
    "col_=[str(i) for i in range(1960,2017)]\n",
    "wb_long=pd.melt(wb_reduced,id_vars=['Country Code','Series Code'],value_vars=col_)"
   ]
  },
  {
   "cell_type": "code",
   "execution_count": 24,
   "metadata": {
    "collapsed": true
   },
   "outputs": [],
   "source": [
    "wb_long.columns=['Country','Indicator','Year','Value']"
   ]
  },
  {
   "cell_type": "code",
   "execution_count": 25,
   "metadata": {
    "collapsed": true
   },
   "outputs": [],
   "source": [
    "wb_long['Value']=pd.to_numeric(wb_long['Value'],errors='coerce')\n",
    "wb_long['Year']=pd.to_numeric(wb_long['Year'],errors='coerce')"
   ]
  },
  {
   "cell_type": "code",
   "execution_count": 26,
   "metadata": {},
   "outputs": [
    {
     "data": {
      "text/plain": [
       "Country      object \n",
       "Indicator    object \n",
       "Year         int64  \n",
       "Value        float64\n",
       "dtype: object"
      ]
     },
     "execution_count": 26,
     "metadata": {},
     "output_type": "execute_result"
    }
   ],
   "source": [
    "wb_long.dtypes"
   ]
  },
  {
   "cell_type": "code",
   "execution_count": 27,
   "metadata": {
    "collapsed": true
   },
   "outputs": [],
   "source": [
    "wb_long=wb_long[wb_long.Year==2016].drop(columns='Year')\n",
    "# создадим вспомогательный dataframe для дальнейшего преобразования в широкий формат"
   ]
  },
  {
   "cell_type": "code",
   "execution_count": 28,
   "metadata": {
    "collapsed": true
   },
   "outputs": [],
   "source": [
    "wb_wide=wb_long.pivot_table(index=['Country'],columns=['Indicator'],values=['Value'])\n",
    "# преобразование в широкий формат по аналогии с первым заданием"
   ]
  },
  {
   "cell_type": "code",
   "execution_count": 29,
   "metadata": {
    "collapsed": true
   },
   "outputs": [],
   "source": [
    "col_names=['Country']+list(wb_wide.columns.get_level_values(1))"
   ]
  },
  {
   "cell_type": "code",
   "execution_count": 30,
   "metadata": {
    "collapsed": true
   },
   "outputs": [],
   "source": [
    "wb_wide.columns=wb_wide.columns.get_level_values(0) \n",
    "wb_wide=wb_wide.reset_index()"
   ]
  },
  {
   "cell_type": "code",
   "execution_count": 31,
   "metadata": {
    "collapsed": true
   },
   "outputs": [],
   "source": [
    "wb_wide.columns=col_names"
   ]
  },
  {
   "cell_type": "code",
   "execution_count": 32,
   "metadata": {
    "collapsed": true
   },
   "outputs": [],
   "source": [
    "econ_model=imf_wide.join(wb_wide,lsuffix='imf',rsuffix='wb')\n",
    "# объединим массив IMF и массив WB, используя функцию join\n",
    "# объединение осуществляется по полю Country (общее поле для обоих массивов)"
   ]
  },
  {
   "cell_type": "code",
   "execution_count": 33,
   "metadata": {
    "collapsed": true
   },
   "outputs": [],
   "source": [
    "econ_model.drop(columns='Countrywb',inplace=True)\n",
    "# оставим одно поле с названием стран"
   ]
  },
  {
   "cell_type": "code",
   "execution_count": 34,
   "metadata": {},
   "outputs": [
    {
     "data": {
      "text/html": [
       "<div>\n",
       "<style scoped>\n",
       "    .dataframe tbody tr th:only-of-type {\n",
       "        vertical-align: middle;\n",
       "    }\n",
       "\n",
       "    .dataframe tbody tr th {\n",
       "        vertical-align: top;\n",
       "    }\n",
       "\n",
       "    .dataframe thead th {\n",
       "        text-align: right;\n",
       "    }\n",
       "</style>\n",
       "<table border=\"1\" class=\"dataframe\">\n",
       "  <thead>\n",
       "    <tr style=\"text-align: right;\">\n",
       "      <th></th>\n",
       "      <th>Countryimf</th>\n",
       "      <th>Continent</th>\n",
       "      <th>BCA_NGDPD</th>\n",
       "      <th>GGXWDG_NGDP</th>\n",
       "      <th>LUR</th>\n",
       "      <th>NGAP_NPGDP</th>\n",
       "      <th>NGDP_RPCH</th>\n",
       "      <th>NID_NGDP</th>\n",
       "      <th>PCPIPCH</th>\n",
       "      <th>PPPPC</th>\n",
       "      <th>FM.LBL.BMNY.GD.ZS</th>\n",
       "      <th>FM.LBL.BMNY.ZG</th>\n",
       "      <th>NY.GNS.ICTR.ZS</th>\n",
       "    </tr>\n",
       "  </thead>\n",
       "  <tbody>\n",
       "    <tr>\n",
       "      <th>0</th>\n",
       "      <td>ABW</td>\n",
       "      <td>Americas</td>\n",
       "      <td>5.018</td>\n",
       "      <td>84.677</td>\n",
       "      <td>7.7</td>\n",
       "      <td>NaN</td>\n",
       "      <td>-0.124</td>\n",
       "      <td>NaN</td>\n",
       "      <td>-0.888</td>\n",
       "      <td>36507.036</td>\n",
       "      <td>NaN</td>\n",
       "      <td>9.500907</td>\n",
       "      <td>NaN</td>\n",
       "    </tr>\n",
       "    <tr>\n",
       "      <th>1</th>\n",
       "      <td>AFG</td>\n",
       "      <td>Asia</td>\n",
       "      <td>7.253</td>\n",
       "      <td>7.823</td>\n",
       "      <td>NaN</td>\n",
       "      <td>NaN</td>\n",
       "      <td>2.164</td>\n",
       "      <td>18.533</td>\n",
       "      <td>4.384</td>\n",
       "      <td>1915.519</td>\n",
       "      <td>34.448130</td>\n",
       "      <td>9.725428</td>\n",
       "      <td>18.096194</td>\n",
       "    </tr>\n",
       "    <tr>\n",
       "      <th>2</th>\n",
       "      <td>AGO</td>\n",
       "      <td>Africa</td>\n",
       "      <td>-4.780</td>\n",
       "      <td>75.253</td>\n",
       "      <td>NaN</td>\n",
       "      <td>NaN</td>\n",
       "      <td>-2.580</td>\n",
       "      <td>27.215</td>\n",
       "      <td>30.694</td>\n",
       "      <td>7085.996</td>\n",
       "      <td>41.844759</td>\n",
       "      <td>14.302695</td>\n",
       "      <td>3.049233</td>\n",
       "    </tr>\n",
       "    <tr>\n",
       "      <th>3</th>\n",
       "      <td>ALB</td>\n",
       "      <td>Europe</td>\n",
       "      <td>-7.563</td>\n",
       "      <td>73.187</td>\n",
       "      <td>15.2</td>\n",
       "      <td>NaN</td>\n",
       "      <td>3.352</td>\n",
       "      <td>24.277</td>\n",
       "      <td>1.275</td>\n",
       "      <td>11830.877</td>\n",
       "      <td>85.643310</td>\n",
       "      <td>3.887472</td>\n",
       "      <td>14.540693</td>\n",
       "    </tr>\n",
       "    <tr>\n",
       "      <th>4</th>\n",
       "      <td>ARE</td>\n",
       "      <td>Asia</td>\n",
       "      <td>3.706</td>\n",
       "      <td>20.217</td>\n",
       "      <td>NaN</td>\n",
       "      <td>NaN</td>\n",
       "      <td>2.988</td>\n",
       "      <td>27.143</td>\n",
       "      <td>1.617</td>\n",
       "      <td>68750.352</td>\n",
       "      <td>90.515094</td>\n",
       "      <td>NaN</td>\n",
       "      <td>23.757937</td>\n",
       "    </tr>\n",
       "  </tbody>\n",
       "</table>\n",
       "</div>"
      ],
      "text/plain": [
       "  Countryimf Continent  BCA_NGDPD  GGXWDG_NGDP   LUR  NGAP_NPGDP  NGDP_RPCH  \\\n",
       "0  ABW        Americas  5.018      84.677       7.7  NaN         -0.124       \n",
       "1  AFG        Asia      7.253      7.823       NaN   NaN          2.164       \n",
       "2  AGO        Africa   -4.780      75.253      NaN   NaN         -2.580       \n",
       "3  ALB        Europe   -7.563      73.187       15.2 NaN          3.352       \n",
       "4  ARE        Asia      3.706      20.217      NaN   NaN          2.988       \n",
       "\n",
       "   NID_NGDP  PCPIPCH      PPPPC  FM.LBL.BMNY.GD.ZS  FM.LBL.BMNY.ZG  \\\n",
       "0 NaN       -0.888    36507.036 NaN                 9.500907         \n",
       "1  18.533    4.384    1915.519   34.448130          9.725428         \n",
       "2  27.215    30.694   7085.996   41.844759          14.302695        \n",
       "3  24.277    1.275    11830.877  85.643310          3.887472         \n",
       "4  27.143    1.617    68750.352  90.515094         NaN               \n",
       "\n",
       "   NY.GNS.ICTR.ZS  \n",
       "0 NaN              \n",
       "1  18.096194       \n",
       "2  3.049233        \n",
       "3  14.540693       \n",
       "4  23.757937       "
      ]
     },
     "execution_count": 34,
     "metadata": {},
     "output_type": "execute_result"
    }
   ],
   "source": [
    "econ_model.head()"
   ]
  },
  {
   "cell_type": "markdown",
   "metadata": {},
   "source": [
    "### Проведем предварительный отбор переменных с учетом количества nan наблюдений для каждого показателя. Не существует формальных критериев выбора переменных,  данный этап анализа необходимо производить с учетом целей и задач всего исследования."
   ]
  },
  {
   "cell_type": "code",
   "execution_count": 35,
   "metadata": {},
   "outputs": [
    {
     "data": {
      "text/plain": [
       "Countryimf           0  \n",
       "Continent            0  \n",
       "BCA_NGDPD            2  \n",
       "GGXWDG_NGDP          5  \n",
       "LUR                  81 \n",
       "NGAP_NPGDP           165\n",
       "NGDP_RPCH            0  \n",
       "NID_NGDP             18 \n",
       "PCPIPCH              2  \n",
       "PPPPC                1  \n",
       "FM.LBL.BMNY.GD.ZS    33 \n",
       "FM.LBL.BMNY.ZG       67 \n",
       "NY.GNS.ICTR.ZS       28 \n",
       "dtype: int64"
      ]
     },
     "execution_count": 35,
     "metadata": {},
     "output_type": "execute_result"
    }
   ],
   "source": [
    "econ_model.isnull().sum()"
   ]
  },
  {
   "cell_type": "markdown",
   "metadata": {},
   "source": [
    "### Переменныe LUR, NGAP_NPGDP,FM.LBL.BMNY.ZG содержат большое количество nan наблюдений, целесообразно удалить из списка данные переменные (не без сожаления)."
   ]
  },
  {
   "cell_type": "code",
   "execution_count": 36,
   "metadata": {
    "collapsed": true
   },
   "outputs": [],
   "source": [
    "ind_del=['LUR','NGAP_NPGDP','FM.LBL.BMNY.ZG']"
   ]
  },
  {
   "cell_type": "code",
   "execution_count": 37,
   "metadata": {
    "collapsed": true
   },
   "outputs": [],
   "source": [
    "econ_model.drop(columns=ind_del,inplace=True)"
   ]
  },
  {
   "cell_type": "markdown",
   "metadata": {},
   "source": [
    "### Далее необходимо сделать выбор: либо удалить страны с хотя бы одним nan наблюдением, либо удалить показатели  FM.LBL.BMNY.GD.ZS и NID_NGDP. "
   ]
  },
  {
   "cell_type": "markdown",
   "metadata": {},
   "source": [
    "### Посмотрим на переменную FM.LBL.BMNY.GD.ZS. Речь идет о показателе отношения денежной массы к ВВП. Это - важный показатель, однако мы видим, что по многим крупным странам, он имеет пустые значения."
   ]
  },
  {
   "cell_type": "code",
   "execution_count": 38,
   "metadata": {},
   "outputs": [
    {
     "data": {
      "text/html": [
       "<div>\n",
       "<style scoped>\n",
       "    .dataframe tbody tr th:only-of-type {\n",
       "        vertical-align: middle;\n",
       "    }\n",
       "\n",
       "    .dataframe tbody tr th {\n",
       "        vertical-align: top;\n",
       "    }\n",
       "\n",
       "    .dataframe thead th {\n",
       "        text-align: right;\n",
       "    }\n",
       "</style>\n",
       "<table border=\"1\" class=\"dataframe\">\n",
       "  <thead>\n",
       "    <tr style=\"text-align: right;\">\n",
       "      <th></th>\n",
       "      <th>Countryimf</th>\n",
       "      <th>Continent</th>\n",
       "      <th>BCA_NGDPD</th>\n",
       "      <th>GGXWDG_NGDP</th>\n",
       "      <th>NGDP_RPCH</th>\n",
       "      <th>NID_NGDP</th>\n",
       "      <th>PCPIPCH</th>\n",
       "      <th>PPPPC</th>\n",
       "      <th>FM.LBL.BMNY.GD.ZS</th>\n",
       "      <th>NY.GNS.ICTR.ZS</th>\n",
       "    </tr>\n",
       "  </thead>\n",
       "  <tbody>\n",
       "    <tr>\n",
       "      <th>0</th>\n",
       "      <td>ABW</td>\n",
       "      <td>Americas</td>\n",
       "      <td>5.018</td>\n",
       "      <td>84.677</td>\n",
       "      <td>-0.124</td>\n",
       "      <td>NaN</td>\n",
       "      <td>-0.888</td>\n",
       "      <td>36507.036</td>\n",
       "      <td>NaN</td>\n",
       "      <td>NaN</td>\n",
       "    </tr>\n",
       "    <tr>\n",
       "      <th>10</th>\n",
       "      <td>AZE</td>\n",
       "      <td>Asia</td>\n",
       "      <td>-3.606</td>\n",
       "      <td>50.711</td>\n",
       "      <td>-3.100</td>\n",
       "      <td>24.930</td>\n",
       "      <td>12.562</td>\n",
       "      <td>17397.067</td>\n",
       "      <td>NaN</td>\n",
       "      <td>26.202151</td>\n",
       "    </tr>\n",
       "    <tr>\n",
       "      <th>13</th>\n",
       "      <td>BEN</td>\n",
       "      <td>Africa</td>\n",
       "      <td>-9.417</td>\n",
       "      <td>49.678</td>\n",
       "      <td>3.969</td>\n",
       "      <td>24.594</td>\n",
       "      <td>-0.809</td>\n",
       "      <td>2177.231</td>\n",
       "      <td>NaN</td>\n",
       "      <td>24.138765</td>\n",
       "    </tr>\n",
       "    <tr>\n",
       "      <th>18</th>\n",
       "      <td>BHS</td>\n",
       "      <td>Americas</td>\n",
       "      <td>-7.329</td>\n",
       "      <td>50.482</td>\n",
       "      <td>-1.690</td>\n",
       "      <td>25.554</td>\n",
       "      <td>-0.347</td>\n",
       "      <td>31672.405</td>\n",
       "      <td>NaN</td>\n",
       "      <td>23.934501</td>\n",
       "    </tr>\n",
       "    <tr>\n",
       "      <th>29</th>\n",
       "      <td>CAN</td>\n",
       "      <td>Americas</td>\n",
       "      <td>-3.212</td>\n",
       "      <td>91.147</td>\n",
       "      <td>1.414</td>\n",
       "      <td>23.180</td>\n",
       "      <td>1.422</td>\n",
       "      <td>46657.892</td>\n",
       "      <td>NaN</td>\n",
       "      <td>19.221366</td>\n",
       "    </tr>\n",
       "    <tr>\n",
       "      <th>43</th>\n",
       "      <td>DEU</td>\n",
       "      <td>Europe</td>\n",
       "      <td>8.507</td>\n",
       "      <td>67.900</td>\n",
       "      <td>2.157</td>\n",
       "      <td>19.660</td>\n",
       "      <td>0.392</td>\n",
       "      <td>48844.163</td>\n",
       "      <td>NaN</td>\n",
       "      <td>11.922524</td>\n",
       "    </tr>\n",
       "    <tr>\n",
       "      <th>45</th>\n",
       "      <td>DMA</td>\n",
       "      <td>Americas</td>\n",
       "      <td>0.824</td>\n",
       "      <td>71.748</td>\n",
       "      <td>2.638</td>\n",
       "      <td>19.191</td>\n",
       "      <td>0.026</td>\n",
       "      <td>11393.589</td>\n",
       "      <td>NaN</td>\n",
       "      <td>27.597278</td>\n",
       "    </tr>\n",
       "    <tr>\n",
       "      <th>55</th>\n",
       "      <td>FIN</td>\n",
       "      <td>Europe</td>\n",
       "      <td>-0.342</td>\n",
       "      <td>62.949</td>\n",
       "      <td>2.477</td>\n",
       "      <td>22.019</td>\n",
       "      <td>0.389</td>\n",
       "      <td>42597.772</td>\n",
       "      <td>NaN</td>\n",
       "      <td>22.871145</td>\n",
       "    </tr>\n",
       "    <tr>\n",
       "      <th>58</th>\n",
       "      <td>FSM</td>\n",
       "      <td>Oceania</td>\n",
       "      <td>3.259</td>\n",
       "      <td>25.293</td>\n",
       "      <td>2.935</td>\n",
       "      <td>NaN</td>\n",
       "      <td>0.472</td>\n",
       "      <td>3271.579</td>\n",
       "      <td>NaN</td>\n",
       "      <td>23.497008</td>\n",
       "    </tr>\n",
       "    <tr>\n",
       "      <th>59</th>\n",
       "      <td>GAB</td>\n",
       "      <td>Africa</td>\n",
       "      <td>-9.907</td>\n",
       "      <td>64.199</td>\n",
       "      <td>2.082</td>\n",
       "      <td>34.174</td>\n",
       "      <td>2.086</td>\n",
       "      <td>18092.826</td>\n",
       "      <td>NaN</td>\n",
       "      <td>22.410288</td>\n",
       "    </tr>\n",
       "    <tr>\n",
       "      <th>60</th>\n",
       "      <td>GBR</td>\n",
       "      <td>Europe</td>\n",
       "      <td>-5.219</td>\n",
       "      <td>87.909</td>\n",
       "      <td>1.789</td>\n",
       "      <td>17.263</td>\n",
       "      <td>0.660</td>\n",
       "      <td>43013.105</td>\n",
       "      <td>NaN</td>\n",
       "      <td>24.554499</td>\n",
       "    </tr>\n",
       "    <tr>\n",
       "      <th>61</th>\n",
       "      <td>GEO</td>\n",
       "      <td>Asia</td>\n",
       "      <td>-12.803</td>\n",
       "      <td>44.414</td>\n",
       "      <td>2.849</td>\n",
       "      <td>32.727</td>\n",
       "      <td>2.133</td>\n",
       "      <td>10064.714</td>\n",
       "      <td>NaN</td>\n",
       "      <td>30.459335</td>\n",
       "    </tr>\n",
       "    <tr>\n",
       "      <th>62</th>\n",
       "      <td>GHA</td>\n",
       "      <td>Africa</td>\n",
       "      <td>-6.685</td>\n",
       "      <td>73.405</td>\n",
       "      <td>3.722</td>\n",
       "      <td>14.487</td>\n",
       "      <td>17.455</td>\n",
       "      <td>4398.790</td>\n",
       "      <td>NaN</td>\n",
       "      <td>22.003802</td>\n",
       "    </tr>\n",
       "    <tr>\n",
       "      <th>64</th>\n",
       "      <td>GMB</td>\n",
       "      <td>Africa</td>\n",
       "      <td>-5.916</td>\n",
       "      <td>82.349</td>\n",
       "      <td>0.406</td>\n",
       "      <td>13.011</td>\n",
       "      <td>7.225</td>\n",
       "      <td>2558.228</td>\n",
       "      <td>NaN</td>\n",
       "      <td>20.490672</td>\n",
       "    </tr>\n",
       "    <tr>\n",
       "      <th>66</th>\n",
       "      <td>GNQ</td>\n",
       "      <td>Africa</td>\n",
       "      <td>-12.949</td>\n",
       "      <td>43.338</td>\n",
       "      <td>-8.576</td>\n",
       "      <td>16.564</td>\n",
       "      <td>1.400</td>\n",
       "      <td>38932.612</td>\n",
       "      <td>NaN</td>\n",
       "      <td>21.458325</td>\n",
       "    </tr>\n",
       "    <tr>\n",
       "      <th>73</th>\n",
       "      <td>HRV</td>\n",
       "      <td>Europe</td>\n",
       "      <td>2.591</td>\n",
       "      <td>82.276</td>\n",
       "      <td>3.536</td>\n",
       "      <td>20.764</td>\n",
       "      <td>-1.125</td>\n",
       "      <td>23361.835</td>\n",
       "      <td>NaN</td>\n",
       "      <td>14.867365</td>\n",
       "    </tr>\n",
       "    <tr>\n",
       "      <th>76</th>\n",
       "      <td>IDN</td>\n",
       "      <td>Asia</td>\n",
       "      <td>-1.818</td>\n",
       "      <td>28.335</td>\n",
       "      <td>5.033</td>\n",
       "      <td>33.845</td>\n",
       "      <td>3.526</td>\n",
       "      <td>11732.315</td>\n",
       "      <td>NaN</td>\n",
       "      <td>10.075560</td>\n",
       "    </tr>\n",
       "    <tr>\n",
       "      <th>94</th>\n",
       "      <td>KWT</td>\n",
       "      <td>Asia</td>\n",
       "      <td>-4.561</td>\n",
       "      <td>9.883</td>\n",
       "      <td>2.196</td>\n",
       "      <td>26.994</td>\n",
       "      <td>3.482</td>\n",
       "      <td>68616.467</td>\n",
       "      <td>NaN</td>\n",
       "      <td>36.316201</td>\n",
       "    </tr>\n",
       "    <tr>\n",
       "      <th>96</th>\n",
       "      <td>LBN</td>\n",
       "      <td>Asia</td>\n",
       "      <td>-21.719</td>\n",
       "      <td>145.454</td>\n",
       "      <td>1.741</td>\n",
       "      <td>NaN</td>\n",
       "      <td>-0.816</td>\n",
       "      <td>19098.377</td>\n",
       "      <td>NaN</td>\n",
       "      <td>11.947422</td>\n",
       "    </tr>\n",
       "    <tr>\n",
       "      <th>99</th>\n",
       "      <td>LCA</td>\n",
       "      <td>Americas</td>\n",
       "      <td>-1.901</td>\n",
       "      <td>69.210</td>\n",
       "      <td>3.370</td>\n",
       "      <td>17.363</td>\n",
       "      <td>-3.093</td>\n",
       "      <td>13886.808</td>\n",
       "      <td>NaN</td>\n",
       "      <td>19.578975</td>\n",
       "    </tr>\n",
       "    <tr>\n",
       "      <th>111</th>\n",
       "      <td>MHL</td>\n",
       "      <td>Oceania</td>\n",
       "      <td>7.576</td>\n",
       "      <td>30.042</td>\n",
       "      <td>3.621</td>\n",
       "      <td>NaN</td>\n",
       "      <td>-1.508</td>\n",
       "      <td>3473.273</td>\n",
       "      <td>NaN</td>\n",
       "      <td>17.291557</td>\n",
       "    </tr>\n",
       "    <tr>\n",
       "      <th>123</th>\n",
       "      <td>NAM</td>\n",
       "      <td>Africa</td>\n",
       "      <td>-13.757</td>\n",
       "      <td>39.459</td>\n",
       "      <td>0.700</td>\n",
       "      <td>23.366</td>\n",
       "      <td>6.727</td>\n",
       "      <td>11317.186</td>\n",
       "      <td>NaN</td>\n",
       "      <td>16.273785</td>\n",
       "    </tr>\n",
       "    <tr>\n",
       "      <th>124</th>\n",
       "      <td>NER</td>\n",
       "      <td>Africa</td>\n",
       "      <td>-15.688</td>\n",
       "      <td>45.240</td>\n",
       "      <td>4.857</td>\n",
       "      <td>37.038</td>\n",
       "      <td>0.177</td>\n",
       "      <td>1123.929</td>\n",
       "      <td>NaN</td>\n",
       "      <td>21.681992</td>\n",
       "    </tr>\n",
       "    <tr>\n",
       "      <th>125</th>\n",
       "      <td>NGA</td>\n",
       "      <td>Africa</td>\n",
       "      <td>0.669</td>\n",
       "      <td>19.619</td>\n",
       "      <td>-1.617</td>\n",
       "      <td>15.367</td>\n",
       "      <td>15.696</td>\n",
       "      <td>5942.872</td>\n",
       "      <td>NaN</td>\n",
       "      <td>20.961933</td>\n",
       "    </tr>\n",
       "    <tr>\n",
       "      <th>136</th>\n",
       "      <td>PHL</td>\n",
       "      <td>Asia</td>\n",
       "      <td>-0.393</td>\n",
       "      <td>39.026</td>\n",
       "      <td>6.876</td>\n",
       "      <td>24.409</td>\n",
       "      <td>1.254</td>\n",
       "      <td>7815.464</td>\n",
       "      <td>NaN</td>\n",
       "      <td>32.885411</td>\n",
       "    </tr>\n",
       "    <tr>\n",
       "      <th>142</th>\n",
       "      <td>PRY</td>\n",
       "      <td>Americas</td>\n",
       "      <td>1.153</td>\n",
       "      <td>18.925</td>\n",
       "      <td>4.313</td>\n",
       "      <td>19.724</td>\n",
       "      <td>4.082</td>\n",
       "      <td>12150.512</td>\n",
       "      <td>NaN</td>\n",
       "      <td>24.143230</td>\n",
       "    </tr>\n",
       "    <tr>\n",
       "      <th>151</th>\n",
       "      <td>SLB</td>\n",
       "      <td>Oceania</td>\n",
       "      <td>-3.942</td>\n",
       "      <td>7.907</td>\n",
       "      <td>3.457</td>\n",
       "      <td>19.112</td>\n",
       "      <td>0.503</td>\n",
       "      <td>2099.533</td>\n",
       "      <td>NaN</td>\n",
       "      <td>28.771822</td>\n",
       "    </tr>\n",
       "    <tr>\n",
       "      <th>154</th>\n",
       "      <td>SMR</td>\n",
       "      <td>Europe</td>\n",
       "      <td>NaN</td>\n",
       "      <td>22.503</td>\n",
       "      <td>2.197</td>\n",
       "      <td>20.993</td>\n",
       "      <td>0.570</td>\n",
       "      <td>58029.783</td>\n",
       "      <td>NaN</td>\n",
       "      <td>18.897546</td>\n",
       "    </tr>\n",
       "    <tr>\n",
       "      <th>159</th>\n",
       "      <td>SUR</td>\n",
       "      <td>Americas</td>\n",
       "      <td>-5.164</td>\n",
       "      <td>75.845</td>\n",
       "      <td>-5.139</td>\n",
       "      <td>60.719</td>\n",
       "      <td>55.501</td>\n",
       "      <td>14554.995</td>\n",
       "      <td>NaN</td>\n",
       "      <td>26.005031</td>\n",
       "    </tr>\n",
       "    <tr>\n",
       "      <th>160</th>\n",
       "      <td>SVK</td>\n",
       "      <td>Europe</td>\n",
       "      <td>-1.457</td>\n",
       "      <td>51.819</td>\n",
       "      <td>3.325</td>\n",
       "      <td>22.570</td>\n",
       "      <td>-0.474</td>\n",
       "      <td>31438.291</td>\n",
       "      <td>NaN</td>\n",
       "      <td>19.641766</td>\n",
       "    </tr>\n",
       "    <tr>\n",
       "      <th>165</th>\n",
       "      <td>TCD</td>\n",
       "      <td>Africa</td>\n",
       "      <td>-9.180</td>\n",
       "      <td>52.408</td>\n",
       "      <td>-6.431</td>\n",
       "      <td>16.702</td>\n",
       "      <td>-1.122</td>\n",
       "      <td>2445.755</td>\n",
       "      <td>NaN</td>\n",
       "      <td>15.087255</td>\n",
       "    </tr>\n",
       "    <tr>\n",
       "      <th>189</th>\n",
       "      <td>ZAF</td>\n",
       "      <td>Africa</td>\n",
       "      <td>-2.786</td>\n",
       "      <td>51.566</td>\n",
       "      <td>0.565</td>\n",
       "      <td>19.353</td>\n",
       "      <td>6.341</td>\n",
       "      <td>13359.764</td>\n",
       "      <td>NaN</td>\n",
       "      <td>22.976863</td>\n",
       "    </tr>\n",
       "    <tr>\n",
       "      <th>190</th>\n",
       "      <td>ZMB</td>\n",
       "      <td>Africa</td>\n",
       "      <td>-4.461</td>\n",
       "      <td>60.668</td>\n",
       "      <td>3.757</td>\n",
       "      <td>41.757</td>\n",
       "      <td>17.869</td>\n",
       "      <td>3913.352</td>\n",
       "      <td>NaN</td>\n",
       "      <td>24.296944</td>\n",
       "    </tr>\n",
       "  </tbody>\n",
       "</table>\n",
       "</div>"
      ],
      "text/plain": [
       "    Countryimf Continent  BCA_NGDPD  GGXWDG_NGDP  NGDP_RPCH  NID_NGDP  \\\n",
       "0    ABW        Americas  5.018      84.677      -0.124     NaN         \n",
       "10   AZE        Asia     -3.606      50.711      -3.100      24.930     \n",
       "13   BEN        Africa   -9.417      49.678       3.969      24.594     \n",
       "18   BHS        Americas -7.329      50.482      -1.690      25.554     \n",
       "29   CAN        Americas -3.212      91.147       1.414      23.180     \n",
       "43   DEU        Europe    8.507      67.900       2.157      19.660     \n",
       "45   DMA        Americas  0.824      71.748       2.638      19.191     \n",
       "55   FIN        Europe   -0.342      62.949       2.477      22.019     \n",
       "58   FSM        Oceania   3.259      25.293       2.935     NaN         \n",
       "59   GAB        Africa   -9.907      64.199       2.082      34.174     \n",
       "60   GBR        Europe   -5.219      87.909       1.789      17.263     \n",
       "61   GEO        Asia     -12.803     44.414       2.849      32.727     \n",
       "62   GHA        Africa   -6.685      73.405       3.722      14.487     \n",
       "64   GMB        Africa   -5.916      82.349       0.406      13.011     \n",
       "66   GNQ        Africa   -12.949     43.338      -8.576      16.564     \n",
       "73   HRV        Europe    2.591      82.276       3.536      20.764     \n",
       "76   IDN        Asia     -1.818      28.335       5.033      33.845     \n",
       "94   KWT        Asia     -4.561      9.883        2.196      26.994     \n",
       "96   LBN        Asia     -21.719     145.454      1.741     NaN         \n",
       "99   LCA        Americas -1.901      69.210       3.370      17.363     \n",
       "111  MHL        Oceania   7.576      30.042       3.621     NaN         \n",
       "123  NAM        Africa   -13.757     39.459       0.700      23.366     \n",
       "124  NER        Africa   -15.688     45.240       4.857      37.038     \n",
       "125  NGA        Africa    0.669      19.619      -1.617      15.367     \n",
       "136  PHL        Asia     -0.393      39.026       6.876      24.409     \n",
       "142  PRY        Americas  1.153      18.925       4.313      19.724     \n",
       "151  SLB        Oceania  -3.942      7.907        3.457      19.112     \n",
       "154  SMR        Europe   NaN         22.503       2.197      20.993     \n",
       "159  SUR        Americas -5.164      75.845      -5.139      60.719     \n",
       "160  SVK        Europe   -1.457      51.819       3.325      22.570     \n",
       "165  TCD        Africa   -9.180      52.408      -6.431      16.702     \n",
       "189  ZAF        Africa   -2.786      51.566       0.565      19.353     \n",
       "190  ZMB        Africa   -4.461      60.668       3.757      41.757     \n",
       "\n",
       "     PCPIPCH      PPPPC  FM.LBL.BMNY.GD.ZS  NY.GNS.ICTR.ZS  \n",
       "0   -0.888    36507.036 NaN                NaN              \n",
       "10   12.562   17397.067 NaN                 26.202151       \n",
       "13  -0.809    2177.231  NaN                 24.138765       \n",
       "18  -0.347    31672.405 NaN                 23.934501       \n",
       "29   1.422    46657.892 NaN                 19.221366       \n",
       "43   0.392    48844.163 NaN                 11.922524       \n",
       "45   0.026    11393.589 NaN                 27.597278       \n",
       "55   0.389    42597.772 NaN                 22.871145       \n",
       "58   0.472    3271.579  NaN                 23.497008       \n",
       "59   2.086    18092.826 NaN                 22.410288       \n",
       "60   0.660    43013.105 NaN                 24.554499       \n",
       "61   2.133    10064.714 NaN                 30.459335       \n",
       "62   17.455   4398.790  NaN                 22.003802       \n",
       "64   7.225    2558.228  NaN                 20.490672       \n",
       "66   1.400    38932.612 NaN                 21.458325       \n",
       "73  -1.125    23361.835 NaN                 14.867365       \n",
       "76   3.526    11732.315 NaN                 10.075560       \n",
       "94   3.482    68616.467 NaN                 36.316201       \n",
       "96  -0.816    19098.377 NaN                 11.947422       \n",
       "99  -3.093    13886.808 NaN                 19.578975       \n",
       "111 -1.508    3473.273  NaN                 17.291557       \n",
       "123  6.727    11317.186 NaN                 16.273785       \n",
       "124  0.177    1123.929  NaN                 21.681992       \n",
       "125  15.696   5942.872  NaN                 20.961933       \n",
       "136  1.254    7815.464  NaN                 32.885411       \n",
       "142  4.082    12150.512 NaN                 24.143230       \n",
       "151  0.503    2099.533  NaN                 28.771822       \n",
       "154  0.570    58029.783 NaN                 18.897546       \n",
       "159  55.501   14554.995 NaN                 26.005031       \n",
       "160 -0.474    31438.291 NaN                 19.641766       \n",
       "165 -1.122    2445.755  NaN                 15.087255       \n",
       "189  6.341    13359.764 NaN                 22.976863       \n",
       "190  17.869   3913.352  NaN                 24.296944       "
      ]
     },
     "execution_count": 38,
     "metadata": {},
     "output_type": "execute_result"
    }
   ],
   "source": [
    "econ_model[econ_model['FM.LBL.BMNY.GD.ZS'].isnull()]"
   ]
  },
  {
   "cell_type": "markdown",
   "metadata": {},
   "source": [
    "### Посмотрим на показатель NID_NGDP - отношение общего объема инвестиций к ВВП. Среди стран, у которых отсуствует  данный показатель, нет крупных экономик. По этой причине можно условно пренебречь данной группой стран. "
   ]
  },
  {
   "cell_type": "code",
   "execution_count": 39,
   "metadata": {},
   "outputs": [
    {
     "data": {
      "text/html": [
       "<div>\n",
       "<style scoped>\n",
       "    .dataframe tbody tr th:only-of-type {\n",
       "        vertical-align: middle;\n",
       "    }\n",
       "\n",
       "    .dataframe tbody tr th {\n",
       "        vertical-align: top;\n",
       "    }\n",
       "\n",
       "    .dataframe thead th {\n",
       "        text-align: right;\n",
       "    }\n",
       "</style>\n",
       "<table border=\"1\" class=\"dataframe\">\n",
       "  <thead>\n",
       "    <tr style=\"text-align: right;\">\n",
       "      <th></th>\n",
       "      <th>Countryimf</th>\n",
       "      <th>Continent</th>\n",
       "      <th>BCA_NGDPD</th>\n",
       "      <th>GGXWDG_NGDP</th>\n",
       "      <th>NGDP_RPCH</th>\n",
       "      <th>NID_NGDP</th>\n",
       "      <th>PCPIPCH</th>\n",
       "      <th>PPPPC</th>\n",
       "      <th>FM.LBL.BMNY.GD.ZS</th>\n",
       "      <th>NY.GNS.ICTR.ZS</th>\n",
       "    </tr>\n",
       "  </thead>\n",
       "  <tbody>\n",
       "    <tr>\n",
       "      <th>0</th>\n",
       "      <td>ABW</td>\n",
       "      <td>Americas</td>\n",
       "      <td>5.018</td>\n",
       "      <td>84.677</td>\n",
       "      <td>-0.124</td>\n",
       "      <td>NaN</td>\n",
       "      <td>-0.888</td>\n",
       "      <td>36507.036</td>\n",
       "      <td>NaN</td>\n",
       "      <td>NaN</td>\n",
       "    </tr>\n",
       "    <tr>\n",
       "      <th>58</th>\n",
       "      <td>FSM</td>\n",
       "      <td>Oceania</td>\n",
       "      <td>3.259</td>\n",
       "      <td>25.293</td>\n",
       "      <td>2.935</td>\n",
       "      <td>NaN</td>\n",
       "      <td>0.472</td>\n",
       "      <td>3271.579</td>\n",
       "      <td>NaN</td>\n",
       "      <td>23.497008</td>\n",
       "    </tr>\n",
       "    <tr>\n",
       "      <th>80</th>\n",
       "      <td>IRQ</td>\n",
       "      <td>Asia</td>\n",
       "      <td>-7.837</td>\n",
       "      <td>66.028</td>\n",
       "      <td>13.062</td>\n",
       "      <td>NaN</td>\n",
       "      <td>0.525</td>\n",
       "      <td>17172.841</td>\n",
       "      <td>121.358218</td>\n",
       "      <td>22.115107</td>\n",
       "    </tr>\n",
       "    <tr>\n",
       "      <th>91</th>\n",
       "      <td>KIR</td>\n",
       "      <td>Oceania</td>\n",
       "      <td>19.440</td>\n",
       "      <td>22.879</td>\n",
       "      <td>1.140</td>\n",
       "      <td>NaN</td>\n",
       "      <td>1.917</td>\n",
       "      <td>1922.277</td>\n",
       "      <td>40.340678</td>\n",
       "      <td>29.950400</td>\n",
       "    </tr>\n",
       "    <tr>\n",
       "      <th>95</th>\n",
       "      <td>LAO</td>\n",
       "      <td>Asia</td>\n",
       "      <td>-13.008</td>\n",
       "      <td>58.449</td>\n",
       "      <td>7.023</td>\n",
       "      <td>NaN</td>\n",
       "      <td>1.597</td>\n",
       "      <td>6878.326</td>\n",
       "      <td>90.400464</td>\n",
       "      <td>NaN</td>\n",
       "    </tr>\n",
       "    <tr>\n",
       "      <th>96</th>\n",
       "      <td>LBN</td>\n",
       "      <td>Asia</td>\n",
       "      <td>-21.719</td>\n",
       "      <td>145.454</td>\n",
       "      <td>1.741</td>\n",
       "      <td>NaN</td>\n",
       "      <td>-0.816</td>\n",
       "      <td>19098.377</td>\n",
       "      <td>NaN</td>\n",
       "      <td>11.947422</td>\n",
       "    </tr>\n",
       "    <tr>\n",
       "      <th>97</th>\n",
       "      <td>LBR</td>\n",
       "      <td>Africa</td>\n",
       "      <td>-14.141</td>\n",
       "      <td>28.296</td>\n",
       "      <td>-1.630</td>\n",
       "      <td>NaN</td>\n",
       "      <td>8.844</td>\n",
       "      <td>1268.674</td>\n",
       "      <td>71.484048</td>\n",
       "      <td>24.949626</td>\n",
       "    </tr>\n",
       "    <tr>\n",
       "      <th>111</th>\n",
       "      <td>MHL</td>\n",
       "      <td>Oceania</td>\n",
       "      <td>7.576</td>\n",
       "      <td>30.042</td>\n",
       "      <td>3.621</td>\n",
       "      <td>NaN</td>\n",
       "      <td>-1.508</td>\n",
       "      <td>3473.273</td>\n",
       "      <td>NaN</td>\n",
       "      <td>17.291557</td>\n",
       "    </tr>\n",
       "    <tr>\n",
       "      <th>112</th>\n",
       "      <td>MKD</td>\n",
       "      <td>Europe</td>\n",
       "      <td>-2.726</td>\n",
       "      <td>39.538</td>\n",
       "      <td>2.910</td>\n",
       "      <td>NaN</td>\n",
       "      <td>-0.239</td>\n",
       "      <td>14681.253</td>\n",
       "      <td>267.388363</td>\n",
       "      <td>6.320786</td>\n",
       "    </tr>\n",
       "    <tr>\n",
       "      <th>130</th>\n",
       "      <td>NRU</td>\n",
       "      <td>Oceania</td>\n",
       "      <td>1.711</td>\n",
       "      <td>64.955</td>\n",
       "      <td>10.404</td>\n",
       "      <td>NaN</td>\n",
       "      <td>8.150</td>\n",
       "      <td>11552.959</td>\n",
       "      <td>46.904427</td>\n",
       "      <td>NaN</td>\n",
       "    </tr>\n",
       "    <tr>\n",
       "      <th>138</th>\n",
       "      <td>PNG</td>\n",
       "      <td>Oceania</td>\n",
       "      <td>24.135</td>\n",
       "      <td>36.941</td>\n",
       "      <td>1.592</td>\n",
       "      <td>NaN</td>\n",
       "      <td>6.674</td>\n",
       "      <td>3573.446</td>\n",
       "      <td>104.086781</td>\n",
       "      <td>NaN</td>\n",
       "    </tr>\n",
       "    <tr>\n",
       "      <th>143</th>\n",
       "      <td>QAT</td>\n",
       "      <td>Asia</td>\n",
       "      <td>-5.450</td>\n",
       "      <td>46.707</td>\n",
       "      <td>2.131</td>\n",
       "      <td>NaN</td>\n",
       "      <td>2.677</td>\n",
       "      <td>125307.644</td>\n",
       "      <td>109.895901</td>\n",
       "      <td>8.570696</td>\n",
       "    </tr>\n",
       "    <tr>\n",
       "      <th>155</th>\n",
       "      <td>SOM</td>\n",
       "      <td>Africa</td>\n",
       "      <td>-6.308</td>\n",
       "      <td>NaN</td>\n",
       "      <td>4.380</td>\n",
       "      <td>NaN</td>\n",
       "      <td>NaN</td>\n",
       "      <td>NaN</td>\n",
       "      <td>117.767222</td>\n",
       "      <td>21.814360</td>\n",
       "    </tr>\n",
       "    <tr>\n",
       "      <th>169</th>\n",
       "      <td>TKM</td>\n",
       "      <td>Asia</td>\n",
       "      <td>-19.921</td>\n",
       "      <td>24.068</td>\n",
       "      <td>6.200</td>\n",
       "      <td>NaN</td>\n",
       "      <td>3.646</td>\n",
       "      <td>16941.466</td>\n",
       "      <td>125.783340</td>\n",
       "      <td>21.897233</td>\n",
       "    </tr>\n",
       "    <tr>\n",
       "      <th>171</th>\n",
       "      <td>TON</td>\n",
       "      <td>Oceania</td>\n",
       "      <td>-6.906</td>\n",
       "      <td>NaN</td>\n",
       "      <td>4.170</td>\n",
       "      <td>NaN</td>\n",
       "      <td>2.580</td>\n",
       "      <td>5626.534</td>\n",
       "      <td>41.206530</td>\n",
       "      <td>21.913603</td>\n",
       "    </tr>\n",
       "    <tr>\n",
       "      <th>172</th>\n",
       "      <td>TTO</td>\n",
       "      <td>Americas</td>\n",
       "      <td>-2.883</td>\n",
       "      <td>37.016</td>\n",
       "      <td>-6.076</td>\n",
       "      <td>NaN</td>\n",
       "      <td>3.069</td>\n",
       "      <td>31624.922</td>\n",
       "      <td>59.087809</td>\n",
       "      <td>25.868002</td>\n",
       "    </tr>\n",
       "    <tr>\n",
       "      <th>175</th>\n",
       "      <td>TUV</td>\n",
       "      <td>Oceania</td>\n",
       "      <td>23.212</td>\n",
       "      <td>47.223</td>\n",
       "      <td>3.035</td>\n",
       "      <td>NaN</td>\n",
       "      <td>3.511</td>\n",
       "      <td>3640.058</td>\n",
       "      <td>74.734144</td>\n",
       "      <td>27.480535</td>\n",
       "    </tr>\n",
       "    <tr>\n",
       "      <th>187</th>\n",
       "      <td>WSM</td>\n",
       "      <td>Oceania</td>\n",
       "      <td>-4.738</td>\n",
       "      <td>52.581</td>\n",
       "      <td>7.149</td>\n",
       "      <td>NaN</td>\n",
       "      <td>0.130</td>\n",
       "      <td>5558.575</td>\n",
       "      <td>34.453781</td>\n",
       "      <td>NaN</td>\n",
       "    </tr>\n",
       "  </tbody>\n",
       "</table>\n",
       "</div>"
      ],
      "text/plain": [
       "    Countryimf Continent  BCA_NGDPD  GGXWDG_NGDP  NGDP_RPCH  NID_NGDP  \\\n",
       "0    ABW        Americas  5.018      84.677      -0.124     NaN         \n",
       "58   FSM        Oceania   3.259      25.293       2.935     NaN         \n",
       "80   IRQ        Asia     -7.837      66.028       13.062    NaN         \n",
       "91   KIR        Oceania   19.440     22.879       1.140     NaN         \n",
       "95   LAO        Asia     -13.008     58.449       7.023     NaN         \n",
       "96   LBN        Asia     -21.719     145.454      1.741     NaN         \n",
       "97   LBR        Africa   -14.141     28.296      -1.630     NaN         \n",
       "111  MHL        Oceania   7.576      30.042       3.621     NaN         \n",
       "112  MKD        Europe   -2.726      39.538       2.910     NaN         \n",
       "130  NRU        Oceania   1.711      64.955       10.404    NaN         \n",
       "138  PNG        Oceania   24.135     36.941       1.592     NaN         \n",
       "143  QAT        Asia     -5.450      46.707       2.131     NaN         \n",
       "155  SOM        Africa   -6.308     NaN           4.380     NaN         \n",
       "169  TKM        Asia     -19.921     24.068       6.200     NaN         \n",
       "171  TON        Oceania  -6.906     NaN           4.170     NaN         \n",
       "172  TTO        Americas -2.883      37.016      -6.076     NaN         \n",
       "175  TUV        Oceania   23.212     47.223       3.035     NaN         \n",
       "187  WSM        Oceania  -4.738      52.581       7.149     NaN         \n",
       "\n",
       "     PCPIPCH       PPPPC  FM.LBL.BMNY.GD.ZS  NY.GNS.ICTR.ZS  \n",
       "0   -0.888    36507.036  NaN                NaN              \n",
       "58   0.472    3271.579   NaN                 23.497008       \n",
       "80   0.525    17172.841   121.358218         22.115107       \n",
       "91   1.917    1922.277    40.340678          29.950400       \n",
       "95   1.597    6878.326    90.400464         NaN              \n",
       "96  -0.816    19098.377  NaN                 11.947422       \n",
       "97   8.844    1268.674    71.484048          24.949626       \n",
       "111 -1.508    3473.273   NaN                 17.291557       \n",
       "112 -0.239    14681.253   267.388363         6.320786        \n",
       "130  8.150    11552.959   46.904427         NaN              \n",
       "138  6.674    3573.446    104.086781        NaN              \n",
       "143  2.677    125307.644  109.895901         8.570696        \n",
       "155 NaN      NaN          117.767222         21.814360       \n",
       "169  3.646    16941.466   125.783340         21.897233       \n",
       "171  2.580    5626.534    41.206530          21.913603       \n",
       "172  3.069    31624.922   59.087809          25.868002       \n",
       "175  3.511    3640.058    74.734144          27.480535       \n",
       "187  0.130    5558.575    34.453781         NaN              "
      ]
     },
     "execution_count": 39,
     "metadata": {},
     "output_type": "execute_result"
    }
   ],
   "source": [
    "econ_model[econ_model['NID_NGDP'].isnull()]"
   ]
  },
  {
   "cell_type": "markdown",
   "metadata": {},
   "source": [
    "### Исключим показатель FM.LBL.BMNY.GD.ZS и удалим страны, в которых присутствуют nan наблюдения"
   ]
  },
  {
   "cell_type": "code",
   "execution_count": 40,
   "metadata": {
    "collapsed": true
   },
   "outputs": [],
   "source": [
    "econ_model.drop(columns='FM.LBL.BMNY.GD.ZS',inplace=True)"
   ]
  },
  {
   "cell_type": "code",
   "execution_count": 41,
   "metadata": {
    "collapsed": true
   },
   "outputs": [],
   "source": [
    "econ_model.dropna(inplace=True)"
   ]
  },
  {
   "cell_type": "code",
   "execution_count": 42,
   "metadata": {},
   "outputs": [
    {
     "data": {
      "text/plain": [
       "(147, 9)"
      ]
     },
     "execution_count": 42,
     "metadata": {},
     "output_type": "execute_result"
    }
   ],
   "source": [
    "econ_model.shape\n",
    "## В итооге осталась 161 страна и 8 показателей"
   ]
  },
  {
   "cell_type": "markdown",
   "metadata": {
    "collapsed": true
   },
   "source": [
    "### Преобразуем переменную PPPPC в логарифмическую шкалу (по аналогии с Заданием 3)"
   ]
  },
  {
   "cell_type": "code",
   "execution_count": 43,
   "metadata": {
    "collapsed": true
   },
   "outputs": [],
   "source": [
    "econ_model['PPPPC']=np.log(econ_model['PPPPC'])"
   ]
  },
  {
   "cell_type": "code",
   "execution_count": 44,
   "metadata": {},
   "outputs": [
    {
     "data": {
      "text/html": [
       "<div>\n",
       "<style scoped>\n",
       "    .dataframe tbody tr th:only-of-type {\n",
       "        vertical-align: middle;\n",
       "    }\n",
       "\n",
       "    .dataframe tbody tr th {\n",
       "        vertical-align: top;\n",
       "    }\n",
       "\n",
       "    .dataframe thead th {\n",
       "        text-align: right;\n",
       "    }\n",
       "</style>\n",
       "<table border=\"1\" class=\"dataframe\">\n",
       "  <thead>\n",
       "    <tr style=\"text-align: right;\">\n",
       "      <th></th>\n",
       "      <th>Countryimf</th>\n",
       "      <th>Continent</th>\n",
       "      <th>BCA_NGDPD</th>\n",
       "      <th>GGXWDG_NGDP</th>\n",
       "      <th>NGDP_RPCH</th>\n",
       "      <th>NID_NGDP</th>\n",
       "      <th>PCPIPCH</th>\n",
       "      <th>PPPPC</th>\n",
       "      <th>NY.GNS.ICTR.ZS</th>\n",
       "    </tr>\n",
       "  </thead>\n",
       "  <tbody>\n",
       "    <tr>\n",
       "      <th>1</th>\n",
       "      <td>AFG</td>\n",
       "      <td>Asia</td>\n",
       "      <td>7.253</td>\n",
       "      <td>7.823</td>\n",
       "      <td>2.164</td>\n",
       "      <td>18.533</td>\n",
       "      <td>4.384</td>\n",
       "      <td>7.557744</td>\n",
       "      <td>18.096194</td>\n",
       "    </tr>\n",
       "    <tr>\n",
       "      <th>2</th>\n",
       "      <td>AGO</td>\n",
       "      <td>Africa</td>\n",
       "      <td>-4.780</td>\n",
       "      <td>75.253</td>\n",
       "      <td>-2.580</td>\n",
       "      <td>27.215</td>\n",
       "      <td>30.694</td>\n",
       "      <td>8.865876</td>\n",
       "      <td>3.049233</td>\n",
       "    </tr>\n",
       "    <tr>\n",
       "      <th>3</th>\n",
       "      <td>ALB</td>\n",
       "      <td>Europe</td>\n",
       "      <td>-7.563</td>\n",
       "      <td>73.187</td>\n",
       "      <td>3.352</td>\n",
       "      <td>24.277</td>\n",
       "      <td>1.275</td>\n",
       "      <td>9.378468</td>\n",
       "      <td>14.540693</td>\n",
       "    </tr>\n",
       "    <tr>\n",
       "      <th>4</th>\n",
       "      <td>ARE</td>\n",
       "      <td>Asia</td>\n",
       "      <td>3.706</td>\n",
       "      <td>20.217</td>\n",
       "      <td>2.988</td>\n",
       "      <td>27.143</td>\n",
       "      <td>1.617</td>\n",
       "      <td>11.138237</td>\n",
       "      <td>23.757937</td>\n",
       "    </tr>\n",
       "    <tr>\n",
       "      <th>6</th>\n",
       "      <td>ARM</td>\n",
       "      <td>Asia</td>\n",
       "      <td>-2.258</td>\n",
       "      <td>51.862</td>\n",
       "      <td>0.261</td>\n",
       "      <td>19.727</td>\n",
       "      <td>-1.406</td>\n",
       "      <td>9.065648</td>\n",
       "      <td>12.403776</td>\n",
       "    </tr>\n",
       "  </tbody>\n",
       "</table>\n",
       "</div>"
      ],
      "text/plain": [
       "  Countryimf Continent  BCA_NGDPD  GGXWDG_NGDP  NGDP_RPCH  NID_NGDP  PCPIPCH  \\\n",
       "1  AFG        Asia      7.253      7.823        2.164      18.533    4.384     \n",
       "2  AGO        Africa   -4.780      75.253      -2.580      27.215    30.694    \n",
       "3  ALB        Europe   -7.563      73.187       3.352      24.277    1.275     \n",
       "4  ARE        Asia      3.706      20.217       2.988      27.143    1.617     \n",
       "6  ARM        Asia     -2.258      51.862       0.261      19.727   -1.406     \n",
       "\n",
       "       PPPPC  NY.GNS.ICTR.ZS  \n",
       "1  7.557744   18.096194       \n",
       "2  8.865876   3.049233        \n",
       "3  9.378468   14.540693       \n",
       "4  11.138237  23.757937       \n",
       "6  9.065648   12.403776       "
      ]
     },
     "execution_count": 44,
     "metadata": {},
     "output_type": "execute_result"
    }
   ],
   "source": [
    "econ_model.head()"
   ]
  },
  {
   "cell_type": "code",
   "execution_count": 45,
   "metadata": {},
   "outputs": [
    {
     "data": {
      "text/plain": [
       "Countryimf        0\n",
       "Continent         0\n",
       "BCA_NGDPD         0\n",
       "GGXWDG_NGDP       0\n",
       "NGDP_RPCH         0\n",
       "NID_NGDP          0\n",
       "PCPIPCH           0\n",
       "PPPPC             0\n",
       "NY.GNS.ICTR.ZS    0\n",
       "dtype: int64"
      ]
     },
     "execution_count": 45,
     "metadata": {},
     "output_type": "execute_result"
    }
   ],
   "source": [
    "econ_model.isnull().sum()"
   ]
  },
  {
   "cell_type": "markdown",
   "metadata": {
    "collapsed": true
   },
   "source": [
    "## 4.Модель парной линейной регрессии"
   ]
  },
  {
   "cell_type": "markdown",
   "metadata": {},
   "source": [
    "### В качестве зависимой переменной Y будем рассматривать показатель темпа роста ВВП - NGDP_RPCH, в качестве объясняющей переменной X возьмем отношение общего объема инвестиций к ВВП."
   ]
  },
  {
   "cell_type": "code",
   "execution_count": 46,
   "metadata": {},
   "outputs": [
    {
     "data": {
      "text/plain": [
       "[<matplotlib.text.Text at 0x7f87a73e2b10>,\n",
       " <matplotlib.text.Text at 0x7f87a7358550>]"
      ]
     },
     "execution_count": 46,
     "metadata": {},
     "output_type": "execute_result"
    },
    {
     "data": {
      "image/png": "[encoded data removed]",
      "text/plain": [
       "<matplotlib.figure.Figure at 0x7f87a732f650>"
      ]
     },
     "metadata": {},
     "output_type": "display_data"
    }
   ],
   "source": [
    "p=econ_model[['NGDP_RPCH','NID_NGDP']].plot.scatter(x='NID_NGDP',y='NGDP_RPCH',title=u'Завимость между темпом прироста ВВП и инвестициями',figsize=(10,5),)\n",
    "p.set(xlabel=u'Отношение инвестиций к ВВП (%)',ylabel=u'Темп прироста ВВП (%)')"
   ]
  },
  {
   "cell_type": "code",
   "execution_count": 47,
   "metadata": {
    "collapsed": true
   },
   "outputs": [],
   "source": [
    "n=econ_model.shape[0] # общее число наблюдений "
   ]
  },
  {
   "cell_type": "code",
   "execution_count": 48,
   "metadata": {
    "collapsed": true
   },
   "outputs": [],
   "source": [
    "k=2 # общее число коэффициентов регрессии с учетом свободного члена"
   ]
  },
  {
   "cell_type": "markdown",
   "metadata": {
    "collapsed": true
   },
   "source": [
    "### Будем строить регрессеонную модель, используя разные бибилиотеки. Результаты должны совпасть."
   ]
  },
  {
   "cell_type": "markdown",
   "metadata": {},
   "source": [
    "### Библиотека scipy"
   ]
  },
  {
   "cell_type": "code",
   "execution_count": 49,
   "metadata": {
    "collapsed": true
   },
   "outputs": [],
   "source": [
    "model_linear_bi=stats.linregress(econ_model['NID_NGDP'],econ_model['NGDP_RPCH'])\n",
    "# вызов процедуры МНК и визуализация результатов"
   ]
  },
  {
   "cell_type": "code",
   "execution_count": 50,
   "metadata": {},
   "outputs": [
    {
     "data": {
      "text/plain": [
       "LinregressResult(slope=0.07500694043944571, intercept=0.58740416063225576, rvalue=0.19263974631582106, pvalue=0.01940627788955579, stderr=0.03172925492582547)"
      ]
     },
     "execution_count": 50,
     "metadata": {},
     "output_type": "execute_result"
    }
   ],
   "source": [
    "model_linear_bi"
   ]
  },
  {
   "cell_type": "code",
   "execution_count": 51,
   "metadata": {},
   "outputs": [
    {
     "name": "stdout",
     "output_type": "stream",
     "text": [
      "b0=0.5874\n",
      "b1=0.0750\n",
      "rvalue=0.1926\n",
      "pvalue=0.0194\n",
      "stderr=0.0317\n"
     ]
    }
   ],
   "source": [
    "print('b0=%.4f\\nb1=%.4f\\nrvalue=%.4f\\npvalue=%.4f\\nstderr=%.4f'%(model_linear_bi.intercept,model_linear_bi.slope,\n",
    "model_linear_bi.rvalue,model_linear_bi.pvalue,model_linear_bi.stderr))"
   ]
  },
  {
   "cell_type": "markdown",
   "metadata": {},
   "source": [
    "### Библиотека statsmodels"
   ]
  },
  {
   "cell_type": "code",
   "execution_count": 52,
   "metadata": {
    "collapsed": true
   },
   "outputs": [],
   "source": [
    "Y=econ_model['NGDP_RPCH']"
   ]
  },
  {
   "cell_type": "code",
   "execution_count": 53,
   "metadata": {
    "collapsed": true
   },
   "outputs": [],
   "source": [
    "X=sm.add_constant(econ_model['NID_NGDP'],prepend=True)\n",
    "# добавим единичный вектор к вектору X - для плучения модели со свободной переменной"
   ]
  },
  {
   "cell_type": "code",
   "execution_count": 54,
   "metadata": {},
   "outputs": [
    {
     "data": {
      "text/html": [
       "<div>\n",
       "<style scoped>\n",
       "    .dataframe tbody tr th:only-of-type {\n",
       "        vertical-align: middle;\n",
       "    }\n",
       "\n",
       "    .dataframe tbody tr th {\n",
       "        vertical-align: top;\n",
       "    }\n",
       "\n",
       "    .dataframe thead th {\n",
       "        text-align: right;\n",
       "    }\n",
       "</style>\n",
       "<table border=\"1\" class=\"dataframe\">\n",
       "  <thead>\n",
       "    <tr style=\"text-align: right;\">\n",
       "      <th></th>\n",
       "      <th>const</th>\n",
       "      <th>NID_NGDP</th>\n",
       "    </tr>\n",
       "  </thead>\n",
       "  <tbody>\n",
       "    <tr>\n",
       "      <th>1</th>\n",
       "      <td>1.0</td>\n",
       "      <td>18.533</td>\n",
       "    </tr>\n",
       "    <tr>\n",
       "      <th>2</th>\n",
       "      <td>1.0</td>\n",
       "      <td>27.215</td>\n",
       "    </tr>\n",
       "    <tr>\n",
       "      <th>3</th>\n",
       "      <td>1.0</td>\n",
       "      <td>24.277</td>\n",
       "    </tr>\n",
       "    <tr>\n",
       "      <th>4</th>\n",
       "      <td>1.0</td>\n",
       "      <td>27.143</td>\n",
       "    </tr>\n",
       "    <tr>\n",
       "      <th>6</th>\n",
       "      <td>1.0</td>\n",
       "      <td>19.727</td>\n",
       "    </tr>\n",
       "  </tbody>\n",
       "</table>\n",
       "</div>"
      ],
      "text/plain": [
       "   const  NID_NGDP\n",
       "1  1.0    18.533  \n",
       "2  1.0    27.215  \n",
       "3  1.0    24.277  \n",
       "4  1.0    27.143  \n",
       "6  1.0    19.727  "
      ]
     },
     "execution_count": 54,
     "metadata": {},
     "output_type": "execute_result"
    }
   ],
   "source": [
    "X.head()"
   ]
  },
  {
   "cell_type": "code",
   "execution_count": 55,
   "metadata": {},
   "outputs": [
    {
     "data": {
      "text/html": [
       "<table class=\"simpletable\">\n",
       "<caption>OLS Regression Results</caption>\n",
       "<tr>\n",
       "  <th>Dep. Variable:</th>        <td>NGDP_RPCH</td>    <th>  R-squared:         </th> <td>   0.037</td>\n",
       "</tr>\n",
       "<tr>\n",
       "  <th>Model:</th>                   <td>OLS</td>       <th>  Adj. R-squared:    </th> <td>   0.030</td>\n",
       "</tr>\n",
       "<tr>\n",
       "  <th>Method:</th>             <td>Least Squares</td>  <th>  F-statistic:       </th> <td>   5.588</td>\n",
       "</tr>\n",
       "<tr>\n",
       "  <th>Date:</th>             <td>Wed, 05 Dec 2018</td> <th>  Prob (F-statistic):</th>  <td>0.0194</td> \n",
       "</tr>\n",
       "<tr>\n",
       "  <th>Time:</th>                 <td>08:43:54</td>     <th>  Log-Likelihood:    </th> <td> -399.33</td>\n",
       "</tr>\n",
       "<tr>\n",
       "  <th>No. Observations:</th>      <td>   147</td>      <th>  AIC:               </th> <td>   802.7</td>\n",
       "</tr>\n",
       "<tr>\n",
       "  <th>Df Residuals:</th>          <td>   145</td>      <th>  BIC:               </th> <td>   808.6</td>\n",
       "</tr>\n",
       "<tr>\n",
       "  <th>Df Model:</th>              <td>     1</td>      <th>                     </th>     <td> </td>   \n",
       "</tr>\n",
       "<tr>\n",
       "  <th>Covariance Type:</th>      <td>nonrobust</td>    <th>                     </th>     <td> </td>   \n",
       "</tr>\n",
       "</table>\n",
       "<table class=\"simpletable\">\n",
       "<tr>\n",
       "      <td></td>        <th>coef</th>     <th>std err</th>      <th>t</th>      <th>P>|t|</th>  <th>[0.025</th>    <th>0.975]</th>  \n",
       "</tr>\n",
       "<tr>\n",
       "  <th>const</th>    <td>    0.5874</td> <td>    0.824</td> <td>    0.713</td> <td> 0.477</td> <td>   -1.040</td> <td>    2.215</td>\n",
       "</tr>\n",
       "<tr>\n",
       "  <th>NID_NGDP</th> <td>    0.0750</td> <td>    0.032</td> <td>    2.364</td> <td> 0.019</td> <td>    0.012</td> <td>    0.138</td>\n",
       "</tr>\n",
       "</table>\n",
       "<table class=\"simpletable\">\n",
       "<tr>\n",
       "  <th>Omnibus:</th>       <td>82.248</td> <th>  Durbin-Watson:     </th> <td>   2.081</td>\n",
       "</tr>\n",
       "<tr>\n",
       "  <th>Prob(Omnibus):</th> <td> 0.000</td> <th>  Jarque-Bera (JB):  </th> <td> 411.287</td>\n",
       "</tr>\n",
       "<tr>\n",
       "  <th>Skew:</th>          <td>-2.033</td> <th>  Prob(JB):          </th> <td>4.90e-90</td>\n",
       "</tr>\n",
       "<tr>\n",
       "  <th>Kurtosis:</th>      <td>10.114</td> <th>  Cond. No.          </th> <td>    70.4</td>\n",
       "</tr>\n",
       "</table>"
      ],
      "text/plain": [
       "<class 'statsmodels.iolib.summary.Summary'>\n",
       "\"\"\"\n",
       "                            OLS Regression Results                            \n",
       "==============================================================================\n",
       "Dep. Variable:              NGDP_RPCH   R-squared:                       0.037\n",
       "Model:                            OLS   Adj. R-squared:                  0.030\n",
       "Method:                 Least Squares   F-statistic:                     5.588\n",
       "Date:                Wed, 05 Dec 2018   Prob (F-statistic):             0.0194\n",
       "Time:                        08:43:54   Log-Likelihood:                -399.33\n",
       "No. Observations:                 147   AIC:                             802.7\n",
       "Df Residuals:                     145   BIC:                             808.6\n",
       "Df Model:                           1                                         \n",
       "Covariance Type:            nonrobust                                         \n",
       "==============================================================================\n",
       "                 coef    std err          t      P>|t|      [0.025      0.975]\n",
       "------------------------------------------------------------------------------\n",
       "const          0.5874      0.824      0.713      0.477      -1.040       2.215\n",
       "NID_NGDP       0.0750      0.032      2.364      0.019       0.012       0.138\n",
       "==============================================================================\n",
       "Omnibus:                       82.248   Durbin-Watson:                   2.081\n",
       "Prob(Omnibus):                  0.000   Jarque-Bera (JB):              411.287\n",
       "Skew:                          -2.033   Prob(JB):                     4.90e-90\n",
       "Kurtosis:                      10.114   Cond. No.                         70.4\n",
       "==============================================================================\n",
       "\n",
       "Warnings:\n",
       "[1] Standard Errors assume that the covariance matrix of the errors is correctly specified.\n",
       "\"\"\""
      ]
     },
     "execution_count": 55,
     "metadata": {},
     "output_type": "execute_result"
    }
   ],
   "source": [
    "sm.OLS(Y,X).fit().summary()\n",
    "# вызов процедуры МНК и визуализация результатов"
   ]
  },
  {
   "cell_type": "markdown",
   "metadata": {},
   "source": [
    "### Библиотека numpy"
   ]
  },
  {
   "cell_type": "code",
   "execution_count": 56,
   "metadata": {
    "collapsed": true
   },
   "outputs": [],
   "source": [
    "A=np.vstack([np.ones(n),econ_model['NID_NGDP']]).T\n",
    "# добавим единичный вектор к вектору X - для плучения модели со свободной переменной"
   ]
  },
  {
   "cell_type": "code",
   "execution_count": 57,
   "metadata": {},
   "outputs": [
    {
     "data": {
      "text/plain": [
       "array([[  1.   ,  18.533],\n",
       "       [  1.   ,  27.215],\n",
       "       [  1.   ,  24.277],\n",
       "       [  1.   ,  27.143],\n",
       "       [  1.   ,  19.727],\n",
       "       [  1.   ,  24.343],\n",
       "       [  1.   ,  24.118],\n",
       "       [  1.   ,  24.93 ],\n",
       "       [  1.   ,   9.   ],\n",
       "       [  1.   ,  23.952]])"
      ]
     },
     "execution_count": 57,
     "metadata": {},
     "output_type": "execute_result"
    }
   ],
   "source": [
    "A[0:10]"
   ]
  },
  {
   "cell_type": "code",
   "execution_count": 58,
   "metadata": {
    "collapsed": true
   },
   "outputs": [],
   "source": [
    "p,res,rnk,s=np.linalg.lstsq(A,np.array(Y))\n",
    "# вызов процедуры МНК и визуализация результатов"
   ]
  },
  {
   "cell_type": "code",
   "execution_count": 59,
   "metadata": {},
   "outputs": [
    {
     "data": {
      "text/plain": [
       "(array([ 0.58740416,  0.07500694]),\n",
       " array([ 1969.72042876]),\n",
       " 2,\n",
       " array([ 314.92294141,    4.4721132 ]))"
      ]
     },
     "execution_count": 59,
     "metadata": {},
     "output_type": "execute_result"
    }
   ],
   "source": [
    "p,res,rnk,s"
   ]
  },
  {
   "cell_type": "markdown",
   "metadata": {},
   "source": [
    "### Проведем \"ручной\" расчет"
   ]
  },
  {
   "cell_type": "markdown",
   "metadata": {},
   "source": [
    "<font size='5'>$b_1=\\frac{cov(x,y)}{var(x)}$</font>"
   ]
  },
  {
   "cell_type": "code",
   "execution_count": 60,
   "metadata": {
    "collapsed": true
   },
   "outputs": [],
   "source": [
    "b1=np.mean(np.multiply((econ_model['NGDP_RPCH']-np.mean(econ_model['NGDP_RPCH'])),\n",
    "(econ_model['NID_NGDP']-np.mean(econ_model['NGDP_RPCH']))))/(np.mean((econ_model['NID_NGDP']-np.mean(econ_model['NID_NGDP']))**2))"
   ]
  },
  {
   "cell_type": "markdown",
   "metadata": {},
   "source": [
    "<font size='5'>$b_0=\\overline{y}-\\overline{x}b_1$</font>"
   ]
  },
  {
   "cell_type": "code",
   "execution_count": 61,
   "metadata": {
    "collapsed": true
   },
   "outputs": [],
   "source": [
    "b0=np.mean(econ_model['NGDP_RPCH'])-np.mean(econ_model['NID_NGDP'])*b1"
   ]
  },
  {
   "cell_type": "code",
   "execution_count": 62,
   "metadata": {},
   "outputs": [
    {
     "data": {
      "text/plain": [
       "(0.5874041606322657, 0.07500694043944536)"
      ]
     },
     "execution_count": 62,
     "metadata": {},
     "output_type": "execute_result"
    }
   ],
   "source": [
    "b0,b1"
   ]
  },
  {
   "cell_type": "code",
   "execution_count": 63,
   "metadata": {
    "collapsed": true
   },
   "outputs": [],
   "source": [
    "Y_hat=b0+b1*econ_model['NID_NGDP']\n",
    "# выравненные значения переменной Y"
   ]
  },
  {
   "cell_type": "code",
   "execution_count": 64,
   "metadata": {},
   "outputs": [
    {
     "data": {
      "text/plain": [
       "1    1.977508\n",
       "2    2.628718\n",
       "3    2.408348\n",
       "4    2.623318\n",
       "6    2.067066\n",
       "Name: NID_NGDP, dtype: float64"
      ]
     },
     "execution_count": 64,
     "metadata": {},
     "output_type": "execute_result"
    }
   ],
   "source": [
    "Y_hat.head()"
   ]
  },
  {
   "cell_type": "code",
   "execution_count": 65,
   "metadata": {
    "collapsed": true
   },
   "outputs": [],
   "source": [
    "resid=(Y-Y_hat)\n",
    "# остатки уравнения регрессии"
   ]
  },
  {
   "cell_type": "code",
   "execution_count": 66,
   "metadata": {},
   "outputs": [
    {
     "data": {
      "text/plain": [
       "-1.7446361815538173e-15"
      ]
     },
     "execution_count": 66,
     "metadata": {},
     "output_type": "execute_result"
    }
   ],
   "source": [
    "np.mean(resid)\n",
    "# проверка равенства нулю среднего значения остатков"
   ]
  },
  {
   "cell_type": "code",
   "execution_count": 67,
   "metadata": {},
   "outputs": [
    {
     "data": {
      "text/plain": [
       "<matplotlib.axes._subplots.AxesSubplot at 0x7f87a71efa10>"
      ]
     },
     "execution_count": 67,
     "metadata": {},
     "output_type": "execute_result"
    },
    {
     "data": {
      "image/png": "[encoded data removed]",
      "text/plain": [
       "<matplotlib.figure.Figure at 0x7f87c1fc3410>"
      ]
     },
     "metadata": {},
     "output_type": "display_data"
    }
   ],
   "source": [
    "resid.plot(kind='hist')"
   ]
  },
  {
   "cell_type": "code",
   "execution_count": 68,
   "metadata": {},
   "outputs": [
    {
     "data": {
      "text/plain": [
       "NormaltestResult(statistic=82.248245334017952, pvalue=1.3804492737634052e-18)"
      ]
     },
     "execution_count": 68,
     "metadata": {},
     "output_type": "execute_result"
    }
   ],
   "source": [
    "stats.normaltest(resid)\n",
    "# проверка нормальности распределения остатков"
   ]
  },
  {
   "cell_type": "code",
   "execution_count": 69,
   "metadata": {},
   "outputs": [
    {
     "data": {
      "text/plain": [
       "1969.7204287620832"
      ]
     },
     "execution_count": 69,
     "metadata": {},
     "output_type": "execute_result"
    }
   ],
   "source": [
    "SSR=np.sum((resid)**2)\n",
    "SSR\n",
    "# cумма квадратов остатков уравнения регрессии"
   ]
  },
  {
   "cell_type": "markdown",
   "metadata": {},
   "source": [
    "### Коэффициент детерминации $R^2=1-\\frac{SSR}{\\sum(y_i-\\overline{y})^2}$"
   ]
  },
  {
   "cell_type": "code",
   "execution_count": 70,
   "metadata": {},
   "outputs": [
    {
     "data": {
      "text/plain": [
       "0.03711007186062365"
      ]
     },
     "execution_count": 70,
     "metadata": {},
     "output_type": "execute_result"
    }
   ],
   "source": [
    "R_sq=1-(SSR/np.sum((econ_model['NGDP_RPCH']-np.mean(econ_model['NGDP_RPCH']))**2))\n",
    "R_sq\n",
    "# коэффициент детерминации"
   ]
  },
  {
   "cell_type": "markdown",
   "metadata": {},
   "source": [
    "### Скорректированный коэффициент детерминации $R^2=1-\\frac{(1-R^2)(n-1)}{n-k}$"
   ]
  },
  {
   "cell_type": "code",
   "execution_count": 71,
   "metadata": {},
   "outputs": [
    {
     "data": {
      "text/plain": [
       "0.030469451666559122"
      ]
     },
     "execution_count": 71,
     "metadata": {},
     "output_type": "execute_result"
    }
   ],
   "source": [
    "R_sq_adjusted=1-(((1-R_sq)*(n-1))/(n-k))\n",
    "R_sq_adjusted\n",
    "# скорректированный коэффициент детерминации"
   ]
  },
  {
   "cell_type": "code",
   "execution_count": 72,
   "metadata": {},
   "outputs": [
    {
     "data": {
      "text/plain": [
       "0.19263974631582043"
      ]
     },
     "execution_count": 72,
     "metadata": {},
     "output_type": "execute_result"
    }
   ],
   "source": [
    "R_sq**.5\n",
    "# коэффициент корреляции (парный совпадает с множественным)"
   ]
  },
  {
   "cell_type": "markdown",
   "metadata": {},
   "source": [
    "### Проверим гипотезу $H_0:\\beta_1=0$"
   ]
  },
  {
   "cell_type": "markdown",
   "metadata": {},
   "source": [
    "### Для этой цели рассчитаем стандартные ошибки коэффициентов регрессии  по формуле $\\sigma^2(X^{'}X)^{-1}$ "
   ]
  },
  {
   "cell_type": "markdown",
   "metadata": {},
   "source": [
    "### Здесь и далее $\\alpha=0.05$"
   ]
  },
  {
   "cell_type": "code",
   "execution_count": 73,
   "metadata": {},
   "outputs": [
    {
     "data": {
      "text/plain": [
       "array([[  4.99364809e-02,  -1.78792887e-03],\n",
       "       [ -1.78792887e-03,   7.41110832e-05]])"
      ]
     },
     "execution_count": 73,
     "metadata": {},
     "output_type": "execute_result"
    }
   ],
   "source": [
    "S_2=np.dot(A.T,A)\n",
    "S_2=np.linalg.inv(S_2)\n",
    "S_2"
   ]
  },
  {
   "cell_type": "code",
   "execution_count": 74,
   "metadata": {},
   "outputs": [
    {
     "data": {
      "text/plain": [
       "0.031729254925825484"
      ]
     },
     "execution_count": 74,
     "metadata": {},
     "output_type": "execute_result"
    }
   ],
   "source": [
    "std_err=((SSR/(n-k))*S_2[1,1])**.5\n",
    "std_err # стандартная ошибка коэффициента регрессии"
   ]
  },
  {
   "cell_type": "markdown",
   "metadata": {},
   "source": [
    "<font size='5'>$t=\\frac{b_1}{s}$</font>"
   ]
  },
  {
   "cell_type": "code",
   "execution_count": 75,
   "metadata": {},
   "outputs": [
    {
     "data": {
      "text/plain": [
       "2.3639679095771879"
      ]
     },
     "execution_count": 75,
     "metadata": {},
     "output_type": "execute_result"
    }
   ],
   "source": [
    "t=b1/std_err\n",
    "t # t-критерий Стьюдента"
   ]
  },
  {
   "cell_type": "code",
   "execution_count": 76,
   "metadata": {},
   "outputs": [
    {
     "data": {
      "text/plain": [
       "0.019406277889556511"
      ]
     },
     "execution_count": 76,
     "metadata": {},
     "output_type": "execute_result"
    }
   ],
   "source": [
    "2*(1-stats.t.cdf(t,n-k))# p-value"
   ]
  },
  {
   "cell_type": "code",
   "execution_count": 77,
   "metadata": {},
   "outputs": [
    {
     "data": {
      "text/plain": [
       "0.062711589313000443"
      ]
     },
     "execution_count": 77,
     "metadata": {},
     "output_type": "execute_result"
    }
   ],
   "source": [
    "delta=stats.t.ppf(.975,n-k)*std_err\n",
    "delta\n",
    "# построение интервальной оценки коэффициента регрессии"
   ]
  },
  {
   "cell_type": "code",
   "execution_count": 78,
   "metadata": {},
   "outputs": [
    {
     "data": {
      "text/plain": [
       "(0.01229535112644492, 0.13771852975244581)"
      ]
     },
     "execution_count": 78,
     "metadata": {},
     "output_type": "execute_result"
    }
   ],
   "source": [
    "b1-delta,b1+delta"
   ]
  },
  {
   "cell_type": "markdown",
   "metadata": {},
   "source": [
    "### Проверка значимости уравнения регрессии. В случае двумерной модели совпадает с проверкой значимости коэффициента регрессии"
   ]
  },
  {
   "cell_type": "code",
   "execution_count": 79,
   "metadata": {},
   "outputs": [
    {
     "data": {
      "text/plain": [
       "5.5883442775107399"
      ]
     },
     "execution_count": 79,
     "metadata": {},
     "output_type": "execute_result"
    }
   ],
   "source": [
    "t**2 # Для парной регрессии t-критерий Стьдента в квадрате равен F- критерию Фишера-Снедекора"
   ]
  },
  {
   "cell_type": "markdown",
   "metadata": {},
   "source": [
    "### F-критерий $F=\\frac{\\frac{\\sum(y_i-\\overline{y})^2-\\sum(y_i-\\hat{y})^2}{(k-1)}}{\\frac{\\sum(y_i-\\hat{y})^2}{(n-k)}}$ "
   ]
  },
  {
   "cell_type": "code",
   "execution_count": 80,
   "metadata": {},
   "outputs": [
    {
     "data": {
      "text/plain": [
       "5.5883442775107248"
      ]
     },
     "execution_count": 80,
     "metadata": {},
     "output_type": "execute_result"
    }
   ],
   "source": [
    "F=((np.var(econ_model['NGDP_RPCH'])*n-SSR)/(k-1))/(SSR/(n-k))\n",
    "F# F- критерий Фишера-Снедекора"
   ]
  },
  {
   "cell_type": "markdown",
   "metadata": {},
   "source": [
    "### Функция правдоподобия $ln\\lbrack\\prod_{i=1}^{n}\\frac{1}{\\sigma\\sqrt{2\\pi}}exp(-\\frac{(y_i-\\hat{y_i})^2}{2\\sigma^2})\\rbrack$"
   ]
  },
  {
   "cell_type": "code",
   "execution_count": 81,
   "metadata": {},
   "outputs": [
    {
     "data": {
      "text/plain": [
       "-399.33221620640444"
      ]
     },
     "execution_count": 81,
     "metadata": {},
     "output_type": "execute_result"
    }
   ],
   "source": [
    "L=(1/np.sqrt(2*np.pi*(SSR/n)))**n*np.exp(-SSR/((SSR/n)*2))\n",
    "np.log(L)"
   ]
  },
  {
   "cell_type": "code",
   "execution_count": 82,
   "metadata": {},
   "outputs": [
    {
     "data": {
      "text/plain": [
       "<matplotlib.text.Text at 0x7f87a428dfd0>"
      ]
     },
     "execution_count": 82,
     "metadata": {},
     "output_type": "execute_result"
    },
    {
     "data": {
      "image/png": "[encoded data removed]",
      "text/plain": [
       "<matplotlib.figure.Figure at 0x7f87a7191c50>"
      ]
     },
     "metadata": {},
     "output_type": "display_data"
    }
   ],
   "source": [
    "plt.figure(figsize=(8,6))\n",
    "plt.scatter(econ_model['NID_NGDP'],econ_model['NGDP_RPCH'], c='green')\n",
    "plt.plot(econ_model['NID_NGDP'],Y_hat)\n",
    "plt.title(u'Завимость между темпом прироста ВВП и инвестициями')\n",
    "plt.ylabel(u'Темп прироста ВВП (%)')\n",
    "plt.xlabel(u'Отношение инвестиций к ВВП (%)')\n",
    "#plt.show()"
   ]
  },
  {
   "cell_type": "markdown",
   "metadata": {},
   "source": [
    "### Общий вывод: Уравнение регрессии значимо, о чем свидетельствуют значения F-критерия и p-value. Однако выявленная взаимосвязь  очень слабая - коэффициент детерминации равен чуть более 3%, т.е. только 3% прироста ВВП объясняется долей инвестиций ВВП. Интерпретация коэффициента регрессии - увеличение доли инвестиций в ВВП на 1 п.п. увеличивает рост ВВП на 0.07 п.п."
   ]
  },
  {
   "cell_type": "markdown",
   "metadata": {
    "collapsed": true
   },
   "source": [
    "## 5. Модель множественной регрессии"
   ]
  },
  {
   "cell_type": "markdown",
   "metadata": {},
   "source": [
    "### В качестве зависимой переменной Y будем рассматривать показатель темпа роста ВВП - NGDP_RPCH, в качестве объясняющих возьмем остальные экономические показатели (таким образом, X - уже не вектор, а матрица)."
   ]
  },
  {
   "cell_type": "code",
   "execution_count": 83,
   "metadata": {
    "collapsed": true
   },
   "outputs": [],
   "source": [
    "k_m=7 # количество независимых переменных"
   ]
  },
  {
   "cell_type": "code",
   "execution_count": 84,
   "metadata": {
    "collapsed": true
   },
   "outputs": [],
   "source": [
    "X_m=sm.add_constant(econ_model.iloc[:,[2,3,5,6,7,8]],prepend=True)\n",
    "# формирование матрица независимых переменных с учетом единичного вектора"
   ]
  },
  {
   "cell_type": "code",
   "execution_count": 85,
   "metadata": {},
   "outputs": [
    {
     "data": {
      "text/html": [
       "<div>\n",
       "<style scoped>\n",
       "    .dataframe tbody tr th:only-of-type {\n",
       "        vertical-align: middle;\n",
       "    }\n",
       "\n",
       "    .dataframe tbody tr th {\n",
       "        vertical-align: top;\n",
       "    }\n",
       "\n",
       "    .dataframe thead th {\n",
       "        text-align: right;\n",
       "    }\n",
       "</style>\n",
       "<table border=\"1\" class=\"dataframe\">\n",
       "  <thead>\n",
       "    <tr style=\"text-align: right;\">\n",
       "      <th></th>\n",
       "      <th>const</th>\n",
       "      <th>BCA_NGDPD</th>\n",
       "      <th>GGXWDG_NGDP</th>\n",
       "      <th>NID_NGDP</th>\n",
       "      <th>PCPIPCH</th>\n",
       "      <th>PPPPC</th>\n",
       "      <th>NY.GNS.ICTR.ZS</th>\n",
       "    </tr>\n",
       "  </thead>\n",
       "  <tbody>\n",
       "    <tr>\n",
       "      <th>1</th>\n",
       "      <td>1.0</td>\n",
       "      <td>7.253</td>\n",
       "      <td>7.823</td>\n",
       "      <td>18.533</td>\n",
       "      <td>4.384</td>\n",
       "      <td>7.557744</td>\n",
       "      <td>18.096194</td>\n",
       "    </tr>\n",
       "    <tr>\n",
       "      <th>2</th>\n",
       "      <td>1.0</td>\n",
       "      <td>-4.780</td>\n",
       "      <td>75.253</td>\n",
       "      <td>27.215</td>\n",
       "      <td>30.694</td>\n",
       "      <td>8.865876</td>\n",
       "      <td>3.049233</td>\n",
       "    </tr>\n",
       "    <tr>\n",
       "      <th>3</th>\n",
       "      <td>1.0</td>\n",
       "      <td>-7.563</td>\n",
       "      <td>73.187</td>\n",
       "      <td>24.277</td>\n",
       "      <td>1.275</td>\n",
       "      <td>9.378468</td>\n",
       "      <td>14.540693</td>\n",
       "    </tr>\n",
       "    <tr>\n",
       "      <th>4</th>\n",
       "      <td>1.0</td>\n",
       "      <td>3.706</td>\n",
       "      <td>20.217</td>\n",
       "      <td>27.143</td>\n",
       "      <td>1.617</td>\n",
       "      <td>11.138237</td>\n",
       "      <td>23.757937</td>\n",
       "    </tr>\n",
       "    <tr>\n",
       "      <th>6</th>\n",
       "      <td>1.0</td>\n",
       "      <td>-2.258</td>\n",
       "      <td>51.862</td>\n",
       "      <td>19.727</td>\n",
       "      <td>-1.406</td>\n",
       "      <td>9.065648</td>\n",
       "      <td>12.403776</td>\n",
       "    </tr>\n",
       "  </tbody>\n",
       "</table>\n",
       "</div>"
      ],
      "text/plain": [
       "   const  BCA_NGDPD  GGXWDG_NGDP  NID_NGDP  PCPIPCH      PPPPC  NY.GNS.ICTR.ZS\n",
       "1  1.0    7.253      7.823        18.533    4.384    7.557744   18.096194     \n",
       "2  1.0   -4.780      75.253       27.215    30.694   8.865876   3.049233      \n",
       "3  1.0   -7.563      73.187       24.277    1.275    9.378468   14.540693     \n",
       "4  1.0    3.706      20.217       27.143    1.617    11.138237  23.757937     \n",
       "6  1.0   -2.258      51.862       19.727   -1.406    9.065648   12.403776     "
      ]
     },
     "execution_count": 85,
     "metadata": {},
     "output_type": "execute_result"
    }
   ],
   "source": [
    "X_m.head()"
   ]
  },
  {
   "cell_type": "code",
   "execution_count": 86,
   "metadata": {
    "collapsed": true
   },
   "outputs": [],
   "source": [
    "Y_m=np.asarray(econ_model['NGDP_RPCH'])max"
   ]
  },
  {
   "cell_type": "code",
   "execution_count": 87,
   "metadata": {
    "collapsed": true
   },
   "outputs": [],
   "source": [
    "Y_m=Y_m[:,np.newaxis]"
   ]
  },
  {
   "cell_type": "code",
   "execution_count": 88,
   "metadata": {},
   "outputs": [
    {
     "data": {
      "text/plain": [
       "(147, 1)"
      ]
     },
     "execution_count": 88,
     "metadata": {},
     "output_type": "execute_result"
    }
   ],
   "source": [
    "Y_m.shape"
   ]
  },
  {
   "cell_type": "code",
   "execution_count": 89,
   "metadata": {
    "collapsed": true
   },
   "outputs": [],
   "source": [
    "model_linear_m=sm.OLS(Y_m,X_m)\n",
    "# создание модели"
   ]
  },
  {
   "cell_type": "code",
   "execution_count": 90,
   "metadata": {
    "collapsed": true
   },
   "outputs": [],
   "source": [
    "results=model_linear_m.fit()"
   ]
  },
  {
   "cell_type": "code",
   "execution_count": 91,
   "metadata": {},
   "outputs": [
    {
     "name": "stdout",
     "output_type": "stream",
     "text": [
      "                            OLS Regression Results                            \n",
      "==============================================================================\n",
      "Dep. Variable:                      y   R-squared:                       0.376\n",
      "Model:                            OLS   Adj. R-squared:                  0.349\n",
      "Method:                 Least Squares   F-statistic:                     14.06\n",
      "Date:                Wed, 05 Dec 2018   Prob (F-statistic):           1.73e-12\n",
      "Time:                        08:43:56   Log-Likelihood:                -367.44\n",
      "No. Observations:                 147   AIC:                             748.9\n",
      "Df Residuals:                     140   BIC:                             769.8\n",
      "Df Model:                           6                                         \n",
      "Covariance Type:            nonrobust                                         \n",
      "==================================================================================\n",
      "                     coef    std err          t      P>|t|      [0.025      0.975]\n",
      "----------------------------------------------------------------------------------\n",
      "const              7.5535      2.264      3.337      0.001       3.078      12.029\n",
      "BCA_NGDPD          0.0704      0.031      2.290      0.024       0.010       0.131\n",
      "GGXWDG_NGDP       -0.0020      0.008     -0.259      0.796      -0.017       0.013\n",
      "NID_NGDP           0.1025      0.030      3.461      0.001       0.044       0.161\n",
      "PCPIPCH           -0.0563      0.007     -8.380      0.000      -0.070      -0.043\n",
      "PPPPC             -0.7269      0.235     -3.096      0.002      -1.191      -0.263\n",
      "NY.GNS.ICTR.ZS    -0.0015      0.024     -0.062      0.951      -0.048       0.045\n",
      "==============================================================================\n",
      "Omnibus:                       60.252   Durbin-Watson:                   1.985\n",
      "Prob(Omnibus):                  0.000   Jarque-Bera (JB):              255.460\n",
      "Skew:                          -1.447   Prob(JB):                     3.37e-56\n",
      "Kurtosis:                       8.773   Cond. No.                         671.\n",
      "==============================================================================\n",
      "\n",
      "Warnings:\n",
      "[1] Standard Errors assume that the covariance matrix of the errors is correctly specified.\n"
     ]
    }
   ],
   "source": [
    "print(results.summary())"
   ]
  },
  {
   "cell_type": "markdown",
   "metadata": {},
   "source": [
    "<font size='5'>$\\beta=(X^{'}X)^{-1}(X^{'}Y)$</font>"
   ]
  },
  {
   "cell_type": "code",
   "execution_count": 92,
   "metadata": {
    "collapsed": true
   },
   "outputs": [],
   "source": [
    "Betas=np.dot(np.linalg.inv(np.dot(X_m.T,X_m)),np.dot(X_m.T,Y_m))\n",
    "# расчет коэффициентов регрессии"
   ]
  },
  {
   "cell_type": "code",
   "execution_count": 93,
   "metadata": {},
   "outputs": [
    {
     "data": {
      "text/plain": [
       "array([[  7.55348813e+00],\n",
       "       [  7.04379635e-02],\n",
       "       [ -2.01308809e-03],\n",
       "       [  1.02520428e-01],\n",
       "       [ -5.62982925e-02],\n",
       "       [ -7.26900000e-01],\n",
       "       [ -1.46476134e-03]])"
      ]
     },
     "execution_count": 93,
     "metadata": {},
     "output_type": "execute_result"
    }
   ],
   "source": [
    "Betas"
   ]
  },
  {
   "cell_type": "code",
   "execution_count": 94,
   "metadata": {
    "collapsed": true
   },
   "outputs": [],
   "source": [
    "Y_hat_m=np.dot(X_m,Betas)\n",
    "# выравненные значения переменной Y"
   ]
  },
  {
   "cell_type": "code",
   "execution_count": 95,
   "metadata": {},
   "outputs": [
    {
     "data": {
      "text/plain": [
       "array([[ 4.18159505],\n",
       "       [ 1.67830596],\n",
       "       [ 2.45203496],\n",
       "       [ 2.33432599],\n",
       "       [ 2.78362401],\n",
       "       [ 2.51750641],\n",
       "       [ 2.08628781],\n",
       "       [ 1.91014539],\n",
       "       [ 2.30427386],\n",
       "       [ 1.9152273 ]])"
      ]
     },
     "execution_count": 95,
     "metadata": {},
     "output_type": "execute_result"
    }
   ],
   "source": [
    "Y_hat_m[0:10]"
   ]
  },
  {
   "cell_type": "code",
   "execution_count": 96,
   "metadata": {
    "collapsed": true
   },
   "outputs": [],
   "source": [
    "resid_m=Y_m-Y_hat_m\n",
    "# остатки уравнения регессии"
   ]
  },
  {
   "cell_type": "code",
   "execution_count": 97,
   "metadata": {},
   "outputs": [
    {
     "data": {
      "text/plain": [
       "1.7630643732550784e-14"
      ]
     },
     "execution_count": 97,
     "metadata": {},
     "output_type": "execute_result"
    }
   ],
   "source": [
    "np.mean(resid_m)\n",
    "# среднее значение остатков незначимо отличается от нуля"
   ]
  },
  {
   "cell_type": "code",
   "execution_count": 98,
   "metadata": {},
   "outputs": [
    {
     "data": {
      "text/plain": [
       "NormaltestResult(statistic=array([ 60.2520094]), pvalue=array([  8.24978055e-14]))"
      ]
     },
     "execution_count": 98,
     "metadata": {},
     "output_type": "execute_result"
    }
   ],
   "source": [
    "stats.normaltest(resid_m)\n",
    "# проверка нормальности распределения остатков"
   ]
  },
  {
   "cell_type": "code",
   "execution_count": 99,
   "metadata": {},
   "outputs": [
    {
     "data": {
      "text/plain": [
       "1276.3886530102911"
      ]
     },
     "execution_count": 99,
     "metadata": {},
     "output_type": "execute_result"
    }
   ],
   "source": [
    "SSR_m=np.sum((resid_m)**2)\n",
    "SSR_m\n",
    "# cумма квадратов остатков уравнения регрессии"
   ]
  },
  {
   "cell_type": "markdown",
   "metadata": {},
   "source": [
    "### Проверим гипотезы $H_0:\\beta_i=0$ для каждого коэффициента регрессии"
   ]
  },
  {
   "cell_type": "markdown",
   "metadata": {},
   "source": [
    "### Используем тот же подход и формулы, как и в случае двумерной модели"
   ]
  },
  {
   "cell_type": "code",
   "execution_count": 100,
   "metadata": {
    "collapsed": true
   },
   "outputs": [],
   "source": [
    "S_2_m=np.linalg.inv(np.dot(X_m.T,X_m))"
   ]
  },
  {
   "cell_type": "code",
   "execution_count": 101,
   "metadata": {},
   "outputs": [
    {
     "data": {
      "text/plain": [
       "array([[  4.94706510e+00,   1.88080245e-02,  -1.13592565e-03,\n",
       "         -3.41375741e-03,  -2.71958727e-03,  -4.58648431e-01,\n",
       "         -1.67217618e-02],\n",
       "       [  1.88080245e-02,   9.13784208e-04,   7.17571002e-05,\n",
       "          4.16384147e-04,  -1.65428938e-05,  -3.11538731e-03,\n",
       "         -2.46604523e-05],\n",
       "       [ -1.13592565e-03,   7.17571002e-05,   5.84637639e-05,\n",
       "          3.34175435e-05,  -2.71653615e-06,  -3.14539764e-04,\n",
       "          9.38166837e-06],\n",
       "       [ -3.41375741e-03,   4.16384147e-04,   3.34175435e-05,\n",
       "          8.47207820e-04,  -2.19862737e-06,  -1.82152496e-03,\n",
       "         -2.07067675e-05],\n",
       "       [ -2.71958727e-03,  -1.65428938e-05,  -2.71653615e-06,\n",
       "         -2.19862737e-06,   4.35783659e-05,   2.55029100e-04,\n",
       "          6.18381790e-06],\n",
       "       [ -4.58648431e-01,  -3.11538731e-03,  -3.14539764e-04,\n",
       "         -1.82152496e-03,   2.55029100e-04,   5.32231585e-02,\n",
       "          4.91719275e-04],\n",
       "       [ -1.67217618e-02,  -2.46604523e-05,   9.38166837e-06,\n",
       "         -2.07067675e-05,   6.18381790e-06,   4.91719275e-04,\n",
       "          5.35997876e-04]])"
      ]
     },
     "execution_count": 101,
     "metadata": {},
     "output_type": "execute_result"
    }
   ],
   "source": [
    "sigma_sq_m=((SSR_m/(n-k))*S_2_m)\n",
    "sigma_sq_m"
   ]
  },
  {
   "cell_type": "code",
   "execution_count": 102,
   "metadata": {},
   "outputs": [
    {
     "data": {
      "text/plain": [
       "array([[ 2.22419988],\n",
       "       [ 0.03022886],\n",
       "       [ 0.00764616],\n",
       "       [ 0.02910683],\n",
       "       [ 0.00660139],\n",
       "       [ 0.23070145],\n",
       "       [ 0.02315163]])"
      ]
     },
     "execution_count": 102,
     "metadata": {},
     "output_type": "execute_result"
    }
   ],
   "source": [
    "std_err_betas=np.sqrt(sigma_sq_m.diagonal())\n",
    "std_err_betas=std_err_betas[:,np.newaxis]\n",
    "std_err_betas\n",
    "# стандартная ошибка коэффициентов регрессии"
   ]
  },
  {
   "cell_type": "code",
   "execution_count": 103,
   "metadata": {},
   "outputs": [
    {
     "data": {
      "text/plain": [
       "array([[ 3.39604736],\n",
       "       [ 2.33015584],\n",
       "       [-0.26328092],\n",
       "       [ 3.52221153],\n",
       "       [-8.52824665],\n",
       "       [-3.15082547],\n",
       "       [-0.06326818]])"
      ]
     },
     "execution_count": 103,
     "metadata": {},
     "output_type": "execute_result"
    }
   ],
   "source": [
    "t_m=Betas/std_err_betas\n",
    "t_m\n",
    "# t-критерий для коэффицентов регрессии"
   ]
  },
  {
   "cell_type": "code",
   "execution_count": 104,
   "metadata": {},
   "outputs": [
    {
     "data": {
      "text/plain": [
       "array([[  8.90026032e-04],\n",
       "       [  2.12270726e-02],\n",
       "       [  7.92721154e-01],\n",
       "       [  5.78262346e-04],\n",
       "       [  2.17603713e-14],\n",
       "       [  1.99133218e-03],\n",
       "       [  9.49643197e-01]])"
      ]
     },
     "execution_count": 104,
     "metadata": {},
     "output_type": "execute_result"
    }
   ],
   "source": [
    "(2*(1-stats.t.cdf(np.abs(t_m),n-k_m)))\n",
    "# p-value"
   ]
  },
  {
   "cell_type": "markdown",
   "metadata": {},
   "source": [
    "### Проверим значимость уравнения ререссии, гипотеза $H_0:\\beta_0=\\beta_1=...=\\beta_k=0$ "
   ]
  },
  {
   "cell_type": "code",
   "execution_count": 105,
   "metadata": {},
   "outputs": [
    {
     "data": {
      "text/plain": [
       "14.062377748817029"
      ]
     },
     "execution_count": 105,
     "metadata": {},
     "output_type": "execute_result"
    }
   ],
   "source": [
    "F_m=((np.var(econ_model['NGDP_RPCH'])*n-SSR_m)/(k_m-1))/(SSR_m/(n-k_m))\n",
    "F_m\n",
    "# F- критерий"
   ]
  },
  {
   "cell_type": "code",
   "execution_count": 106,
   "metadata": {},
   "outputs": [
    {
     "data": {
      "text/plain": [
       "0.37604252845800967"
      ]
     },
     "execution_count": 106,
     "metadata": {},
     "output_type": "execute_result"
    }
   ],
   "source": [
    "R_sq_m=1-(SSR_m/np.sum((econ_model['NGDP_RPCH']-np.mean(econ_model['NGDP_RPCH']))**2))\n",
    "R_sq_m\n",
    "# коэффициент детерминации"
   ]
  },
  {
   "cell_type": "code",
   "execution_count": 107,
   "metadata": {},
   "outputs": [
    {
     "data": {
      "text/plain": [
       "0.34930149396335297"
      ]
     },
     "execution_count": 107,
     "metadata": {},
     "output_type": "execute_result"
    }
   ],
   "source": [
    "R_sq_adjusted=1-(((1-R_sq_m)*(n-1))/(n-k_m))\n",
    "R_sq_adjusted\n",
    "# скорректированный коэффициент детерминации"
   ]
  },
  {
   "cell_type": "code",
   "execution_count": 108,
   "metadata": {},
   "outputs": [
    {
     "data": {
      "text/plain": [
       "-367.44373458552496"
      ]
     },
     "execution_count": 108,
     "metadata": {},
     "output_type": "execute_result"
    }
   ],
   "source": [
    "L=(1/np.sqrt(2*np.pi*(SSR_m/n)))**n*np.exp(-SSR_m/((SSR_m/n)*2))\n",
    "np.log(L)\n",
    "# логарифмическая функция правдоподобия"
   ]
  },
  {
   "cell_type": "markdown",
   "metadata": {},
   "source": [
    "### Выводы: Уравнение регрессии значимо (p-value F-критерия существенно меньше уровня значимости $\\alpha$).  Модель объясняет 38% вариации роста ВВП. Однако только три переменных, а именно NID_NGDP, PCPIPCH, PPPPC, оказались значимы. Интерпретация каждого из коэффициентов регрессии осуществляется по аналогии с парной моделью."
   ]
  },
  {
   "cell_type": "markdown",
   "metadata": {
    "collapsed": true
   },
   "source": [
    "## 6. Построение модели множественной регрессии пошаговым методом"
   ]
  },
  {
   "cell_type": "markdown",
   "metadata": {},
   "source": [
    "### В предыдущем разделе была рассмотрена множественная регрессионная модель, в которую вошли все независимые переменные. Однако на практике такой подход не всегда оправдан. При большом количестве переменных пользуются пошаговым методом. Это означает, что на каждом шаге мы включаем или исключаем переменные в зависимости от значимости коэффициентов регрессии (формальный критерий не всегда является окончательным решением)."
   ]
  },
  {
   "cell_type": "markdown",
   "metadata": {},
   "source": [
    "### Шаг 1. Начинаем построение модели с двух переменных BCA_NGDPD и GGXWDG_NGDP"
   ]
  },
  {
   "cell_type": "code",
   "execution_count": 109,
   "metadata": {
    "collapsed": true
   },
   "outputs": [],
   "source": [
    "X_m=sm.add_constant(econ_model.iloc[:,[2,3]],prepend=True)"
   ]
  },
  {
   "cell_type": "code",
   "execution_count": 110,
   "metadata": {},
   "outputs": [
    {
     "data": {
      "text/html": [
       "<table class=\"simpletable\">\n",
       "<caption>OLS Regression Results</caption>\n",
       "<tr>\n",
       "  <th>Dep. Variable:</th>            <td>y</td>        <th>  R-squared:         </th> <td>   0.009</td>\n",
       "</tr>\n",
       "<tr>\n",
       "  <th>Model:</th>                   <td>OLS</td>       <th>  Adj. R-squared:    </th> <td>  -0.005</td>\n",
       "</tr>\n",
       "<tr>\n",
       "  <th>Method:</th>             <td>Least Squares</td>  <th>  F-statistic:       </th> <td>  0.6273</td>\n",
       "</tr>\n",
       "<tr>\n",
       "  <th>Date:</th>             <td>Wed, 05 Dec 2018</td> <th>  Prob (F-statistic):</th>  <td> 0.536</td> \n",
       "</tr>\n",
       "<tr>\n",
       "  <th>Time:</th>                 <td>08:43:56</td>     <th>  Log-Likelihood:    </th> <td> -401.47</td>\n",
       "</tr>\n",
       "<tr>\n",
       "  <th>No. Observations:</th>      <td>   147</td>      <th>  AIC:               </th> <td>   808.9</td>\n",
       "</tr>\n",
       "<tr>\n",
       "  <th>Df Residuals:</th>          <td>   144</td>      <th>  BIC:               </th> <td>   817.9</td>\n",
       "</tr>\n",
       "<tr>\n",
       "  <th>Df Model:</th>              <td>     2</td>      <th>                     </th>     <td> </td>   \n",
       "</tr>\n",
       "<tr>\n",
       "  <th>Covariance Type:</th>      <td>nonrobust</td>    <th>                     </th>     <td> </td>   \n",
       "</tr>\n",
       "</table>\n",
       "<table class=\"simpletable\">\n",
       "<tr>\n",
       "       <td></td>          <th>coef</th>     <th>std err</th>      <th>t</th>      <th>P>|t|</th>  <th>[0.025</th>    <th>0.975]</th>  \n",
       "</tr>\n",
       "<tr>\n",
       "  <th>const</th>       <td>    2.9697</td> <td>    0.606</td> <td>    4.897</td> <td> 0.000</td> <td>    1.771</td> <td>    4.168</td>\n",
       "</tr>\n",
       "<tr>\n",
       "  <th>BCA_NGDPD</th>   <td>   -0.0082</td> <td>    0.031</td> <td>   -0.262</td> <td> 0.794</td> <td>   -0.070</td> <td>    0.054</td>\n",
       "</tr>\n",
       "<tr>\n",
       "  <th>GGXWDG_NGDP</th> <td>   -0.0106</td> <td>    0.009</td> <td>   -1.120</td> <td> 0.265</td> <td>   -0.029</td> <td>    0.008</td>\n",
       "</tr>\n",
       "</table>\n",
       "<table class=\"simpletable\">\n",
       "<tr>\n",
       "  <th>Omnibus:</th>       <td>87.797</td> <th>  Durbin-Watson:     </th> <td>   2.083</td> \n",
       "</tr>\n",
       "<tr>\n",
       "  <th>Prob(Omnibus):</th> <td> 0.000</td> <th>  Jarque-Bera (JB):  </th> <td> 516.751</td> \n",
       "</tr>\n",
       "<tr>\n",
       "  <th>Skew:</th>          <td>-2.126</td> <th>  Prob(JB):          </th> <td>6.15e-113</td>\n",
       "</tr>\n",
       "<tr>\n",
       "  <th>Kurtosis:</th>      <td>11.142</td> <th>  Cond. No.          </th> <td>    130.</td> \n",
       "</tr>\n",
       "</table>"
      ],
      "text/plain": [
       "<class 'statsmodels.iolib.summary.Summary'>\n",
       "\"\"\"\n",
       "                            OLS Regression Results                            \n",
       "==============================================================================\n",
       "Dep. Variable:                      y   R-squared:                       0.009\n",
       "Model:                            OLS   Adj. R-squared:                 -0.005\n",
       "Method:                 Least Squares   F-statistic:                    0.6273\n",
       "Date:                Wed, 05 Dec 2018   Prob (F-statistic):              0.536\n",
       "Time:                        08:43:56   Log-Likelihood:                -401.47\n",
       "No. Observations:                 147   AIC:                             808.9\n",
       "Df Residuals:                     144   BIC:                             817.9\n",
       "Df Model:                           2                                         \n",
       "Covariance Type:            nonrobust                                         \n",
       "===============================================================================\n",
       "                  coef    std err          t      P>|t|      [0.025      0.975]\n",
       "-------------------------------------------------------------------------------\n",
       "const           2.9697      0.606      4.897      0.000       1.771       4.168\n",
       "BCA_NGDPD      -0.0082      0.031     -0.262      0.794      -0.070       0.054\n",
       "GGXWDG_NGDP    -0.0106      0.009     -1.120      0.265      -0.029       0.008\n",
       "==============================================================================\n",
       "Omnibus:                       87.797   Durbin-Watson:                   2.083\n",
       "Prob(Omnibus):                  0.000   Jarque-Bera (JB):              516.751\n",
       "Skew:                          -2.126   Prob(JB):                    6.15e-113\n",
       "Kurtosis:                      11.142   Cond. No.                         130.\n",
       "==============================================================================\n",
       "\n",
       "Warnings:\n",
       "[1] Standard Errors assume that the covariance matrix of the errors is correctly specified.\n",
       "\"\"\""
      ]
     },
     "execution_count": 110,
     "metadata": {},
     "output_type": "execute_result"
    }
   ],
   "source": [
    "sm.OLS(Y_m,X_m).fit().summary()"
   ]
  },
  {
   "cell_type": "markdown",
   "metadata": {},
   "source": [
    "### Уравнение не значимо, что следует из значения F-критерия"
   ]
  },
  {
   "cell_type": "markdown",
   "metadata": {
    "collapsed": true
   },
   "source": [
    "### Шаг 2. Добавляем переменную NID_NGDP"
   ]
  },
  {
   "cell_type": "code",
   "execution_count": 111,
   "metadata": {
    "collapsed": true
   },
   "outputs": [],
   "source": [
    "X_m=sm.add_constant(econ_model.iloc[:,[2,3,5]],prepend=True)"
   ]
  },
  {
   "cell_type": "code",
   "execution_count": 112,
   "metadata": {},
   "outputs": [
    {
     "data": {
      "text/html": [
       "<table class=\"simpletable\">\n",
       "<caption>OLS Regression Results</caption>\n",
       "<tr>\n",
       "  <th>Dep. Variable:</th>        <td>NGDP_RPCH</td>    <th>  R-squared:         </th> <td>   0.049</td>\n",
       "</tr>\n",
       "<tr>\n",
       "  <th>Model:</th>                   <td>OLS</td>       <th>  Adj. R-squared:    </th> <td>   0.029</td>\n",
       "</tr>\n",
       "<tr>\n",
       "  <th>Method:</th>             <td>Least Squares</td>  <th>  F-statistic:       </th> <td>   2.462</td>\n",
       "</tr>\n",
       "<tr>\n",
       "  <th>Date:</th>             <td>Wed, 05 Dec 2018</td> <th>  Prob (F-statistic):</th>  <td>0.0650</td> \n",
       "</tr>\n",
       "<tr>\n",
       "  <th>Time:</th>                 <td>08:43:57</td>     <th>  Log-Likelihood:    </th> <td> -398.41</td>\n",
       "</tr>\n",
       "<tr>\n",
       "  <th>No. Observations:</th>      <td>   147</td>      <th>  AIC:               </th> <td>   804.8</td>\n",
       "</tr>\n",
       "<tr>\n",
       "  <th>Df Residuals:</th>          <td>   143</td>      <th>  BIC:               </th> <td>   816.8</td>\n",
       "</tr>\n",
       "<tr>\n",
       "  <th>Df Model:</th>              <td>     3</td>      <th>                     </th>     <td> </td>   \n",
       "</tr>\n",
       "<tr>\n",
       "  <th>Covariance Type:</th>      <td>nonrobust</td>    <th>                     </th>     <td> </td>   \n",
       "</tr>\n",
       "</table>\n",
       "<table class=\"simpletable\">\n",
       "<tr>\n",
       "       <td></td>          <th>coef</th>     <th>std err</th>      <th>t</th>      <th>P>|t|</th>  <th>[0.025</th>    <th>0.975]</th>  \n",
       "</tr>\n",
       "<tr>\n",
       "  <th>const</th>       <td>    0.8734</td> <td>    1.038</td> <td>    0.842</td> <td> 0.401</td> <td>   -1.178</td> <td>    2.925</td>\n",
       "</tr>\n",
       "<tr>\n",
       "  <th>BCA_NGDPD</th>   <td>    0.0258</td> <td>    0.034</td> <td>    0.767</td> <td> 0.444</td> <td>   -0.041</td> <td>    0.092</td>\n",
       "</tr>\n",
       "<tr>\n",
       "  <th>GGXWDG_NGDP</th> <td>   -0.0081</td> <td>    0.009</td> <td>   -0.863</td> <td> 0.389</td> <td>   -0.026</td> <td>    0.010</td>\n",
       "</tr>\n",
       "<tr>\n",
       "  <th>NID_NGDP</th>    <td>    0.0859</td> <td>    0.035</td> <td>    2.467</td> <td> 0.015</td> <td>    0.017</td> <td>    0.155</td>\n",
       "</tr>\n",
       "</table>\n",
       "<table class=\"simpletable\">\n",
       "<tr>\n",
       "  <th>Omnibus:</th>       <td>82.460</td> <th>  Durbin-Watson:     </th> <td>   2.132</td>\n",
       "</tr>\n",
       "<tr>\n",
       "  <th>Prob(Omnibus):</th> <td> 0.000</td> <th>  Jarque-Bera (JB):  </th> <td> 410.649</td>\n",
       "</tr>\n",
       "<tr>\n",
       "  <th>Skew:</th>          <td>-2.042</td> <th>  Prob(JB):          </th> <td>6.74e-90</td>\n",
       "</tr>\n",
       "<tr>\n",
       "  <th>Kurtosis:</th>      <td>10.097</td> <th>  Cond. No.          </th> <td>    238.</td>\n",
       "</tr>\n",
       "</table>"
      ],
      "text/plain": [
       "<class 'statsmodels.iolib.summary.Summary'>\n",
       "\"\"\"\n",
       "                            OLS Regression Results                            \n",
       "==============================================================================\n",
       "Dep. Variable:              NGDP_RPCH   R-squared:                       0.049\n",
       "Model:                            OLS   Adj. R-squared:                  0.029\n",
       "Method:                 Least Squares   F-statistic:                     2.462\n",
       "Date:                Wed, 05 Dec 2018   Prob (F-statistic):             0.0650\n",
       "Time:                        08:43:57   Log-Likelihood:                -398.41\n",
       "No. Observations:                 147   AIC:                             804.8\n",
       "Df Residuals:                     143   BIC:                             816.8\n",
       "Df Model:                           3                                         \n",
       "Covariance Type:            nonrobust                                         \n",
       "===============================================================================\n",
       "                  coef    std err          t      P>|t|      [0.025      0.975]\n",
       "-------------------------------------------------------------------------------\n",
       "const           0.8734      1.038      0.842      0.401      -1.178       2.925\n",
       "BCA_NGDPD       0.0258      0.034      0.767      0.444      -0.041       0.092\n",
       "GGXWDG_NGDP    -0.0081      0.009     -0.863      0.389      -0.026       0.010\n",
       "NID_NGDP        0.0859      0.035      2.467      0.015       0.017       0.155\n",
       "==============================================================================\n",
       "Omnibus:                       82.460   Durbin-Watson:                   2.132\n",
       "Prob(Omnibus):                  0.000   Jarque-Bera (JB):              410.649\n",
       "Skew:                          -2.042   Prob(JB):                     6.74e-90\n",
       "Kurtosis:                      10.097   Cond. No.                         238.\n",
       "==============================================================================\n",
       "\n",
       "Warnings:\n",
       "[1] Standard Errors assume that the covariance matrix of the errors is correctly specified.\n",
       "\"\"\""
      ]
     },
     "execution_count": 112,
     "metadata": {},
     "output_type": "execute_result"
    }
   ],
   "source": [
    "sm.OLS(Y,X_m).fit().summary()"
   ]
  },
  {
   "cell_type": "markdown",
   "metadata": {},
   "source": [
    "### Уравнение оказалась значимым, но входящие в модель переменные объясняют только 5% вариации переменной Y"
   ]
  },
  {
   "cell_type": "markdown",
   "metadata": {
    "collapsed": true
   },
   "source": [
    "### Шаг 3. Добавляем переменную PCPIPCH"
   ]
  },
  {
   "cell_type": "code",
   "execution_count": 113,
   "metadata": {
    "collapsed": true
   },
   "outputs": [],
   "source": [
    "X_m=sm.add_constant(econ_model.iloc[:,[2,3,5,6]],prepend=True)"
   ]
  },
  {
   "cell_type": "code",
   "execution_count": 114,
   "metadata": {},
   "outputs": [
    {
     "data": {
      "text/html": [
       "<table class=\"simpletable\">\n",
       "<caption>OLS Regression Results</caption>\n",
       "<tr>\n",
       "  <th>Dep. Variable:</th>        <td>NGDP_RPCH</td>    <th>  R-squared:         </th> <td>   0.333</td>\n",
       "</tr>\n",
       "<tr>\n",
       "  <th>Model:</th>                   <td>OLS</td>       <th>  Adj. R-squared:    </th> <td>   0.314</td>\n",
       "</tr>\n",
       "<tr>\n",
       "  <th>Method:</th>             <td>Least Squares</td>  <th>  F-statistic:       </th> <td>   17.73</td>\n",
       "</tr>\n",
       "<tr>\n",
       "  <th>Date:</th>             <td>Wed, 05 Dec 2018</td> <th>  Prob (F-statistic):</th> <td>7.95e-12</td>\n",
       "</tr>\n",
       "<tr>\n",
       "  <th>Time:</th>                 <td>08:43:57</td>     <th>  Log-Likelihood:    </th> <td> -372.34</td>\n",
       "</tr>\n",
       "<tr>\n",
       "  <th>No. Observations:</th>      <td>   147</td>      <th>  AIC:               </th> <td>   754.7</td>\n",
       "</tr>\n",
       "<tr>\n",
       "  <th>Df Residuals:</th>          <td>   142</td>      <th>  BIC:               </th> <td>   769.6</td>\n",
       "</tr>\n",
       "<tr>\n",
       "  <th>Df Model:</th>              <td>     4</td>      <th>                     </th>     <td> </td>   \n",
       "</tr>\n",
       "<tr>\n",
       "  <th>Covariance Type:</th>      <td>nonrobust</td>    <th>                     </th>     <td> </td>   \n",
       "</tr>\n",
       "</table>\n",
       "<table class=\"simpletable\">\n",
       "<tr>\n",
       "       <td></td>          <th>coef</th>     <th>std err</th>      <th>t</th>      <th>P>|t|</th>  <th>[0.025</th>    <th>0.975]</th>  \n",
       "</tr>\n",
       "<tr>\n",
       "  <th>const</th>       <td>    1.4128</td> <td>    0.875</td> <td>    1.615</td> <td> 0.109</td> <td>   -0.317</td> <td>    3.142</td>\n",
       "</tr>\n",
       "<tr>\n",
       "  <th>BCA_NGDPD</th>   <td>    0.0278</td> <td>    0.028</td> <td>    0.986</td> <td> 0.326</td> <td>   -0.028</td> <td>    0.084</td>\n",
       "</tr>\n",
       "<tr>\n",
       "  <th>GGXWDG_NGDP</th> <td>   -0.0064</td> <td>    0.008</td> <td>   -0.820</td> <td> 0.413</td> <td>   -0.022</td> <td>    0.009</td>\n",
       "</tr>\n",
       "<tr>\n",
       "  <th>NID_NGDP</th>    <td>    0.0777</td> <td>    0.029</td> <td>    2.654</td> <td> 0.009</td> <td>    0.020</td> <td>    0.136</td>\n",
       "</tr>\n",
       "<tr>\n",
       "  <th>PCPIPCH</th>     <td>   -0.0529</td> <td>    0.007</td> <td>   -7.776</td> <td> 0.000</td> <td>   -0.066</td> <td>   -0.039</td>\n",
       "</tr>\n",
       "</table>\n",
       "<table class=\"simpletable\">\n",
       "<tr>\n",
       "  <th>Omnibus:</th>       <td>49.727</td> <th>  Durbin-Watson:     </th> <td>   2.068</td>\n",
       "</tr>\n",
       "<tr>\n",
       "  <th>Prob(Omnibus):</th> <td> 0.000</td> <th>  Jarque-Bera (JB):  </th> <td> 170.551</td>\n",
       "</tr>\n",
       "<tr>\n",
       "  <th>Skew:</th>          <td>-1.239</td> <th>  Prob(JB):          </th> <td>9.23e-38</td>\n",
       "</tr>\n",
       "<tr>\n",
       "  <th>Kurtosis:</th>      <td> 7.659</td> <th>  Cond. No.          </th> <td>    241.</td>\n",
       "</tr>\n",
       "</table>"
      ],
      "text/plain": [
       "<class 'statsmodels.iolib.summary.Summary'>\n",
       "\"\"\"\n",
       "                            OLS Regression Results                            \n",
       "==============================================================================\n",
       "Dep. Variable:              NGDP_RPCH   R-squared:                       0.333\n",
       "Model:                            OLS   Adj. R-squared:                  0.314\n",
       "Method:                 Least Squares   F-statistic:                     17.73\n",
       "Date:                Wed, 05 Dec 2018   Prob (F-statistic):           7.95e-12\n",
       "Time:                        08:43:57   Log-Likelihood:                -372.34\n",
       "No. Observations:                 147   AIC:                             754.7\n",
       "Df Residuals:                     142   BIC:                             769.6\n",
       "Df Model:                           4                                         \n",
       "Covariance Type:            nonrobust                                         \n",
       "===============================================================================\n",
       "                  coef    std err          t      P>|t|      [0.025      0.975]\n",
       "-------------------------------------------------------------------------------\n",
       "const           1.4128      0.875      1.615      0.109      -0.317       3.142\n",
       "BCA_NGDPD       0.0278      0.028      0.986      0.326      -0.028       0.084\n",
       "GGXWDG_NGDP    -0.0064      0.008     -0.820      0.413      -0.022       0.009\n",
       "NID_NGDP        0.0777      0.029      2.654      0.009       0.020       0.136\n",
       "PCPIPCH        -0.0529      0.007     -7.776      0.000      -0.066      -0.039\n",
       "==============================================================================\n",
       "Omnibus:                       49.727   Durbin-Watson:                   2.068\n",
       "Prob(Omnibus):                  0.000   Jarque-Bera (JB):              170.551\n",
       "Skew:                          -1.239   Prob(JB):                     9.23e-38\n",
       "Kurtosis:                       7.659   Cond. No.                         241.\n",
       "==============================================================================\n",
       "\n",
       "Warnings:\n",
       "[1] Standard Errors assume that the covariance matrix of the errors is correctly specified.\n",
       "\"\"\""
      ]
     },
     "execution_count": 114,
     "metadata": {},
     "output_type": "execute_result"
    }
   ],
   "source": [
    "sm.OLS(Y,X_m).fit().summary()"
   ]
  },
  {
   "cell_type": "markdown",
   "metadata": {},
   "source": [
    "### Включенная переменная - инфляция  - существенно улучшила качество модели. Модель  объясняет уже более 30% вариации переменной Y. На улучшение качества модели также указывают значения критериев Log-Likelihood (логарифмическая функция правдоподобия), AIC и BIC."
   ]
  },
  {
   "cell_type": "markdown",
   "metadata": {
    "collapsed": true
   },
   "source": [
    "### Шаг 4. Добавляем переменную log (PPPPPC)"
   ]
  },
  {
   "cell_type": "code",
   "execution_count": 115,
   "metadata": {
    "collapsed": true
   },
   "outputs": [],
   "source": [
    "X_m=sm.add_constant(econ_model.iloc[:,[2,3,5,6,7]],prepend=True)"
   ]
  },
  {
   "cell_type": "code",
   "execution_count": 116,
   "metadata": {},
   "outputs": [
    {
     "data": {
      "text/html": [
       "<table class=\"simpletable\">\n",
       "<caption>OLS Regression Results</caption>\n",
       "<tr>\n",
       "  <th>Dep. Variable:</th>        <td>NGDP_RPCH</td>    <th>  R-squared:         </th> <td>   0.376</td>\n",
       "</tr>\n",
       "<tr>\n",
       "  <th>Model:</th>                   <td>OLS</td>       <th>  Adj. R-squared:    </th> <td>   0.354</td>\n",
       "</tr>\n",
       "<tr>\n",
       "  <th>Method:</th>             <td>Least Squares</td>  <th>  F-statistic:       </th> <td>   16.99</td>\n",
       "</tr>\n",
       "<tr>\n",
       "  <th>Date:</th>             <td>Wed, 05 Dec 2018</td> <th>  Prob (F-statistic):</th> <td>3.96e-13</td>\n",
       "</tr>\n",
       "<tr>\n",
       "  <th>Time:</th>                 <td>08:43:57</td>     <th>  Log-Likelihood:    </th> <td> -367.45</td>\n",
       "</tr>\n",
       "<tr>\n",
       "  <th>No. Observations:</th>      <td>   147</td>      <th>  AIC:               </th> <td>   746.9</td>\n",
       "</tr>\n",
       "<tr>\n",
       "  <th>Df Residuals:</th>          <td>   141</td>      <th>  BIC:               </th> <td>   764.8</td>\n",
       "</tr>\n",
       "<tr>\n",
       "  <th>Df Model:</th>              <td>     5</td>      <th>                     </th>     <td> </td>   \n",
       "</tr>\n",
       "<tr>\n",
       "  <th>Covariance Type:</th>      <td>nonrobust</td>    <th>                     </th>     <td> </td>   \n",
       "</tr>\n",
       "</table>\n",
       "<table class=\"simpletable\">\n",
       "<tr>\n",
       "       <td></td>          <th>coef</th>     <th>std err</th>      <th>t</th>      <th>P>|t|</th>  <th>[0.025</th>    <th>0.975]</th>  \n",
       "</tr>\n",
       "<tr>\n",
       "  <th>const</th>       <td>    7.5078</td> <td>    2.133</td> <td>    3.519</td> <td> 0.001</td> <td>    3.290</td> <td>   11.725</td>\n",
       "</tr>\n",
       "<tr>\n",
       "  <th>BCA_NGDPD</th>   <td>    0.0704</td> <td>    0.031</td> <td>    2.297</td> <td> 0.023</td> <td>    0.010</td> <td>    0.131</td>\n",
       "</tr>\n",
       "<tr>\n",
       "  <th>GGXWDG_NGDP</th> <td>   -0.0020</td> <td>    0.008</td> <td>   -0.257</td> <td> 0.798</td> <td>   -0.017</td> <td>    0.013</td>\n",
       "</tr>\n",
       "<tr>\n",
       "  <th>NID_NGDP</th>    <td>    0.1025</td> <td>    0.030</td> <td>    3.473</td> <td> 0.001</td> <td>    0.044</td> <td>    0.161</td>\n",
       "</tr>\n",
       "<tr>\n",
       "  <th>PCPIPCH</th>     <td>   -0.0563</td> <td>    0.007</td> <td>   -8.414</td> <td> 0.000</td> <td>   -0.070</td> <td>   -0.043</td>\n",
       "</tr>\n",
       "<tr>\n",
       "  <th>PPPPC</th>       <td>   -0.7256</td> <td>    0.233</td> <td>   -3.115</td> <td> 0.002</td> <td>   -1.186</td> <td>   -0.265</td>\n",
       "</tr>\n",
       "</table>\n",
       "<table class=\"simpletable\">\n",
       "<tr>\n",
       "  <th>Omnibus:</th>       <td>60.731</td> <th>  Durbin-Watson:     </th> <td>   1.986</td>\n",
       "</tr>\n",
       "<tr>\n",
       "  <th>Prob(Omnibus):</th> <td> 0.000</td> <th>  Jarque-Bera (JB):  </th> <td> 260.009</td>\n",
       "</tr>\n",
       "<tr>\n",
       "  <th>Skew:</th>          <td>-1.457</td> <th>  Prob(JB):          </th> <td>3.47e-57</td>\n",
       "</tr>\n",
       "<tr>\n",
       "  <th>Kurtosis:</th>      <td> 8.828</td> <th>  Cond. No.          </th> <td>    611.</td>\n",
       "</tr>\n",
       "</table>"
      ],
      "text/plain": [
       "<class 'statsmodels.iolib.summary.Summary'>\n",
       "\"\"\"\n",
       "                            OLS Regression Results                            \n",
       "==============================================================================\n",
       "Dep. Variable:              NGDP_RPCH   R-squared:                       0.376\n",
       "Model:                            OLS   Adj. R-squared:                  0.354\n",
       "Method:                 Least Squares   F-statistic:                     16.99\n",
       "Date:                Wed, 05 Dec 2018   Prob (F-statistic):           3.96e-13\n",
       "Time:                        08:43:57   Log-Likelihood:                -367.45\n",
       "No. Observations:                 147   AIC:                             746.9\n",
       "Df Residuals:                     141   BIC:                             764.8\n",
       "Df Model:                           5                                         \n",
       "Covariance Type:            nonrobust                                         \n",
       "===============================================================================\n",
       "                  coef    std err          t      P>|t|      [0.025      0.975]\n",
       "-------------------------------------------------------------------------------\n",
       "const           7.5078      2.133      3.519      0.001       3.290      11.725\n",
       "BCA_NGDPD       0.0704      0.031      2.297      0.023       0.010       0.131\n",
       "GGXWDG_NGDP    -0.0020      0.008     -0.257      0.798      -0.017       0.013\n",
       "NID_NGDP        0.1025      0.030      3.473      0.001       0.044       0.161\n",
       "PCPIPCH        -0.0563      0.007     -8.414      0.000      -0.070      -0.043\n",
       "PPPPC          -0.7256      0.233     -3.115      0.002      -1.186      -0.265\n",
       "==============================================================================\n",
       "Omnibus:                       60.731   Durbin-Watson:                   1.986\n",
       "Prob(Omnibus):                  0.000   Jarque-Bera (JB):              260.009\n",
       "Skew:                          -1.457   Prob(JB):                     3.47e-57\n",
       "Kurtosis:                       8.828   Cond. No.                         611.\n",
       "==============================================================================\n",
       "\n",
       "Warnings:\n",
       "[1] Standard Errors assume that the covariance matrix of the errors is correctly specified.\n",
       "\"\"\""
      ]
     },
     "execution_count": 116,
     "metadata": {},
     "output_type": "execute_result"
    }
   ],
   "source": [
    "sm.OLS(Y,X_m).fit().summary()"
   ]
  },
  {
   "cell_type": "markdown",
   "metadata": {},
   "source": [
    "### Включенная переменная существенно не повлияла качество модели (AIC и BIC даже несколько ухудшились)"
   ]
  },
  {
   "cell_type": "markdown",
   "metadata": {
    "collapsed": true
   },
   "source": [
    "### Шаг 6. Добавляем переменную NY.GNS.ICTR.ZS"
   ]
  },
  {
   "cell_type": "code",
   "execution_count": 117,
   "metadata": {
    "collapsed": true
   },
   "outputs": [],
   "source": [
    "X_m=sm.add_constant(econ_model.iloc[:,[2,3,5,6,7,8]],prepend=True)"
   ]
  },
  {
   "cell_type": "code",
   "execution_count": 118,
   "metadata": {},
   "outputs": [
    {
     "data": {
      "text/html": [
       "<table class=\"simpletable\">\n",
       "<caption>OLS Regression Results</caption>\n",
       "<tr>\n",
       "  <th>Dep. Variable:</th>        <td>NGDP_RPCH</td>    <th>  R-squared:         </th> <td>   0.376</td>\n",
       "</tr>\n",
       "<tr>\n",
       "  <th>Model:</th>                   <td>OLS</td>       <th>  Adj. R-squared:    </th> <td>   0.349</td>\n",
       "</tr>\n",
       "<tr>\n",
       "  <th>Method:</th>             <td>Least Squares</td>  <th>  F-statistic:       </th> <td>   14.06</td>\n",
       "</tr>\n",
       "<tr>\n",
       "  <th>Date:</th>             <td>Wed, 05 Dec 2018</td> <th>  Prob (F-statistic):</th> <td>1.73e-12</td>\n",
       "</tr>\n",
       "<tr>\n",
       "  <th>Time:</th>                 <td>08:43:57</td>     <th>  Log-Likelihood:    </th> <td> -367.44</td>\n",
       "</tr>\n",
       "<tr>\n",
       "  <th>No. Observations:</th>      <td>   147</td>      <th>  AIC:               </th> <td>   748.9</td>\n",
       "</tr>\n",
       "<tr>\n",
       "  <th>Df Residuals:</th>          <td>   140</td>      <th>  BIC:               </th> <td>   769.8</td>\n",
       "</tr>\n",
       "<tr>\n",
       "  <th>Df Model:</th>              <td>     6</td>      <th>                     </th>     <td> </td>   \n",
       "</tr>\n",
       "<tr>\n",
       "  <th>Covariance Type:</th>      <td>nonrobust</td>    <th>                     </th>     <td> </td>   \n",
       "</tr>\n",
       "</table>\n",
       "<table class=\"simpletable\">\n",
       "<tr>\n",
       "         <td></td>           <th>coef</th>     <th>std err</th>      <th>t</th>      <th>P>|t|</th>  <th>[0.025</th>    <th>0.975]</th>  \n",
       "</tr>\n",
       "<tr>\n",
       "  <th>const</th>          <td>    7.5535</td> <td>    2.264</td> <td>    3.337</td> <td> 0.001</td> <td>    3.078</td> <td>   12.029</td>\n",
       "</tr>\n",
       "<tr>\n",
       "  <th>BCA_NGDPD</th>      <td>    0.0704</td> <td>    0.031</td> <td>    2.290</td> <td> 0.024</td> <td>    0.010</td> <td>    0.131</td>\n",
       "</tr>\n",
       "<tr>\n",
       "  <th>GGXWDG_NGDP</th>    <td>   -0.0020</td> <td>    0.008</td> <td>   -0.259</td> <td> 0.796</td> <td>   -0.017</td> <td>    0.013</td>\n",
       "</tr>\n",
       "<tr>\n",
       "  <th>NID_NGDP</th>       <td>    0.1025</td> <td>    0.030</td> <td>    3.461</td> <td> 0.001</td> <td>    0.044</td> <td>    0.161</td>\n",
       "</tr>\n",
       "<tr>\n",
       "  <th>PCPIPCH</th>        <td>   -0.0563</td> <td>    0.007</td> <td>   -8.380</td> <td> 0.000</td> <td>   -0.070</td> <td>   -0.043</td>\n",
       "</tr>\n",
       "<tr>\n",
       "  <th>PPPPC</th>          <td>   -0.7269</td> <td>    0.235</td> <td>   -3.096</td> <td> 0.002</td> <td>   -1.191</td> <td>   -0.263</td>\n",
       "</tr>\n",
       "<tr>\n",
       "  <th>NY.GNS.ICTR.ZS</th> <td>   -0.0015</td> <td>    0.024</td> <td>   -0.062</td> <td> 0.951</td> <td>   -0.048</td> <td>    0.045</td>\n",
       "</tr>\n",
       "</table>\n",
       "<table class=\"simpletable\">\n",
       "<tr>\n",
       "  <th>Omnibus:</th>       <td>60.252</td> <th>  Durbin-Watson:     </th> <td>   1.985</td>\n",
       "</tr>\n",
       "<tr>\n",
       "  <th>Prob(Omnibus):</th> <td> 0.000</td> <th>  Jarque-Bera (JB):  </th> <td> 255.460</td>\n",
       "</tr>\n",
       "<tr>\n",
       "  <th>Skew:</th>          <td>-1.447</td> <th>  Prob(JB):          </th> <td>3.37e-56</td>\n",
       "</tr>\n",
       "<tr>\n",
       "  <th>Kurtosis:</th>      <td> 8.773</td> <th>  Cond. No.          </th> <td>    671.</td>\n",
       "</tr>\n",
       "</table>"
      ],
      "text/plain": [
       "<class 'statsmodels.iolib.summary.Summary'>\n",
       "\"\"\"\n",
       "                            OLS Regression Results                            \n",
       "==============================================================================\n",
       "Dep. Variable:              NGDP_RPCH   R-squared:                       0.376\n",
       "Model:                            OLS   Adj. R-squared:                  0.349\n",
       "Method:                 Least Squares   F-statistic:                     14.06\n",
       "Date:                Wed, 05 Dec 2018   Prob (F-statistic):           1.73e-12\n",
       "Time:                        08:43:57   Log-Likelihood:                -367.44\n",
       "No. Observations:                 147   AIC:                             748.9\n",
       "Df Residuals:                     140   BIC:                             769.8\n",
       "Df Model:                           6                                         \n",
       "Covariance Type:            nonrobust                                         \n",
       "==================================================================================\n",
       "                     coef    std err          t      P>|t|      [0.025      0.975]\n",
       "----------------------------------------------------------------------------------\n",
       "const              7.5535      2.264      3.337      0.001       3.078      12.029\n",
       "BCA_NGDPD          0.0704      0.031      2.290      0.024       0.010       0.131\n",
       "GGXWDG_NGDP       -0.0020      0.008     -0.259      0.796      -0.017       0.013\n",
       "NID_NGDP           0.1025      0.030      3.461      0.001       0.044       0.161\n",
       "PCPIPCH           -0.0563      0.007     -8.380      0.000      -0.070      -0.043\n",
       "PPPPC             -0.7269      0.235     -3.096      0.002      -1.191      -0.263\n",
       "NY.GNS.ICTR.ZS    -0.0015      0.024     -0.062      0.951      -0.048       0.045\n",
       "==============================================================================\n",
       "Omnibus:                       60.252   Durbin-Watson:                   1.985\n",
       "Prob(Omnibus):                  0.000   Jarque-Bera (JB):              255.460\n",
       "Skew:                          -1.447   Prob(JB):                     3.37e-56\n",
       "Kurtosis:                       8.773   Cond. No.                         671.\n",
       "==============================================================================\n",
       "\n",
       "Warnings:\n",
       "[1] Standard Errors assume that the covariance matrix of the errors is correctly specified.\n",
       "\"\"\""
      ]
     },
     "execution_count": 118,
     "metadata": {},
     "output_type": "execute_result"
    }
   ],
   "source": [
    "sm.OLS(Y,X_m).fit().summary()"
   ]
  },
  {
   "cell_type": "markdown",
   "metadata": {},
   "source": [
    "### Включение переменной улучшило модель"
   ]
  },
  {
   "cell_type": "markdown",
   "metadata": {},
   "source": [
    "### Шаг 7. Оставляем в модели только значимые переменные"
   ]
  },
  {
   "cell_type": "code",
   "execution_count": 119,
   "metadata": {
    "collapsed": true
   },
   "outputs": [],
   "source": [
    "X_m=sm.add_constant(econ_model.iloc[:,[5,6,7]],prepend=True)"
   ]
  },
  {
   "cell_type": "code",
   "execution_count": 120,
   "metadata": {
    "collapsed": true
   },
   "outputs": [],
   "source": [
    "model_step=sm.OLS(Y,X_m).fit()"
   ]
  },
  {
   "cell_type": "code",
   "execution_count": 121,
   "metadata": {},
   "outputs": [
    {
     "data": {
      "text/html": [
       "<table class=\"simpletable\">\n",
       "<caption>OLS Regression Results</caption>\n",
       "<tr>\n",
       "  <th>Dep. Variable:</th>        <td>NGDP_RPCH</td>    <th>  R-squared:         </th> <td>   0.348</td>\n",
       "</tr>\n",
       "<tr>\n",
       "  <th>Model:</th>                   <td>OLS</td>       <th>  Adj. R-squared:    </th> <td>   0.334</td>\n",
       "</tr>\n",
       "<tr>\n",
       "  <th>Method:</th>             <td>Least Squares</td>  <th>  F-statistic:       </th> <td>   25.44</td>\n",
       "</tr>\n",
       "<tr>\n",
       "  <th>Date:</th>             <td>Wed, 05 Dec 2018</td> <th>  Prob (F-statistic):</th> <td>3.00e-13</td>\n",
       "</tr>\n",
       "<tr>\n",
       "  <th>Time:</th>                 <td>08:43:57</td>     <th>  Log-Likelihood:    </th> <td> -370.67</td>\n",
       "</tr>\n",
       "<tr>\n",
       "  <th>No. Observations:</th>      <td>   147</td>      <th>  AIC:               </th> <td>   749.3</td>\n",
       "</tr>\n",
       "<tr>\n",
       "  <th>Df Residuals:</th>          <td>   143</td>      <th>  BIC:               </th> <td>   761.3</td>\n",
       "</tr>\n",
       "<tr>\n",
       "  <th>Df Model:</th>              <td>     3</td>      <th>                     </th>     <td> </td>   \n",
       "</tr>\n",
       "<tr>\n",
       "  <th>Covariance Type:</th>      <td>nonrobust</td>    <th>                     </th>     <td> </td>   \n",
       "</tr>\n",
       "</table>\n",
       "<table class=\"simpletable\">\n",
       "<tr>\n",
       "      <td></td>        <th>coef</th>     <th>std err</th>      <th>t</th>      <th>P>|t|</th>  <th>[0.025</th>    <th>0.975]</th>  \n",
       "</tr>\n",
       "<tr>\n",
       "  <th>const</th>    <td>    5.7908</td> <td>    2.051</td> <td>    2.823</td> <td> 0.005</td> <td>    1.736</td> <td>    9.845</td>\n",
       "</tr>\n",
       "<tr>\n",
       "  <th>NID_NGDP</th> <td>    0.0706</td> <td>    0.026</td> <td>    2.674</td> <td> 0.008</td> <td>    0.018</td> <td>    0.123</td>\n",
       "</tr>\n",
       "<tr>\n",
       "  <th>PCPIPCH</th>  <td>   -0.0552</td> <td>    0.007</td> <td>   -8.169</td> <td> 0.000</td> <td>   -0.069</td> <td>   -0.042</td>\n",
       "</tr>\n",
       "<tr>\n",
       "  <th>PPPPC</th>    <td>   -0.4984</td> <td>    0.211</td> <td>   -2.358</td> <td> 0.020</td> <td>   -0.916</td> <td>   -0.081</td>\n",
       "</tr>\n",
       "</table>\n",
       "<table class=\"simpletable\">\n",
       "<tr>\n",
       "  <th>Omnibus:</th>       <td>65.570</td> <th>  Durbin-Watson:     </th> <td>   1.926</td>\n",
       "</tr>\n",
       "<tr>\n",
       "  <th>Prob(Omnibus):</th> <td> 0.000</td> <th>  Jarque-Bera (JB):  </th> <td> 321.448</td>\n",
       "</tr>\n",
       "<tr>\n",
       "  <th>Skew:</th>          <td>-1.537</td> <th>  Prob(JB):          </th> <td>1.58e-70</td>\n",
       "</tr>\n",
       "<tr>\n",
       "  <th>Kurtosis:</th>      <td> 9.560</td> <th>  Cond. No.          </th> <td>    320.</td>\n",
       "</tr>\n",
       "</table>"
      ],
      "text/plain": [
       "<class 'statsmodels.iolib.summary.Summary'>\n",
       "\"\"\"\n",
       "                            OLS Regression Results                            \n",
       "==============================================================================\n",
       "Dep. Variable:              NGDP_RPCH   R-squared:                       0.348\n",
       "Model:                            OLS   Adj. R-squared:                  0.334\n",
       "Method:                 Least Squares   F-statistic:                     25.44\n",
       "Date:                Wed, 05 Dec 2018   Prob (F-statistic):           3.00e-13\n",
       "Time:                        08:43:57   Log-Likelihood:                -370.67\n",
       "No. Observations:                 147   AIC:                             749.3\n",
       "Df Residuals:                     143   BIC:                             761.3\n",
       "Df Model:                           3                                         \n",
       "Covariance Type:            nonrobust                                         \n",
       "==============================================================================\n",
       "                 coef    std err          t      P>|t|      [0.025      0.975]\n",
       "------------------------------------------------------------------------------\n",
       "const          5.7908      2.051      2.823      0.005       1.736       9.845\n",
       "NID_NGDP       0.0706      0.026      2.674      0.008       0.018       0.123\n",
       "PCPIPCH       -0.0552      0.007     -8.169      0.000      -0.069      -0.042\n",
       "PPPPC         -0.4984      0.211     -2.358      0.020      -0.916      -0.081\n",
       "==============================================================================\n",
       "Omnibus:                       65.570   Durbin-Watson:                   1.926\n",
       "Prob(Omnibus):                  0.000   Jarque-Bera (JB):              321.448\n",
       "Skew:                          -1.537   Prob(JB):                     1.58e-70\n",
       "Kurtosis:                       9.560   Cond. No.                         320.\n",
       "==============================================================================\n",
       "\n",
       "Warnings:\n",
       "[1] Standard Errors assume that the covariance matrix of the errors is correctly specified.\n",
       "\"\"\""
      ]
     },
     "execution_count": 121,
     "metadata": {},
     "output_type": "execute_result"
    }
   ],
   "source": [
    "model_step.summary()"
   ]
  },
  {
   "cell_type": "markdown",
   "metadata": {},
   "source": [
    "### Критерии AIC и BIC, позволяющие сравнивать модели"
   ]
  },
  {
   "cell_type": "code",
   "execution_count": 122,
   "metadata": {
    "collapsed": true
   },
   "outputs": [],
   "source": [
    "k=4"
   ]
  },
  {
   "cell_type": "code",
   "execution_count": 123,
   "metadata": {},
   "outputs": [
    {
     "data": {
      "text/plain": [
       "749.34818542748428"
      ]
     },
     "execution_count": 123,
     "metadata": {},
     "output_type": "execute_result"
    }
   ],
   "source": [
    "AIC=2*k-2*model_step.llf\n",
    "AIC"
   ]
  },
  {
   "cell_type": "code",
   "execution_count": 124,
   "metadata": {},
   "outputs": [
    {
     "data": {
      "text/plain": [
       "761.30991577459918"
      ]
     },
     "execution_count": 124,
     "metadata": {},
     "output_type": "execute_result"
    }
   ],
   "source": [
    "BIC=k*np.log(n)-2*model_step.llf\n",
    "BIC"
   ]
  },
  {
   "cell_type": "code",
   "execution_count": 125,
   "metadata": {
    "collapsed": true
   },
   "outputs": [],
   "source": [
    "econ_model.to_csv('/home/maxime/Documentos/Econometrics/econ_model.csv',index=False)\n",
    "# сохранение dataframe в файл"
   ]
  },
  {
   "cell_type": "markdown",
   "metadata": {
    "collapsed": true
   },
   "source": [
    "### Общий вывод: рост ВВП в существенной степени зависит от роста инфляции, причем коэффициент регрессии имеет знак минус. Это говорит  о том, что увеличение инфляции приводит к снижению экономического роста (в среднем, по всей совокупности стран). Переменная ППС также негативно влияет на рост - более богатые стран ростут медленнее. Объем инвестиций положительно влияет на рост."
   ]
  },
  {
   "cell_type": "markdown",
   "metadata": {},
   "source": [
    "## Задание"
   ]
  },
  {
   "cell_type": "markdown",
   "metadata": {},
   "source": [
    "## Для выполнения задания необходимо взять два экономических индикатора \n",
    "### 1. Построить модель парной линейной регрессии указанными в примере способами\n",
    "### 2. Провести первичную диагностику модели\n",
    "## Для выполнения задания необходимо взять 5-8 экономических индикаторов\n",
    "### 3. Построить  модель множественной линейной регрессии с помощью библиотеки statsmodels\n",
    "### 4. Провести первичную диагностику модели\n",
    "### 4. Построить модель множественной линейной регрессии пошаговым методом (не менее трех шагов)"
   ]
  },
  {
   "cell_type": "code",
   "execution_count": null,
   "metadata": {
    "collapsed": true
   },
   "outputs": [],
   "source": []
  }
 ],
 "metadata": {
  "kernelspec": {
   "display_name": "Python 2",
   "language": "python",
   "name": "python2"
  },
  "language_info": {
   "codemirror_mode": {
    "name": "ipython",
    "version": 2
   },
   "file_extension": ".py",
   "mimetype": "text/x-python",
   "name": "python",
   "nbconvert_exporter": "python",
   "pygments_lexer": "ipython2",
   "version": "2.7.15"
  }
 },
 "nbformat": 4,
 "nbformat_minor": 2
}
