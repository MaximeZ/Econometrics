{
 "cells": [
  {
   "cell_type": "markdown",
   "metadata": {
    "collapsed": true
   },
   "source": [
    "## Задание 5. Модели линейной регрессии (часть II)"
   ]
  },
  {
   "cell_type": "markdown",
   "metadata": {
    "collapsed": true
   },
   "source": [
    "## Цель задания:\n",
    "### 1. Провести диагностику множественной регрессионной модели\n",
    "### 2. Выявить отклонения модели от требований теоремы Гаусса-Маркова\n",
    "### 3. Идентифицировать наблюдения, оказывающие сильное влияние на модель\n",
    "### 4. Построить регрессионную модель с фиктивными переменными\n",
    "### 5. Оценить предсказательные возможности модели и предложить пути ее улучшения\n",
    "### Цель исследования - выявить показатели, влияющие на темп роста ВВП"
   ]
  },
  {
   "cell_type": "markdown",
   "metadata": {
    "collapsed": true
   },
   "source": [
    "### 1.Загрузка библиотек"
   ]
  },
  {
   "cell_type": "code",
   "execution_count": 1,
   "metadata": {
    "collapsed": true
   },
   "outputs": [],
   "source": [
    "import pandas as pd\n",
    "import numpy as np\n",
    "from scipy import stats\n",
    "import statsmodels.api as sm ### получение регрессионной модели\n",
    "import statsmodels.formula.api as smf ### получение регрессионной модели\n",
    "import statsmodels.graphics.regressionplots as graph ### графический анализ регрессионной модели\n",
    "import statsmodels.stats.api as test ### регрессионные тесты\n",
    "import statsmodels.stats.outliers_influence ### регрессионные тесты\n",
    "from patsy.contrasts import Treatment"
   ]
  },
  {
   "cell_type": "code",
   "execution_count": 2,
   "metadata": {
    "collapsed": true
   },
   "outputs": [],
   "source": [
    "import matplotlib.pyplot as plt # графическая библиотека"
   ]
  },
  {
   "cell_type": "code",
   "execution_count": 3,
   "metadata": {
    "collapsed": true
   },
   "outputs": [],
   "source": [
    "### %matplotlib inline"
   ]
  },
  {
   "cell_type": "code",
   "execution_count": 4,
   "metadata": {
    "collapsed": true
   },
   "outputs": [],
   "source": [
    "from __future__ import division #  деление с дробной частью (модуль из Python 3)"
   ]
  },
  {
   "cell_type": "code",
   "execution_count": 5,
   "metadata": {
    "collapsed": true
   },
   "outputs": [],
   "source": [
    "pd.set_option('display.max_colwidth',-1)# опция позволяет читать текстовые поля в \"необрезанном виде\""
   ]
  },
  {
   "cell_type": "markdown",
   "metadata": {
    "collapsed": true
   },
   "source": [
    "### 2.Загрузка необходимых файлов"
   ]
  },
  {
   "cell_type": "code",
   "execution_count": 6,
   "metadata": {
    "collapsed": true
   },
   "outputs": [],
   "source": [
    "econ_model=pd.read_csv('/home/maxime/Documentos/Econometrics/econ_model.csv')\n",
    "# загрузка данных, полученных в Задание 4"
   ]
  },
  {
   "cell_type": "code",
   "execution_count": 7,
   "metadata": {},
   "outputs": [
    {
     "data": {
      "text/html": [
       "<div>\n",
       "<style scoped>\n",
       "    .dataframe tbody tr th:only-of-type {\n",
       "        vertical-align: middle;\n",
       "    }\n",
       "\n",
       "    .dataframe tbody tr th {\n",
       "        vertical-align: top;\n",
       "    }\n",
       "\n",
       "    .dataframe thead th {\n",
       "        text-align: right;\n",
       "    }\n",
       "</style>\n",
       "<table border=\"1\" class=\"dataframe\">\n",
       "  <thead>\n",
       "    <tr style=\"text-align: right;\">\n",
       "      <th></th>\n",
       "      <th>Countryimf</th>\n",
       "      <th>Continent</th>\n",
       "      <th>BCA_NGDPD</th>\n",
       "      <th>GGXWDG_NGDP</th>\n",
       "      <th>NGDP_RPCH</th>\n",
       "      <th>NID_NGDP</th>\n",
       "      <th>PCPIPCH</th>\n",
       "      <th>PPPPC</th>\n",
       "      <th>NY.GNS.ICTR.ZS</th>\n",
       "    </tr>\n",
       "  </thead>\n",
       "  <tbody>\n",
       "    <tr>\n",
       "      <th>0</th>\n",
       "      <td>AFG</td>\n",
       "      <td>Asia</td>\n",
       "      <td>7.253</td>\n",
       "      <td>7.823</td>\n",
       "      <td>2.164</td>\n",
       "      <td>18.533</td>\n",
       "      <td>4.384</td>\n",
       "      <td>7.557744</td>\n",
       "      <td>18.096194</td>\n",
       "    </tr>\n",
       "    <tr>\n",
       "      <th>1</th>\n",
       "      <td>AGO</td>\n",
       "      <td>Africa</td>\n",
       "      <td>-4.780</td>\n",
       "      <td>75.253</td>\n",
       "      <td>-2.580</td>\n",
       "      <td>27.215</td>\n",
       "      <td>30.694</td>\n",
       "      <td>8.865876</td>\n",
       "      <td>3.049233</td>\n",
       "    </tr>\n",
       "    <tr>\n",
       "      <th>2</th>\n",
       "      <td>ALB</td>\n",
       "      <td>Europe</td>\n",
       "      <td>-7.563</td>\n",
       "      <td>73.187</td>\n",
       "      <td>3.352</td>\n",
       "      <td>24.277</td>\n",
       "      <td>1.275</td>\n",
       "      <td>9.378468</td>\n",
       "      <td>14.540693</td>\n",
       "    </tr>\n",
       "    <tr>\n",
       "      <th>3</th>\n",
       "      <td>ARE</td>\n",
       "      <td>Asia</td>\n",
       "      <td>3.706</td>\n",
       "      <td>20.217</td>\n",
       "      <td>2.988</td>\n",
       "      <td>27.143</td>\n",
       "      <td>1.617</td>\n",
       "      <td>11.138237</td>\n",
       "      <td>23.757937</td>\n",
       "    </tr>\n",
       "    <tr>\n",
       "      <th>4</th>\n",
       "      <td>ARM</td>\n",
       "      <td>Asia</td>\n",
       "      <td>-2.258</td>\n",
       "      <td>51.862</td>\n",
       "      <td>0.261</td>\n",
       "      <td>19.727</td>\n",
       "      <td>-1.406</td>\n",
       "      <td>9.065648</td>\n",
       "      <td>12.403776</td>\n",
       "    </tr>\n",
       "  </tbody>\n",
       "</table>\n",
       "</div>"
      ],
      "text/plain": [
       "  Countryimf Continent  BCA_NGDPD  GGXWDG_NGDP  NGDP_RPCH  NID_NGDP  PCPIPCH  \\\n",
       "0  AFG        Asia      7.253      7.823        2.164      18.533    4.384     \n",
       "1  AGO        Africa   -4.780      75.253      -2.580      27.215    30.694    \n",
       "2  ALB        Europe   -7.563      73.187       3.352      24.277    1.275     \n",
       "3  ARE        Asia      3.706      20.217       2.988      27.143    1.617     \n",
       "4  ARM        Asia     -2.258      51.862       0.261      19.727   -1.406     \n",
       "\n",
       "       PPPPC  NY.GNS.ICTR.ZS  \n",
       "0  7.557744   18.096194       \n",
       "1  8.865876   3.049233        \n",
       "2  9.378468   14.540693       \n",
       "3  11.138237  23.757937       \n",
       "4  9.065648   12.403776       "
      ]
     },
     "execution_count": 7,
     "metadata": {},
     "output_type": "execute_result"
    }
   ],
   "source": [
    "econ_model.head()"
   ]
  },
  {
   "cell_type": "code",
   "execution_count": 8,
   "metadata": {
    "collapsed": true
   },
   "outputs": [],
   "source": [
    "econ_model.index=econ_model.Countryimf"
   ]
  },
  {
   "cell_type": "markdown",
   "metadata": {
    "collapsed": true
   },
   "source": [
    "### 3. Построение модели множественной регрессии по данным Задания 4"
   ]
  },
  {
   "cell_type": "markdown",
   "metadata": {},
   "source": [
    "### Регрессионную модель построим по анлогии с предыдущим заданием, при этом будем использовать символьную нотацию (форму записи) уравнения. Данная нотация преобразуется в математическое выражение с помощью библиотеки patsy и является аналогом символьной записи, применяемой в языке R."
   ]
  },
  {
   "cell_type": "code",
   "execution_count": 9,
   "metadata": {
    "collapsed": true
   },
   "outputs": [],
   "source": [
    "results=smf.ols('NGDP_RPCH ~ NID_NGDP+PCPIPCH+PPPPC',data=econ_model).fit()"
   ]
  },
  {
   "cell_type": "code",
   "execution_count": 10,
   "metadata": {},
   "outputs": [
    {
     "name": "stdout",
     "output_type": "stream",
     "text": [
      "                            OLS Regression Results                            \n",
      "==============================================================================\n",
      "Dep. Variable:              NGDP_RPCH   R-squared:                       0.348\n",
      "Model:                            OLS   Adj. R-squared:                  0.334\n",
      "Method:                 Least Squares   F-statistic:                     25.44\n",
      "Date:                Thu, 13 Dec 2018   Prob (F-statistic):           3.00e-13\n",
      "Time:                        22:33:23   Log-Likelihood:                -370.67\n",
      "No. Observations:                 147   AIC:                             749.3\n",
      "Df Residuals:                     143   BIC:                             761.3\n",
      "Df Model:                           3                                         \n",
      "Covariance Type:            nonrobust                                         \n",
      "==============================================================================\n",
      "                 coef    std err          t      P>|t|      [0.025      0.975]\n",
      "------------------------------------------------------------------------------\n",
      "Intercept      5.7908      2.051      2.823      0.005       1.736       9.845\n",
      "NID_NGDP       0.0706      0.026      2.674      0.008       0.018       0.123\n",
      "PCPIPCH       -0.0552      0.007     -8.169      0.000      -0.069      -0.042\n",
      "PPPPC         -0.4984      0.211     -2.358      0.020      -0.916      -0.081\n",
      "==============================================================================\n",
      "Omnibus:                       65.570   Durbin-Watson:                   1.926\n",
      "Prob(Omnibus):                  0.000   Jarque-Bera (JB):              321.448\n",
      "Skew:                          -1.537   Prob(JB):                     1.58e-70\n",
      "Kurtosis:                       9.560   Cond. No.                         320.\n",
      "==============================================================================\n",
      "\n",
      "Warnings:\n",
      "[1] Standard Errors assume that the covariance matrix of the errors is correctly specified.\n"
     ]
    }
   ],
   "source": [
    "print(results.summary())"
   ]
  },
  {
   "cell_type": "markdown",
   "metadata": {},
   "source": [
    "### Проведем анализ вариации (ANOVA). Анализ построен на разложениее общей вариации процесса на две составляющие: вариация, объясненная моделью, и вариация остатков. В предыдущем задании мы уже проводили подобный анализ, считая самостоятельно указанные вариации. В данном задании воспользуемся возможностью statsmodels."
   ]
  },
  {
   "cell_type": "markdown",
   "metadata": {},
   "source": [
    "$\\sum(y-\\overline{y})^2=\\sum(\\hat{y}_x-\\overline{y})^2-\\sum(y-\\hat{y}_x)^2$"
   ]
  },
  {
   "cell_type": "code",
   "execution_count": 11,
   "metadata": {
    "collapsed": true
   },
   "outputs": [],
   "source": [
    "ANOVA=pd.DataFrame()\n",
    "ANOVA['Source']=['Model','Error','Total']\n",
    "ANOVA['DF']=[results.df_model,results.df_resid,results.nobs-1]\n",
    "ANOVA['MSE']= [results.mse_model,results.mse_resid,results.mse_total]\n",
    "ANOVA['SumSq']=ANOVA['DF']*ANOVA['MSE']"
   ]
  },
  {
   "cell_type": "code",
   "execution_count": 12,
   "metadata": {},
   "outputs": [
    {
     "data": {
      "text/html": [
       "<div>\n",
       "<style scoped>\n",
       "    .dataframe tbody tr th:only-of-type {\n",
       "        vertical-align: middle;\n",
       "    }\n",
       "\n",
       "    .dataframe tbody tr th {\n",
       "        vertical-align: top;\n",
       "    }\n",
       "\n",
       "    .dataframe thead th {\n",
       "        text-align: right;\n",
       "    }\n",
       "</style>\n",
       "<table border=\"1\" class=\"dataframe\">\n",
       "  <thead>\n",
       "    <tr style=\"text-align: right;\">\n",
       "      <th></th>\n",
       "      <th>Source</th>\n",
       "      <th>DF</th>\n",
       "      <th>MSE</th>\n",
       "      <th>SumSq</th>\n",
       "    </tr>\n",
       "  </thead>\n",
       "  <tbody>\n",
       "    <tr>\n",
       "      <th>0</th>\n",
       "      <td>Model</td>\n",
       "      <td>3.0</td>\n",
       "      <td>237.298841</td>\n",
       "      <td>711.896523</td>\n",
       "    </tr>\n",
       "    <tr>\n",
       "      <th>1</th>\n",
       "      <td>Error</td>\n",
       "      <td>143.0</td>\n",
       "      <td>9.326836</td>\n",
       "      <td>1333.737533</td>\n",
       "    </tr>\n",
       "    <tr>\n",
       "      <th>2</th>\n",
       "      <td>Total</td>\n",
       "      <td>146.0</td>\n",
       "      <td>14.011192</td>\n",
       "      <td>2045.634056</td>\n",
       "    </tr>\n",
       "  </tbody>\n",
       "</table>\n",
       "</div>"
      ],
      "text/plain": [
       "  Source     DF         MSE        SumSq\n",
       "0  Model  3.0    237.298841  711.896523 \n",
       "1  Error  143.0  9.326836    1333.737533\n",
       "2  Total  146.0  14.011192   2045.634056"
      ]
     },
     "execution_count": 12,
     "metadata": {},
     "output_type": "execute_result"
    }
   ],
   "source": [
    "ANOVA.head()"
   ]
  },
  {
   "cell_type": "markdown",
   "metadata": {},
   "source": [
    "### Добавим в исходный dataframe выравненные значения $\\hat{Y}$ и остатки уравнения"
   ]
  },
  {
   "cell_type": "code",
   "execution_count": 13,
   "metadata": {
    "collapsed": true
   },
   "outputs": [],
   "source": [
    "econ_model['Fitted']=results.fittedvalues"
   ]
  },
  {
   "cell_type": "code",
   "execution_count": 14,
   "metadata": {
    "collapsed": true
   },
   "outputs": [],
   "source": [
    "econ_model['Resid']=results.resid"
   ]
  },
  {
   "cell_type": "code",
   "execution_count": 15,
   "metadata": {},
   "outputs": [
    {
     "data": {
      "text/html": [
       "<div>\n",
       "<style scoped>\n",
       "    .dataframe tbody tr th:only-of-type {\n",
       "        vertical-align: middle;\n",
       "    }\n",
       "\n",
       "    .dataframe tbody tr th {\n",
       "        vertical-align: top;\n",
       "    }\n",
       "\n",
       "    .dataframe thead th {\n",
       "        text-align: right;\n",
       "    }\n",
       "</style>\n",
       "<table border=\"1\" class=\"dataframe\">\n",
       "  <thead>\n",
       "    <tr style=\"text-align: right;\">\n",
       "      <th></th>\n",
       "      <th>Countryimf</th>\n",
       "      <th>Continent</th>\n",
       "      <th>BCA_NGDPD</th>\n",
       "      <th>GGXWDG_NGDP</th>\n",
       "      <th>NGDP_RPCH</th>\n",
       "      <th>NID_NGDP</th>\n",
       "      <th>PCPIPCH</th>\n",
       "      <th>PPPPC</th>\n",
       "      <th>NY.GNS.ICTR.ZS</th>\n",
       "      <th>Fitted</th>\n",
       "      <th>Resid</th>\n",
       "    </tr>\n",
       "    <tr>\n",
       "      <th>Countryimf</th>\n",
       "      <th></th>\n",
       "      <th></th>\n",
       "      <th></th>\n",
       "      <th></th>\n",
       "      <th></th>\n",
       "      <th></th>\n",
       "      <th></th>\n",
       "      <th></th>\n",
       "      <th></th>\n",
       "      <th></th>\n",
       "      <th></th>\n",
       "    </tr>\n",
       "  </thead>\n",
       "  <tbody>\n",
       "    <tr>\n",
       "      <th>AFG</th>\n",
       "      <td>AFG</td>\n",
       "      <td>Asia</td>\n",
       "      <td>7.253</td>\n",
       "      <td>7.823</td>\n",
       "      <td>2.164</td>\n",
       "      <td>18.533</td>\n",
       "      <td>4.384</td>\n",
       "      <td>7.557744</td>\n",
       "      <td>18.096194</td>\n",
       "      <td>3.089892</td>\n",
       "      <td>-0.925892</td>\n",
       "    </tr>\n",
       "    <tr>\n",
       "      <th>AGO</th>\n",
       "      <td>AGO</td>\n",
       "      <td>Africa</td>\n",
       "      <td>-4.780</td>\n",
       "      <td>75.253</td>\n",
       "      <td>-2.580</td>\n",
       "      <td>27.215</td>\n",
       "      <td>30.694</td>\n",
       "      <td>8.865876</td>\n",
       "      <td>3.049233</td>\n",
       "      <td>1.597006</td>\n",
       "      <td>-4.177006</td>\n",
       "    </tr>\n",
       "    <tr>\n",
       "      <th>ALB</th>\n",
       "      <td>ALB</td>\n",
       "      <td>Europe</td>\n",
       "      <td>-7.563</td>\n",
       "      <td>73.187</td>\n",
       "      <td>3.352</td>\n",
       "      <td>24.277</td>\n",
       "      <td>1.275</td>\n",
       "      <td>9.378468</td>\n",
       "      <td>14.540693</td>\n",
       "      <td>2.759596</td>\n",
       "      <td>0.592404</td>\n",
       "    </tr>\n",
       "    <tr>\n",
       "      <th>ARE</th>\n",
       "      <td>ARE</td>\n",
       "      <td>Asia</td>\n",
       "      <td>3.706</td>\n",
       "      <td>20.217</td>\n",
       "      <td>2.988</td>\n",
       "      <td>27.143</td>\n",
       "      <td>1.617</td>\n",
       "      <td>11.138237</td>\n",
       "      <td>23.757937</td>\n",
       "      <td>2.065932</td>\n",
       "      <td>0.922068</td>\n",
       "    </tr>\n",
       "    <tr>\n",
       "      <th>ARM</th>\n",
       "      <td>ARM</td>\n",
       "      <td>Asia</td>\n",
       "      <td>-2.258</td>\n",
       "      <td>51.862</td>\n",
       "      <td>0.261</td>\n",
       "      <td>19.727</td>\n",
       "      <td>-1.406</td>\n",
       "      <td>9.065648</td>\n",
       "      <td>12.403776</td>\n",
       "      <td>2.742551</td>\n",
       "      <td>-2.481551</td>\n",
       "    </tr>\n",
       "    <tr>\n",
       "      <th>ATG</th>\n",
       "      <td>ATG</td>\n",
       "      <td>Americas</td>\n",
       "      <td>0.151</td>\n",
       "      <td>86.215</td>\n",
       "      <td>5.348</td>\n",
       "      <td>24.343</td>\n",
       "      <td>-0.489</td>\n",
       "      <td>10.141553</td>\n",
       "      <td>16.623303</td>\n",
       "      <td>2.481419</td>\n",
       "      <td>2.866581</td>\n",
       "    </tr>\n",
       "    <tr>\n",
       "      <th>AUT</th>\n",
       "      <td>AUT</td>\n",
       "      <td>Europe</td>\n",
       "      <td>2.126</td>\n",
       "      <td>83.556</td>\n",
       "      <td>1.451</td>\n",
       "      <td>24.118</td>\n",
       "      <td>0.972</td>\n",
       "      <td>10.780359</td>\n",
       "      <td>20.732965</td>\n",
       "      <td>2.066466</td>\n",
       "      <td>-0.615466</td>\n",
       "    </tr>\n",
       "    <tr>\n",
       "      <th>AZE</th>\n",
       "      <td>AZE</td>\n",
       "      <td>Asia</td>\n",
       "      <td>-3.606</td>\n",
       "      <td>50.711</td>\n",
       "      <td>-3.100</td>\n",
       "      <td>24.930</td>\n",
       "      <td>12.562</td>\n",
       "      <td>9.764057</td>\n",
       "      <td>26.202151</td>\n",
       "      <td>1.989918</td>\n",
       "      <td>-5.089918</td>\n",
       "    </tr>\n",
       "    <tr>\n",
       "      <th>BDI</th>\n",
       "      <td>BDI</td>\n",
       "      <td>Africa</td>\n",
       "      <td>-13.085</td>\n",
       "      <td>48.420</td>\n",
       "      <td>-1.042</td>\n",
       "      <td>9.000</td>\n",
       "      <td>5.527</td>\n",
       "      <td>6.614949</td>\n",
       "      <td>22.649593</td>\n",
       "      <td>2.823912</td>\n",
       "      <td>-3.865912</td>\n",
       "    </tr>\n",
       "    <tr>\n",
       "      <th>BEL</th>\n",
       "      <td>BEL</td>\n",
       "      <td>Europe</td>\n",
       "      <td>0.097</td>\n",
       "      <td>106.030</td>\n",
       "      <td>1.412</td>\n",
       "      <td>23.952</td>\n",
       "      <td>1.770</td>\n",
       "      <td>10.717413</td>\n",
       "      <td>-1.993923</td>\n",
       "      <td>2.042033</td>\n",
       "      <td>-0.630033</td>\n",
       "    </tr>\n",
       "  </tbody>\n",
       "</table>\n",
       "</div>"
      ],
      "text/plain": [
       "           Countryimf Continent  BCA_NGDPD  GGXWDG_NGDP  NGDP_RPCH  NID_NGDP  \\\n",
       "Countryimf                                                                     \n",
       "AFG         AFG        Asia      7.253      7.823        2.164      18.533     \n",
       "AGO         AGO        Africa   -4.780      75.253      -2.580      27.215     \n",
       "ALB         ALB        Europe   -7.563      73.187       3.352      24.277     \n",
       "ARE         ARE        Asia      3.706      20.217       2.988      27.143     \n",
       "ARM         ARM        Asia     -2.258      51.862       0.261      19.727     \n",
       "ATG         ATG        Americas  0.151      86.215       5.348      24.343     \n",
       "AUT         AUT        Europe    2.126      83.556       1.451      24.118     \n",
       "AZE         AZE        Asia     -3.606      50.711      -3.100      24.930     \n",
       "BDI         BDI        Africa   -13.085     48.420      -1.042      9.000      \n",
       "BEL         BEL        Europe    0.097      106.030      1.412      23.952     \n",
       "\n",
       "            PCPIPCH      PPPPC  NY.GNS.ICTR.ZS    Fitted     Resid  \n",
       "Countryimf                                                          \n",
       "AFG         4.384    7.557744   18.096194       3.089892 -0.925892  \n",
       "AGO         30.694   8.865876   3.049233        1.597006 -4.177006  \n",
       "ALB         1.275    9.378468   14.540693       2.759596  0.592404  \n",
       "ARE         1.617    11.138237  23.757937       2.065932  0.922068  \n",
       "ARM        -1.406    9.065648   12.403776       2.742551 -2.481551  \n",
       "ATG        -0.489    10.141553  16.623303       2.481419  2.866581  \n",
       "AUT         0.972    10.780359  20.732965       2.066466 -0.615466  \n",
       "AZE         12.562   9.764057   26.202151       1.989918 -5.089918  \n",
       "BDI         5.527    6.614949   22.649593       2.823912 -3.865912  \n",
       "BEL         1.770    10.717413 -1.993923        2.042033 -0.630033  "
      ]
     },
     "execution_count": 15,
     "metadata": {},
     "output_type": "execute_result"
    }
   ],
   "source": [
    "econ_model.head(10)"
   ]
  },
  {
   "cell_type": "markdown",
   "metadata": {},
   "source": [
    "### 4. Диагностика и анализ модели"
   ]
  },
  {
   "cell_type": "markdown",
   "metadata": {},
   "source": [
    "### Во всех тестах $\\alpha=0.05$"
   ]
  },
  {
   "cell_type": "markdown",
   "metadata": {
    "collapsed": true
   },
   "source": [
    "### 4.1. Прогнозные оценки, получаемые на основе регрессии"
   ]
  },
  {
   "cell_type": "markdown",
   "metadata": {},
   "source": [
    "### Эконометрические модели служат не только для анализа влияния факторов на зависимую переменную, но и для целей прогнозирования. Данная часть задания посвящена построению интервальных оценок выравненных или прогнозных значений."
   ]
  },
  {
   "cell_type": "markdown",
   "metadata": {},
   "source": [
    "### Интервальная оценка строится как для среднего значения, предсказанного моделью, так и для точечной оценки. В библиотеке statsmodels используются следующие формулы:"
   ]
  },
  {
   "cell_type": "markdown",
   "metadata": {},
   "source": [
    "### Точечная  оценка $\\Delta=t(1-\\frac{\\alpha}{2},\\nu=n-k)\\sqrt{1+x_0(X^{'}X)^{-1}x_0^{'}}$\n",
    "### Средняя оценка $\\Delta=t(1-\\frac{\\alpha}{2},\\nu=n-k)\\sqrt{x_0(X^{'}X)^{-1}x_0^{'}}$"
   ]
  },
  {
   "cell_type": "code",
   "execution_count": 16,
   "metadata": {
    "collapsed": true
   },
   "outputs": [],
   "source": [
    "pred=results.get_prediction()\n",
    "### инициализация процедуры расчета интервальных оценок выравненных значений"
   ]
  },
  {
   "cell_type": "code",
   "execution_count": 17,
   "metadata": {},
   "outputs": [
    {
     "data": {
      "text/html": [
       "<div>\n",
       "<style scoped>\n",
       "    .dataframe tbody tr th:only-of-type {\n",
       "        vertical-align: middle;\n",
       "    }\n",
       "\n",
       "    .dataframe tbody tr th {\n",
       "        vertical-align: top;\n",
       "    }\n",
       "\n",
       "    .dataframe thead th {\n",
       "        text-align: right;\n",
       "    }\n",
       "</style>\n",
       "<table border=\"1\" class=\"dataframe\">\n",
       "  <thead>\n",
       "    <tr style=\"text-align: right;\">\n",
       "      <th></th>\n",
       "      <th>mean</th>\n",
       "      <th>mean_se</th>\n",
       "      <th>mean_ci_lower</th>\n",
       "      <th>mean_ci_upper</th>\n",
       "      <th>obs_ci_lower</th>\n",
       "      <th>obs_ci_upper</th>\n",
       "      <th>Countryimf</th>\n",
       "      <th>Continent</th>\n",
       "      <th>NGDP_RPCH</th>\n",
       "      <th>Fitted</th>\n",
       "    </tr>\n",
       "    <tr>\n",
       "      <th>Countryimf</th>\n",
       "      <th></th>\n",
       "      <th></th>\n",
       "      <th></th>\n",
       "      <th></th>\n",
       "      <th></th>\n",
       "      <th></th>\n",
       "      <th></th>\n",
       "      <th></th>\n",
       "      <th></th>\n",
       "      <th></th>\n",
       "    </tr>\n",
       "  </thead>\n",
       "  <tbody>\n",
       "    <tr>\n",
       "      <th>AFG</th>\n",
       "      <td>3.089892</td>\n",
       "      <td>0.470026</td>\n",
       "      <td>2.160794</td>\n",
       "      <td>4.018989</td>\n",
       "      <td>-3.017979</td>\n",
       "      <td>9.197762</td>\n",
       "      <td>AFG</td>\n",
       "      <td>Asia</td>\n",
       "      <td>2.164</td>\n",
       "      <td>3.089892</td>\n",
       "    </tr>\n",
       "    <tr>\n",
       "      <th>AGO</th>\n",
       "      <td>1.597006</td>\n",
       "      <td>0.317609</td>\n",
       "      <td>0.969191</td>\n",
       "      <td>2.224821</td>\n",
       "      <td>-4.472344</td>\n",
       "      <td>7.666356</td>\n",
       "      <td>AGO</td>\n",
       "      <td>Africa</td>\n",
       "      <td>-2.580</td>\n",
       "      <td>1.597006</td>\n",
       "    </tr>\n",
       "    <tr>\n",
       "      <th>ALB</th>\n",
       "      <td>2.759596</td>\n",
       "      <td>0.255993</td>\n",
       "      <td>2.253577</td>\n",
       "      <td>3.265616</td>\n",
       "      <td>-3.298367</td>\n",
       "      <td>8.817559</td>\n",
       "      <td>ALB</td>\n",
       "      <td>Europe</td>\n",
       "      <td>3.352</td>\n",
       "      <td>2.759596</td>\n",
       "    </tr>\n",
       "    <tr>\n",
       "      <th>ARE</th>\n",
       "      <td>2.065932</td>\n",
       "      <td>0.456289</td>\n",
       "      <td>1.163990</td>\n",
       "      <td>2.967875</td>\n",
       "      <td>-4.037866</td>\n",
       "      <td>8.169731</td>\n",
       "      <td>ARE</td>\n",
       "      <td>Asia</td>\n",
       "      <td>2.988</td>\n",
       "      <td>2.065932</td>\n",
       "    </tr>\n",
       "    <tr>\n",
       "      <th>ARM</th>\n",
       "      <td>2.742551</td>\n",
       "      <td>0.291035</td>\n",
       "      <td>2.167264</td>\n",
       "      <td>3.317838</td>\n",
       "      <td>-3.321591</td>\n",
       "      <td>8.806692</td>\n",
       "      <td>ARM</td>\n",
       "      <td>Asia</td>\n",
       "      <td>0.261</td>\n",
       "      <td>2.742551</td>\n",
       "    </tr>\n",
       "    <tr>\n",
       "      <th>ATG</th>\n",
       "      <td>2.481419</td>\n",
       "      <td>0.305344</td>\n",
       "      <td>1.877848</td>\n",
       "      <td>3.084989</td>\n",
       "      <td>-3.585471</td>\n",
       "      <td>8.548309</td>\n",
       "      <td>ATG</td>\n",
       "      <td>Americas</td>\n",
       "      <td>5.348</td>\n",
       "      <td>2.481419</td>\n",
       "    </tr>\n",
       "    <tr>\n",
       "      <th>AUT</th>\n",
       "      <td>2.066466</td>\n",
       "      <td>0.394341</td>\n",
       "      <td>1.286975</td>\n",
       "      <td>2.845956</td>\n",
       "      <td>-4.020443</td>\n",
       "      <td>8.153375</td>\n",
       "      <td>AUT</td>\n",
       "      <td>Europe</td>\n",
       "      <td>1.451</td>\n",
       "      <td>2.066466</td>\n",
       "    </tr>\n",
       "    <tr>\n",
       "      <th>AZE</th>\n",
       "      <td>1.989918</td>\n",
       "      <td>0.271587</td>\n",
       "      <td>1.453074</td>\n",
       "      <td>2.526762</td>\n",
       "      <td>-4.070698</td>\n",
       "      <td>8.050533</td>\n",
       "      <td>AZE</td>\n",
       "      <td>Asia</td>\n",
       "      <td>-3.100</td>\n",
       "      <td>1.989918</td>\n",
       "    </tr>\n",
       "    <tr>\n",
       "      <th>BDI</th>\n",
       "      <td>2.823912</td>\n",
       "      <td>0.722232</td>\n",
       "      <td>1.396282</td>\n",
       "      <td>4.251542</td>\n",
       "      <td>-3.379393</td>\n",
       "      <td>9.027216</td>\n",
       "      <td>BDI</td>\n",
       "      <td>Africa</td>\n",
       "      <td>-1.042</td>\n",
       "      <td>2.823912</td>\n",
       "    </tr>\n",
       "    <tr>\n",
       "      <th>BEL</th>\n",
       "      <td>2.042033</td>\n",
       "      <td>0.384568</td>\n",
       "      <td>1.281861</td>\n",
       "      <td>2.802206</td>\n",
       "      <td>-4.042432</td>\n",
       "      <td>8.126499</td>\n",
       "      <td>BEL</td>\n",
       "      <td>Europe</td>\n",
       "      <td>1.412</td>\n",
       "      <td>2.042033</td>\n",
       "    </tr>\n",
       "  </tbody>\n",
       "</table>\n",
       "</div>"
      ],
      "text/plain": [
       "                mean   mean_se  mean_ci_lower  mean_ci_upper  obs_ci_lower  \\\n",
       "Countryimf                                                                   \n",
       "AFG         3.089892  0.470026  2.160794       4.018989      -3.017979       \n",
       "AGO         1.597006  0.317609  0.969191       2.224821      -4.472344       \n",
       "ALB         2.759596  0.255993  2.253577       3.265616      -3.298367       \n",
       "ARE         2.065932  0.456289  1.163990       2.967875      -4.037866       \n",
       "ARM         2.742551  0.291035  2.167264       3.317838      -3.321591       \n",
       "ATG         2.481419  0.305344  1.877848       3.084989      -3.585471       \n",
       "AUT         2.066466  0.394341  1.286975       2.845956      -4.020443       \n",
       "AZE         1.989918  0.271587  1.453074       2.526762      -4.070698       \n",
       "BDI         2.823912  0.722232  1.396282       4.251542      -3.379393       \n",
       "BEL         2.042033  0.384568  1.281861       2.802206      -4.042432       \n",
       "\n",
       "            obs_ci_upper Countryimf Continent  NGDP_RPCH    Fitted  \n",
       "Countryimf                                                          \n",
       "AFG         9.197762      AFG        Asia      2.164      3.089892  \n",
       "AGO         7.666356      AGO        Africa   -2.580      1.597006  \n",
       "ALB         8.817559      ALB        Europe    3.352      2.759596  \n",
       "ARE         8.169731      ARE        Asia      2.988      2.065932  \n",
       "ARM         8.806692      ARM        Asia      0.261      2.742551  \n",
       "ATG         8.548309      ATG        Americas  5.348      2.481419  \n",
       "AUT         8.153375      AUT        Europe    1.451      2.066466  \n",
       "AZE         8.050533      AZE        Asia     -3.100      1.989918  \n",
       "BDI         9.027216      BDI        Africa   -1.042      2.823912  \n",
       "BEL         8.126499      BEL        Europe    1.412      2.042033  "
      ]
     },
     "execution_count": 17,
     "metadata": {},
     "output_type": "execute_result"
    }
   ],
   "source": [
    "pd.concat([pred.summary_frame(),econ_model[['Countryimf','Continent','NGDP_RPCH','Fitted']]],axis=1).head(10)\n",
    "### получение интервальных оценок"
   ]
  },
  {
   "cell_type": "markdown",
   "metadata": {},
   "source": [
    "### Получение интервальной оценки на примере наблюдения с индексом 6 (Австрия)"
   ]
  },
  {
   "cell_type": "code",
   "execution_count": 18,
   "metadata": {
    "collapsed": true
   },
   "outputs": [],
   "source": [
    "n=econ_model.shape[0] ### число наблюдений\n",
    "k=4 # число параметров, включая свободный член"
   ]
  },
  {
   "cell_type": "code",
   "execution_count": 19,
   "metadata": {
    "collapsed": true
   },
   "outputs": [],
   "source": [
    "X_m=sm.add_constant(econ_model.iloc[:,[5,6,7]],prepend=True)"
   ]
  },
  {
   "cell_type": "code",
   "execution_count": 20,
   "metadata": {
    "collapsed": true
   },
   "outputs": [],
   "source": [
    "forecast=np.array([1,econ_model.iloc[6,5],econ_model.iloc[6,6],econ_model.iloc[6,7]])\n",
    "### массив со значением независимых переменных Х, используемый \n",
    "### для получения выравненного (прогнозного) значения Y"
   ]
  },
  {
   "cell_type": "code",
   "execution_count": 21,
   "metadata": {},
   "outputs": [
    {
     "data": {
      "text/plain": [
       "array([  1.        ,  24.118     ,   0.972     ,  10.78035872])"
      ]
     },
     "execution_count": 21,
     "metadata": {},
     "output_type": "execute_result"
    }
   ],
   "source": [
    "forecast"
   ]
  },
  {
   "cell_type": "markdown",
   "metadata": {},
   "source": [
    "### Матрица  $(X^{'}X)^{-1}$ "
   ]
  },
  {
   "cell_type": "code",
   "execution_count": 22,
   "metadata": {},
   "outputs": [
    {
     "data": {
      "text/plain": [
       "array([[  4.51096954e-01,  -1.38947580e-03,  -2.58073672e-04,\n",
       "         -4.38012239e-02],\n",
       "       [ -1.38947580e-03,   7.46693472e-05,   6.21161992e-07,\n",
       "         -4.46853985e-05],\n",
       "       [ -2.58073672e-04,   6.21161992e-07,   4.90445662e-06,\n",
       "          2.18073092e-05],\n",
       "       [ -4.38012239e-02,  -4.46853985e-05,   2.18073092e-05,\n",
       "          4.79105865e-03]])"
      ]
     },
     "execution_count": 22,
     "metadata": {},
     "output_type": "execute_result"
    }
   ],
   "source": [
    "np.linalg.inv(np.dot(X_m.T,X_m))\n",
    "### расчет с использованием numpy"
   ]
  },
  {
   "cell_type": "code",
   "execution_count": 23,
   "metadata": {},
   "outputs": [
    {
     "data": {
      "text/html": [
       "<div>\n",
       "<style scoped>\n",
       "    .dataframe tbody tr th:only-of-type {\n",
       "        vertical-align: middle;\n",
       "    }\n",
       "\n",
       "    .dataframe tbody tr th {\n",
       "        vertical-align: top;\n",
       "    }\n",
       "\n",
       "    .dataframe thead th {\n",
       "        text-align: right;\n",
       "    }\n",
       "</style>\n",
       "<table border=\"1\" class=\"dataframe\">\n",
       "  <thead>\n",
       "    <tr style=\"text-align: right;\">\n",
       "      <th></th>\n",
       "      <th>Intercept</th>\n",
       "      <th>NID_NGDP</th>\n",
       "      <th>PCPIPCH</th>\n",
       "      <th>PPPPC</th>\n",
       "    </tr>\n",
       "  </thead>\n",
       "  <tbody>\n",
       "    <tr>\n",
       "      <th>Intercept</th>\n",
       "      <td>0.451097</td>\n",
       "      <td>-1.389476e-03</td>\n",
       "      <td>-2.580737e-04</td>\n",
       "      <td>-0.043801</td>\n",
       "    </tr>\n",
       "    <tr>\n",
       "      <th>NID_NGDP</th>\n",
       "      <td>-0.001389</td>\n",
       "      <td>7.466935e-05</td>\n",
       "      <td>6.211620e-07</td>\n",
       "      <td>-0.000045</td>\n",
       "    </tr>\n",
       "    <tr>\n",
       "      <th>PCPIPCH</th>\n",
       "      <td>-0.000258</td>\n",
       "      <td>6.211620e-07</td>\n",
       "      <td>4.904457e-06</td>\n",
       "      <td>0.000022</td>\n",
       "    </tr>\n",
       "    <tr>\n",
       "      <th>PPPPC</th>\n",
       "      <td>-0.043801</td>\n",
       "      <td>-4.468540e-05</td>\n",
       "      <td>2.180731e-05</td>\n",
       "      <td>0.004791</td>\n",
       "    </tr>\n",
       "  </tbody>\n",
       "</table>\n",
       "</div>"
      ],
      "text/plain": [
       "           Intercept      NID_NGDP       PCPIPCH     PPPPC\n",
       "Intercept  0.451097  -1.389476e-03 -2.580737e-04 -0.043801\n",
       "NID_NGDP  -0.001389   7.466935e-05  6.211620e-07 -0.000045\n",
       "PCPIPCH   -0.000258   6.211620e-07  4.904457e-06  0.000022\n",
       "PPPPC     -0.043801  -4.468540e-05  2.180731e-05  0.004791"
      ]
     },
     "execution_count": 23,
     "metadata": {},
     "output_type": "execute_result"
    }
   ],
   "source": [
    "results.normalized_cov_params\n",
    "### использование функции statsmodels"
   ]
  },
  {
   "cell_type": "markdown",
   "metadata": {},
   "source": [
    "### Расчет стандартного отклонения для точечной и средней оценок"
   ]
  },
  {
   "cell_type": "code",
   "execution_count": 24,
   "metadata": {
    "collapsed": true
   },
   "outputs": [],
   "source": [
    "sigma_point=np.sqrt(results.mse_resid)*np.sqrt(1+np.dot(np.dot(forecast,np.linalg.inv(np.dot(X_m.T,X_m))),forecast.T))"
   ]
  },
  {
   "cell_type": "code",
   "execution_count": 25,
   "metadata": {
    "collapsed": true
   },
   "outputs": [],
   "source": [
    "sigma_mean=np.sqrt(results.mse_resid)*np.sqrt(np.dot(np.dot(forecast,np.linalg.inv(np.dot(X_m.T,X_m))),forecast.T))"
   ]
  },
  {
   "cell_type": "code",
   "execution_count": 26,
   "metadata": {},
   "outputs": [
    {
     "data": {
      "text/plain": [
       "3.0793409311380442"
      ]
     },
     "execution_count": 26,
     "metadata": {},
     "output_type": "execute_result"
    }
   ],
   "source": [
    "sigma_point"
   ]
  },
  {
   "cell_type": "code",
   "execution_count": 27,
   "metadata": {},
   "outputs": [
    {
     "data": {
      "text/plain": [
       "0.39434081074044952"
      ]
     },
     "execution_count": 27,
     "metadata": {},
     "output_type": "execute_result"
    }
   ],
   "source": [
    "sigma_mean"
   ]
  },
  {
   "cell_type": "markdown",
   "metadata": {},
   "source": [
    "### Интервалы для точечной и средней оценок"
   ]
  },
  {
   "cell_type": "code",
   "execution_count": 28,
   "metadata": {
    "collapsed": true
   },
   "outputs": [],
   "source": [
    "delta_mean=stats.t.ppf(0.975,n-k)*sigma_mean"
   ]
  },
  {
   "cell_type": "code",
   "execution_count": 29,
   "metadata": {
    "collapsed": true
   },
   "outputs": [],
   "source": [
    "delta_point=stats.t.ppf(0.975,n-k)*sigma_point"
   ]
  },
  {
   "cell_type": "code",
   "execution_count": 30,
   "metadata": {},
   "outputs": [
    {
     "data": {
      "text/plain": [
       "(-4.020443417874878, 8.1533749687420887)"
      ]
     },
     "execution_count": 30,
     "metadata": {},
     "output_type": "execute_result"
    }
   ],
   "source": [
    "econ_model.iloc[6,9]-delta_point,econ_model.iloc[6,9]+delta_point"
   ]
  },
  {
   "cell_type": "code",
   "execution_count": 31,
   "metadata": {},
   "outputs": [
    {
     "data": {
      "text/plain": [
       "(1.2869753715225098, 2.845956179344701)"
      ]
     },
     "execution_count": 31,
     "metadata": {},
     "output_type": "execute_result"
    }
   ],
   "source": [
    "econ_model.iloc[6,9]-delta_mean,econ_model.iloc[6,9]+delta_mean"
   ]
  },
  {
   "cell_type": "markdown",
   "metadata": {
    "collapsed": true
   },
   "source": [
    "### 4.2. Графический анализ остатков уравнения регрессии"
   ]
  },
  {
   "cell_type": "markdown",
   "metadata": {},
   "source": [
    "### Графический анализ остатков позволяет визуализировать отклонения модели от предпосылок теоремы Маркова-Гаусса и провести первичную диагностику модели. Для этих целей используются разные виды графиков. В задании мы остановимся на двух из них."
   ]
  },
  {
   "cell_type": "markdown",
   "metadata": {},
   "source": [
    "### График 'Выравненные значения vs Остатки'. Цель построения графика - проанализировать зависимость остатков от выравненных значений переменной Y. С помощью графика можно выявить признаки автокорреляции и гетеоскедастичности."
   ]
  },
  {
   "cell_type": "code",
   "execution_count": 32,
   "metadata": {},
   "outputs": [
    {
     "data": {
      "image/png": "[encoded data removed]",
      "text/plain": [
       "<matplotlib.figure.Figure at 0x7f26d2fab5d0>"
      ]
     },
     "metadata": {},
     "output_type": "display_data"
    }
   ],
   "source": [
    "plt.scatter(x=econ_model['Fitted'],y=econ_model['Resid'], c='green')\n",
    "plt.title(u'Выравненные значени vs Остатки')\n",
    "plt.ylabel(u'Остатки уравнения')\n",
    "plt.xlabel(u'Выравненные значения')\n",
    "plt.show()\n",
    "plt.gcf().clear()"
   ]
  },
  {
   "cell_type": "markdown",
   "metadata": {},
   "source": [
    "### Вывод: Построенный график не позволяет сделать выводов о поведении остатков. Причина это заключается в присутствии нескольких выбросов, существенно искажающих картину. Целесообразно рассмотреть отдельно случаи экстремальных значений остатков."
   ]
  },
  {
   "cell_type": "markdown",
   "metadata": {},
   "source": [
    "### Проверка нормальности остатков распределения"
   ]
  },
  {
   "cell_type": "code",
   "execution_count": 33,
   "metadata": {
    "collapsed": true
   },
   "outputs": [],
   "source": [
    "sm.qqplot(results.resid)\n",
    "plt.gcf().clear()"
   ]
  },
  {
   "cell_type": "markdown",
   "metadata": {},
   "source": [
    "### Вывод: Визуальный анализ QQ-plot не позволяет сделать вывод о нормальности рапсределения остатков, что подтверждается тестами, приведенными в результатх модели (например, Jarque-Bera тест ). Само по себе отсутствие нормальности рапсределения остатков не является препятствием для использования модели, однако стоит обратить внимание на экстремальные значения."
   ]
  },
  {
   "cell_type": "markdown",
   "metadata": {
    "collapsed": true
   },
   "source": [
    "### 4.3. Выявление наблюдений, сильно влияющих на параметры модели"
   ]
  },
  {
   "cell_type": "markdown",
   "metadata": {},
   "source": [
    "### Цель данного этапа анализа заключается в идентификации наблюдений, присутствие которых может существенно изменить или  исказить харктер взаимосвязи. Анализ построен на том, что для каждого наблюдения сравниваются две регресионные модели - с данным наблюдением и без данного наблюдения. Наиболее популярным критерием является Cook's distance. Чем больше его значение. тем влиятельнее наблюдение."
   ]
  },
  {
   "cell_type": "code",
   "execution_count": 34,
   "metadata": {
    "collapsed": true
   },
   "outputs": [],
   "source": [
    "infl=results.get_influence()\n",
    "### создание объекта, содержащего информацию о степени влияния каждого наблюдения на модель"
   ]
  },
  {
   "cell_type": "code",
   "execution_count": 35,
   "metadata": {},
   "outputs": [
    {
     "data": {
      "text/html": [
       "<div>\n",
       "<style scoped>\n",
       "    .dataframe tbody tr th:only-of-type {\n",
       "        vertical-align: middle;\n",
       "    }\n",
       "\n",
       "    .dataframe tbody tr th {\n",
       "        vertical-align: top;\n",
       "    }\n",
       "\n",
       "    .dataframe thead th {\n",
       "        text-align: right;\n",
       "    }\n",
       "</style>\n",
       "<table border=\"1\" class=\"dataframe\">\n",
       "  <thead>\n",
       "    <tr style=\"text-align: right;\">\n",
       "      <th></th>\n",
       "      <th>dfb_Intercept</th>\n",
       "      <th>dfb_NID_NGDP</th>\n",
       "      <th>dfb_PCPIPCH</th>\n",
       "      <th>dfb_PPPPC</th>\n",
       "      <th>cooks_d</th>\n",
       "      <th>dffits</th>\n",
       "      <th>dffits_internal</th>\n",
       "      <th>hat_diag</th>\n",
       "      <th>standard_resid</th>\n",
       "      <th>student_resid</th>\n",
       "      <th>Countryimf</th>\n",
       "      <th>Continent</th>\n",
       "      <th>NGDP_RPCH</th>\n",
       "      <th>Fitted</th>\n",
       "    </tr>\n",
       "    <tr>\n",
       "      <th>Countryimf</th>\n",
       "      <th></th>\n",
       "      <th></th>\n",
       "      <th></th>\n",
       "      <th></th>\n",
       "      <th></th>\n",
       "      <th></th>\n",
       "      <th></th>\n",
       "      <th></th>\n",
       "      <th></th>\n",
       "      <th></th>\n",
       "      <th></th>\n",
       "      <th></th>\n",
       "      <th></th>\n",
       "      <th></th>\n",
       "    </tr>\n",
       "  </thead>\n",
       "  <tbody>\n",
       "    <tr>\n",
       "      <th>SSD</th>\n",
       "      <td>0.017562</td>\n",
       "      <td>-0.078231</td>\n",
       "      <td>3.013891</td>\n",
       "      <td>-0.036944</td>\n",
       "      <td>2.302961</td>\n",
       "      <td>3.073568</td>\n",
       "      <td>3.035102</td>\n",
       "      <td>0.670249</td>\n",
       "      <td>2.128867</td>\n",
       "      <td>2.155848</td>\n",
       "      <td>SSD</td>\n",
       "      <td>Africa</td>\n",
       "      <td>-13.933</td>\n",
       "      <td>-17.666438</td>\n",
       "    </tr>\n",
       "    <tr>\n",
       "      <th>YEM</th>\n",
       "      <td>-1.012784</td>\n",
       "      <td>1.205969</td>\n",
       "      <td>0.420692</td>\n",
       "      <td>0.585579</td>\n",
       "      <td>0.450871</td>\n",
       "      <td>-1.506199</td>\n",
       "      <td>-1.342939</td>\n",
       "      <td>0.056503</td>\n",
       "      <td>-5.487716</td>\n",
       "      <td>-6.154853</td>\n",
       "      <td>YEM</td>\n",
       "      <td>Asia</td>\n",
       "      <td>-13.621</td>\n",
       "      <td>2.658051</td>\n",
       "    </tr>\n",
       "    <tr>\n",
       "      <th>VEN</th>\n",
       "      <td>0.175826</td>\n",
       "      <td>0.127033</td>\n",
       "      <td>-1.177865</td>\n",
       "      <td>-0.213984</td>\n",
       "      <td>0.356369</td>\n",
       "      <td>-1.203157</td>\n",
       "      <td>-1.193933</td>\n",
       "      <td>0.310252</td>\n",
       "      <td>-1.780195</td>\n",
       "      <td>-1.793949</td>\n",
       "      <td>VEN</td>\n",
       "      <td>Americas</td>\n",
       "      <td>-16.456</td>\n",
       "      <td>-11.940771</td>\n",
       "    </tr>\n",
       "    <tr>\n",
       "      <th>COG</th>\n",
       "      <td>0.103988</td>\n",
       "      <td>-1.005064</td>\n",
       "      <td>0.016320</td>\n",
       "      <td>0.182693</td>\n",
       "      <td>0.258454</td>\n",
       "      <td>-1.044147</td>\n",
       "      <td>-1.016768</td>\n",
       "      <td>0.110179</td>\n",
       "      <td>-2.889507</td>\n",
       "      <td>-2.967314</td>\n",
       "      <td>COG</td>\n",
       "      <td>Africa</td>\n",
       "      <td>-2.829</td>\n",
       "      <td>5.495194</td>\n",
       "    </tr>\n",
       "    <tr>\n",
       "      <th>SUR</th>\n",
       "      <td>0.281083</td>\n",
       "      <td>-0.890784</td>\n",
       "      <td>-0.329671</td>\n",
       "      <td>-0.025126</td>\n",
       "      <td>0.225629</td>\n",
       "      <td>-0.969382</td>\n",
       "      <td>-0.950008</td>\n",
       "      <td>0.119985</td>\n",
       "      <td>-2.572811</td>\n",
       "      <td>-2.625280</td>\n",
       "      <td>SUR</td>\n",
       "      <td>Americas</td>\n",
       "      <td>-5.139</td>\n",
       "      <td>2.231891</td>\n",
       "    </tr>\n",
       "    <tr>\n",
       "      <th>TCD</th>\n",
       "      <td>-0.426436</td>\n",
       "      <td>0.188540</td>\n",
       "      <td>0.124273</td>\n",
       "      <td>0.344271</td>\n",
       "      <td>0.057073</td>\n",
       "      <td>-0.493794</td>\n",
       "      <td>-0.477798</td>\n",
       "      <td>0.022208</td>\n",
       "      <td>-3.170355</td>\n",
       "      <td>-3.276497</td>\n",
       "      <td>TCD</td>\n",
       "      <td>Africa</td>\n",
       "      <td>-6.431</td>\n",
       "      <td>3.143107</td>\n",
       "    </tr>\n",
       "    <tr>\n",
       "      <th>GNQ</th>\n",
       "      <td>0.185396</td>\n",
       "      <td>0.255193</td>\n",
       "      <td>0.016632</td>\n",
       "      <td>-0.312854</td>\n",
       "      <td>0.055515</td>\n",
       "      <td>-0.489409</td>\n",
       "      <td>-0.471231</td>\n",
       "      <td>0.019185</td>\n",
       "      <td>-3.369368</td>\n",
       "      <td>-3.499343</td>\n",
       "      <td>GNQ</td>\n",
       "      <td>Africa</td>\n",
       "      <td>-8.576</td>\n",
       "      <td>1.614821</td>\n",
       "    </tr>\n",
       "    <tr>\n",
       "      <th>IRN</th>\n",
       "      <td>-0.150188</td>\n",
       "      <td>0.264230</td>\n",
       "      <td>0.033862</td>\n",
       "      <td>0.105369</td>\n",
       "      <td>0.037932</td>\n",
       "      <td>0.403092</td>\n",
       "      <td>0.389521</td>\n",
       "      <td>0.014378</td>\n",
       "      <td>3.225009</td>\n",
       "      <td>3.337371</td>\n",
       "      <td>IRN</td>\n",
       "      <td>Asia</td>\n",
       "      <td>12.518</td>\n",
       "      <td>2.739928</td>\n",
       "    </tr>\n",
       "    <tr>\n",
       "      <th>BDI</th>\n",
       "      <td>-0.295037</td>\n",
       "      <td>0.157047</td>\n",
       "      <td>0.049237</td>\n",
       "      <td>0.240609</td>\n",
       "      <td>0.025137</td>\n",
       "      <td>-0.317876</td>\n",
       "      <td>-0.317094</td>\n",
       "      <td>0.055927</td>\n",
       "      <td>-1.302812</td>\n",
       "      <td>-1.306023</td>\n",
       "      <td>BDI</td>\n",
       "      <td>Africa</td>\n",
       "      <td>-1.042</td>\n",
       "      <td>2.823912</td>\n",
       "    </tr>\n",
       "    <tr>\n",
       "      <th>BRN</th>\n",
       "      <td>0.233662</td>\n",
       "      <td>-0.139656</td>\n",
       "      <td>-0.004207</td>\n",
       "      <td>-0.216171</td>\n",
       "      <td>0.022929</td>\n",
       "      <td>-0.304901</td>\n",
       "      <td>-0.302845</td>\n",
       "      <td>0.030567</td>\n",
       "      <td>-1.705497</td>\n",
       "      <td>-1.717077</td>\n",
       "      <td>BRN</td>\n",
       "      <td>Asia</td>\n",
       "      <td>-2.465</td>\n",
       "      <td>2.663343</td>\n",
       "    </tr>\n",
       "  </tbody>\n",
       "</table>\n",
       "</div>"
      ],
      "text/plain": [
       "            dfb_Intercept  dfb_NID_NGDP  dfb_PCPIPCH  dfb_PPPPC   cooks_d  \\\n",
       "Countryimf                                                                  \n",
       "SSD         0.017562      -0.078231      3.013891    -0.036944   2.302961   \n",
       "YEM        -1.012784       1.205969      0.420692     0.585579   0.450871   \n",
       "VEN         0.175826       0.127033     -1.177865    -0.213984   0.356369   \n",
       "COG         0.103988      -1.005064      0.016320     0.182693   0.258454   \n",
       "SUR         0.281083      -0.890784     -0.329671    -0.025126   0.225629   \n",
       "TCD        -0.426436       0.188540      0.124273     0.344271   0.057073   \n",
       "GNQ         0.185396       0.255193      0.016632    -0.312854   0.055515   \n",
       "IRN        -0.150188       0.264230      0.033862     0.105369   0.037932   \n",
       "BDI        -0.295037       0.157047      0.049237     0.240609   0.025137   \n",
       "BRN         0.233662      -0.139656     -0.004207    -0.216171   0.022929   \n",
       "\n",
       "              dffits  dffits_internal  hat_diag  standard_resid  \\\n",
       "Countryimf                                                        \n",
       "SSD         3.073568  3.035102         0.670249  2.128867         \n",
       "YEM        -1.506199 -1.342939         0.056503 -5.487716         \n",
       "VEN        -1.203157 -1.193933         0.310252 -1.780195         \n",
       "COG        -1.044147 -1.016768         0.110179 -2.889507         \n",
       "SUR        -0.969382 -0.950008         0.119985 -2.572811         \n",
       "TCD        -0.493794 -0.477798         0.022208 -3.170355         \n",
       "GNQ        -0.489409 -0.471231         0.019185 -3.369368         \n",
       "IRN         0.403092  0.389521         0.014378  3.225009         \n",
       "BDI        -0.317876 -0.317094         0.055927 -1.302812         \n",
       "BRN        -0.304901 -0.302845         0.030567 -1.705497         \n",
       "\n",
       "            student_resid Countryimf Continent  NGDP_RPCH     Fitted  \n",
       "Countryimf                                                            \n",
       "SSD         2.155848       SSD        Africa   -13.933    -17.666438  \n",
       "YEM        -6.154853       YEM        Asia     -13.621     2.658051   \n",
       "VEN        -1.793949       VEN        Americas -16.456    -11.940771  \n",
       "COG        -2.967314       COG        Africa   -2.829      5.495194   \n",
       "SUR        -2.625280       SUR        Americas -5.139      2.231891   \n",
       "TCD        -3.276497       TCD        Africa   -6.431      3.143107   \n",
       "GNQ        -3.499343       GNQ        Africa   -8.576      1.614821   \n",
       "IRN         3.337371       IRN        Asia      12.518     2.739928   \n",
       "BDI        -1.306023       BDI        Africa   -1.042      2.823912   \n",
       "BRN        -1.717077       BRN        Asia     -2.465      2.663343   "
      ]
     },
     "execution_count": 35,
     "metadata": {},
     "output_type": "execute_result"
    }
   ],
   "source": [
    "pd.concat([infl.summary_frame(),\n",
    "           econ_model[['Countryimf','Continent','NGDP_RPCH','Fitted']]],axis=1).nlargest(10,'cooks_d')"
   ]
  },
  {
   "cell_type": "markdown",
   "metadata": {},
   "source": [
    "### Графический анализ влияния наблюдений "
   ]
  },
  {
   "cell_type": "code",
   "execution_count": 36,
   "metadata": {},
   "outputs": [
    {
     "data": {
      "image/png": "[encoded data removed]",
      "text/plain": [
       "<matplotlib.figure.Figure at 0x7f26d1dc7810>"
      ]
     },
     "execution_count": 36,
     "metadata": {},
     "output_type": "execute_result"
    }
   ],
   "source": [
    "sm.graphics.influence_plot(results)\n"
   ]
  },
  {
   "cell_type": "code",
   "execution_count": 37,
   "metadata": {},
   "outputs": [
    {
     "data": {
      "image/png": "[encoded data removed]",
      "text/plain": [
       "<matplotlib.figure.Figure at 0x7f26d2f83f50>"
      ]
     },
     "execution_count": 37,
     "metadata": {},
     "output_type": "execute_result"
    }
   ],
   "source": [
    "graph.plot_leverage_resid2(results)\n"
   ]
  },
  {
   "cell_type": "markdown",
   "metadata": {},
   "source": [
    "### Анализ влияния наблюдений строится на основе диагональных элементов матрицы проекции, имеющей вид $H=X(X^{'}X)^{-1}X^{'}$"
   ]
  },
  {
   "cell_type": "markdown",
   "metadata": {},
   "source": [
    "### Матрица проекции служит для пребразования исходной перменной $Y$ в пространство перменной $\\hat{Y}$ (в англоязычной литературе называется hat matrix):  $\\hat{Y}=HY$"
   ]
  },
  {
   "cell_type": "code",
   "execution_count": 38,
   "metadata": {},
   "outputs": [
    {
     "data": {
      "text/plain": [
       "array([ 0.02368699,  0.0108156 ,  0.00702623,  0.02232263,  0.00908147,\n",
       "        0.00999639,  0.01667282,  0.00790831,  0.05592667,  0.01585668])"
      ]
     },
     "execution_count": 38,
     "metadata": {},
     "output_type": "execute_result"
    }
   ],
   "source": [
    "infl.hat_matrix_diag[0:10]\n",
    "### расчет матрицы проекции в statsmodels"
   ]
  },
  {
   "cell_type": "code",
   "execution_count": 39,
   "metadata": {},
   "outputs": [
    {
     "data": {
      "text/plain": [
       "array([ 0.02368699,  0.0108156 ,  0.00702623,  0.02232263,  0.00908147,\n",
       "        0.00999639,  0.01667282,  0.00790831,  0.05592667,  0.01585668])"
      ]
     },
     "execution_count": 39,
     "metadata": {},
     "output_type": "execute_result"
    }
   ],
   "source": [
    "np.diagonal(np.dot(np.dot(X_m,np.linalg.inv(np.dot(X_m.T,X_m))),X_m.T))[0:10]\n",
    "### расчет матрицы проекции c помощью numpy"
   ]
  },
  {
   "cell_type": "markdown",
   "metadata": {},
   "source": [
    "### Вывод: Из модели целесообразно удалить Южный Судан, Йемен и Венесуэлу (надо отметить, что выбор всегда остается за исследователем)"
   ]
  },
  {
   "cell_type": "markdown",
   "metadata": {
    "collapsed": true
   },
   "source": [
    "### Построим модель, исключив \"влиятельные\"  наблюдения"
   ]
  },
  {
   "cell_type": "code",
   "execution_count": 40,
   "metadata": {
    "collapsed": true
   },
   "outputs": [],
   "source": [
    "results_1=smf.ols('NGDP_RPCH ~ NID_NGDP+PCPIPCH+PPPPC',data=econ_model.drop(['SSD','YEM','VEN'],axis=0)).fit()"
   ]
  },
  {
   "cell_type": "code",
   "execution_count": 41,
   "metadata": {},
   "outputs": [
    {
     "name": "stdout",
     "output_type": "stream",
     "text": [
      "                            OLS Regression Results                            \n",
      "==============================================================================\n",
      "Dep. Variable:              NGDP_RPCH   R-squared:                       0.150\n",
      "Model:                            OLS   Adj. R-squared:                  0.132\n",
      "Method:                 Least Squares   F-statistic:                     8.249\n",
      "Date:                Thu, 13 Dec 2018   Prob (F-statistic):           4.30e-05\n",
      "Time:                        22:33:26   Log-Likelihood:                -342.12\n",
      "No. Observations:                 144   AIC:                             692.2\n",
      "Df Residuals:                     140   BIC:                             704.1\n",
      "Df Model:                           3                                         \n",
      "Covariance Type:            nonrobust                                         \n",
      "==============================================================================\n",
      "                 coef    std err          t      P>|t|      [0.025      0.975]\n",
      "------------------------------------------------------------------------------\n",
      "Intercept      8.5914      1.869      4.597      0.000       4.896      12.287\n",
      "NID_NGDP       0.0552      0.024      2.296      0.023       0.008       0.103\n",
      "PCPIPCH       -0.1419      0.035     -4.095      0.000      -0.210      -0.073\n",
      "PPPPC         -0.7087      0.192     -3.684      0.000      -1.089      -0.328\n",
      "==============================================================================\n",
      "Omnibus:                       30.900   Durbin-Watson:                   1.958\n",
      "Prob(Omnibus):                  0.000   Jarque-Bera (JB):              116.618\n",
      "Skew:                          -0.684   Prob(JB):                     4.75e-26\n",
      "Kurtosis:                       7.191   Cond. No.                         239.\n",
      "==============================================================================\n",
      "\n",
      "Warnings:\n",
      "[1] Standard Errors assume that the covariance matrix of the errors is correctly specified.\n"
     ]
    }
   ],
   "source": [
    "print(results_1.summary())"
   ]
  },
  {
   "cell_type": "markdown",
   "metadata": {},
   "source": [
    "### Вывод: Присутствие указанных выше стран серьезно сказывается на параметрах модели. В частности, после удаления данных стран коэффицент детерминации снизился вдвое, также изменились и значения коэффициентов регрессии. "
   ]
  },
  {
   "cell_type": "code",
   "execution_count": 65,
   "metadata": {},
   "outputs": [
    {
     "data": {
      "text/plain": [
       "<matplotlib.figure.Figure at 0x7f26d1d06110>"
      ]
     },
     "metadata": {},
     "output_type": "display_data"
    },
    {
     "data": {
      "image/png": "[encoded data removed]",
      "text/plain": [
       "<matplotlib.figure.Figure at 0x7f26d1c791d0>"
      ]
     },
     "metadata": {},
     "output_type": "display_data"
    }
   ],
   "source": [
    "plt.figure(figsize=(8,6))\n",
    "plt.scatter(x=results_1.fittedvalues,y=results_1.resid)\n",
    "plt.title(u'Выравненные значени vs Остатки (модель без влиятельных переменных)')\n",
    "plt.ylabel(u'Остатки уравнения')\n",
    "plt.xlabel(u'Выравненные значения')\n",
    "plt.show()\n",
    "plt.gcf().clear()"
   ]
  },
  {
   "cell_type": "markdown",
   "metadata": {},
   "source": [
    "### После удаления сильно влияющих наблюдений график \"Выравненные значени vs Остатки\" поддается интерпретации.  Из данного графика мы можем сделать предварительный вывод об отсутствии каких-то явных тенденций в поведении остатков. Однако окончательный вывод можно сделать только на основании формальных критериев, что является предметом следующих этапов анализа."
   ]
  },
  {
   "cell_type": "markdown",
   "metadata": {
    "collapsed": true
   },
   "source": [
    "### 4.4. Автокорреляция"
   ]
  },
  {
   "cell_type": "markdown",
   "metadata": {},
   "source": [
    "### Наличие автокорреляции в остатках может говорить о том, что модель систематически недоучитывает влияние других факторов, невключенных в модель. Для выявления наличия авткорреляции в остатках уравнения регрессии воспользуемся критериями Дарбина-Уотсона и Льюнга-Бокса"
   ]
  },
  {
   "cell_type": "markdown",
   "metadata": {},
   "source": [
    "### Коэффициент автокорреляции Дарбина-Уотсона $d=\\frac{\\sum_{t=2}^{T}(e_t-e_{t-1})^2}{\\sum_{t=1}^{T}e_t^2}$"
   ]
  },
  {
   "cell_type": "code",
   "execution_count": 43,
   "metadata": {},
   "outputs": [
    {
     "data": {
      "text/plain": [
       "1.9582338277672107"
      ]
     },
     "execution_count": 43,
     "metadata": {},
     "output_type": "execute_result"
    }
   ],
   "source": [
    "np.sum((np.array(results_1.resid[:-1])-np.array(results_1.resid[1:]))**2)/np.sum(np.array(results_1.resid)**2)\n",
    "### расчет коэффиицента с помощью numpy"
   ]
  },
  {
   "cell_type": "markdown",
   "metadata": {},
   "source": [
    "### Вывод: значение коэффициента близко к 2, автокорреляция отсутсвует или незначима."
   ]
  },
  {
   "cell_type": "markdown",
   "metadata": {},
   "source": [
    "### Тест Льюнга-Бокса основан на расчете коэффициентов автокорреляции остатков, рассчитываемых для разного количества лагов (смещений). Таким образом данный тест позволяет идентифицировать автокорреляцию остатков более высоких порядков."
   ]
  },
  {
   "cell_type": "code",
   "execution_count": 44,
   "metadata": {},
   "outputs": [
    {
     "data": {
      "text/plain": [
       "array([ 0.02619656,  2.63811212,  6.69249946,  7.75320757,  7.78854223])"
      ]
     },
     "execution_count": 44,
     "metadata": {},
     "output_type": "execute_result"
    }
   ],
   "source": [
    "test.acorr_ljungbox(results_1.resid)[0][0:5]\n",
    "### значение статистики Льюнга-Бокса"
   ]
  },
  {
   "cell_type": "code",
   "execution_count": 45,
   "metadata": {},
   "outputs": [
    {
     "data": {
      "text/plain": [
       "array([ 0.87142122,  0.26738758,  0.08237223,  0.10104849,  0.16828098])"
      ]
     },
     "execution_count": 45,
     "metadata": {},
     "output_type": "execute_result"
    }
   ],
   "source": [
    "test.acorr_ljungbox(results_1.resid)[1][0:5]\n",
    "###  pvalue статистики Льюнга-Бокса"
   ]
  },
  {
   "cell_type": "markdown",
   "metadata": {},
   "source": [
    "### Вывод: Pvalue статистики Льюнга-Бокса для первых 5 лагов показывает,  что автокорреляция отсутствует или незначима ($pvalue<\\alpha$)"
   ]
  },
  {
   "cell_type": "markdown",
   "metadata": {
    "collapsed": true
   },
   "source": [
    "### 4.5. Гетероскедастичность"
   ]
  },
  {
   "cell_type": "markdown",
   "metadata": {},
   "source": [
    "### Гетероскедастичность означает остутствие постоянсво дисперсии остатков. Как и автокорреляция, гетероскедастичность говорит о том, что в модели может отсутствовать важная информация (дополнительные факторы, объясняющие поведение переменной Y).  Для проверки наличия гетероскедастичности воспользуемся тестом Бреуша-Пагана. Тест основан на построении и проверки значимости дополнительного уравнения, где в качестве зависимой переменной берется квадрат ошибки."
   ]
  },
  {
   "cell_type": "code",
   "execution_count": 46,
   "metadata": {
    "collapsed": true
   },
   "outputs": [],
   "source": [
    "lm,lm_value,fvalue,f_pvalue=test.het_breushpagan(results_1.resid,results_1.model.exog)"
   ]
  },
  {
   "cell_type": "code",
   "execution_count": 47,
   "metadata": {},
   "outputs": [
    {
     "name": "stdout",
     "output_type": "stream",
     "text": [
      "lm 1.2257,lm_pvalue 0.7468,fvalue 0.4006,f_pvalue 0.7528\n"
     ]
    }
   ],
   "source": [
    "print('lm %.4f,lm_pvalue %.4f,fvalue %.4f,f_pvalue %.4f'%(lm,lm_value,fvalue,f_pvalue))"
   ]
  },
  {
   "cell_type": "markdown",
   "metadata": {},
   "source": [
    "### Вывод: Для проверки гипотезы используются $\\chi^2$ и F-критерий. Значения p-value обоих критериев говорят об отсутствии гетероскедастичности"
   ]
  },
  {
   "cell_type": "markdown",
   "metadata": {
    "collapsed": true
   },
   "source": [
    "### 4.6. Мультиколлинеарность"
   ]
  },
  {
   "cell_type": "markdown",
   "metadata": {},
   "source": [
    "### Мультколлинеарность играет большую роль в регрессионном анализе.  Следствием мульколлинеарности в модели является получение неустойчивых оценок коэффициентов (слишком большая ошибка). Выявление мультиколлинеарности осуществляется несколькими способами. В частности, с помощью показателя VIF (Variation Inflation Factor). Значение VIF больше 10 говорит о возможной проблеме мультиколлинеарности."
   ]
  },
  {
   "cell_type": "markdown",
   "metadata": {},
   "source": [
    "### Математически мультколлинеарность проявляется в том, что определитель матрицы  $(X^{'}X)^{-1}$  близок к нулю, т.е. матрица оказывается вырожденной. Однако это не всегда является однозначным свидетельством мультиколлинеарности.  Например, в рассматриваемом случае определитель матрицы имеет значение близкое к нулю, но VIF ни по одной из неазависимых переменных Х не подтверждает наличия мультиколлинеарности."
   ]
  },
  {
   "cell_type": "code",
   "execution_count": 48,
   "metadata": {},
   "outputs": [
    {
     "data": {
      "text/plain": [
       "1.1606693328260681e-14"
      ]
     },
     "execution_count": 48,
     "metadata": {},
     "output_type": "execute_result"
    }
   ],
   "source": [
    " np.linalg.det(np.linalg.inv(np.dot(X_m.T,X_m)))"
   ]
  },
  {
   "cell_type": "code",
   "execution_count": 49,
   "metadata": {},
   "outputs": [
    {
     "data": {
      "text/plain": [
       "array([[  1.        ,  18.533     ,   4.384     ,   7.55774388],\n",
       "       [  1.        ,  27.215     ,  30.694     ,   8.86587572],\n",
       "       [  1.        ,  24.277     ,   1.275     ,   9.37846809],\n",
       "       [  1.        ,  27.143     ,   1.617     ,  11.13823714],\n",
       "       [  1.        ,  19.727     ,  -1.406     ,   9.0656483 ],\n",
       "       [  1.        ,  24.343     ,  -0.489     ,  10.1415531 ],\n",
       "       [  1.        ,  24.118     ,   0.972     ,  10.78035872],\n",
       "       [  1.        ,  24.93      ,  12.562     ,   9.76405691],\n",
       "       [  1.        ,   9.        ,   5.527     ,   6.61494944],\n",
       "       [  1.        ,  23.952     ,   1.77      ,  10.71741303]])"
      ]
     },
     "execution_count": 49,
     "metadata": {},
     "output_type": "execute_result"
    }
   ],
   "source": [
    "results_1.model.exog[0:10]\n",
    "### матрица независимых переменных Х (в терминологии statsmodels экзогенных переменных)"
   ]
  },
  {
   "cell_type": "code",
   "execution_count": 50,
   "metadata": {},
   "outputs": [
    {
     "data": {
      "text/plain": [
       "[1.0648551676512572, 1.1563937462593983, 1.1068536502108135]"
      ]
     },
     "execution_count": 50,
     "metadata": {},
     "output_type": "execute_result"
    }
   ],
   "source": [
    "[statsmodels.stats.outliers_influence.variance_inflation_factor(results_1.model.exog,i) \n",
    " for i in range(1,results_1.model.exog[0:10].shape[1])]\n",
    "### расчет VIF для каждой независимой переменной X"
   ]
  },
  {
   "cell_type": "markdown",
   "metadata": {},
   "source": [
    "### Построим кореляционную матрицу для независимых переменных X. Наличие мультиколлинеарности можно обнаружить по значению коэффициента корреляции. На практике используется эмпирическое правило - если значение коэффициента корреляции больше 0.8, одну из переменных следует удалить из модели."
   ]
  },
  {
   "cell_type": "code",
   "execution_count": 51,
   "metadata": {},
   "outputs": [
    {
     "data": {
      "text/html": [
       "<div>\n",
       "<style scoped>\n",
       "    .dataframe tbody tr th:only-of-type {\n",
       "        vertical-align: middle;\n",
       "    }\n",
       "\n",
       "    .dataframe tbody tr th {\n",
       "        vertical-align: top;\n",
       "    }\n",
       "\n",
       "    .dataframe thead th {\n",
       "        text-align: right;\n",
       "    }\n",
       "</style>\n",
       "<table border=\"1\" class=\"dataframe\">\n",
       "  <thead>\n",
       "    <tr style=\"text-align: right;\">\n",
       "      <th></th>\n",
       "      <th>NID_NGDP</th>\n",
       "      <th>PCPIPCH</th>\n",
       "      <th>PPPPC</th>\n",
       "    </tr>\n",
       "  </thead>\n",
       "  <tbody>\n",
       "    <tr>\n",
       "      <th>NID_NGDP</th>\n",
       "      <td>1.000000</td>\n",
       "      <td>-0.043652</td>\n",
       "      <td>0.080185</td>\n",
       "    </tr>\n",
       "    <tr>\n",
       "      <th>PCPIPCH</th>\n",
       "      <td>-0.043652</td>\n",
       "      <td>1.000000</td>\n",
       "      <td>-0.145170</td>\n",
       "    </tr>\n",
       "    <tr>\n",
       "      <th>PPPPC</th>\n",
       "      <td>0.080185</td>\n",
       "      <td>-0.145170</td>\n",
       "      <td>1.000000</td>\n",
       "    </tr>\n",
       "  </tbody>\n",
       "</table>\n",
       "</div>"
      ],
      "text/plain": [
       "          NID_NGDP   PCPIPCH     PPPPC\n",
       "NID_NGDP  1.000000 -0.043652  0.080185\n",
       "PCPIPCH  -0.043652  1.000000 -0.145170\n",
       "PPPPC     0.080185 -0.145170  1.000000"
      ]
     },
     "execution_count": 51,
     "metadata": {},
     "output_type": "execute_result"
    }
   ],
   "source": [
    "econ_model[['NID_NGDP','PCPIPCH','PPPPC']].corr()"
   ]
  },
  {
   "cell_type": "markdown",
   "metadata": {},
   "source": [
    "### 4.7. Линейность модели"
   ]
  },
  {
   "cell_type": "markdown",
   "metadata": {},
   "source": [
    "### Для проверки предпосылки (гипотезы) линейности связей в модели используется несколько тестов. Остановимся на тесте Рамсея (RESET). Данный тест предполагает построение дополнительной регрессионной модели. В данной модели в качестве независимых переменных используются степени различных порядков выравненных значений $\\hat{Y}$. Если коэффициенты при этих переменных статистически незначимы, линейную спецификацию модели можно считать приемлемой.  "
   ]
  },
  {
   "cell_type": "code",
   "execution_count": 52,
   "metadata": {},
   "outputs": [
    {
     "data": {
      "text/plain": [
       "<class 'statsmodels.stats.contrast.ContrastResults'>\n",
       "<F test: F=array([[ 7.75615938]]), p=0.00610002847103, df_denom=139, df_num=1>"
      ]
     },
     "execution_count": 52,
     "metadata": {},
     "output_type": "execute_result"
    }
   ],
   "source": [
    "statsmodels.stats.outliers_influence.reset_ramsey(results_1,degree=2)"
   ]
  },
  {
   "cell_type": "markdown",
   "metadata": {},
   "source": [
    "### P-value меньше уровня значимости $\\alpha$, следовательно гипотеза о линейности связи в модели не принимается, т.е. целесообразно включить в модель более высокие степени переменных X (квадрат, куб и т.д.)"
   ]
  },
  {
   "cell_type": "markdown",
   "metadata": {},
   "source": [
    "### 4.8. Предсказательные свойства модели и ее практическая применимость"
   ]
  },
  {
   "cell_type": "markdown",
   "metadata": {},
   "source": [
    "### На предыдущих этапах была получена и проанализирована модель, описывающая влияние рзличных факторов на экономический рост. Модель объясняет только 15% вариации зависимой переменной Y (с учетом того, что три страны были исключены их модели). Попробуем рассмотреть причины низкой предсказательной способности модели и  наметить пути ее улучшения."
   ]
  },
  {
   "cell_type": "markdown",
   "metadata": {},
   "source": [
    "### Одной из причин низкой предсказательной способности модели является то, что она дает систематическую ошибку для тех стран, у которых имеет место отрицательный рост.   "
   ]
  },
  {
   "cell_type": "code",
   "execution_count": 53,
   "metadata": {},
   "outputs": [
    {
     "data": {
      "text/html": [
       "<div>\n",
       "<style scoped>\n",
       "    .dataframe tbody tr th:only-of-type {\n",
       "        vertical-align: middle;\n",
       "    }\n",
       "\n",
       "    .dataframe tbody tr th {\n",
       "        vertical-align: top;\n",
       "    }\n",
       "\n",
       "    .dataframe thead th {\n",
       "        text-align: right;\n",
       "    }\n",
       "</style>\n",
       "<table border=\"1\" class=\"dataframe\">\n",
       "  <thead>\n",
       "    <tr style=\"text-align: right;\">\n",
       "      <th></th>\n",
       "      <th>Countryimf</th>\n",
       "      <th>Continent</th>\n",
       "      <th>BCA_NGDPD</th>\n",
       "      <th>GGXWDG_NGDP</th>\n",
       "      <th>NGDP_RPCH</th>\n",
       "      <th>NID_NGDP</th>\n",
       "      <th>PCPIPCH</th>\n",
       "      <th>PPPPC</th>\n",
       "      <th>NY.GNS.ICTR.ZS</th>\n",
       "      <th>Fitted</th>\n",
       "      <th>Resid</th>\n",
       "    </tr>\n",
       "    <tr>\n",
       "      <th>Countryimf</th>\n",
       "      <th></th>\n",
       "      <th></th>\n",
       "      <th></th>\n",
       "      <th></th>\n",
       "      <th></th>\n",
       "      <th></th>\n",
       "      <th></th>\n",
       "      <th></th>\n",
       "      <th></th>\n",
       "      <th></th>\n",
       "      <th></th>\n",
       "    </tr>\n",
       "  </thead>\n",
       "  <tbody>\n",
       "    <tr>\n",
       "      <th>AGO</th>\n",
       "      <td>AGO</td>\n",
       "      <td>Africa</td>\n",
       "      <td>-4.780</td>\n",
       "      <td>75.253</td>\n",
       "      <td>-2.580</td>\n",
       "      <td>27.215</td>\n",
       "      <td>30.694</td>\n",
       "      <td>8.865876</td>\n",
       "      <td>3.049233</td>\n",
       "      <td>1.597006</td>\n",
       "      <td>-4.177006</td>\n",
       "    </tr>\n",
       "    <tr>\n",
       "      <th>AZE</th>\n",
       "      <td>AZE</td>\n",
       "      <td>Asia</td>\n",
       "      <td>-3.606</td>\n",
       "      <td>50.711</td>\n",
       "      <td>-3.100</td>\n",
       "      <td>24.930</td>\n",
       "      <td>12.562</td>\n",
       "      <td>9.764057</td>\n",
       "      <td>26.202151</td>\n",
       "      <td>1.989918</td>\n",
       "      <td>-5.089918</td>\n",
       "    </tr>\n",
       "    <tr>\n",
       "      <th>BDI</th>\n",
       "      <td>BDI</td>\n",
       "      <td>Africa</td>\n",
       "      <td>-13.085</td>\n",
       "      <td>48.420</td>\n",
       "      <td>-1.042</td>\n",
       "      <td>9.000</td>\n",
       "      <td>5.527</td>\n",
       "      <td>6.614949</td>\n",
       "      <td>22.649593</td>\n",
       "      <td>2.823912</td>\n",
       "      <td>-3.865912</td>\n",
       "    </tr>\n",
       "    <tr>\n",
       "      <th>BHS</th>\n",
       "      <td>BHS</td>\n",
       "      <td>Americas</td>\n",
       "      <td>-7.329</td>\n",
       "      <td>50.482</td>\n",
       "      <td>-1.690</td>\n",
       "      <td>25.554</td>\n",
       "      <td>-0.347</td>\n",
       "      <td>10.363201</td>\n",
       "      <td>23.934501</td>\n",
       "      <td>2.448565</td>\n",
       "      <td>-4.138565</td>\n",
       "    </tr>\n",
       "    <tr>\n",
       "      <th>BLR</th>\n",
       "      <td>BLR</td>\n",
       "      <td>Europe</td>\n",
       "      <td>-3.499</td>\n",
       "      <td>53.482</td>\n",
       "      <td>-2.526</td>\n",
       "      <td>26.478</td>\n",
       "      <td>11.829</td>\n",
       "      <td>9.803365</td>\n",
       "      <td>12.177290</td>\n",
       "      <td>2.120058</td>\n",
       "      <td>-4.646058</td>\n",
       "    </tr>\n",
       "    <tr>\n",
       "      <th>BLZ</th>\n",
       "      <td>BLZ</td>\n",
       "      <td>Americas</td>\n",
       "      <td>-8.980</td>\n",
       "      <td>95.867</td>\n",
       "      <td>-0.487</td>\n",
       "      <td>22.261</td>\n",
       "      <td>0.663</td>\n",
       "      <td>9.028600</td>\n",
       "      <td>26.490065</td>\n",
       "      <td>2.825513</td>\n",
       "      <td>-3.312513</td>\n",
       "    </tr>\n",
       "    <tr>\n",
       "      <th>BRA</th>\n",
       "      <td>BRA</td>\n",
       "      <td>Americas</td>\n",
       "      <td>-1.313</td>\n",
       "      <td>78.430</td>\n",
       "      <td>-3.469</td>\n",
       "      <td>15.381</td>\n",
       "      <td>8.740</td>\n",
       "      <td>9.636493</td>\n",
       "      <td>15.311961</td>\n",
       "      <td>1.590838</td>\n",
       "      <td>-5.059838</td>\n",
       "    </tr>\n",
       "    <tr>\n",
       "      <th>BRN</th>\n",
       "      <td>BRN</td>\n",
       "      <td>Asia</td>\n",
       "      <td>12.900</td>\n",
       "      <td>3.005</td>\n",
       "      <td>-2.465</td>\n",
       "      <td>34.620</td>\n",
       "      <td>-0.739</td>\n",
       "      <td>11.259356</td>\n",
       "      <td>56.412016</td>\n",
       "      <td>2.663343</td>\n",
       "      <td>-5.128343</td>\n",
       "    </tr>\n",
       "    <tr>\n",
       "      <th>COG</th>\n",
       "      <td>COG</td>\n",
       "      <td>Africa</td>\n",
       "      <td>-73.649</td>\n",
       "      <td>128.654</td>\n",
       "      <td>-2.829</td>\n",
       "      <td>60.857</td>\n",
       "      <td>3.191</td>\n",
       "      <td>8.856301</td>\n",
       "      <td>11.043295</td>\n",
       "      <td>5.495194</td>\n",
       "      <td>-8.324194</td>\n",
       "    </tr>\n",
       "    <tr>\n",
       "      <th>ECU</th>\n",
       "      <td>ECU</td>\n",
       "      <td>Americas</td>\n",
       "      <td>1.443</td>\n",
       "      <td>43.166</td>\n",
       "      <td>-1.226</td>\n",
       "      <td>24.979</td>\n",
       "      <td>1.728</td>\n",
       "      <td>9.323357</td>\n",
       "      <td>19.139109</td>\n",
       "      <td>2.811570</td>\n",
       "      <td>-4.037570</td>\n",
       "    </tr>\n",
       "    <tr>\n",
       "      <th>GNQ</th>\n",
       "      <td>GNQ</td>\n",
       "      <td>Africa</td>\n",
       "      <td>-12.949</td>\n",
       "      <td>43.338</td>\n",
       "      <td>-8.576</td>\n",
       "      <td>16.564</td>\n",
       "      <td>1.400</td>\n",
       "      <td>10.569588</td>\n",
       "      <td>21.458325</td>\n",
       "      <td>1.614821</td>\n",
       "      <td>-10.190821</td>\n",
       "    </tr>\n",
       "    <tr>\n",
       "      <th>MAC</th>\n",
       "      <td>MAC</td>\n",
       "      <td>Asia</td>\n",
       "      <td>26.959</td>\n",
       "      <td>0.000</td>\n",
       "      <td>-0.863</td>\n",
       "      <td>21.665</td>\n",
       "      <td>2.384</td>\n",
       "      <td>11.514739</td>\n",
       "      <td>22.487477</td>\n",
       "      <td>1.449373</td>\n",
       "      <td>-2.312373</td>\n",
       "    </tr>\n",
       "    <tr>\n",
       "      <th>NGA</th>\n",
       "      <td>NGA</td>\n",
       "      <td>Africa</td>\n",
       "      <td>0.669</td>\n",
       "      <td>19.619</td>\n",
       "      <td>-1.617</td>\n",
       "      <td>15.367</td>\n",
       "      <td>15.696</td>\n",
       "      <td>8.689948</td>\n",
       "      <td>20.961933</td>\n",
       "      <td>1.677263</td>\n",
       "      <td>-3.294263</td>\n",
       "    </tr>\n",
       "    <tr>\n",
       "      <th>RUS</th>\n",
       "      <td>RUS</td>\n",
       "      <td>Europe</td>\n",
       "      <td>1.899</td>\n",
       "      <td>16.051</td>\n",
       "      <td>-0.200</td>\n",
       "      <td>23.950</td>\n",
       "      <td>7.052</td>\n",
       "      <td>10.202118</td>\n",
       "      <td>28.230054</td>\n",
       "      <td>2.006872</td>\n",
       "      <td>-2.206872</td>\n",
       "    </tr>\n",
       "    <tr>\n",
       "      <th>SSD</th>\n",
       "      <td>SSD</td>\n",
       "      <td>Africa</td>\n",
       "      <td>1.263</td>\n",
       "      <td>86.620</td>\n",
       "      <td>-13.933</td>\n",
       "      <td>17.486</td>\n",
       "      <td>379.849</td>\n",
       "      <td>7.434260</td>\n",
       "      <td>30.678090</td>\n",
       "      <td>-17.666438</td>\n",
       "      <td>3.733438</td>\n",
       "    </tr>\n",
       "    <tr>\n",
       "      <th>SUR</th>\n",
       "      <td>SUR</td>\n",
       "      <td>Americas</td>\n",
       "      <td>-5.164</td>\n",
       "      <td>75.845</td>\n",
       "      <td>-5.139</td>\n",
       "      <td>60.719</td>\n",
       "      <td>55.501</td>\n",
       "      <td>9.585690</td>\n",
       "      <td>26.005031</td>\n",
       "      <td>2.231891</td>\n",
       "      <td>-7.370891</td>\n",
       "    </tr>\n",
       "    <tr>\n",
       "      <th>TCD</th>\n",
       "      <td>TCD</td>\n",
       "      <td>Africa</td>\n",
       "      <td>-9.180</td>\n",
       "      <td>52.408</td>\n",
       "      <td>-6.431</td>\n",
       "      <td>16.702</td>\n",
       "      <td>-1.122</td>\n",
       "      <td>7.802109</td>\n",
       "      <td>15.087255</td>\n",
       "      <td>3.143107</td>\n",
       "      <td>-9.574107</td>\n",
       "    </tr>\n",
       "    <tr>\n",
       "      <th>VEN</th>\n",
       "      <td>VEN</td>\n",
       "      <td>Americas</td>\n",
       "      <td>-1.639</td>\n",
       "      <td>31.299</td>\n",
       "      <td>-16.456</td>\n",
       "      <td>15.407</td>\n",
       "      <td>254.391</td>\n",
       "      <td>9.559283</td>\n",
       "      <td>6.408930</td>\n",
       "      <td>-11.940771</td>\n",
       "      <td>-4.515229</td>\n",
       "    </tr>\n",
       "    <tr>\n",
       "      <th>YEM</th>\n",
       "      <td>YEM</td>\n",
       "      <td>Asia</td>\n",
       "      <td>-5.127</td>\n",
       "      <td>68.113</td>\n",
       "      <td>-13.621</td>\n",
       "      <td>1.402</td>\n",
       "      <td>-12.563</td>\n",
       "      <td>7.877417</td>\n",
       "      <td>52.238487</td>\n",
       "      <td>2.658051</td>\n",
       "      <td>-16.279051</td>\n",
       "    </tr>\n",
       "  </tbody>\n",
       "</table>\n",
       "</div>"
      ],
      "text/plain": [
       "           Countryimf Continent  BCA_NGDPD  GGXWDG_NGDP  NGDP_RPCH  NID_NGDP  \\\n",
       "Countryimf                                                                     \n",
       "AGO         AGO        Africa   -4.780      75.253      -2.580      27.215     \n",
       "AZE         AZE        Asia     -3.606      50.711      -3.100      24.930     \n",
       "BDI         BDI        Africa   -13.085     48.420      -1.042      9.000      \n",
       "BHS         BHS        Americas -7.329      50.482      -1.690      25.554     \n",
       "BLR         BLR        Europe   -3.499      53.482      -2.526      26.478     \n",
       "BLZ         BLZ        Americas -8.980      95.867      -0.487      22.261     \n",
       "BRA         BRA        Americas -1.313      78.430      -3.469      15.381     \n",
       "BRN         BRN        Asia      12.900     3.005       -2.465      34.620     \n",
       "COG         COG        Africa   -73.649     128.654     -2.829      60.857     \n",
       "ECU         ECU        Americas  1.443      43.166      -1.226      24.979     \n",
       "GNQ         GNQ        Africa   -12.949     43.338      -8.576      16.564     \n",
       "MAC         MAC        Asia      26.959     0.000       -0.863      21.665     \n",
       "NGA         NGA        Africa    0.669      19.619      -1.617      15.367     \n",
       "RUS         RUS        Europe    1.899      16.051      -0.200      23.950     \n",
       "SSD         SSD        Africa    1.263      86.620      -13.933     17.486     \n",
       "SUR         SUR        Americas -5.164      75.845      -5.139      60.719     \n",
       "TCD         TCD        Africa   -9.180      52.408      -6.431      16.702     \n",
       "VEN         VEN        Americas -1.639      31.299      -16.456     15.407     \n",
       "YEM         YEM        Asia     -5.127      68.113      -13.621     1.402      \n",
       "\n",
       "            PCPIPCH      PPPPC  NY.GNS.ICTR.ZS     Fitted      Resid  \n",
       "Countryimf                                                            \n",
       "AGO         30.694   8.865876   3.049233        1.597006  -4.177006   \n",
       "AZE         12.562   9.764057   26.202151       1.989918  -5.089918   \n",
       "BDI         5.527    6.614949   22.649593       2.823912  -3.865912   \n",
       "BHS        -0.347    10.363201  23.934501       2.448565  -4.138565   \n",
       "BLR         11.829   9.803365   12.177290       2.120058  -4.646058   \n",
       "BLZ         0.663    9.028600   26.490065       2.825513  -3.312513   \n",
       "BRA         8.740    9.636493   15.311961       1.590838  -5.059838   \n",
       "BRN        -0.739    11.259356  56.412016       2.663343  -5.128343   \n",
       "COG         3.191    8.856301   11.043295       5.495194  -8.324194   \n",
       "ECU         1.728    9.323357   19.139109       2.811570  -4.037570   \n",
       "GNQ         1.400    10.569588  21.458325       1.614821  -10.190821  \n",
       "MAC         2.384    11.514739  22.487477       1.449373  -2.312373   \n",
       "NGA         15.696   8.689948   20.961933       1.677263  -3.294263   \n",
       "RUS         7.052    10.202118  28.230054       2.006872  -2.206872   \n",
       "SSD         379.849  7.434260   30.678090      -17.666438  3.733438   \n",
       "SUR         55.501   9.585690   26.005031       2.231891  -7.370891   \n",
       "TCD        -1.122    7.802109   15.087255       3.143107  -9.574107   \n",
       "VEN         254.391  9.559283   6.408930       -11.940771 -4.515229   \n",
       "YEM        -12.563   7.877417   52.238487       2.658051  -16.279051  "
      ]
     },
     "execution_count": 53,
     "metadata": {},
     "output_type": "execute_result"
    }
   ],
   "source": [
    "econ_model[econ_model['NGDP_RPCH']<0]"
   ]
  },
  {
   "cell_type": "markdown",
   "metadata": {},
   "source": [
    "### Построим модель только для стран с положительным ростом. В данной модели показатель инфляции оказывается незначимым."
   ]
  },
  {
   "cell_type": "code",
   "execution_count": 54,
   "metadata": {
    "collapsed": true
   },
   "outputs": [],
   "source": [
    "results_2=smf.ols('NGDP_RPCH ~ NID_NGDP+PCPIPCH+PPPPC',data=econ_model[econ_model['NGDP_RPCH']>=0]).fit()"
   ]
  },
  {
   "cell_type": "code",
   "execution_count": 55,
   "metadata": {},
   "outputs": [
    {
     "name": "stdout",
     "output_type": "stream",
     "text": [
      "                            OLS Regression Results                            \n",
      "==============================================================================\n",
      "Dep. Variable:              NGDP_RPCH   R-squared:                       0.161\n",
      "Model:                            OLS   Adj. R-squared:                  0.141\n",
      "Method:                 Least Squares   F-statistic:                     7.925\n",
      "Date:                Thu, 13 Dec 2018   Prob (F-statistic):           7.05e-05\n",
      "Time:                        22:33:28   Log-Likelihood:                -260.60\n",
      "No. Observations:                 128   AIC:                             529.2\n",
      "Df Residuals:                     124   BIC:                             540.6\n",
      "Df Model:                           3                                         \n",
      "Covariance Type:            nonrobust                                         \n",
      "==============================================================================\n",
      "                 coef    std err          t      P>|t|      [0.025      0.975]\n",
      "------------------------------------------------------------------------------\n",
      "Intercept      6.8517      1.564      4.382      0.000       3.757       9.946\n",
      "NID_NGDP       0.0697      0.019      3.607      0.000       0.031       0.108\n",
      "PCPIPCH       -0.0468      0.039     -1.188      0.237      -0.125       0.031\n",
      "PPPPC         -0.5291      0.155     -3.415      0.001      -0.836      -0.222\n",
      "==============================================================================\n",
      "Omnibus:                       33.897   Durbin-Watson:                   1.806\n",
      "Prob(Omnibus):                  0.000   Jarque-Bera (JB):               83.419\n",
      "Skew:                           1.027   Prob(JB):                     7.69e-19\n",
      "Kurtosis:                       6.380   Cond. No.                         258.\n",
      "==============================================================================\n",
      "\n",
      "Warnings:\n",
      "[1] Standard Errors assume that the covariance matrix of the errors is correctly specified.\n"
     ]
    }
   ],
   "source": [
    "print(results_2.summary())"
   ]
  },
  {
   "cell_type": "markdown",
   "metadata": {},
   "source": [
    "### Для улучшения модели можно предложить следующие варианты:\n",
    "###  - построение не одной  модели, а нескольких моделей для разных групп стран\n",
    "###  - включение в модель других экономических показателей\n",
    "###  - включение в модель степеней независимых переменных ($X^2$)\n",
    "###  -  включение в модель качественных переменных"
   ]
  },
  {
   "cell_type": "markdown",
   "metadata": {},
   "source": [
    "### 5. Включение фиктивных переменных в регрессионную модель"
   ]
  },
  {
   "cell_type": "markdown",
   "metadata": {},
   "source": [
    "### Построим простую регрессионную модель, включив в нее качестенную переменную, показывающую принадлежность страны к определенному континенту. Для этой целей применем процедуру кодирования или бинаризации к данной перменной. Качественная переменная превращаетя в, так называемые, фиктивные переменные  (dummy variables)."
   ]
  },
  {
   "cell_type": "code",
   "execution_count": 56,
   "metadata": {},
   "outputs": [
    {
     "data": {
      "text/html": [
       "<div>\n",
       "<style scoped>\n",
       "    .dataframe tbody tr th:only-of-type {\n",
       "        vertical-align: middle;\n",
       "    }\n",
       "\n",
       "    .dataframe tbody tr th {\n",
       "        vertical-align: top;\n",
       "    }\n",
       "\n",
       "    .dataframe thead th {\n",
       "        text-align: right;\n",
       "    }\n",
       "</style>\n",
       "<table border=\"1\" class=\"dataframe\">\n",
       "  <thead>\n",
       "    <tr style=\"text-align: right;\">\n",
       "      <th></th>\n",
       "      <th>Africa</th>\n",
       "      <th>Americas</th>\n",
       "      <th>Asia</th>\n",
       "      <th>Europe</th>\n",
       "      <th>Oceania</th>\n",
       "    </tr>\n",
       "    <tr>\n",
       "      <th>Countryimf</th>\n",
       "      <th></th>\n",
       "      <th></th>\n",
       "      <th></th>\n",
       "      <th></th>\n",
       "      <th></th>\n",
       "    </tr>\n",
       "  </thead>\n",
       "  <tbody>\n",
       "    <tr>\n",
       "      <th>AFG</th>\n",
       "      <td>0</td>\n",
       "      <td>0</td>\n",
       "      <td>1</td>\n",
       "      <td>0</td>\n",
       "      <td>0</td>\n",
       "    </tr>\n",
       "    <tr>\n",
       "      <th>AGO</th>\n",
       "      <td>1</td>\n",
       "      <td>0</td>\n",
       "      <td>0</td>\n",
       "      <td>0</td>\n",
       "      <td>0</td>\n",
       "    </tr>\n",
       "    <tr>\n",
       "      <th>ALB</th>\n",
       "      <td>0</td>\n",
       "      <td>0</td>\n",
       "      <td>0</td>\n",
       "      <td>1</td>\n",
       "      <td>0</td>\n",
       "    </tr>\n",
       "    <tr>\n",
       "      <th>ARE</th>\n",
       "      <td>0</td>\n",
       "      <td>0</td>\n",
       "      <td>1</td>\n",
       "      <td>0</td>\n",
       "      <td>0</td>\n",
       "    </tr>\n",
       "    <tr>\n",
       "      <th>ARM</th>\n",
       "      <td>0</td>\n",
       "      <td>0</td>\n",
       "      <td>1</td>\n",
       "      <td>0</td>\n",
       "      <td>0</td>\n",
       "    </tr>\n",
       "  </tbody>\n",
       "</table>\n",
       "</div>"
      ],
      "text/plain": [
       "            Africa  Americas  Asia  Europe  Oceania\n",
       "Countryimf                                         \n",
       "AFG         0       0         1     0       0      \n",
       "AGO         1       0         0     0       0      \n",
       "ALB         0       0         0     1       0      \n",
       "ARE         0       0         1     0       0      \n",
       "ARM         0       0         1     0       0      "
      ]
     },
     "execution_count": 56,
     "metadata": {},
     "output_type": "execute_result"
    }
   ],
   "source": [
    "pd.get_dummies(econ_model['Continent']).head()\n",
    "### преобразование качественных переменных можно реализовать с помощью pandas"
   ]
  },
  {
   "cell_type": "markdown",
   "metadata": {},
   "source": [
    "### Значение 1 фиктивной переменной означает принадлежность к тому или иному континенту. Для создания фиктивных переменных с целью их включения  в регрессионную модель необходимо выбрать базовый уровень качественной переменной (или референтную группу). Таким образом, при n различных значениях качественной переменной в модели появится n-1 фиктивных переменных. Это делается с помощью команд библиотеки patsy. В рассматриваемом примере базовым уровнем выступает европейский континент."
   ]
  },
  {
   "cell_type": "code",
   "execution_count": 57,
   "metadata": {
    "collapsed": true
   },
   "outputs": [],
   "source": [
    "results_3=smf.ols(\"NGDP_RPCH ~ C(Continent,Treatment('Europe'))+PCPIPCH\",data=econ_model.drop(['SSD','YEM','VEN'],axis=0)).fit()"
   ]
  },
  {
   "cell_type": "code",
   "execution_count": 58,
   "metadata": {},
   "outputs": [
    {
     "name": "stdout",
     "output_type": "stream",
     "text": [
      "                            OLS Regression Results                            \n",
      "==============================================================================\n",
      "Dep. Variable:              NGDP_RPCH   R-squared:                       0.094\n",
      "Model:                            OLS   Adj. R-squared:                  0.061\n",
      "Method:                 Least Squares   F-statistic:                     2.859\n",
      "Date:                Thu, 13 Dec 2018   Prob (F-statistic):             0.0173\n",
      "Time:                        22:33:28   Log-Likelihood:                -346.75\n",
      "No. Observations:                 144   AIC:                             705.5\n",
      "Df Residuals:                     138   BIC:                             723.3\n",
      "Df Model:                           5                                         \n",
      "Covariance Type:            nonrobust                                         \n",
      "=================================================================================================================\n",
      "                                                    coef    std err          t      P>|t|      [0.025      0.975]\n",
      "-----------------------------------------------------------------------------------------------------------------\n",
      "Intercept                                         2.5272      0.502      5.031      0.000       1.534       3.520\n",
      "C(Continent, Treatment('Europe'))[T.Africa]       0.8081      0.678      1.192      0.235      -0.532       2.148\n",
      "C(Continent, Treatment('Europe'))[T.Americas]    -0.1600      0.739     -0.216      0.829      -1.622       1.302\n",
      "C(Continent, Treatment('Europe'))[T.Asia]         1.4034      0.672      2.089      0.039       0.075       2.732\n",
      "C(Continent, Treatment('Europe'))[T.Oceania]      0.1682      1.663      0.101      0.920      -3.121       3.457\n",
      "PCPIPCH                                          -0.0969      0.035     -2.752      0.007      -0.167      -0.027\n",
      "==============================================================================\n",
      "Omnibus:                       28.415   Durbin-Watson:                   2.059\n",
      "Prob(Omnibus):                  0.000   Jarque-Bera (JB):               82.817\n",
      "Skew:                          -0.713   Prob(JB):                     1.04e-18\n",
      "Kurtosis:                       6.430   Cond. No.                         59.0\n",
      "==============================================================================\n",
      "\n",
      "Warnings:\n",
      "[1] Standard Errors assume that the covariance matrix of the errors is correctly specified.\n"
     ]
    }
   ],
   "source": [
    "print(results_3.summary())"
   ]
  },
  {
   "cell_type": "markdown",
   "metadata": {},
   "source": [
    "### Интерпретация модели.  Роль фиктивной перменной в данном случае сводится к новой интерпретации свободного члена регрессионного уравнения. В рассматриваемой модели базой являтся Европа, таким образом свободный член показвает, каким в среднем должен быть рост в Европе при нулевой инфляции. Значение коэффициентов регрессии при фиктивных переменных показывает, как изменится экономический рост при \"переходе\" от одного континента к другому. Например, при прочих равных (т.е. без учета эффекта инфляции) рост в азиатских странах составит исходя из модели 2.6%+1.4% = 4%. Таким образом, мы оцениваем влияние принадлежности к тому или иному континенту на рост."
   ]
  },
  {
   "cell_type": "markdown",
   "metadata": {},
   "source": [
    "### Регрессионное уравнение только для Европы"
   ]
  },
  {
   "cell_type": "code",
   "execution_count": 59,
   "metadata": {
    "collapsed": true
   },
   "outputs": [],
   "source": [
    "results_4=smf.ols(\"NGDP_RPCH ~ PCPIPCH\",data=econ_model[econ_model.Continent=='Europe']).fit()"
   ]
  },
  {
   "cell_type": "code",
   "execution_count": 60,
   "metadata": {},
   "outputs": [
    {
     "name": "stdout",
     "output_type": "stream",
     "text": [
      "                            OLS Regression Results                            \n",
      "==============================================================================\n",
      "Dep. Variable:              NGDP_RPCH   R-squared:                       0.436\n",
      "Model:                            OLS   Adj. R-squared:                  0.416\n",
      "Method:                 Least Squares   F-statistic:                     21.64\n",
      "Date:                Thu, 13 Dec 2018   Prob (F-statistic):           7.18e-05\n",
      "Time:                        22:33:28   Log-Likelihood:                -49.734\n",
      "No. Observations:                  30   AIC:                             103.5\n",
      "Df Residuals:                      28   BIC:                             106.3\n",
      "Df Model:                           1                                         \n",
      "Covariance Type:            nonrobust                                         \n",
      "==============================================================================\n",
      "                 coef    std err          t      P>|t|      [0.025      0.975]\n",
      "------------------------------------------------------------------------------\n",
      "Intercept      2.8091      0.252     11.131      0.000       2.292       3.326\n",
      "PCPIPCH       -0.4328      0.093     -4.652      0.000      -0.623      -0.242\n",
      "==============================================================================\n",
      "Omnibus:                       33.894   Durbin-Watson:                   1.912\n",
      "Prob(Omnibus):                  0.000   Jarque-Bera (JB):               98.301\n",
      "Skew:                           2.306   Prob(JB):                     4.51e-22\n",
      "Kurtosis:                      10.574   Cond. No.                         2.89\n",
      "==============================================================================\n",
      "\n",
      "Warnings:\n",
      "[1] Standard Errors assume that the covariance matrix of the errors is correctly specified.\n"
     ]
    }
   ],
   "source": [
    "print(results_4.summary())"
   ]
  },
  {
   "cell_type": "code",
   "execution_count": 61,
   "metadata": {},
   "outputs": [
    {
     "data": {
      "text/plain": [
       "<matplotlib.figure.Figure at 0x7f26d1f0f610>"
      ]
     },
     "metadata": {},
     "output_type": "display_data"
    },
    {
     "data": {
      "image/png": "[encoded data removed]",
      "text/plain": [
       "<matplotlib.figure.Figure at 0x7f26d1c79590>"
      ]
     },
     "metadata": {},
     "output_type": "display_data"
    }
   ],
   "source": [
    "plt.figure(figsize=(8,6))\n",
    "plt.scatter(econ_model[econ_model.Continent=='Europe']['PCPIPCH'],econ_model[econ_model.Continent=='Europe']['NGDP_RPCH'], c='green')\n",
    "plt.plot(econ_model[econ_model.Continent=='Europe']['PCPIPCH'],results_4.fittedvalues)\n",
    "plt.title(u'Завимость между темпом прироста ВВП и инфляцией в Европе')\n",
    "plt.ylabel(u'Темп прироста ВВП (%)')\n",
    "plt.xlabel(u'Инфляция (%)')\n",
    "plt.show()\n",
    "plt.gcf().clear()"
   ]
  },
  {
   "cell_type": "markdown",
   "metadata": {},
   "source": [
    "### Регрессионное уравнение только с фиктивными переменными"
   ]
  },
  {
   "cell_type": "code",
   "execution_count": 62,
   "metadata": {
    "collapsed": true
   },
   "outputs": [],
   "source": [
    "results_5=smf.ols(\"NGDP_RPCH ~ C(Continent,Treatment('Europe'))\",data=econ_model.drop(['SSD','YEM','VEN'],axis=0)).fit()"
   ]
  },
  {
   "cell_type": "code",
   "execution_count": 63,
   "metadata": {},
   "outputs": [
    {
     "name": "stdout",
     "output_type": "stream",
     "text": [
      "                            OLS Regression Results                            \n",
      "==============================================================================\n",
      "Dep. Variable:              NGDP_RPCH   R-squared:                       0.044\n",
      "Model:                            OLS   Adj. R-squared:                  0.017\n",
      "Method:                 Least Squares   F-statistic:                     1.604\n",
      "Date:                Thu, 13 Dec 2018   Prob (F-statistic):              0.177\n",
      "Time:                        22:33:29   Log-Likelihood:                -350.59\n",
      "No. Observations:                 144   AIC:                             711.2\n",
      "Df Residuals:                     139   BIC:                             726.0\n",
      "Df Model:                           4                                         \n",
      "Covariance Type:            nonrobust                                         \n",
      "=================================================================================================================\n",
      "                                                    coef    std err          t      P>|t|      [0.025      0.975]\n",
      "-----------------------------------------------------------------------------------------------------------------\n",
      "Intercept                                         2.4458      0.513      4.766      0.000       1.431       3.460\n",
      "C(Continent, Treatment('Europe'))[T.Africa]       0.2563      0.662      0.387      0.699      -1.054       1.566\n",
      "C(Continent, Treatment('Europe'))[T.Americas]    -0.5058      0.746     -0.678      0.499      -1.980       0.968\n",
      "C(Continent, Treatment('Europe'))[T.Asia]         1.1806      0.683      1.730      0.086      -0.169       2.530\n",
      "C(Continent, Treatment('Europe'))[T.Oceania]      0.0812      1.702      0.048      0.962      -3.284       3.446\n",
      "==============================================================================\n",
      "Omnibus:                       24.129   Durbin-Watson:                   2.068\n",
      "Prob(Omnibus):                  0.000   Jarque-Bera (JB):               48.039\n",
      "Skew:                          -0.737   Prob(JB):                     3.70e-11\n",
      "Kurtosis:                       5.416   Cond. No.                         8.23\n",
      "==============================================================================\n",
      "\n",
      "Warnings:\n",
      "[1] Standard Errors assume that the covariance matrix of the errors is correctly specified.\n"
     ]
    }
   ],
   "source": [
    "print(results_5.summary())"
   ]
  },
  {
   "cell_type": "code",
   "execution_count": 64,
   "metadata": {},
   "outputs": [
    {
     "data": {
      "text/plain": [
       "array([ 1.   ,  0.   ,  0.   ,  1.   ,  0.   ,  4.384])"
      ]
     },
     "execution_count": 64,
     "metadata": {},
     "output_type": "execute_result"
    }
   ],
   "source": [
    "results_3.model.exog[0]\n",
    "### пример наблюдения с учетом фиктивных переменных"
   ]
  },
  {
   "cell_type": "markdown",
   "metadata": {},
   "source": [
    "## Задание"
   ]
  },
  {
   "cell_type": "markdown",
   "metadata": {
    "collapsed": true
   },
   "source": [
    "### Для выполнения данного задания необходимо загрузить данные, подготовленные в Задании 4    \n",
    "### 1. Провести диагностику и анализ модели, используя рассмотренные методы и критерии\n",
    "### 2. Построить  модель  линейной регрессии с фиктивными переменными (в примере разобрано несколько моделей, достаточно построить только общую модель).  Для перменной Continent рассмотреть разные референтные группы.\n",
    "### 3. Сформулировать основные выводы, указать недостатки модели и наметить возможные пути ее улучшения"
   ]
  }
 ],
 "metadata": {
  "kernelspec": {
   "display_name": "Python 2",
   "language": "python",
   "name": "python2"
  },
  "language_info": {
   "codemirror_mode": {
    "name": "ipython",
    "version": 2
   },
   "file_extension": ".py",
   "mimetype": "text/x-python",
   "name": "python",
   "nbconvert_exporter": "python",
   "pygments_lexer": "ipython2",
   "version": "2.7.15"
  }
 },
 "nbformat": 4,
 "nbformat_minor": 2
}
