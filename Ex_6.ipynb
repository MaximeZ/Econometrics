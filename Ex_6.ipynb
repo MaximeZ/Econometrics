{
 "cells": [
  {
   "cell_type": "markdown",
   "metadata": {
    "collapsed": true
   },
   "source": [
    "## Задание 6. Введение в эконометрику временных рядов"
   ]
  },
  {
   "cell_type": "markdown",
   "metadata": {
    "collapsed": true
   },
   "source": [
    "## Цель задания:\n",
    "### 1. Получить первичные навыки работы с финансовыми временными рядами\n",
    "### 2. Провести проверку на стационарность и выявить значимые лаги\n",
    "### 3. Построить простую модель ARIMA\n",
    "### 4. Построть модель рыночной беты для выбранного актива "
   ]
  },
  {
   "cell_type": "markdown",
   "metadata": {
    "collapsed": true
   },
   "source": [
    "## 1.Загрузка библиотек"
   ]
  },
  {
   "cell_type": "code",
   "execution_count": 1,
   "metadata": {
    "collapsed": true
   },
   "outputs": [],
   "source": [
    "import pandas as pd\n",
    "import numpy as np\n",
    "import statsmodels.tsa as tsa ### анализ временных рядов\n",
    "import statsmodels.graphics.tsaplots as tsaplots ### визуализация параметров временных рядов\n",
    "import statsmodels.formula.api as smf ### регрессионная модель\n",
    "import statsmodels.stats.outliers_influence  ### регрессионные тесты\n",
    "import statsmodels.stats.api as test ### регрессионные тесты\n",
    "import statsmodels.stats.diagnostic as diagnostic ### регрессионные тесты"
   ]
  },
  {
   "cell_type": "code",
   "execution_count": 2,
   "metadata": {
    "collapsed": true
   },
   "outputs": [],
   "source": [
    "import matplotlib.pyplot as plt # графическая библиотека"
   ]
  },
  {
   "cell_type": "markdown",
   "metadata": {},
   "source": [
    "## 2.Исследование временного ряда"
   ]
  },
  {
   "cell_type": "markdown",
   "metadata": {},
   "source": [
    "### Для исследования временного ряда используется подход Бокса-Дженкенса, состоящий из следующих основных этапов:\n",
    "### 1. Проверка стационарности ряда\n",
    "### 2. Определение порядка модели ARIMA\n",
    "### 3. Построение модели ARIMA"
   ]
  },
  {
   "cell_type": "code",
   "execution_count": 3,
   "metadata": {
    "collapsed": true
   },
   "outputs": [],
   "source": [
    "msft=pd.read_csv('/home/maxime/Documentos/Econometrics/MSFT.csv')\n",
    "### загрузка данных динамики акций Microsoft"
   ]
  },
  {
   "cell_type": "code",
   "execution_count": 4,
   "metadata": {},
   "outputs": [
    {
     "data": {
      "text/html": [
       "<div>\n",
       "<style scoped>\n",
       "    .dataframe tbody tr th:only-of-type {\n",
       "        vertical-align: middle;\n",
       "    }\n",
       "\n",
       "    .dataframe tbody tr th {\n",
       "        vertical-align: top;\n",
       "    }\n",
       "\n",
       "    .dataframe thead th {\n",
       "        text-align: right;\n",
       "    }\n",
       "</style>\n",
       "<table border=\"1\" class=\"dataframe\">\n",
       "  <thead>\n",
       "    <tr style=\"text-align: right;\">\n",
       "      <th></th>\n",
       "      <th>Date</th>\n",
       "      <th>Open</th>\n",
       "      <th>High</th>\n",
       "      <th>Low</th>\n",
       "      <th>Close</th>\n",
       "      <th>Adj Close</th>\n",
       "      <th>Volume</th>\n",
       "    </tr>\n",
       "  </thead>\n",
       "  <tbody>\n",
       "    <tr>\n",
       "      <th>0</th>\n",
       "      <td>2013-12-09</td>\n",
       "      <td>38.560001</td>\n",
       "      <td>38.869999</td>\n",
       "      <td>38.369999</td>\n",
       "      <td>38.709999</td>\n",
       "      <td>34.326134</td>\n",
       "      <td>30286000</td>\n",
       "    </tr>\n",
       "    <tr>\n",
       "      <th>1</th>\n",
       "      <td>2013-12-10</td>\n",
       "      <td>38.610001</td>\n",
       "      <td>38.900002</td>\n",
       "      <td>38.020000</td>\n",
       "      <td>38.110001</td>\n",
       "      <td>33.794098</td>\n",
       "      <td>37828600</td>\n",
       "    </tr>\n",
       "    <tr>\n",
       "      <th>2</th>\n",
       "      <td>2013-12-11</td>\n",
       "      <td>38.060001</td>\n",
       "      <td>38.299999</td>\n",
       "      <td>37.389999</td>\n",
       "      <td>37.610001</td>\n",
       "      <td>33.350716</td>\n",
       "      <td>39853400</td>\n",
       "    </tr>\n",
       "    <tr>\n",
       "      <th>3</th>\n",
       "      <td>2013-12-12</td>\n",
       "      <td>37.639999</td>\n",
       "      <td>37.639999</td>\n",
       "      <td>37.180000</td>\n",
       "      <td>37.220001</td>\n",
       "      <td>33.004879</td>\n",
       "      <td>36012800</td>\n",
       "    </tr>\n",
       "    <tr>\n",
       "      <th>4</th>\n",
       "      <td>2013-12-13</td>\n",
       "      <td>37.419998</td>\n",
       "      <td>37.450001</td>\n",
       "      <td>36.619999</td>\n",
       "      <td>36.689999</td>\n",
       "      <td>32.534901</td>\n",
       "      <td>40066100</td>\n",
       "    </tr>\n",
       "  </tbody>\n",
       "</table>\n",
       "</div>"
      ],
      "text/plain": [
       "         Date       Open       High        Low      Close  Adj Close    Volume\n",
       "0  2013-12-09  38.560001  38.869999  38.369999  38.709999  34.326134  30286000\n",
       "1  2013-12-10  38.610001  38.900002  38.020000  38.110001  33.794098  37828600\n",
       "2  2013-12-11  38.060001  38.299999  37.389999  37.610001  33.350716  39853400\n",
       "3  2013-12-12  37.639999  37.639999  37.180000  37.220001  33.004879  36012800\n",
       "4  2013-12-13  37.419998  37.450001  36.619999  36.689999  32.534901  40066100"
      ]
     },
     "execution_count": 4,
     "metadata": {},
     "output_type": "execute_result"
    }
   ],
   "source": [
    "msft.head()"
   ]
  },
  {
   "cell_type": "code",
   "execution_count": 5,
   "metadata": {},
   "outputs": [
    {
     "data": {
      "text/plain": [
       "Date          object\n",
       "Open         float64\n",
       "High         float64\n",
       "Low          float64\n",
       "Close        float64\n",
       "Adj Close    float64\n",
       "Volume         int64\n",
       "dtype: object"
      ]
     },
     "execution_count": 5,
     "metadata": {},
     "output_type": "execute_result"
    }
   ],
   "source": [
    "msft.dtypes"
   ]
  },
  {
   "cell_type": "code",
   "execution_count": 6,
   "metadata": {
    "collapsed": true
   },
   "outputs": [],
   "source": [
    "msft['Date']=pd.to_datetime(msft['Date'],format='%Y-%m-%d')\n",
    "###  преобразование поля в формат даты"
   ]
  },
  {
   "cell_type": "code",
   "execution_count": 7,
   "metadata": {},
   "outputs": [
    {
     "data": {
      "text/plain": [
       "Date         datetime64[ns]\n",
       "Open                float64\n",
       "High                float64\n",
       "Low                 float64\n",
       "Close               float64\n",
       "Adj Close           float64\n",
       "Volume                int64\n",
       "dtype: object"
      ]
     },
     "execution_count": 7,
     "metadata": {},
     "output_type": "execute_result"
    }
   ],
   "source": [
    "msft.dtypes"
   ]
  },
  {
   "cell_type": "markdown",
   "metadata": {},
   "source": [
    "### Переход от цен к логарифмическим доходностям"
   ]
  },
  {
   "cell_type": "markdown",
   "metadata": {
    "collapsed": true
   },
   "source": [
    "### $ln(\\frac{p_{i+1}}{p_{i}})=ln(p_{i+1})-ln(p_i)$ "
   ]
  },
  {
   "cell_type": "code",
   "execution_count": 8,
   "metadata": {
    "collapsed": true
   },
   "outputs": [],
   "source": [
    "msft['Log_ret_MSFT']=np.log(msft['Adj Close'])-np.log(msft['Adj Close'].shift(1))\n",
    "### расчет логарифмической доходности"
   ]
  },
  {
   "cell_type": "code",
   "execution_count": 9,
   "metadata": {},
   "outputs": [
    {
     "data": {
      "text/html": [
       "<div>\n",
       "<style scoped>\n",
       "    .dataframe tbody tr th:only-of-type {\n",
       "        vertical-align: middle;\n",
       "    }\n",
       "\n",
       "    .dataframe tbody tr th {\n",
       "        vertical-align: top;\n",
       "    }\n",
       "\n",
       "    .dataframe thead th {\n",
       "        text-align: right;\n",
       "    }\n",
       "</style>\n",
       "<table border=\"1\" class=\"dataframe\">\n",
       "  <thead>\n",
       "    <tr style=\"text-align: right;\">\n",
       "      <th></th>\n",
       "      <th>Date</th>\n",
       "      <th>Open</th>\n",
       "      <th>High</th>\n",
       "      <th>Low</th>\n",
       "      <th>Close</th>\n",
       "      <th>Adj Close</th>\n",
       "      <th>Volume</th>\n",
       "      <th>Log_ret_MSFT</th>\n",
       "    </tr>\n",
       "  </thead>\n",
       "  <tbody>\n",
       "    <tr>\n",
       "      <th>0</th>\n",
       "      <td>2013-12-09</td>\n",
       "      <td>38.560001</td>\n",
       "      <td>38.869999</td>\n",
       "      <td>38.369999</td>\n",
       "      <td>38.709999</td>\n",
       "      <td>34.326134</td>\n",
       "      <td>30286000</td>\n",
       "      <td>NaN</td>\n",
       "    </tr>\n",
       "    <tr>\n",
       "      <th>1</th>\n",
       "      <td>2013-12-10</td>\n",
       "      <td>38.610001</td>\n",
       "      <td>38.900002</td>\n",
       "      <td>38.020000</td>\n",
       "      <td>38.110001</td>\n",
       "      <td>33.794098</td>\n",
       "      <td>37828600</td>\n",
       "      <td>-0.015621</td>\n",
       "    </tr>\n",
       "    <tr>\n",
       "      <th>2</th>\n",
       "      <td>2013-12-11</td>\n",
       "      <td>38.060001</td>\n",
       "      <td>38.299999</td>\n",
       "      <td>37.389999</td>\n",
       "      <td>37.610001</td>\n",
       "      <td>33.350716</td>\n",
       "      <td>39853400</td>\n",
       "      <td>-0.013207</td>\n",
       "    </tr>\n",
       "    <tr>\n",
       "      <th>3</th>\n",
       "      <td>2013-12-12</td>\n",
       "      <td>37.639999</td>\n",
       "      <td>37.639999</td>\n",
       "      <td>37.180000</td>\n",
       "      <td>37.220001</td>\n",
       "      <td>33.004879</td>\n",
       "      <td>36012800</td>\n",
       "      <td>-0.010424</td>\n",
       "    </tr>\n",
       "    <tr>\n",
       "      <th>4</th>\n",
       "      <td>2013-12-13</td>\n",
       "      <td>37.419998</td>\n",
       "      <td>37.450001</td>\n",
       "      <td>36.619999</td>\n",
       "      <td>36.689999</td>\n",
       "      <td>32.534901</td>\n",
       "      <td>40066100</td>\n",
       "      <td>-0.014342</td>\n",
       "    </tr>\n",
       "  </tbody>\n",
       "</table>\n",
       "</div>"
      ],
      "text/plain": [
       "        Date       Open       High        Low      Close  Adj Close    Volume  \\\n",
       "0 2013-12-09  38.560001  38.869999  38.369999  38.709999  34.326134  30286000   \n",
       "1 2013-12-10  38.610001  38.900002  38.020000  38.110001  33.794098  37828600   \n",
       "2 2013-12-11  38.060001  38.299999  37.389999  37.610001  33.350716  39853400   \n",
       "3 2013-12-12  37.639999  37.639999  37.180000  37.220001  33.004879  36012800   \n",
       "4 2013-12-13  37.419998  37.450001  36.619999  36.689999  32.534901  40066100   \n",
       "\n",
       "   Log_ret_MSFT  \n",
       "0           NaN  \n",
       "1     -0.015621  \n",
       "2     -0.013207  \n",
       "3     -0.010424  \n",
       "4     -0.014342  "
      ]
     },
     "execution_count": 9,
     "metadata": {},
     "output_type": "execute_result"
    }
   ],
   "source": [
    "msft.head()"
   ]
  },
  {
   "cell_type": "code",
   "execution_count": 10,
   "metadata": {
    "collapsed": true
   },
   "outputs": [],
   "source": [
    "msft.drop([0],axis=0,inplace=True)\n",
    "### удаление первого наблюдения со значением nan"
   ]
  },
  {
   "cell_type": "code",
   "execution_count": 11,
   "metadata": {},
   "outputs": [
    {
     "data": {
      "image/png": "[encoded data removed]",
      "text/plain": [
       "<matplotlib.figure.Figure at 0x7fd6ca79d310>"
      ]
     },
     "metadata": {},
     "output_type": "display_data"
    },
    {
     "data": {
      "image/png": "[encoded data removed]",
      "text/plain": [
       "<matplotlib.figure.Figure at 0x7fd6bdece790>"
      ]
     },
     "metadata": {},
     "output_type": "display_data"
    },
    {
     "data": {
      "image/png": "[encoded data removed]",
      "text/plain": [
       "<matplotlib.figure.Figure at 0x7fd6caa790d0>"
      ]
     },
     "metadata": {},
     "output_type": "display_data"
    }
   ],
   "source": [
    "plt.figure(figsize=(8,6))\n",
    "plt.plot(msft['Date'],msft['Adj Close'])\n",
    "plt.title(u'Динамика цен акций Microsoft')\n",
    "\n",
    "plt.figure(figsize=(8,6))\n",
    "plt.plot(msft['Date'],np.log(msft['Adj Close']))\n",
    "plt.title(u'Динамика логарифмов цен акций Microsoft')\n",
    "\n",
    "plt.figure(figsize=(8,6))\n",
    "plt.plot(msft['Date'],msft['Log_ret_MSFT'])\n",
    "plt.title(u'Динамика доходности акций Microsoft')\n",
    "plt.show()\n",
    "plt.gcf().clear()"
   ]
  },
  {
   "cell_type": "markdown",
   "metadata": {
    "collapsed": true
   },
   "source": [
    "### Проверка временного ряда на стационарность ($\\alpha=0.05$)"
   ]
  },
  {
   "cell_type": "markdown",
   "metadata": {},
   "source": [
    "###  Модель авторегрессии - скользящего среднего корректно применять только к стационарным временным рядам. Стандартным критерием, используемым для проверки временного ряда на стационарность, явяляется критерий  Дикей-Фуллера (ADF - augmented Dickey-Fuller). В основе критерия лежит проверка значимости коэффициентов авторегрессии. Для данного критерия существуют специальные таблицы."
   ]
  },
  {
   "cell_type": "markdown",
   "metadata": {},
   "source": [
    "### Проведем исследование стационарности для логарифмов цен и логарифмической доходности. Нулевая гипотеза состоит в том, что  процесс носит нестационарный характер. Говоря математическим языком - корни характеристического уравнения авторегрессионной модели лежат вунтри единичного круга. "
   ]
  },
  {
   "cell_type": "code",
   "execution_count": 12,
   "metadata": {},
   "outputs": [
    {
     "data": {
      "text/plain": [
       "(-0.10399823306438985,\n",
       " 0.94903883496520136,\n",
       " 8,\n",
       " 1249,\n",
       " {'1%': -3.4355964295197743,\n",
       "  '10%': -2.5680035060041626,\n",
       "  '5%': -2.863856825923603},\n",
       " -7059.1343939966282)"
      ]
     },
     "execution_count": 12,
     "metadata": {},
     "output_type": "execute_result"
    }
   ],
   "source": [
    "tsa.stattools.adfuller(np.log(msft['Adj Close']),maxlag=10)\n",
    "### логарифмы цен"
   ]
  },
  {
   "cell_type": "code",
   "execution_count": 13,
   "metadata": {},
   "outputs": [
    {
     "data": {
      "text/plain": [
       "(-15.043751660747319,\n",
       " 9.5101702844133704e-28,\n",
       " 7,\n",
       " 1250,\n",
       " {'1%': -3.4355922237096959,\n",
       "  '10%': -2.5680025177600001,\n",
       "  '5%': -2.8638549702604803},\n",
       " -7061.1250983591017)"
      ]
     },
     "execution_count": 13,
     "metadata": {},
     "output_type": "execute_result"
    }
   ],
   "source": [
    "tsa.stattools.adfuller(msft['Log_ret_MSFT'],maxlag=10)\n",
    "### логарифмическая доходность"
   ]
  },
  {
   "cell_type": "markdown",
   "metadata": {},
   "source": [
    "### В приведенных результатах работы теста важным являются первые два элемента: само значение критерия и p-value. В случае логарифмов цен гипотеза об отсутствии стационарности принимается. В случае логарифмической доходности - гипотеза отвергается. Это означает, что для построения модели авторгерссии - скользящего среднего необходимо взять первые разности логарифмов цен (что и есть логарифмическая доходность)."
   ]
  },
  {
   "cell_type": "markdown",
   "metadata": {},
   "source": [
    "### Определение порядков авторегресии и скользящего среднего"
   ]
  },
  {
   "cell_type": "markdown",
   "metadata": {},
   "source": [
    "### Порядок процесса можно предварительно определить с помощью графиков авткорреляции и частной автокорреляция. Для этого построим указанные графики для стационарного процесса логарифмической доходности."
   ]
  },
  {
   "cell_type": "markdown",
   "metadata": {
    "collapsed": true
   },
   "source": [
    "### 1. Значимые коэффициенты автокорреляции определяют порядок скользящего среднего\n",
    "### 2. Значимые коэффициенты чстной автокорреляции определяют порядок авторегрессии"
   ]
  },
  {
   "cell_type": "code",
   "execution_count": 14,
   "metadata": {},
   "outputs": [
    {
     "data": {
      "image/png": "[encoded data removed]",
      "text/plain": [
       "<matplotlib.figure.Figure at 0x7fd6caabed50>"
      ]
     },
     "execution_count": 14,
     "metadata": {},
     "output_type": "execute_result"
    }
   ],
   "source": [
    "tsaplots.plot_acf(msft['Log_ret_MSFT'],lags=10)"
   ]
  },
  {
   "cell_type": "code",
   "execution_count": 15,
   "metadata": {},
   "outputs": [
    {
     "data": {
      "image/png": "[encoded data removed]",
      "text/plain": [
       "<matplotlib.figure.Figure at 0x7fd6bdd98b10>"
      ]
     },
     "execution_count": 15,
     "metadata": {},
     "output_type": "execute_result"
    }
   ],
   "source": [
    "tsaplots.plot_pacf(msft['Log_ret_MSFT'],lags=10)"
   ]
  },
  {
   "cell_type": "markdown",
   "metadata": {},
   "source": [
    "### В рассматриваемом случае нет возможности однозначно идентифицировать порядок модели только исходя из графиков."
   ]
  },
  {
   "cell_type": "markdown",
   "metadata": {
    "collapsed": true
   },
   "source": [
    "### Построение модели ARIMA "
   ]
  },
  {
   "cell_type": "markdown",
   "metadata": {},
   "source": [
    "### Для целей задания и, в том числе исходя из результатов анализ PACF и ACF,  ограничимся самой простой моделью порядка (1,1,1), т.е. модель авторегрессии первого порядка и  скользящего среднего первого порядка, построенная по первым разностям."
   ]
  },
  {
   "cell_type": "markdown",
   "metadata": {},
   "source": [
    "### $\\Delta y_t=\\mu+\\phi_1\\Delta y_{t-1}+\\epsilon_t+\\theta_1\\epsilon_{t-1}$"
   ]
  },
  {
   "cell_type": "code",
   "execution_count": 16,
   "metadata": {},
   "outputs": [
    {
     "name": "stderr",
     "output_type": "stream",
     "text": [
      "/home/maxime/anaconda2/lib/python2.7/site-packages/statsmodels/tsa/base/tsa_model.py:221: ValueWarning: An unsupported index was provided and will be ignored when e.g. forecasting.\n",
      "  ' ignored when e.g. forecasting.', ValueWarning)\n",
      "/home/maxime/anaconda2/lib/python2.7/site-packages/statsmodels/tsa/base/tsa_model.py:221: ValueWarning: An unsupported index was provided and will be ignored when e.g. forecasting.\n",
      "  ' ignored when e.g. forecasting.', ValueWarning)\n"
     ]
    }
   ],
   "source": [
    "model_1=tsa.arima_model.ARIMA(np.log(msft['Adj Close']),order=(1,1,1))"
   ]
  },
  {
   "cell_type": "code",
   "execution_count": 17,
   "metadata": {
    "collapsed": true
   },
   "outputs": [],
   "source": [
    "results_1=model_1.fit()"
   ]
  },
  {
   "cell_type": "code",
   "execution_count": 18,
   "metadata": {},
   "outputs": [
    {
     "name": "stdout",
     "output_type": "stream",
     "text": [
      "                             ARIMA Model Results                              \n",
      "==============================================================================\n",
      "Dep. Variable:            D.Adj Close   No. Observations:                 1257\n",
      "Model:                 ARIMA(1, 1, 1)   Log Likelihood                3562.521\n",
      "Method:                       css-mle   S.D. of innovations              0.014\n",
      "Date:                Thu, 13 Dec 2018   AIC                          -7117.043\n",
      "Time:                        22:31:00   BIC                          -7096.497\n",
      "Sample:                             1   HQIC                         -7109.321\n",
      "                                                                              \n",
      "=====================================================================================\n",
      "                        coef    std err          z      P>|z|      [0.025      0.975]\n",
      "-------------------------------------------------------------------------------------\n",
      "const                 0.0009      0.000      3.722      0.000       0.000       0.001\n",
      "ar.L1.D.Adj Close     0.8727      0.137      6.392      0.000       0.605       1.140\n",
      "ma.L1.D.Adj Close    -0.9216      0.112     -8.247      0.000      -1.141      -0.703\n",
      "                                    Roots                                    \n",
      "=============================================================================\n",
      "                  Real          Imaginary           Modulus         Frequency\n",
      "-----------------------------------------------------------------------------\n",
      "AR.1            1.1459           +0.0000j            1.1459            0.0000\n",
      "MA.1            1.0850           +0.0000j            1.0850            0.0000\n",
      "-----------------------------------------------------------------------------\n"
     ]
    }
   ],
   "source": [
    "print(results_1.summary())"
   ]
  },
  {
   "cell_type": "markdown",
   "metadata": {},
   "source": [
    "### Построение модели ARIMA (1,0,1) для логарифмиеской доходности. Т.к. логарифмическая доходность представляет из себя первую разность, обе расмотренные модели должны совпасть."
   ]
  },
  {
   "cell_type": "code",
   "execution_count": 19,
   "metadata": {},
   "outputs": [
    {
     "name": "stderr",
     "output_type": "stream",
     "text": [
      "/home/maxime/anaconda2/lib/python2.7/site-packages/statsmodels/tsa/base/tsa_model.py:221: ValueWarning: An unsupported index was provided and will be ignored when e.g. forecasting.\n",
      "  ' ignored when e.g. forecasting.', ValueWarning)\n"
     ]
    }
   ],
   "source": [
    "model_2=tsa.arima_model.ARIMA(msft['Log_ret_MSFT'],order=(1,0,1))"
   ]
  },
  {
   "cell_type": "code",
   "execution_count": 20,
   "metadata": {
    "collapsed": true
   },
   "outputs": [],
   "source": [
    "results_2=model_1.fit()"
   ]
  },
  {
   "cell_type": "code",
   "execution_count": 21,
   "metadata": {},
   "outputs": [
    {
     "name": "stdout",
     "output_type": "stream",
     "text": [
      "                             ARIMA Model Results                              \n",
      "==============================================================================\n",
      "Dep. Variable:            D.Adj Close   No. Observations:                 1257\n",
      "Model:                 ARIMA(1, 1, 1)   Log Likelihood                3562.521\n",
      "Method:                       css-mle   S.D. of innovations              0.014\n",
      "Date:                Thu, 13 Dec 2018   AIC                          -7117.043\n",
      "Time:                        22:31:01   BIC                          -7096.497\n",
      "Sample:                             1   HQIC                         -7109.321\n",
      "                                                                              \n",
      "=====================================================================================\n",
      "                        coef    std err          z      P>|z|      [0.025      0.975]\n",
      "-------------------------------------------------------------------------------------\n",
      "const                 0.0009      0.000      3.722      0.000       0.000       0.001\n",
      "ar.L1.D.Adj Close     0.8727      0.137      6.392      0.000       0.605       1.140\n",
      "ma.L1.D.Adj Close    -0.9216      0.112     -8.247      0.000      -1.141      -0.703\n",
      "                                    Roots                                    \n",
      "=============================================================================\n",
      "                  Real          Imaginary           Modulus         Frequency\n",
      "-----------------------------------------------------------------------------\n",
      "AR.1            1.1459           +0.0000j            1.1459            0.0000\n",
      "MA.1            1.0850           +0.0000j            1.0850            0.0000\n",
      "-----------------------------------------------------------------------------\n"
     ]
    }
   ],
   "source": [
    "print(results_2.summary())"
   ]
  },
  {
   "cell_type": "markdown",
   "metadata": {
    "collapsed": true
   },
   "source": [
    "### Остатки модели ARIMA должны быть процессом \"белого шума\" (отсутствует автокорреляция)"
   ]
  },
  {
   "cell_type": "code",
   "execution_count": 22,
   "metadata": {},
   "outputs": [
    {
     "name": "stderr",
     "output_type": "stream",
     "text": [
      "/home/maxime/anaconda2/lib/python2.7/site-packages/statsmodels/tsa/base/tsa_model.py:221: ValueWarning: An unsupported index was provided and will be ignored when e.g. forecasting.\n",
      "  ' ignored when e.g. forecasting.', ValueWarning)\n"
     ]
    }
   ],
   "source": [
    "model_1_1=tsa.arima_model.ARIMA(results_1.resid,order=(1,0,0))\n",
    "### модель ARIMA, построенная по логарифмическим доходностям порядка (1,0,0)"
   ]
  },
  {
   "cell_type": "code",
   "execution_count": 23,
   "metadata": {
    "collapsed": true
   },
   "outputs": [],
   "source": [
    "results_1_1=model_1_1.fit()"
   ]
  },
  {
   "cell_type": "code",
   "execution_count": 24,
   "metadata": {},
   "outputs": [
    {
     "name": "stdout",
     "output_type": "stream",
     "text": [
      "                              ARMA Model Results                              \n",
      "==============================================================================\n",
      "Dep. Variable:                      y   No. Observations:                 1257\n",
      "Model:                     ARMA(1, 0)   Log Likelihood                3562.625\n",
      "Method:                       css-mle   S.D. of innovations              0.014\n",
      "Date:                Thu, 13 Dec 2018   AIC                          -7119.250\n",
      "Time:                        22:31:02   BIC                          -7103.841\n",
      "Sample:                             0   HQIC                         -7113.459\n",
      "                                                                              \n",
      "==============================================================================\n",
      "                 coef    std err          z      P>|z|      [0.025      0.975]\n",
      "------------------------------------------------------------------------------\n",
      "const      -1.843e-05      0.000     -0.047      0.963      -0.001       0.001\n",
      "ar.L1.y       -0.0122      0.028     -0.430      0.668      -0.068       0.043\n",
      "                                    Roots                                    \n",
      "=============================================================================\n",
      "                  Real          Imaginary           Modulus         Frequency\n",
      "-----------------------------------------------------------------------------\n",
      "AR.1          -82.2469           +0.0000j           82.2469            0.5000\n",
      "-----------------------------------------------------------------------------\n"
     ]
    }
   ],
   "source": [
    "print(results_1_1.summary())"
   ]
  },
  {
   "cell_type": "markdown",
   "metadata": {
    "collapsed": true
   },
   "source": [
    "### Общий вывод: Модель ARIMA (1,1,1), в целом, адекватно описывает исследуемый процесс. Коэффиценты AR  и MA меньше 1. Это говорит о том, что процесс имеет характер  \"возврата к средней\" (mean reversion). В частности, на основе данного процесса можно строить \"статистические\" арбитражные стратегии торговли. В противном случае речь идет о взрывной динамике, и процессом сложно управлять."
   ]
  },
  {
   "cell_type": "markdown",
   "metadata": {},
   "source": [
    "### 3.Построение модели $\\beta$ и первичная проверка гипотезы CAPM"
   ]
  },
  {
   "cell_type": "markdown",
   "metadata": {
    "collapsed": true
   },
   "source": [
    "### Классическая версия модели CAPM предполагает отсутсвие в регрессионной модели свободного члена или в инвестиционной терминологии $\\alpha$.  Это означает, что рассматриваемый актив не может систематически \"обыграть\" рынок. Таким образом, основной акцент делается на показателе рыночной $\\beta$."
   ]
  },
  {
   "cell_type": "markdown",
   "metadata": {},
   "source": [
    "### $ER_i=R_f+\\beta_i(ER_m-R_f)$"
   ]
  },
  {
   "cell_type": "markdown",
   "metadata": {},
   "source": [
    "### Модель CAPM на основе индекса SP500 (дневные данные)"
   ]
  },
  {
   "cell_type": "code",
   "execution_count": 25,
   "metadata": {
    "collapsed": true
   },
   "outputs": [],
   "source": [
    "sp=pd.read_csv('/home/maxime/Documentos/Econometrics/^GSPC.csv')\n",
    "# загрузка данных по динамике индекса SP500 "
   ]
  },
  {
   "cell_type": "code",
   "execution_count": 26,
   "metadata": {
    "collapsed": true
   },
   "outputs": [],
   "source": [
    "sp['Date']=pd.to_datetime(sp['Date'],format='%Y-%m-%d')\n",
    "###  преобразование поля в формат даты"
   ]
  },
  {
   "cell_type": "code",
   "execution_count": 27,
   "metadata": {
    "collapsed": true
   },
   "outputs": [],
   "source": [
    "sp['Log_ret_SP']=np.log(sp['Adj Close'])-np.log(sp['Adj Close'].shift(1))\n",
    "### расчет логарифмической доходности"
   ]
  },
  {
   "cell_type": "code",
   "execution_count": 28,
   "metadata": {
    "collapsed": true
   },
   "outputs": [],
   "source": [
    "sp.drop([0],axis=0,inplace=True)\n",
    "### удаление первого наблюдения со значением nan"
   ]
  },
  {
   "cell_type": "code",
   "execution_count": 29,
   "metadata": {
    "collapsed": true
   },
   "outputs": [],
   "source": [
    "port=sp[['Date','Log_ret_SP']].merge(msft[['Date','Log_ret_MSFT']],left_on=['Date'],right_on=['Date'])\n",
    "### объединение акций и индекса в один dataframe"
   ]
  },
  {
   "cell_type": "code",
   "execution_count": 30,
   "metadata": {
    "collapsed": true
   },
   "outputs": [],
   "source": [
    "port.columns=['Date','Log_ret_SP','Log_ret_MSFT']"
   ]
  },
  {
   "cell_type": "code",
   "execution_count": 31,
   "metadata": {},
   "outputs": [
    {
     "data": {
      "text/html": [
       "<div>\n",
       "<style scoped>\n",
       "    .dataframe tbody tr th:only-of-type {\n",
       "        vertical-align: middle;\n",
       "    }\n",
       "\n",
       "    .dataframe tbody tr th {\n",
       "        vertical-align: top;\n",
       "    }\n",
       "\n",
       "    .dataframe thead th {\n",
       "        text-align: right;\n",
       "    }\n",
       "</style>\n",
       "<table border=\"1\" class=\"dataframe\">\n",
       "  <thead>\n",
       "    <tr style=\"text-align: right;\">\n",
       "      <th></th>\n",
       "      <th>Date</th>\n",
       "      <th>Log_ret_SP</th>\n",
       "      <th>Log_ret_MSFT</th>\n",
       "    </tr>\n",
       "  </thead>\n",
       "  <tbody>\n",
       "    <tr>\n",
       "      <th>1253</th>\n",
       "      <td>2018-11-30</td>\n",
       "      <td>0.008138</td>\n",
       "      <td>0.006333</td>\n",
       "    </tr>\n",
       "    <tr>\n",
       "      <th>1254</th>\n",
       "      <td>2018-12-03</td>\n",
       "      <td>0.010882</td>\n",
       "      <td>0.010763</td>\n",
       "    </tr>\n",
       "    <tr>\n",
       "      <th>1255</th>\n",
       "      <td>2018-12-04</td>\n",
       "      <td>-0.032900</td>\n",
       "      <td>-0.032368</td>\n",
       "    </tr>\n",
       "    <tr>\n",
       "      <th>1256</th>\n",
       "      <td>2018-12-06</td>\n",
       "      <td>-0.001523</td>\n",
       "      <td>0.006155</td>\n",
       "    </tr>\n",
       "    <tr>\n",
       "      <th>1257</th>\n",
       "      <td>2018-12-07</td>\n",
       "      <td>-0.023596</td>\n",
       "      <td>-0.040845</td>\n",
       "    </tr>\n",
       "  </tbody>\n",
       "</table>\n",
       "</div>"
      ],
      "text/plain": [
       "           Date  Log_ret_SP  Log_ret_MSFT\n",
       "1253 2018-11-30    0.008138      0.006333\n",
       "1254 2018-12-03    0.010882      0.010763\n",
       "1255 2018-12-04   -0.032900     -0.032368\n",
       "1256 2018-12-06   -0.001523      0.006155\n",
       "1257 2018-12-07   -0.023596     -0.040845"
      ]
     },
     "execution_count": 31,
     "metadata": {},
     "output_type": "execute_result"
    }
   ],
   "source": [
    "port.tail()"
   ]
  },
  {
   "cell_type": "code",
   "execution_count": 32,
   "metadata": {
    "collapsed": true
   },
   "outputs": [],
   "source": [
    "results_3=smf.ols('Log_ret_MSFT ~ Log_ret_SP',data=port).fit()\n",
    "### простая линейная регрессия"
   ]
  },
  {
   "cell_type": "code",
   "execution_count": 33,
   "metadata": {},
   "outputs": [
    {
     "name": "stdout",
     "output_type": "stream",
     "text": [
      "                            OLS Regression Results                            \n",
      "==============================================================================\n",
      "Dep. Variable:           Log_ret_MSFT   R-squared:                       0.511\n",
      "Model:                            OLS   Adj. R-squared:                  0.511\n",
      "Method:                 Least Squares   F-statistic:                     1314.\n",
      "Date:                Thu, 13 Dec 2018   Prob (F-statistic):          1.61e-197\n",
      "Time:                        22:31:02   Log-Likelihood:                 4009.4\n",
      "No. Observations:                1258   AIC:                            -8015.\n",
      "Df Residuals:                    1256   BIC:                            -8004.\n",
      "Df Model:                           1                                         \n",
      "Covariance Type:            nonrobust                                         \n",
      "==============================================================================\n",
      "                 coef    std err          t      P>|t|      [0.025      0.975]\n",
      "------------------------------------------------------------------------------\n",
      "Intercept      0.0005      0.000      1.814      0.070   -4.16e-05       0.001\n",
      "Log_ret_SP     1.2575      0.035     36.251      0.000       1.189       1.326\n",
      "==============================================================================\n",
      "Omnibus:                      388.475   Durbin-Watson:                   2.077\n",
      "Prob(Omnibus):                  0.000   Jarque-Bera (JB):            15741.223\n",
      "Skew:                           0.696   Prob(JB):                         0.00\n",
      "Kurtosis:                      20.274   Cond. No.                         123.\n",
      "==============================================================================\n",
      "\n",
      "Warnings:\n",
      "[1] Standard Errors assume that the covariance matrix of the errors is correctly specified.\n"
     ]
    }
   ],
   "source": [
    "print(results_3.summary())"
   ]
  },
  {
   "cell_type": "markdown",
   "metadata": {},
   "source": [
    "### Проверка выполнения условия гомоскедастичности с помощью критерия Бреуша-Пагана"
   ]
  },
  {
   "cell_type": "code",
   "execution_count": 34,
   "metadata": {
    "collapsed": true
   },
   "outputs": [],
   "source": [
    "lm,lm_value,fvalue,f_pvalue=test.het_breushpagan(results_3.resid,results_3.model.exog)"
   ]
  },
  {
   "cell_type": "code",
   "execution_count": 35,
   "metadata": {},
   "outputs": [
    {
     "name": "stdout",
     "output_type": "stream",
     "text": [
      "lm 0.0565,lm_pvalue 0.8121,fvalue 0.0564,f_pvalue 0.8123\n"
     ]
    }
   ],
   "source": [
    "print('lm %.4f,lm_pvalue %.4f,fvalue %.4f,f_pvalue %.4f'%(lm,lm_value,fvalue,f_pvalue))"
   ]
  },
  {
   "cell_type": "markdown",
   "metadata": {},
   "source": [
    "### С учетом значения p-value гипотеза об отсутствии гомоскедастичности принимается"
   ]
  },
  {
   "cell_type": "markdown",
   "metadata": {},
   "source": [
    "### Проверка наличия структурных сдвигов"
   ]
  },
  {
   "cell_type": "markdown",
   "metadata": {},
   "source": [
    "### Структурный сдвиг означает, что процесс притерпевает определенные изменения, которые могут сильно сказаться на параметрах модели. В случае наличия структурного сдвга целесооборазно использовать не одну, а две модели - до сдвига и после. Проверка гипотезы об отсутствии структурных сдвигов осуществвляется с помощью ряда  критериев, самым популярным из которых в эконометрике остается тест Чоу. В statsmodels реализованы критерий кумулятивной суммы (CUSUM)  и критерий Хансена. "
   ]
  },
  {
   "cell_type": "code",
   "execution_count": 36,
   "metadata": {},
   "outputs": [
    {
     "data": {
      "text/plain": [
       "(0.74173909151418826, 0.64108672290556767, [(1, 1.63), (5, 1.36), (10, 1.22)])"
      ]
     },
     "execution_count": 36,
     "metadata": {},
     "output_type": "execute_result"
    }
   ],
   "source": [
    "diagnostic.breaks_cusumolsresid(results_3.resid)"
   ]
  },
  {
   "cell_type": "code",
   "execution_count": 37,
   "metadata": {},
   "outputs": [
    {
     "data": {
      "text/plain": [
       "(2.4095495981471577, array([(2, 1.9), (6, 3.75), (15, 3.75), (19, 4.52)], \n",
       "       dtype=[('nobs', '<i8'), ('crit', '<f8')]))"
      ]
     },
     "execution_count": 37,
     "metadata": {},
     "output_type": "execute_result"
    }
   ],
   "source": [
    "diagnostic.breaks_hansen(results_3)[0:2]"
   ]
  },
  {
   "cell_type": "markdown",
   "metadata": {},
   "source": [
    "### С учетом значения критериев и p-value гипотеза об отсутствии структурного сдвига принимается"
   ]
  },
  {
   "cell_type": "markdown",
   "metadata": {},
   "source": [
    "### Общие выводы:\n",
    "### 1. Уравнение значимо, что подтверждается t и F критериями.\n",
    "### 2. Показатель $\\beta$ = 1.26, это говорит о том, что акции Microsoft растут (и, соответственно, падают) сильнее рынка акций, включающего все отрасли.\n",
    "### 3. Показатель $\\alpha$ статистчически незначимо отличается от 0, что согласуется с моделью CAPM"
   ]
  },
  {
   "cell_type": "markdown",
   "metadata": {},
   "source": [
    "### Модель CAPM на основе индекса NASDAQ (дневные данные)"
   ]
  },
  {
   "cell_type": "code",
   "execution_count": 38,
   "metadata": {
    "collapsed": true
   },
   "outputs": [],
   "source": [
    "nasdaq=pd.read_csv('/home/maxime/Documentos/Econometrics/^IXIC.csv')"
   ]
  },
  {
   "cell_type": "code",
   "execution_count": 39,
   "metadata": {
    "collapsed": true
   },
   "outputs": [],
   "source": [
    "nasdaq['Date']=pd.to_datetime(nasdaq['Date'],format='%Y-%m-%d')\n",
    "###  преобразование поля в формат даты"
   ]
  },
  {
   "cell_type": "code",
   "execution_count": 40,
   "metadata": {
    "collapsed": true
   },
   "outputs": [],
   "source": [
    "nasdaq['Log_ret_Nasdaq']=np.log(nasdaq['Adj Close'])-np.log(nasdaq['Adj Close'].shift(1))"
   ]
  },
  {
   "cell_type": "code",
   "execution_count": 41,
   "metadata": {
    "collapsed": true
   },
   "outputs": [],
   "source": [
    "nasdaq.drop([0],axis=0,inplace=True)"
   ]
  },
  {
   "cell_type": "code",
   "execution_count": 42,
   "metadata": {},
   "outputs": [
    {
     "data": {
      "text/html": [
       "<div>\n",
       "<style scoped>\n",
       "    .dataframe tbody tr th:only-of-type {\n",
       "        vertical-align: middle;\n",
       "    }\n",
       "\n",
       "    .dataframe tbody tr th {\n",
       "        vertical-align: top;\n",
       "    }\n",
       "\n",
       "    .dataframe thead th {\n",
       "        text-align: right;\n",
       "    }\n",
       "</style>\n",
       "<table border=\"1\" class=\"dataframe\">\n",
       "  <thead>\n",
       "    <tr style=\"text-align: right;\">\n",
       "      <th></th>\n",
       "      <th>Date</th>\n",
       "      <th>Open</th>\n",
       "      <th>High</th>\n",
       "      <th>Low</th>\n",
       "      <th>Close</th>\n",
       "      <th>Adj Close</th>\n",
       "      <th>Volume</th>\n",
       "      <th>Log_ret_Nasdaq</th>\n",
       "    </tr>\n",
       "  </thead>\n",
       "  <tbody>\n",
       "    <tr>\n",
       "      <th>1</th>\n",
       "      <td>2013-12-12</td>\n",
       "      <td>4004.750000</td>\n",
       "      <td>4013.540039</td>\n",
       "      <td>3993.570068</td>\n",
       "      <td>3998.399902</td>\n",
       "      <td>3998.399902</td>\n",
       "      <td>1893270000</td>\n",
       "      <td>-0.001352</td>\n",
       "    </tr>\n",
       "    <tr>\n",
       "      <th>2</th>\n",
       "      <td>2013-12-13</td>\n",
       "      <td>4015.530029</td>\n",
       "      <td>4017.449951</td>\n",
       "      <td>3992.290039</td>\n",
       "      <td>4000.979980</td>\n",
       "      <td>4000.979980</td>\n",
       "      <td>1615340000</td>\n",
       "      <td>0.000645</td>\n",
       "    </tr>\n",
       "    <tr>\n",
       "      <th>3</th>\n",
       "      <td>2013-12-16</td>\n",
       "      <td>4019.370117</td>\n",
       "      <td>4043.000000</td>\n",
       "      <td>4019.139893</td>\n",
       "      <td>4029.520020</td>\n",
       "      <td>4029.520020</td>\n",
       "      <td>1943830000</td>\n",
       "      <td>0.007108</td>\n",
       "    </tr>\n",
       "    <tr>\n",
       "      <th>4</th>\n",
       "      <td>2013-12-17</td>\n",
       "      <td>4028.879883</td>\n",
       "      <td>4034.689941</td>\n",
       "      <td>4011.580078</td>\n",
       "      <td>4023.679932</td>\n",
       "      <td>4023.679932</td>\n",
       "      <td>1861130000</td>\n",
       "      <td>-0.001450</td>\n",
       "    </tr>\n",
       "    <tr>\n",
       "      <th>5</th>\n",
       "      <td>2013-12-18</td>\n",
       "      <td>4024.669922</td>\n",
       "      <td>4070.379883</td>\n",
       "      <td>3979.590088</td>\n",
       "      <td>4070.060059</td>\n",
       "      <td>4070.060059</td>\n",
       "      <td>2178330000</td>\n",
       "      <td>0.011461</td>\n",
       "    </tr>\n",
       "  </tbody>\n",
       "</table>\n",
       "</div>"
      ],
      "text/plain": [
       "        Date         Open         High          Low        Close    Adj Close  \\\n",
       "1 2013-12-12  4004.750000  4013.540039  3993.570068  3998.399902  3998.399902   \n",
       "2 2013-12-13  4015.530029  4017.449951  3992.290039  4000.979980  4000.979980   \n",
       "3 2013-12-16  4019.370117  4043.000000  4019.139893  4029.520020  4029.520020   \n",
       "4 2013-12-17  4028.879883  4034.689941  4011.580078  4023.679932  4023.679932   \n",
       "5 2013-12-18  4024.669922  4070.379883  3979.590088  4070.060059  4070.060059   \n",
       "\n",
       "       Volume  Log_ret_Nasdaq  \n",
       "1  1893270000       -0.001352  \n",
       "2  1615340000        0.000645  \n",
       "3  1943830000        0.007108  \n",
       "4  1861130000       -0.001450  \n",
       "5  2178330000        0.011461  "
      ]
     },
     "execution_count": 42,
     "metadata": {},
     "output_type": "execute_result"
    }
   ],
   "source": [
    "nasdaq.head()"
   ]
  },
  {
   "cell_type": "code",
   "execution_count": 43,
   "metadata": {
    "collapsed": true
   },
   "outputs": [],
   "source": [
    "port=port.merge(nasdaq[['Date','Log_ret_Nasdaq']],left_on=['Date'],right_on=['Date'])"
   ]
  },
  {
   "cell_type": "code",
   "execution_count": 44,
   "metadata": {},
   "outputs": [
    {
     "data": {
      "text/html": [
       "<div>\n",
       "<style scoped>\n",
       "    .dataframe tbody tr th:only-of-type {\n",
       "        vertical-align: middle;\n",
       "    }\n",
       "\n",
       "    .dataframe tbody tr th {\n",
       "        vertical-align: top;\n",
       "    }\n",
       "\n",
       "    .dataframe thead th {\n",
       "        text-align: right;\n",
       "    }\n",
       "</style>\n",
       "<table border=\"1\" class=\"dataframe\">\n",
       "  <thead>\n",
       "    <tr style=\"text-align: right;\">\n",
       "      <th></th>\n",
       "      <th>Date</th>\n",
       "      <th>Log_ret_SP</th>\n",
       "      <th>Log_ret_MSFT</th>\n",
       "      <th>Log_ret_Nasdaq</th>\n",
       "    </tr>\n",
       "  </thead>\n",
       "  <tbody>\n",
       "    <tr>\n",
       "      <th>0</th>\n",
       "      <td>2013-12-12</td>\n",
       "      <td>-0.003778</td>\n",
       "      <td>-0.010424</td>\n",
       "      <td>-0.001352</td>\n",
       "    </tr>\n",
       "    <tr>\n",
       "      <th>1</th>\n",
       "      <td>2013-12-13</td>\n",
       "      <td>-0.000101</td>\n",
       "      <td>-0.014342</td>\n",
       "      <td>0.000645</td>\n",
       "    </tr>\n",
       "    <tr>\n",
       "      <th>2</th>\n",
       "      <td>2013-12-16</td>\n",
       "      <td>0.006300</td>\n",
       "      <td>0.005437</td>\n",
       "      <td>0.007108</td>\n",
       "    </tr>\n",
       "    <tr>\n",
       "      <th>3</th>\n",
       "      <td>2013-12-17</td>\n",
       "      <td>-0.003106</td>\n",
       "      <td>-0.010081</td>\n",
       "      <td>-0.001450</td>\n",
       "    </tr>\n",
       "    <tr>\n",
       "      <th>4</th>\n",
       "      <td>2013-12-18</td>\n",
       "      <td>0.016511</td>\n",
       "      <td>0.001642</td>\n",
       "      <td>0.011461</td>\n",
       "    </tr>\n",
       "  </tbody>\n",
       "</table>\n",
       "</div>"
      ],
      "text/plain": [
       "        Date  Log_ret_SP  Log_ret_MSFT  Log_ret_Nasdaq\n",
       "0 2013-12-12   -0.003778     -0.010424       -0.001352\n",
       "1 2013-12-13   -0.000101     -0.014342        0.000645\n",
       "2 2013-12-16    0.006300      0.005437        0.007108\n",
       "3 2013-12-17   -0.003106     -0.010081       -0.001450\n",
       "4 2013-12-18    0.016511      0.001642        0.011461"
      ]
     },
     "execution_count": 44,
     "metadata": {},
     "output_type": "execute_result"
    }
   ],
   "source": [
    "port.head()"
   ]
  },
  {
   "cell_type": "code",
   "execution_count": 45,
   "metadata": {
    "collapsed": true
   },
   "outputs": [],
   "source": [
    "results_4=smf.ols('Log_ret_MSFT ~ Log_ret_Nasdaq',data=port).fit()\n",
    "### простая линейная регрессия"
   ]
  },
  {
   "cell_type": "code",
   "execution_count": 46,
   "metadata": {},
   "outputs": [
    {
     "name": "stdout",
     "output_type": "stream",
     "text": [
      "                            OLS Regression Results                            \n",
      "==============================================================================\n",
      "Dep. Variable:           Log_ret_MSFT   R-squared:                       0.567\n",
      "Model:                            OLS   Adj. R-squared:                  0.567\n",
      "Method:                 Least Squares   F-statistic:                     1643.\n",
      "Date:                Thu, 13 Dec 2018   Prob (F-statistic):          2.87e-230\n",
      "Time:                        22:31:02   Log-Likelihood:                 4079.3\n",
      "No. Observations:                1256   AIC:                            -8155.\n",
      "Df Residuals:                    1254   BIC:                            -8144.\n",
      "Df Model:                           1                                         \n",
      "Covariance Type:            nonrobust                                         \n",
      "==================================================================================\n",
      "                     coef    std err          t      P>|t|      [0.025      0.975]\n",
      "----------------------------------------------------------------------------------\n",
      "Intercept          0.0004      0.000      1.605      0.109   -9.49e-05       0.001\n",
      "Log_ret_Nasdaq     1.0996      0.027     40.535      0.000       1.046       1.153\n",
      "==============================================================================\n",
      "Omnibus:                      379.813   Durbin-Watson:                   2.027\n",
      "Prob(Omnibus):                  0.000   Jarque-Bera (JB):            12965.708\n",
      "Skew:                           0.719   Prob(JB):                         0.00\n",
      "Kurtosis:                      18.674   Cond. No.                         102.\n",
      "==============================================================================\n",
      "\n",
      "Warnings:\n",
      "[1] Standard Errors assume that the covariance matrix of the errors is correctly specified.\n"
     ]
    }
   ],
   "source": [
    "print(results_4.summary())"
   ]
  },
  {
   "cell_type": "markdown",
   "metadata": {},
   "source": [
    "### Общие выводы:\n",
    "### 1. Уравнение значимо, что подтверждается t и F критериями.\n",
    "### 2. Показатель $\\beta$ = 1.10, это говорит о том, что акции Microsoft растут (и, соответственно, падают) быстрее рынка технологических акций. \n",
    "### 3. Показатель $\\alpha$ статистчически незначимо отличается от 0, что согласуется с моделью CAPM"
   ]
  },
  {
   "cell_type": "markdown",
   "metadata": {},
   "source": [
    "### Модель CAPM на основе индекса SP500 (месячные данные)"
   ]
  },
  {
   "cell_type": "code",
   "execution_count": 47,
   "metadata": {
    "collapsed": true
   },
   "outputs": [],
   "source": [
    "port['Year']=port['Date'].dt.year"
   ]
  },
  {
   "cell_type": "code",
   "execution_count": 48,
   "metadata": {
    "collapsed": true
   },
   "outputs": [],
   "source": [
    "port['Month']=port['Date'].dt.month"
   ]
  },
  {
   "cell_type": "markdown",
   "metadata": {},
   "source": [
    "### Для преобразования дневных доходностей в месячные доходности воспользуемся удобным свойством логарифма и просуммируем дневные доходности по каждому месяцу"
   ]
  },
  {
   "cell_type": "code",
   "execution_count": 49,
   "metadata": {
    "collapsed": true
   },
   "outputs": [],
   "source": [
    "port_monthly=port.groupby(['Year','Month'])[['Log_ret_SP','Log_ret_MSFT','Log_ret_Nasdaq']].sum()\n",
    "### преобразование дневных доходностей в месячные доходности"
   ]
  },
  {
   "cell_type": "code",
   "execution_count": 50,
   "metadata": {},
   "outputs": [
    {
     "data": {
      "text/html": [
       "<div>\n",
       "<style scoped>\n",
       "    .dataframe tbody tr th:only-of-type {\n",
       "        vertical-align: middle;\n",
       "    }\n",
       "\n",
       "    .dataframe tbody tr th {\n",
       "        vertical-align: top;\n",
       "    }\n",
       "\n",
       "    .dataframe thead th {\n",
       "        text-align: right;\n",
       "    }\n",
       "</style>\n",
       "<table border=\"1\" class=\"dataframe\">\n",
       "  <thead>\n",
       "    <tr style=\"text-align: right;\">\n",
       "      <th></th>\n",
       "      <th></th>\n",
       "      <th>Log_ret_SP</th>\n",
       "      <th>Log_ret_MSFT</th>\n",
       "      <th>Log_ret_Nasdaq</th>\n",
       "    </tr>\n",
       "    <tr>\n",
       "      <th>Year</th>\n",
       "      <th>Month</th>\n",
       "      <th></th>\n",
       "      <th></th>\n",
       "      <th></th>\n",
       "    </tr>\n",
       "  </thead>\n",
       "  <tbody>\n",
       "    <tr>\n",
       "      <th>2013</th>\n",
       "      <th>12</th>\n",
       "      <td>0.036439</td>\n",
       "      <td>-0.005332</td>\n",
       "      <td>0.042249</td>\n",
       "    </tr>\n",
       "    <tr>\n",
       "      <th rowspan=\"4\" valign=\"top\">2014</th>\n",
       "      <th>1</th>\n",
       "      <td>-0.036231</td>\n",
       "      <td>0.011429</td>\n",
       "      <td>-0.017562</td>\n",
       "    </tr>\n",
       "    <tr>\n",
       "      <th>2</th>\n",
       "      <td>0.042213</td>\n",
       "      <td>0.019815</td>\n",
       "      <td>0.048569</td>\n",
       "    </tr>\n",
       "    <tr>\n",
       "      <th>3</th>\n",
       "      <td>0.006908</td>\n",
       "      <td>0.067617</td>\n",
       "      <td>-0.025658</td>\n",
       "    </tr>\n",
       "    <tr>\n",
       "      <th>4</th>\n",
       "      <td>0.006182</td>\n",
       "      <td>-0.014498</td>\n",
       "      <td>-0.020312</td>\n",
       "    </tr>\n",
       "  </tbody>\n",
       "</table>\n",
       "</div>"
      ],
      "text/plain": [
       "            Log_ret_SP  Log_ret_MSFT  Log_ret_Nasdaq\n",
       "Year Month                                          \n",
       "2013 12       0.036439     -0.005332        0.042249\n",
       "2014 1       -0.036231      0.011429       -0.017562\n",
       "     2        0.042213      0.019815        0.048569\n",
       "     3        0.006908      0.067617       -0.025658\n",
       "     4        0.006182     -0.014498       -0.020312"
      ]
     },
     "execution_count": 50,
     "metadata": {},
     "output_type": "execute_result"
    }
   ],
   "source": [
    "port_monthly.head()"
   ]
  },
  {
   "cell_type": "code",
   "execution_count": 51,
   "metadata": {},
   "outputs": [
    {
     "data": {
      "text/plain": [
       "0.011428544757738605"
      ]
     },
     "execution_count": 51,
     "metadata": {},
     "output_type": "execute_result"
    }
   ],
   "source": [
    "np.log(float(msft[msft.Date=='2014-01-31']['Adj Close'])/float(msft[msft.Date=='2013-12-31']['Adj Close']))\n",
    "### проверка формулы получения месячной доходности"
   ]
  },
  {
   "cell_type": "code",
   "execution_count": 52,
   "metadata": {
    "collapsed": true
   },
   "outputs": [],
   "source": [
    "results_5=smf.ols('Log_ret_MSFT ~ Log_ret_SP',data=port_monthly).fit()\n",
    "### простая линейная регрессия"
   ]
  },
  {
   "cell_type": "code",
   "execution_count": 53,
   "metadata": {},
   "outputs": [
    {
     "name": "stdout",
     "output_type": "stream",
     "text": [
      "                            OLS Regression Results                            \n",
      "==============================================================================\n",
      "Dep. Variable:           Log_ret_MSFT   R-squared:                       0.395\n",
      "Model:                            OLS   Adj. R-squared:                  0.384\n",
      "Method:                 Least Squares   F-statistic:                     38.48\n",
      "Date:                Thu, 13 Dec 2018   Prob (F-statistic):           5.94e-08\n",
      "Time:                        22:31:02   Log-Likelihood:                 103.46\n",
      "No. Observations:                  61   AIC:                            -202.9\n",
      "Df Residuals:                      59   BIC:                            -198.7\n",
      "Df Model:                           1                                         \n",
      "Covariance Type:            nonrobust                                         \n",
      "==============================================================================\n",
      "                 coef    std err          t      P>|t|      [0.025      0.975]\n",
      "------------------------------------------------------------------------------\n",
      "Intercept      0.0109      0.006      1.850      0.069      -0.001       0.023\n",
      "Log_ret_SP     1.2245      0.197      6.203      0.000       0.829       1.620\n",
      "==============================================================================\n",
      "Omnibus:                        6.085   Durbin-Watson:                   2.570\n",
      "Prob(Omnibus):                  0.048   Jarque-Bera (JB):                9.257\n",
      "Skew:                           0.118   Prob(JB):                      0.00977\n",
      "Kurtosis:                       4.894   Cond. No.                         34.2\n",
      "==============================================================================\n",
      "\n",
      "Warnings:\n",
      "[1] Standard Errors assume that the covariance matrix of the errors is correctly specified.\n"
     ]
    }
   ],
   "source": [
    "print(results_5.summary())"
   ]
  },
  {
   "cell_type": "markdown",
   "metadata": {},
   "source": [
    "### Выводы аналогичны предыдущим моделям"
   ]
  },
  {
   "cell_type": "code",
   "execution_count": null,
   "metadata": {
    "collapsed": true
   },
   "outputs": [],
   "source": [
    "## 4.Функции для расчета VAR "
   ]
  },
  {
   "cell_type": "code",
   "execution_count": null,
   "metadata": {
    "collapsed": true
   },
   "outputs": [],
   "source": [
    "### 1. Выбрать компанию и загрузить из внешних источников исторические цены акций (например, Yahoo finance)\n",
    "### 2. Провести предварительный анализ временного ряда цен, проверить гипотезу стационарности\n",
    "### 3. Провести первичную идентификацию порядка модели ARIMA\n",
    "### 4. Построить модель ARIMA (1,1,1) и сделать краткие выводы\n",
    "### 5. Построить модель CAPM по рыночным данным, получить $\\beta$, оценить значимость $\\alpha$, сравнить полученный показатель $\\beta$ с данными из общедоступных источников информаци (например, Yahoo, Reuters)"
   ]
  }
 ],
 "metadata": {
  "kernelspec": {
   "display_name": "Python 2",
   "language": "python",
   "name": "python2"
  },
  "language_info": {
   "codemirror_mode": {
    "name": "ipython",
    "version": 2
   },
   "file_extension": ".py",
   "mimetype": "text/x-python",
   "name": "python",
   "nbconvert_exporter": "python",
   "pygments_lexer": "ipython2",
   "version": "2.7.15"
  }
 },
 "nbformat": 4,
 "nbformat_minor": 2
}
